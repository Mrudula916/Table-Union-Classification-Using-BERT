{
  "nbformat": 4,
  "nbformat_minor": 0,
  "metadata": {
    "colab": {
      "provenance": []
    },
    "kernelspec": {
      "name": "python3",
      "display_name": "Python 3"
    },
    "language_info": {
      "name": "python"
    }
  },
  "cells": [
    {
      "cell_type": "code",
      "execution_count": 1,
      "metadata": {
        "colab": {
          "base_uri": "https://localhost:8080/"
        },
        "id": "WSXBlrViY388",
        "outputId": "aadc3496-da55-409e-855d-968d5e6b05a2"
      },
      "outputs": [
        {
          "output_type": "stream",
          "name": "stdout",
          "text": [
            "Mounted at /content/drive\n"
          ]
        }
      ],
      "source": [
        "from google.colab import drive\n",
        "drive.mount('/content/drive')"
      ]
    },
    {
      "cell_type": "code",
      "execution_count": null,
      "metadata": {
        "id": "zWvwJVqJY6hU"
      },
      "outputs": [],
      "source": [
        "!pip install transformers\n",
        "!pip install sentencepiece\n",
        "!pip install tqdm\n",
        "!pip install torchmetrics\n",
        "# !pip install torch.ignite"
      ]
    },
    {
      "cell_type": "code",
      "execution_count": 3,
      "metadata": {
        "id": "DcYy1BUSZH1U"
      },
      "outputs": [],
      "source": [
        "import pandas as pd\n",
        "import numpy as np\n",
        "from transformers import BertTokenizer, BertModel\n",
        "from tokenizers import BertWordPieceTokenizer\n",
        "from nltk.corpus import stopwords\n",
        "from nltk import pad_sequence\n",
        "import os\n",
        "import torch\n",
        "from nltk import word_tokenize\n",
        "import tqdm\n",
        "from sklearn.model_selection import train_test_split\n",
        "import tensorflow as tf\n",
        "from tensorflow.keras import layers\n",
        "from torchmetrics.classification import BinaryPrecision, BinaryRecall, BinaryConfusionMatrix, F1Score, Accuracy"
      ]
    },
    {
      "cell_type": "code",
      "source": [
        "def data_curation(positive_samples, negative_samples):\n",
        "  ps = torch.load(positive_samples)\n",
        "  ns = torch.load(negative_samples)\n",
        "  df = pd.DataFrame(columns = ['datalake', 'query', 'label'])\n",
        "\n",
        "  new_ps, new_ns = [], []\n",
        "  for i in ps:\n",
        "    if torch.isnan(i[0]).any() and torch.isinf(i[0]).any():\n",
        "      continue\n",
        "    elif torch.isnan(i[1]).any() and torch.isinf(i[1]).any():\n",
        "      continue\n",
        "    else:\n",
        "      new_ps.append(i)\n",
        "  for i in ns:\n",
        "    if torch.isnan(i[0]).any() and torch.isinf(i[0]).any():\n",
        "      continue\n",
        "    elif torch.isnan(i[1]).any() and torch.isinf(i[1]).any():\n",
        "      continue\n",
        "    else:\n",
        "      new_ns.append(i)\n",
        "  datalake = [i[0] for i in new_ps] + [i[0] for i in new_ns]\n",
        "  query= [i[1] for i in new_ps] + [i[1] for i in new_ns]\n",
        "  labels = [1 for _ in range(len(new_ps))] + [0 for _ in range(len(new_ns))]\n",
        "\n",
        "  df['datalake'] = datalake\n",
        "  df['query'] = query\n",
        "  df['label'] = labels\n",
        "\n",
        "  return df\n",
        "\n",
        "\n",
        "  "
      ],
      "metadata": {
        "id": "FhmnKiZEtJSs"
      },
      "execution_count": 4,
      "outputs": []
    },
    {
      "cell_type": "code",
      "source": [
        "pos_file = \"/content/drive/MyDrive/labeled_benchmark/embeddings.pt\"\n",
        "neg_file = \"/content/drive/MyDrive/labeled_benchmark/zero_embedding.pt\"\n",
        "df = data_curation(pos_file, neg_file)"
      ],
      "metadata": {
        "id": "QA71av5rub-E"
      },
      "execution_count": 5,
      "outputs": []
    },
    {
      "cell_type": "code",
      "source": [
        "df.head()"
      ],
      "metadata": {
        "colab": {
          "base_uri": "https://localhost:8080/",
          "height": 337
        },
        "id": "QqtSKPuZlHaz",
        "outputId": "6358b14b-1277-4df4-bc88-90e94281d822"
      },
      "execution_count": 6,
      "outputs": [
        {
          "output_type": "execute_result",
          "data": {
            "text/plain": [
              "                                            datalake  \\\n",
              "0  [[[tensor(1.0432), tensor(-0.0083), tensor(-0....   \n",
              "1  [[[tensor(1.0630), tensor(-0.0105), tensor(-0....   \n",
              "2  [[[tensor(1.0432), tensor(-0.0083), tensor(-0....   \n",
              "3  [[[tensor(1.2163), tensor(-0.0029), tensor(-0....   \n",
              "4  [[[tensor(1.1730), tensor(-0.0043), tensor(-0....   \n",
              "\n",
              "                                               query  label  \n",
              "0  [[[tensor(1.0432), tensor(-0.0083), tensor(-0....      1  \n",
              "1  [[[tensor(0.9999), tensor(-0.0096), tensor(-0....      1  \n",
              "2  [[[tensor(1.0432), tensor(-0.0083), tensor(-0....      1  \n",
              "3  [[[tensor(1.0432), tensor(-0.0083), tensor(-0....      1  \n",
              "4  [[[tensor(0.9999), tensor(-0.0096), tensor(-0....      1  "
            ],
            "text/html": [
              "\n",
              "  <div id=\"df-0863566a-3a9a-4612-8c1c-95b2dbf07a26\">\n",
              "    <div class=\"colab-df-container\">\n",
              "      <div>\n",
              "<style scoped>\n",
              "    .dataframe tbody tr th:only-of-type {\n",
              "        vertical-align: middle;\n",
              "    }\n",
              "\n",
              "    .dataframe tbody tr th {\n",
              "        vertical-align: top;\n",
              "    }\n",
              "\n",
              "    .dataframe thead th {\n",
              "        text-align: right;\n",
              "    }\n",
              "</style>\n",
              "<table border=\"1\" class=\"dataframe\">\n",
              "  <thead>\n",
              "    <tr style=\"text-align: right;\">\n",
              "      <th></th>\n",
              "      <th>datalake</th>\n",
              "      <th>query</th>\n",
              "      <th>label</th>\n",
              "    </tr>\n",
              "  </thead>\n",
              "  <tbody>\n",
              "    <tr>\n",
              "      <th>0</th>\n",
              "      <td>[[[tensor(1.0432), tensor(-0.0083), tensor(-0....</td>\n",
              "      <td>[[[tensor(1.0432), tensor(-0.0083), tensor(-0....</td>\n",
              "      <td>1</td>\n",
              "    </tr>\n",
              "    <tr>\n",
              "      <th>1</th>\n",
              "      <td>[[[tensor(1.0630), tensor(-0.0105), tensor(-0....</td>\n",
              "      <td>[[[tensor(0.9999), tensor(-0.0096), tensor(-0....</td>\n",
              "      <td>1</td>\n",
              "    </tr>\n",
              "    <tr>\n",
              "      <th>2</th>\n",
              "      <td>[[[tensor(1.0432), tensor(-0.0083), tensor(-0....</td>\n",
              "      <td>[[[tensor(1.0432), tensor(-0.0083), tensor(-0....</td>\n",
              "      <td>1</td>\n",
              "    </tr>\n",
              "    <tr>\n",
              "      <th>3</th>\n",
              "      <td>[[[tensor(1.2163), tensor(-0.0029), tensor(-0....</td>\n",
              "      <td>[[[tensor(1.0432), tensor(-0.0083), tensor(-0....</td>\n",
              "      <td>1</td>\n",
              "    </tr>\n",
              "    <tr>\n",
              "      <th>4</th>\n",
              "      <td>[[[tensor(1.1730), tensor(-0.0043), tensor(-0....</td>\n",
              "      <td>[[[tensor(0.9999), tensor(-0.0096), tensor(-0....</td>\n",
              "      <td>1</td>\n",
              "    </tr>\n",
              "  </tbody>\n",
              "</table>\n",
              "</div>\n",
              "      <button class=\"colab-df-convert\" onclick=\"convertToInteractive('df-0863566a-3a9a-4612-8c1c-95b2dbf07a26')\"\n",
              "              title=\"Convert this dataframe to an interactive table.\"\n",
              "              style=\"display:none;\">\n",
              "        \n",
              "  <svg xmlns=\"http://www.w3.org/2000/svg\" height=\"24px\"viewBox=\"0 0 24 24\"\n",
              "       width=\"24px\">\n",
              "    <path d=\"M0 0h24v24H0V0z\" fill=\"none\"/>\n",
              "    <path d=\"M18.56 5.44l.94 2.06.94-2.06 2.06-.94-2.06-.94-.94-2.06-.94 2.06-2.06.94zm-11 1L8.5 8.5l.94-2.06 2.06-.94-2.06-.94L8.5 2.5l-.94 2.06-2.06.94zm10 10l.94 2.06.94-2.06 2.06-.94-2.06-.94-.94-2.06-.94 2.06-2.06.94z\"/><path d=\"M17.41 7.96l-1.37-1.37c-.4-.4-.92-.59-1.43-.59-.52 0-1.04.2-1.43.59L10.3 9.45l-7.72 7.72c-.78.78-.78 2.05 0 2.83L4 21.41c.39.39.9.59 1.41.59.51 0 1.02-.2 1.41-.59l7.78-7.78 2.81-2.81c.8-.78.8-2.07 0-2.86zM5.41 20L4 18.59l7.72-7.72 1.47 1.35L5.41 20z\"/>\n",
              "  </svg>\n",
              "      </button>\n",
              "      \n",
              "  <style>\n",
              "    .colab-df-container {\n",
              "      display:flex;\n",
              "      flex-wrap:wrap;\n",
              "      gap: 12px;\n",
              "    }\n",
              "\n",
              "    .colab-df-convert {\n",
              "      background-color: #E8F0FE;\n",
              "      border: none;\n",
              "      border-radius: 50%;\n",
              "      cursor: pointer;\n",
              "      display: none;\n",
              "      fill: #1967D2;\n",
              "      height: 32px;\n",
              "      padding: 0 0 0 0;\n",
              "      width: 32px;\n",
              "    }\n",
              "\n",
              "    .colab-df-convert:hover {\n",
              "      background-color: #E2EBFA;\n",
              "      box-shadow: 0px 1px 2px rgba(60, 64, 67, 0.3), 0px 1px 3px 1px rgba(60, 64, 67, 0.15);\n",
              "      fill: #174EA6;\n",
              "    }\n",
              "\n",
              "    [theme=dark] .colab-df-convert {\n",
              "      background-color: #3B4455;\n",
              "      fill: #D2E3FC;\n",
              "    }\n",
              "\n",
              "    [theme=dark] .colab-df-convert:hover {\n",
              "      background-color: #434B5C;\n",
              "      box-shadow: 0px 1px 3px 1px rgba(0, 0, 0, 0.15);\n",
              "      filter: drop-shadow(0px 1px 2px rgba(0, 0, 0, 0.3));\n",
              "      fill: #FFFFFF;\n",
              "    }\n",
              "  </style>\n",
              "\n",
              "      <script>\n",
              "        const buttonEl =\n",
              "          document.querySelector('#df-0863566a-3a9a-4612-8c1c-95b2dbf07a26 button.colab-df-convert');\n",
              "        buttonEl.style.display =\n",
              "          google.colab.kernel.accessAllowed ? 'block' : 'none';\n",
              "\n",
              "        async function convertToInteractive(key) {\n",
              "          const element = document.querySelector('#df-0863566a-3a9a-4612-8c1c-95b2dbf07a26');\n",
              "          const dataTable =\n",
              "            await google.colab.kernel.invokeFunction('convertToInteractive',\n",
              "                                                     [key], {});\n",
              "          if (!dataTable) return;\n",
              "\n",
              "          const docLinkHtml = 'Like what you see? Visit the ' +\n",
              "            '<a target=\"_blank\" href=https://colab.research.google.com/notebooks/data_table.ipynb>data table notebook</a>'\n",
              "            + ' to learn more about interactive tables.';\n",
              "          element.innerHTML = '';\n",
              "          dataTable['output_type'] = 'display_data';\n",
              "          await google.colab.output.renderOutput(dataTable, element);\n",
              "          const docLink = document.createElement('div');\n",
              "          docLink.innerHTML = docLinkHtml;\n",
              "          element.appendChild(docLink);\n",
              "        }\n",
              "      </script>\n",
              "    </div>\n",
              "  </div>\n",
              "  "
            ]
          },
          "metadata": {},
          "execution_count": 6
        }
      ]
    },
    {
      "cell_type": "code",
      "source": [
        "cos = torch.nn.CosineSimilarity(dim=0)\n",
        "\n",
        "similarity = cos(df.datalake.iloc[48] , df['query'].iloc[48])"
      ],
      "metadata": {
        "id": "XbJVl_hNS_8R"
      },
      "execution_count": 7,
      "outputs": []
    },
    {
      "cell_type": "code",
      "source": [
        "similarity.mean()"
      ],
      "metadata": {
        "colab": {
          "base_uri": "https://localhost:8080/"
        },
        "id": "9lO8NKlr922s",
        "outputId": "17f54ca9-64b7-404f-d6a6-e87f6bc25bc5"
      },
      "execution_count": 8,
      "outputs": [
        {
          "output_type": "execute_result",
          "data": {
            "text/plain": [
              "tensor(0.9846)"
            ]
          },
          "metadata": {},
          "execution_count": 8
        }
      ]
    },
    {
      "cell_type": "code",
      "source": [
        "x = df.drop('label', axis = 1)\n",
        "y = df.drop(['datalake', 'query'], axis = 1)\n",
        "\n",
        "x_train, x_test, y_train, y_test = train_test_split(x, y, test_size = 0.1, random_state = 52)"
      ],
      "metadata": {
        "id": "anBjVym6_Tx0"
      },
      "execution_count": 9,
      "outputs": []
    },
    {
      "cell_type": "code",
      "source": [
        "y_test"
      ],
      "metadata": {
        "colab": {
          "base_uri": "https://localhost:8080/",
          "height": 332
        },
        "id": "NNYlWTvsORPj",
        "outputId": "e8c6ecd2-76ac-4bc9-c07b-cb8964b7d83a"
      },
      "execution_count": 10,
      "outputs": [
        {
          "output_type": "execute_result",
          "data": {
            "text/plain": [
              "    label\n",
              "2       1\n",
              "8       1\n",
              "19      1\n",
              "66      0\n",
              "52      0\n",
              "4       1\n",
              "29      1\n",
              "80      0\n",
              "51      0"
            ],
            "text/html": [
              "\n",
              "  <div id=\"df-af572c20-1d84-437b-a9d1-e65c42d2e808\">\n",
              "    <div class=\"colab-df-container\">\n",
              "      <div>\n",
              "<style scoped>\n",
              "    .dataframe tbody tr th:only-of-type {\n",
              "        vertical-align: middle;\n",
              "    }\n",
              "\n",
              "    .dataframe tbody tr th {\n",
              "        vertical-align: top;\n",
              "    }\n",
              "\n",
              "    .dataframe thead th {\n",
              "        text-align: right;\n",
              "    }\n",
              "</style>\n",
              "<table border=\"1\" class=\"dataframe\">\n",
              "  <thead>\n",
              "    <tr style=\"text-align: right;\">\n",
              "      <th></th>\n",
              "      <th>label</th>\n",
              "    </tr>\n",
              "  </thead>\n",
              "  <tbody>\n",
              "    <tr>\n",
              "      <th>2</th>\n",
              "      <td>1</td>\n",
              "    </tr>\n",
              "    <tr>\n",
              "      <th>8</th>\n",
              "      <td>1</td>\n",
              "    </tr>\n",
              "    <tr>\n",
              "      <th>19</th>\n",
              "      <td>1</td>\n",
              "    </tr>\n",
              "    <tr>\n",
              "      <th>66</th>\n",
              "      <td>0</td>\n",
              "    </tr>\n",
              "    <tr>\n",
              "      <th>52</th>\n",
              "      <td>0</td>\n",
              "    </tr>\n",
              "    <tr>\n",
              "      <th>4</th>\n",
              "      <td>1</td>\n",
              "    </tr>\n",
              "    <tr>\n",
              "      <th>29</th>\n",
              "      <td>1</td>\n",
              "    </tr>\n",
              "    <tr>\n",
              "      <th>80</th>\n",
              "      <td>0</td>\n",
              "    </tr>\n",
              "    <tr>\n",
              "      <th>51</th>\n",
              "      <td>0</td>\n",
              "    </tr>\n",
              "  </tbody>\n",
              "</table>\n",
              "</div>\n",
              "      <button class=\"colab-df-convert\" onclick=\"convertToInteractive('df-af572c20-1d84-437b-a9d1-e65c42d2e808')\"\n",
              "              title=\"Convert this dataframe to an interactive table.\"\n",
              "              style=\"display:none;\">\n",
              "        \n",
              "  <svg xmlns=\"http://www.w3.org/2000/svg\" height=\"24px\"viewBox=\"0 0 24 24\"\n",
              "       width=\"24px\">\n",
              "    <path d=\"M0 0h24v24H0V0z\" fill=\"none\"/>\n",
              "    <path d=\"M18.56 5.44l.94 2.06.94-2.06 2.06-.94-2.06-.94-.94-2.06-.94 2.06-2.06.94zm-11 1L8.5 8.5l.94-2.06 2.06-.94-2.06-.94L8.5 2.5l-.94 2.06-2.06.94zm10 10l.94 2.06.94-2.06 2.06-.94-2.06-.94-.94-2.06-.94 2.06-2.06.94z\"/><path d=\"M17.41 7.96l-1.37-1.37c-.4-.4-.92-.59-1.43-.59-.52 0-1.04.2-1.43.59L10.3 9.45l-7.72 7.72c-.78.78-.78 2.05 0 2.83L4 21.41c.39.39.9.59 1.41.59.51 0 1.02-.2 1.41-.59l7.78-7.78 2.81-2.81c.8-.78.8-2.07 0-2.86zM5.41 20L4 18.59l7.72-7.72 1.47 1.35L5.41 20z\"/>\n",
              "  </svg>\n",
              "      </button>\n",
              "      \n",
              "  <style>\n",
              "    .colab-df-container {\n",
              "      display:flex;\n",
              "      flex-wrap:wrap;\n",
              "      gap: 12px;\n",
              "    }\n",
              "\n",
              "    .colab-df-convert {\n",
              "      background-color: #E8F0FE;\n",
              "      border: none;\n",
              "      border-radius: 50%;\n",
              "      cursor: pointer;\n",
              "      display: none;\n",
              "      fill: #1967D2;\n",
              "      height: 32px;\n",
              "      padding: 0 0 0 0;\n",
              "      width: 32px;\n",
              "    }\n",
              "\n",
              "    .colab-df-convert:hover {\n",
              "      background-color: #E2EBFA;\n",
              "      box-shadow: 0px 1px 2px rgba(60, 64, 67, 0.3), 0px 1px 3px 1px rgba(60, 64, 67, 0.15);\n",
              "      fill: #174EA6;\n",
              "    }\n",
              "\n",
              "    [theme=dark] .colab-df-convert {\n",
              "      background-color: #3B4455;\n",
              "      fill: #D2E3FC;\n",
              "    }\n",
              "\n",
              "    [theme=dark] .colab-df-convert:hover {\n",
              "      background-color: #434B5C;\n",
              "      box-shadow: 0px 1px 3px 1px rgba(0, 0, 0, 0.15);\n",
              "      filter: drop-shadow(0px 1px 2px rgba(0, 0, 0, 0.3));\n",
              "      fill: #FFFFFF;\n",
              "    }\n",
              "  </style>\n",
              "\n",
              "      <script>\n",
              "        const buttonEl =\n",
              "          document.querySelector('#df-af572c20-1d84-437b-a9d1-e65c42d2e808 button.colab-df-convert');\n",
              "        buttonEl.style.display =\n",
              "          google.colab.kernel.accessAllowed ? 'block' : 'none';\n",
              "\n",
              "        async function convertToInteractive(key) {\n",
              "          const element = document.querySelector('#df-af572c20-1d84-437b-a9d1-e65c42d2e808');\n",
              "          const dataTable =\n",
              "            await google.colab.kernel.invokeFunction('convertToInteractive',\n",
              "                                                     [key], {});\n",
              "          if (!dataTable) return;\n",
              "\n",
              "          const docLinkHtml = 'Like what you see? Visit the ' +\n",
              "            '<a target=\"_blank\" href=https://colab.research.google.com/notebooks/data_table.ipynb>data table notebook</a>'\n",
              "            + ' to learn more about interactive tables.';\n",
              "          element.innerHTML = '';\n",
              "          dataTable['output_type'] = 'display_data';\n",
              "          await google.colab.output.renderOutput(dataTable, element);\n",
              "          const docLink = document.createElement('div');\n",
              "          docLink.innerHTML = docLinkHtml;\n",
              "          element.appendChild(docLink);\n",
              "        }\n",
              "      </script>\n",
              "    </div>\n",
              "  </div>\n",
              "  "
            ]
          },
          "metadata": {},
          "execution_count": 10
        }
      ]
    },
    {
      "cell_type": "code",
      "source": [
        "e = torch.empty(size = [80, 512, 768])\n",
        "q = torch.empty(size = [80, 512, 768])\n",
        "la = torch.empty(size = [80, 512, 768])\n",
        "for i in x_train.datalake.values:\n",
        "  torch.cat((e, i))\n",
        "for i in x_train['query'].values:\n",
        "  torch.cat((q, i))\n",
        "y_tens = torch.tensor([y_train.label.values.T])\n",
        "inp = torch.cat((e, q))"
      ],
      "metadata": {
        "id": "tKP0bpX_Mz8_",
        "colab": {
          "base_uri": "https://localhost:8080/"
        },
        "outputId": "70d91b12-e845-4167-b588-c40c3a1f0571"
      },
      "execution_count": 11,
      "outputs": [
        {
          "output_type": "stream",
          "name": "stderr",
          "text": [
            "<ipython-input-11-f2f9271245df>:8: UserWarning: Creating a tensor from a list of numpy.ndarrays is extremely slow. Please consider converting the list to a single numpy.ndarray with numpy.array() before converting to a tensor. (Triggered internally at ../torch/csrc/utils/tensor_new.cpp:230.)\n",
            "  y_tens = torch.tensor([y_train.label.values.T])\n"
          ]
        }
      ]
    },
    {
      "cell_type": "code",
      "source": [
        "e_test = torch.empty(size = [9, 512, 768])\n",
        "q_test = torch.empty(size = [9, 512, 768])\n",
        "lab_test = torch.empty(size = [9, 512, 768])\n",
        "\n",
        "for i in x_test.datalake.values:\n",
        "  torch.cat((e_test, i))\n",
        "for i in x_test['query'].values:\n",
        "  torch.cat((q_test, i))\n",
        "test_tens = torch.tensor([y_test.label.values.T])\n",
        "test_inp = torch.cat((e_test, q_test))"
      ],
      "metadata": {
        "id": "blIA56XLO2aT"
      },
      "execution_count": 12,
      "outputs": []
    },
    {
      "cell_type": "code",
      "source": [
        "y_tens.size()"
      ],
      "metadata": {
        "colab": {
          "base_uri": "https://localhost:8080/"
        },
        "id": "lBlNIMVbO4JW",
        "outputId": "e07c1017-2d7f-4646-fded-0af50dd73848"
      },
      "execution_count": 13,
      "outputs": [
        {
          "output_type": "execute_result",
          "data": {
            "text/plain": [
              "torch.Size([1, 80])"
            ]
          },
          "metadata": {},
          "execution_count": 13
        }
      ]
    },
    {
      "cell_type": "code",
      "source": [
        "import torch\n",
        "import torch.nn as nn\n",
        "\n",
        "n_input, n_hidden, n_out, learning_rate = 768, 512, 1, 0.005\n",
        "model = nn.Sequential(nn.Linear(n_input, n_hidden),\n",
        "                      nn.ReLU(),\n",
        "                      nn.Linear(512, 150),\n",
        "                      nn.ReLU(),\n",
        "                      nn.Linear(150, n_out),\n",
        "                      nn.Sigmoid())\n",
        "print(model)"
      ],
      "metadata": {
        "colab": {
          "base_uri": "https://localhost:8080/"
        },
        "id": "-iR5ZaLj93_M",
        "outputId": "8017fc8a-4fe2-4a37-fb74-79cb4b763c87"
      },
      "execution_count": 14,
      "outputs": [
        {
          "output_type": "stream",
          "name": "stdout",
          "text": [
            "Sequential(\n",
            "  (0): Linear(in_features=768, out_features=512, bias=True)\n",
            "  (1): ReLU()\n",
            "  (2): Linear(in_features=512, out_features=150, bias=True)\n",
            "  (3): ReLU()\n",
            "  (4): Linear(in_features=150, out_features=1, bias=True)\n",
            "  (5): Sigmoid()\n",
            ")\n"
          ]
        }
      ]
    },
    {
      "cell_type": "code",
      "source": [
        "loss_function = nn.CrossEntropyLoss()\n",
        "optimizer = torch.optim.Adam(model.parameters(), lr=learning_rate)"
      ],
      "metadata": {
        "id": "HdPnWKd9-Vc1"
      },
      "execution_count": 15,
      "outputs": []
    },
    {
      "cell_type": "code",
      "source": [
        "losses = []\n",
        "y_temp = torch.cat((y_tens, y_tens), dim=-1).T\n",
        "# print(inp.size())\n",
        "pred_y = 0\n",
        "for epoch in range(10):\n",
        "  # for (idx, batch) in enumerate(DL_DS):\n",
        "    pred_y = model(inp)\n",
        "    loss = loss_function(pred_y, y_temp)\n",
        "    losses.append(loss.item())\n",
        "\n",
        "    model.zero_grad()\n",
        "    loss.backward()\n",
        "    optimizer.step()\n",
        "\n"
      ],
      "metadata": {
        "id": "hWSi23qo-f_H"
      },
      "execution_count": 16,
      "outputs": []
    },
    {
      "cell_type": "code",
      "source": [
        "losses"
      ],
      "metadata": {
        "colab": {
          "base_uri": "https://localhost:8080/"
        },
        "id": "9a7iDrlhkuZu",
        "outputId": "65a3aa26-2ea5-4a98-d0d7-51c33b791c4c"
      },
      "execution_count": 18,
      "outputs": [
        {
          "output_type": "execute_result",
          "data": {
            "text/plain": [
              "[6.232572078704834,\n",
              " 6.231419563293457,\n",
              " 6.229737281799316,\n",
              " 6.229144096374512,\n",
              " 6.228337287902832,\n",
              " 6.2272047996521,\n",
              " 6.22592830657959,\n",
              " 6.224761009216309,\n",
              " 6.223835468292236,\n",
              " 6.223099231719971]"
            ]
          },
          "metadata": {},
          "execution_count": 18
        }
      ]
    },
    {
      "cell_type": "code",
      "source": [
        "import matplotlib.pyplot as plt\n",
        "plt.plot(losses)\n",
        "plt.ylabel('loss')\n",
        "plt.xlabel('epoch')\n",
        "plt.title(\"Learning rate %f\"%(learning_rate))\n",
        "plt.show()"
      ],
      "metadata": {
        "colab": {
          "base_uri": "https://localhost:8080/",
          "height": 295
        },
        "id": "D8xJhtrupcCB",
        "outputId": "85871f17-6cea-4ad9-c07b-bde2eec33b6e"
      },
      "execution_count": 19,
      "outputs": [
        {
          "output_type": "display_data",
          "data": {
            "text/plain": [
              "<Figure size 432x288 with 1 Axes>"
            ],
            "image/png": "[encoded data removed]"
          },
          "metadata": {
            "needs_background": "light"
          }
        }
      ]
    },
    {
      "cell_type": "code",
      "source": [
        "def cosine_sim(tab1, tab2, threshold):\n",
        "  union = 0\n",
        "  cos = torch.nn.CosineSimilarity(dim=0)\n",
        "\n",
        "  similarity = cos(tab1, tab2)\n",
        "  if similarity.mean() <= threshold:\n",
        "    union = 0\n",
        "  else: union = 1\n",
        "\n",
        "  return union"
      ],
      "metadata": {
        "id": "n3n2xl7rm7Sx"
      },
      "execution_count": 20,
      "outputs": []
    },
    {
      "cell_type": "code",
      "source": [
        "def evaluate(y_true, pred_val):\n",
        "\n",
        "  bin_prec = BinaryPrecision()\n",
        "  bin_recall = BinaryRecall()\n",
        "  bin_cm = BinaryConfusionMatrix()\n",
        "  f1 = F1Score(task=\"binary\")\n",
        "  acc = Accuracy(task=\"binary\")\n",
        "  prec = bin_prec(torch.tensor(y_true), torch.tensor([pred_val]).T)\n",
        "  rec = bin_recall(torch.tensor(y_true), torch.tensor([pred_val]).T)\n",
        "  cm = bin_cm(torch.tensor(y_true), torch.tensor([pred_val]).T)\n",
        "  f1_score = f1(torch.tensor(y_true), torch.tensor([pred_val]).T)\n",
        "  accuracy = acc(torch.tensor(y_true), torch.tensor([pred_val]).T)\n",
        "  print(f'precision: {prec}\\nrecall:{rec}\\nConfusion Matrix: {cm} \\nF1-Score: {f1_score} \\naccuracy: {accuracy}')"
      ],
      "metadata": {
        "id": "QSBLrsiEnPlz"
      },
      "execution_count": 21,
      "outputs": []
    },
    {
      "cell_type": "code",
      "source": [
        "#precision of train data - Cosine similarity\n",
        "y_eval = []\n",
        "for i in range (len(x_train)):\n",
        "  y_eval.append(cosine_sim(x_train.datalake.iloc[i], x_train['query'].iloc[i], 0.985))\n",
        "\n",
        "evaluate(y_train.values.tolist(), y_eval)"
      ],
      "metadata": {
        "colab": {
          "base_uri": "https://localhost:8080/"
        },
        "id": "2w-O5to1A3ed",
        "outputId": "b0597255-bae2-4de0-9fe6-53a91b01c96d"
      },
      "execution_count": 22,
      "outputs": [
        {
          "output_type": "stream",
          "name": "stdout",
          "text": [
            "precision: 0.8780487775802612\n",
            "recall:0.5070422291755676\n",
            "Confusion Matrix: tensor([[ 4,  5],\n",
            "        [35, 36]]) \n",
            "F1-Score: 0.6428571343421936 \n",
            "accuracy: 0.5\n"
          ]
        }
      ]
    },
    {
      "cell_type": "code",
      "source": [
        "#precision of train data - Cosine similarity\n",
        "y_eval = []\n",
        "for i in range (len(x_train)):\n",
        "  y_eval.append(cosine_sim(x_train.datalake.iloc[i], x_train['query'].iloc[i], 0.981))\n",
        "\n",
        "evaluate(y_train.values.tolist(), y_eval)"
      ],
      "metadata": {
        "colab": {
          "base_uri": "https://localhost:8080/"
        },
        "id": "R2SxAiryNx6_",
        "outputId": "a99eb8bc-2bea-49eb-9188-50461ce54c0c"
      },
      "execution_count": 23,
      "outputs": [
        {
          "output_type": "stream",
          "name": "stdout",
          "text": [
            "precision: 0.9268292784690857\n",
            "recall:0.5135135054588318\n",
            "Confusion Matrix: tensor([[ 3,  3],\n",
            "        [36, 38]]) \n",
            "F1-Score: 0.6608695387840271 \n",
            "accuracy: 0.512499988079071\n"
          ]
        }
      ]
    },
    {
      "cell_type": "code",
      "source": [
        "#precision of train data - Cosine similarity\n",
        "y_eval = []\n",
        "for i in range (len(x_train)):\n",
        "  y_eval.append(cosine_sim(x_train.datalake.iloc[i], x_train['query'].iloc[i], 0.998))\n",
        "\n",
        "evaluate(y_train.values.tolist(), y_eval)"
      ],
      "metadata": {
        "colab": {
          "base_uri": "https://localhost:8080/"
        },
        "id": "9T1mFQZfbTio",
        "outputId": "42f3fe74-07d6-4e5d-b0fd-e4f8956bd129"
      },
      "execution_count": 24,
      "outputs": [
        {
          "output_type": "stream",
          "name": "stdout",
          "text": [
            "precision: 0.6097561120986938\n",
            "recall:0.46296295523643494\n",
            "Confusion Matrix: tensor([[10, 16],\n",
            "        [29, 25]]) \n",
            "F1-Score: 0.5263158082962036 \n",
            "accuracy: 0.4375\n"
          ]
        }
      ]
    },
    {
      "cell_type": "code",
      "source": [
        "#precision of test data - Cosine similarity\n",
        "y_eval = []\n",
        "for i in range (len(x_test)):\n",
        "  y_eval.append(cosine_sim(x_test.datalake.iloc[i], x_test['query'].iloc[i], 0.981))\n",
        "\n",
        "evaluate(y_test.values.tolist(), y_eval)"
      ],
      "metadata": {
        "colab": {
          "base_uri": "https://localhost:8080/"
        },
        "id": "IfFz7y6GQyzs",
        "outputId": "96ca3fc9-cb0a-42fb-de7e-ceef96e49fc7"
      },
      "execution_count": 25,
      "outputs": [
        {
          "output_type": "stream",
          "name": "stdout",
          "text": [
            "precision: 1.0\n",
            "recall:0.5555555820465088\n",
            "Confusion Matrix: tensor([[0, 0],\n",
            "        [4, 5]]) \n",
            "F1-Score: 0.7142857313156128 \n",
            "accuracy: 0.5555555820465088\n"
          ]
        }
      ]
    },
    {
      "cell_type": "code",
      "source": [
        "#precision of test data - Cosine similarity\n",
        "y_eval = []\n",
        "for i in range (len(x_test)):\n",
        "  y_eval.append(cosine_sim(x_test.datalake.iloc[i], x_test['query'].iloc[i], 0.989))\n",
        "\n",
        "evaluate(y_test.values.tolist(), y_eval)"
      ],
      "metadata": {
        "colab": {
          "base_uri": "https://localhost:8080/"
        },
        "id": "Y_-SCBDIRSjG",
        "outputId": "e3f0f247-39c2-4568-bb37-211da12ebd11"
      },
      "execution_count": 26,
      "outputs": [
        {
          "output_type": "stream",
          "name": "stdout",
          "text": [
            "precision: 0.800000011920929\n",
            "recall:0.5\n",
            "Confusion Matrix: tensor([[0, 1],\n",
            "        [4, 4]]) \n",
            "F1-Score: 0.6153846383094788 \n",
            "accuracy: 0.4444444477558136\n"
          ]
        }
      ]
    },
    {
      "cell_type": "code",
      "source": [
        "# evaluation metrics - Deep learning model\n",
        "f = []\n",
        "for i in pred_y:\n",
        "  if i.mean()<= 0.05:\n",
        "    f.append(torch.tensor(0))\n",
        "  else: f.append(torch.tensor(1))\n",
        "\n",
        "y_t = y_train.values.tolist()\n",
        "for i in y_train.values.tolist():\n",
        "  y_t.append(i)\n",
        "\n",
        "evaluate(y_t, f)"
      ],
      "metadata": {
        "colab": {
          "base_uri": "https://localhost:8080/"
        },
        "id": "QxnlMWg0Rkq3",
        "outputId": "935936f3-22b3-42be-b714-70ebba3e6c57"
      },
      "execution_count": 27,
      "outputs": [
        {
          "output_type": "stream",
          "name": "stdout",
          "text": [
            "precision: 0.3048780560493469\n",
            "recall:0.625\n",
            "Confusion Matrix: tensor([[63, 57],\n",
            "        [15, 25]]) \n",
            "F1-Score: 0.4098360538482666 \n",
            "accuracy: 0.550000011920929\n"
          ]
        }
      ]
    },
    {
      "cell_type": "code",
      "source": [
        "f = []\n",
        "for i in pred_y:\n",
        "  if i.mean()<= 0.09:\n",
        "    f.append(torch.tensor(0))\n",
        "  else: f.append(torch.tensor(1))\n",
        "\n",
        "y_t = y_train.values.tolist()\n",
        "for i in y_train.values.tolist():\n",
        "  y_t.append(i)\n",
        "\n",
        "evaluate(y_t, f)\n"
      ],
      "metadata": {
        "colab": {
          "base_uri": "https://localhost:8080/"
        },
        "id": "poa1Uk6YeirE",
        "outputId": "3658e2bd-abb8-4b17-963e-0b2b71b07230"
      },
      "execution_count": 28,
      "outputs": [
        {
          "output_type": "stream",
          "name": "stdout",
          "text": [
            "precision: 0.3048780560493469\n",
            "recall:0.625\n",
            "Confusion Matrix: tensor([[63, 57],\n",
            "        [15, 25]]) \n",
            "F1-Score: 0.4098360538482666 \n",
            "accuracy: 0.550000011920929\n"
          ]
        }
      ]
    },
    {
      "cell_type": "code",
      "source": [
        "f = []\n",
        "for i in pred_y:\n",
        "  if i.mean()<= 0.098:\n",
        "    f.append(torch.tensor(0))\n",
        "  else: f.append(torch.tensor(1))\n",
        "\n",
        "y_t = y_train.values.tolist()\n",
        "for i in y_train.values.tolist():\n",
        "  y_t.append(i)\n",
        "\n",
        "evaluate(y_t, f)"
      ],
      "metadata": {
        "colab": {
          "base_uri": "https://localhost:8080/"
        },
        "id": "Tp39SQmQdVbq",
        "outputId": "d2b7c97a-e2cf-49f1-f69e-b52a76bba759"
      },
      "execution_count": 29,
      "outputs": [
        {
          "output_type": "stream",
          "name": "stdout",
          "text": [
            "precision: 0.0\n",
            "recall:0.0\n",
            "Confusion Matrix: tensor([[78, 82],\n",
            "        [ 0,  0]]) \n",
            "F1-Score: 0.0 \n",
            "accuracy: 0.48750001192092896\n"
          ]
        }
      ]
    },
    {
      "cell_type": "code",
      "source": [],
      "metadata": {
        "id": "4p6gfQuHLZj2"
      },
      "execution_count": 1,
      "outputs": []
    }
  ]
}