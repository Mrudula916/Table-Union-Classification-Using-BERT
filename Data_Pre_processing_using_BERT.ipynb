{
  "cells": [
    {
      "cell_type": "code",
      "execution_count": 1,
      "metadata": {
        "colab": {
          "base_uri": "https://localhost:8080/"
        },
        "id": "WSXBlrViY388",
        "outputId": "b090d3cf-525c-4769-dad4-3ad2a43f875f"
      },
      "outputs": [
        {
          "output_type": "stream",
          "name": "stdout",
          "text": [
            "Mounted at /content/drive\n"
          ]
        }
      ],
      "source": [
        "from google.colab import drive\n",
        "drive.mount('/content/drive')"
      ]
    },
    {
      "cell_type": "code",
      "execution_count": null,
      "metadata": {
        "colab": {
          "base_uri": "https://localhost:8080/"
        },
        "id": "zWvwJVqJY6hU",
        "outputId": "f496dee9-c7a6-4216-e325-2d1ffe6e724b"
      },
      "outputs": [
        {
          "output_type": "stream",
          "name": "stdout",
          "text": [
            "Looking in indexes: https://pypi.org/simple, https://us-python.pkg.dev/colab-wheels/public/simple/\n",
            "Requirement already satisfied: transformers in /usr/local/lib/python3.8/dist-packages (4.25.1)\n",
            "Requirement already satisfied: huggingface-hub<1.0,>=0.10.0 in /usr/local/lib/python3.8/dist-packages (from transformers) (0.11.1)\n",
            "Requirement already satisfied: pyyaml>=5.1 in /usr/local/lib/python3.8/dist-packages (from transformers) (6.0)\n",
            "Requirement already satisfied: packaging>=20.0 in /usr/local/lib/python3.8/dist-packages (from transformers) (21.3)\n",
            "Requirement already satisfied: filelock in /usr/local/lib/python3.8/dist-packages (from transformers) (3.8.0)\n",
            "Requirement already satisfied: tokenizers!=0.11.3,<0.14,>=0.11.1 in /usr/local/lib/python3.8/dist-packages (from transformers) (0.13.2)\n",
            "Requirement already satisfied: requests in /usr/local/lib/python3.8/dist-packages (from transformers) (2.23.0)\n",
            "Requirement already satisfied: tqdm>=4.27 in /usr/local/lib/python3.8/dist-packages (from transformers) (4.64.1)\n",
            "Requirement already satisfied: numpy>=1.17 in /usr/local/lib/python3.8/dist-packages (from transformers) (1.21.6)\n",
            "Requirement already satisfied: regex!=2019.12.17 in /usr/local/lib/python3.8/dist-packages (from transformers) (2022.6.2)\n",
            "Requirement already satisfied: typing-extensions>=3.7.4.3 in /usr/local/lib/python3.8/dist-packages (from huggingface-hub<1.0,>=0.10.0->transformers) (4.1.1)\n",
            "Requirement already satisfied: pyparsing!=3.0.5,>=2.0.2 in /usr/local/lib/python3.8/dist-packages (from packaging>=20.0->transformers) (3.0.9)\n",
            "Requirement already satisfied: idna<3,>=2.5 in /usr/local/lib/python3.8/dist-packages (from requests->transformers) (2.10)\n",
            "Requirement already satisfied: certifi>=2017.4.17 in /usr/local/lib/python3.8/dist-packages (from requests->transformers) (2022.9.24)\n",
            "Requirement already satisfied: chardet<4,>=3.0.2 in /usr/local/lib/python3.8/dist-packages (from requests->transformers) (3.0.4)\n",
            "Requirement already satisfied: urllib3!=1.25.0,!=1.25.1,<1.26,>=1.21.1 in /usr/local/lib/python3.8/dist-packages (from requests->transformers) (1.24.3)\n",
            "Looking in indexes: https://pypi.org/simple, https://us-python.pkg.dev/colab-wheels/public/simple/\n",
            "Requirement already satisfied: sentencepiece in /usr/local/lib/python3.8/dist-packages (0.1.97)\n",
            "Looking in indexes: https://pypi.org/simple, https://us-python.pkg.dev/colab-wheels/public/simple/\n",
            "Requirement already satisfied: tqdm in /usr/local/lib/python3.8/dist-packages (4.64.1)\n"
          ]
        }
      ],
      "source": [
        "!pip install transformers\n",
        "!pip install sentencepiece\n",
        "!pip install tqdm"
      ]
    },
    {
      "cell_type": "code",
      "execution_count": 2,
      "metadata": {
        "id": "DcYy1BUSZH1U",
        "colab": {
          "base_uri": "https://localhost:8080/",
          "height": 383
        },
        "outputId": "cc2734cf-87aa-461c-db96-34c20cc0a6ca"
      },
      "outputs": [
        {
          "output_type": "error",
          "ename": "ModuleNotFoundError",
          "evalue": "ignored",
          "traceback": [
            "\u001b[0;31m---------------------------------------------------------------------------\u001b[0m",
            "\u001b[0;31mModuleNotFoundError\u001b[0m                       Traceback (most recent call last)",
            "\u001b[0;32m<ipython-input-2-36c893607091>\u001b[0m in \u001b[0;36m<module>\u001b[0;34m\u001b[0m\n\u001b[1;32m      1\u001b[0m \u001b[0;32mimport\u001b[0m \u001b[0mpandas\u001b[0m \u001b[0;32mas\u001b[0m \u001b[0mpd\u001b[0m\u001b[0;34m\u001b[0m\u001b[0;34m\u001b[0m\u001b[0m\n\u001b[1;32m      2\u001b[0m \u001b[0;32mimport\u001b[0m \u001b[0mnumpy\u001b[0m \u001b[0;32mas\u001b[0m \u001b[0mnp\u001b[0m\u001b[0;34m\u001b[0m\u001b[0;34m\u001b[0m\u001b[0m\n\u001b[0;32m----> 3\u001b[0;31m \u001b[0;32mfrom\u001b[0m \u001b[0mtransformers\u001b[0m \u001b[0;32mimport\u001b[0m \u001b[0mBertTokenizer\u001b[0m\u001b[0;34m,\u001b[0m \u001b[0mBertModel\u001b[0m\u001b[0;34m\u001b[0m\u001b[0;34m\u001b[0m\u001b[0m\n\u001b[0m\u001b[1;32m      4\u001b[0m \u001b[0;32mfrom\u001b[0m \u001b[0mtokenizers\u001b[0m \u001b[0;32mimport\u001b[0m \u001b[0mBertWordPieceTokenizer\u001b[0m\u001b[0;34m\u001b[0m\u001b[0;34m\u001b[0m\u001b[0m\n\u001b[1;32m      5\u001b[0m \u001b[0;32mfrom\u001b[0m \u001b[0mnltk\u001b[0m\u001b[0;34m.\u001b[0m\u001b[0mcorpus\u001b[0m \u001b[0;32mimport\u001b[0m \u001b[0mstopwords\u001b[0m\u001b[0;34m\u001b[0m\u001b[0;34m\u001b[0m\u001b[0m\n",
            "\u001b[0;31mModuleNotFoundError\u001b[0m: No module named 'transformers'",
            "",
            "\u001b[0;31m---------------------------------------------------------------------------\u001b[0;32m\nNOTE: If your import is failing due to a missing package, you can\nmanually install dependencies using either !pip or !apt.\n\nTo view examples of installing some common dependencies, click the\n\"Open Examples\" button below.\n\u001b[0;31m---------------------------------------------------------------------------\u001b[0m\n"
          ],
          "errorDetails": {
            "actions": [
              {
                "action": "open_url",
                "actionText": "Open Examples",
                "url": "/notebooks/snippets/importing_libraries.ipynb"
              }
            ]
          }
        }
      ],
      "source": [
        "import pandas as pd\n",
        "import numpy as np\n",
        "from transformers import BertTokenizer, BertModel\n",
        "from tokenizers import BertWordPieceTokenizer\n",
        "from nltk.corpus import stopwords\n",
        "from nltk import pad_sequence\n",
        "import os\n",
        "import torch\n",
        "from nltk import word_tokenize\n",
        "import tqdm\n",
        "import tensorflow as tf\n"
      ]
    },
    {
      "cell_type": "code",
      "execution_count": null,
      "metadata": {
        "colab": {
          "base_uri": "https://localhost:8080/"
        },
        "id": "pi9zB68BZLvf",
        "outputId": "ab0f8ac7-aec7-4bb9-a22a-57ee9df7967c"
      },
      "outputs": [
        {
          "output_type": "stream",
          "name": "stderr",
          "text": [
            "[nltk_data] Downloading package stopwords to /root/nltk_data...\n",
            "[nltk_data]   Package stopwords is already up-to-date!\n",
            "[nltk_data] Downloading package punkt to /root/nltk_data...\n",
            "[nltk_data]   Package punkt is already up-to-date!\n"
          ]
        },
        {
          "output_type": "execute_result",
          "data": {
            "text/plain": [
              "True"
            ]
          },
          "metadata": {},
          "execution_count": 28
        }
      ],
      "source": [
        "import nltk\n",
        "nltk.download('stopwords')\n",
        "nltk.download('punkt')"
      ]
    },
    {
      "cell_type": "code",
      "execution_count": null,
      "metadata": {
        "id": "owyndwibZOgH"
      },
      "outputs": [],
      "source": [
        "# data = pd.read_csv('/content/drive/MyDrive/labeled_benchmark/datalake/data_mill_a.csv')\n",
        "# # data = pd.read_csv('/content/abandoned_wells_0.csv')\n",
        "# data= data.astype('str')\n",
        "# data.head(10)"
      ]
    },
    {
      "cell_type": "code",
      "execution_count": null,
      "metadata": {
        "id": "_OhoMa6iZRlZ"
      },
      "outputs": [],
      "source": [
        "def tokenize(row):\n",
        "#   maxi = 30\n",
        "  tok_sw = []\n",
        "  word_idx = {}\n",
        "  temp = []\n",
        "  stop_words = set(stopwords.words(\"english\"))\n",
        "\n",
        "  #split the values \n",
        "#   print(row)\n",
        "  row_token = word_tokenize(row)\n",
        "  # print(row_token)\n",
        "\n",
        "  #remove stopwords\n",
        "  for i in row_token:\n",
        "    if i not in stop_words and i not in tok_sw:\n",
        "      tok_sw.append(i)\n",
        "\n",
        "  #find indices for the tokens\n",
        "  for i in tok_sw:\n",
        "      s = tok_sw.index(i)\n",
        "      temp.append(s)\n",
        "  temp.sort()\n",
        "  for i in temp:\n",
        "        word_idx[tok_sw[i]] = temp.index(i)+1\n",
        "\n",
        "  tokenised_words = []\n",
        "  index = []\n",
        "  for key, val in word_idx.items():\n",
        "    tokenised_words.append(key)\n",
        "    index.append(val)\n",
        "\n",
        "  return tokenised_words, index"
      ]
    },
    {
      "cell_type": "code",
      "execution_count": null,
      "metadata": {
        "id": "wJ09Kia8ZUqY"
      },
      "outputs": [],
      "source": [
        "import random\n",
        "def data_preprocessing(data):\n",
        "  data_samples = pd.DataFrame()\n",
        "  # dataset = pd.read_csv(data)\n",
        "  data = data.dropna(axis=0)\n",
        "  cols = data.columns.to_list()\n",
        "  # print(len(data))\n",
        "  # data = data.sample(30, replace=False)\n",
        "  # print(len(data.values.tolist()))\n",
        "  if len(data) > 20:\n",
        "    data_samples = pd.DataFrame(random.sample(data.values.tolist(), k=20))\n",
        "  elif len(data) > 0:\n",
        "    data_samples = data\n",
        "  \n",
        "  print(len(data_samples))\n",
        "  processed_data = []\n",
        "  cols = []\n",
        "  \n",
        "  for i in range(len(data_samples)):\n",
        "    row_str = \" \"\n",
        "    for j in range(len(cols)):\n",
        "      if type(data_samples.iloc[i][j]) != None:\n",
        "        row_str += str(data_samples.iloc[i][j])+' '\n",
        "    processed_data.append(row_str)\n",
        "  return processed_data"
      ]
    },
    {
      "cell_type": "code",
      "execution_count": null,
      "metadata": {
        "id": "jwQIgNjhZYAM"
      },
      "outputs": [],
      "source": [
        "# data = \"/content/drive/MyDrive/labeled_benchmark/datalake/data_mill_0.csv\"\n",
        "# p = data_preprocessing(data)\n",
        "# # print(p)"
      ]
    },
    {
      "cell_type": "code",
      "execution_count": null,
      "metadata": {
        "id": "PQKgY_C4Za1Q"
      },
      "outputs": [],
      "source": [
        "from tokenizers import BertWordPieceTokenizer\n",
        "import os\n",
        "def token_training(processed_data):\n",
        "  with open(\"processed.txt\", 'a') as f:\n",
        "    for i in processed_data:\n",
        "      f.write(i)\n",
        "  path = \"processed.txt\"\n",
        "  # initialize\n",
        "  tokenizer = BertWordPieceTokenizer(\n",
        "      clean_text=True,\n",
        "      handle_chinese_chars=False,\n",
        "      strip_accents=False,\n",
        "      lowercase=False\n",
        "  )\n",
        "  # and train\n",
        "  tokenizer.train(files=path, vocab_size=30_000, min_frequency=0,\n",
        "                  limit_alphabet=1000, wordpieces_prefix='##',\n",
        "                  special_tokens=['[PAD]', '[CLS]', '[SEP]', '[MASK]', '[UNK]'])\n",
        "\n",
        "  # os.mkdir('./bert-custom')\n",
        "  tokenizer.save_model('./')"
      ]
    },
    {
      "cell_type": "code",
      "execution_count": null,
      "metadata": {
        "id": "VGgxz6EJZmcv"
      },
      "outputs": [],
      "source": [
        "def process(processed_data):\n",
        "  \"\"\"\n",
        "    read text file\n",
        "    divide into batches\n",
        "    read each sentence\n",
        "    tokenise, pad, [SEP]\n",
        "    bert\n",
        "  \"\"\"\n",
        "  model = BertModel.from_pretrained('bert-base-uncased', output_hidden_states = True,)\n",
        "  # with open(text_file) as f:\n",
        "  #   d = f.readlines() #returns a list of strings\n",
        "  # do = []\n",
        "  # for i in d:\n",
        "  #   do.append(i.strip(\"\\n \"))\n",
        "  \n",
        "  ##### Reading text file done #####\n",
        "\n",
        "  batch_str = []\n",
        "  size = 1\n",
        "  start = 0\n",
        "  batches = [processed_data[i:i+size] for i in range(0,len(processed_data),size)]\n",
        "  \n",
        "  \n",
        "  for batch in batches:\n",
        "    sent_str = \"\"\n",
        "    for b in batch:\n",
        "      sent_str += b + ' '\n",
        "    batch_str.append(sent_str)\n",
        "  \n",
        "  # ##### Batch division done #####\n",
        "\n",
        "  tokens = []\n",
        "  T = 512\n",
        "  token_training(processed_data)\n",
        "  tokenizer = BertTokenizer.from_pretrained('./vocab.txt')\n",
        "  for row in tqdm.tqdm(batch_str):\n",
        "    r = '[CLS]' + row + '[SEP]'\n",
        "    tokens.append(tokenizer.tokenize(r)) # tokenize the sentences\n",
        "  hidden_states = []\n",
        "\n",
        "  for token in tokens:\n",
        "    \n",
        "    padded_tokens = token+ ['[PAD]' for _ in range(T-len(token))]\n",
        "    \n",
        "\n",
        "    attn_mask=[ 1 if token != '[PAD]' else 0 for token in padded_tokens ]\n",
        "    seg_ids=[0 for _ in range(len(padded_tokens))]\n",
        "\n",
        "    row_ids = [tokenizer.convert_tokens_to_ids(word) for word in padded_tokens]\n",
        "    # print(row_ids)\n",
        "\n",
        "    # print(None in row_ids)\n",
        "    if None in row_ids:\n",
        "      print(f'The word {padded_tokens[row_ids.index(None)]} was tokenized as None')\n",
        "    row_ids = torch.tensor(row_ids).to(torch.int32)\n",
        "    \n",
        "    token_ids = torch.tensor(row_ids).unsqueeze(0)\n",
        "    # print(token_ids.size())\n",
        "    attn_mask = torch.tensor(attn_mask).unsqueeze(0)\n",
        "    seg_ids = torch.tensor(seg_ids).unsqueeze(0)\n",
        "    with torch.no_grad():\n",
        "      model.eval()\n",
        "      hidden_reps = model(input_ids=token_ids, attention_mask = attn_mask, token_type_ids = seg_ids)\n",
        "      hidden_states.append(hidden_reps[2][-1])\n",
        "  return hidden_states\n"
      ]
    },
    {
      "cell_type": "code",
      "execution_count": null,
      "metadata": {
        "id": "X0c19N99MndJ"
      },
      "outputs": [],
      "source": [
        "# p = data_preprocessing(data)"
      ]
    },
    {
      "cell_type": "code",
      "execution_count": null,
      "metadata": {
        "id": "4Y48ePRZlEk9"
      },
      "outputs": [],
      "source": [
        "# res = process(p)\n",
        "# res"
      ]
    },
    {
      "cell_type": "code",
      "execution_count": null,
      "metadata": {
        "id": "BwR8H96LbCmm"
      },
      "outputs": [],
      "source": [
        "def table_embedding(data):\n",
        "  processed_data = data_preprocessing(data)\n",
        "  pooler_op = process(processed_data)\n",
        "  pooler_sum = torch.empty((1, 512, 768))\n",
        "  for i in pooler_op:\n",
        "    pooler_sum += i\n",
        "  pooler_avg = pooler_sum / len(pooler_op)\n",
        "  return pooler_avg\n"
      ]
    },
    {
      "cell_type": "code",
      "execution_count": null,
      "metadata": {
        "colab": {
          "base_uri": "https://localhost:8080/"
        },
        "id": "lbR1df7_mJAE",
        "outputId": "2a1b3a04-372d-4af6-d20f-feb3594140af"
      },
      "outputs": [
        {
          "output_type": "stream",
          "name": "stdout",
          "text": [
            "Looking in indexes: https://pypi.org/simple, https://us-python.pkg.dev/colab-wheels/public/simple/\n",
            "Requirement already satisfied: pickle5 in /usr/local/lib/python3.8/dist-packages (0.0.11)\n"
          ]
        }
      ],
      "source": [
        "!pip3 install pickle5\n",
        "import pickle5 as pickle\n",
        "with open(\"/content/drive/MyDrive/labeled_benchmark/santosUnionBenchmark (1).pickle\", \"rb\") as fh:\n",
        "  groundtruth = pickle.load(fh)"
      ]
    },
    {
      "cell_type": "code",
      "execution_count": null,
      "metadata": {
        "colab": {
          "base_uri": "https://localhost:8080/"
        },
        "id": "SdSsNFbecg4e",
        "outputId": "454fb344-ea97-4c5e-e663-9738c660c17f"
      },
      "outputs": [
        {
          "output_type": "stream",
          "name": "stdout",
          "text": [
            "{'data_mill_a.csv': ['data_mill_a.csv', 'data_mill_b.csv', 'data_mill_0.csv', 'data_mill_1.csv', 'data_mill_2.csv', 'data_mill_3.csv', 'data_mill_4.csv', 'data_mill_5.csv', 'data_mill_6.csv', 'data_mill_7.csv', 'data_mill_8.csv', 'data_mill_9.csv', 'data_mill_10.csv', 'data_mill_11.csv'], 'data_mill_b.csv': ['data_mill_a.csv', 'data_mill_b.csv', 'data_mill_0.csv', 'data_mill_1.csv', 'data_mill_2.csv', 'data_mill_3.csv', 'data_mill_4.csv', 'data_mill_5.csv', 'data_mill_6.csv', 'data_mill_7.csv', 'data_mill_8.csv', 'data_mill_9.csv', 'data_mill_10.csv', 'data_mill_11.csv'], 'cihr_co-applicant_a.csv': ['cihr_co-applicant_a.csv', 'cihr_co-applicant_b.csv', 'cihr_co-applicant_0.csv', 'cihr_co-applicant_1.csv', 'cihr_co-applicant_2.csv', 'cihr_co-applicant_3.csv', 'cihr_co-applicant_4.csv', 'cihr_co-applicant_5.csv', 'cihr_co-applicant_6.csv', 'cihr_co-applicant_7.csv', 'cihr_co-applicant_8.csv', 'cihr_co-applicant_9.csv'], 'cihr_co-applicant_b.csv': ['cihr_co-applicant_a.csv', 'cihr_co-applicant_b.csv', 'cihr_co-applicant_0.csv', 'cihr_co-applicant_1.csv', 'cihr_co-applicant_2.csv', 'cihr_co-applicant_3.csv', 'cihr_co-applicant_4.csv', 'cihr_co-applicant_5.csv', 'cihr_co-applicant_6.csv', 'cihr_co-applicant_7.csv', 'cihr_co-applicant_8.csv', 'cihr_co-applicant_9.csv'], 'ydn_spending_data_a.csv': ['ydn_spending_data_a.csv', 'ydn_spending_data_b.csv', 'ydn_spending_data_0.csv', 'ydn_spending_data_1.csv', 'ydn_spending_data_2.csv', 'ydn_spending_data_3.csv', 'ydn_spending_data_4.csv', 'ydn_spending_data_5.csv', 'ydn_spending_data_6.csv', 'ydn_spending_data_7.csv', 'ydn_spending_data_8.csv', 'ydn_spending_data_9.csv'], 'ydn_spending_data_b.csv': ['ydn_spending_data_a.csv', 'ydn_spending_data_b.csv', 'ydn_spending_data_0.csv', 'ydn_spending_data_1.csv', 'ydn_spending_data_2.csv', 'ydn_spending_data_3.csv', 'ydn_spending_data_4.csv', 'ydn_spending_data_5.csv', 'ydn_spending_data_6.csv', 'ydn_spending_data_7.csv', 'ydn_spending_data_8.csv', 'ydn_spending_data_9.csv'], 'civic_building_locations_a.csv': ['civic_building_locations_a.csv', 'civic_building_locations_0.csv', 'civic_building_locations_1.csv', 'civic_building_locations_2.csv', 'civic_building_locations_3.csv', 'civic_building_locations_4.csv', 'civic_building_locations_5.csv', 'civic_building_locations_6.csv', 'civic_building_locations_7.csv', 'civic_building_locations_8.csv', 'civic_building_locations_9.csv', 'civic_building_locations_10.csv'], 'ipopayments_a.csv': ['ipopayments_a.csv', 'ipopayments_b.csv', 'ipopayments_0.csv', 'ipopayments_1.csv', 'ipopayments_2.csv', 'ipopayments_3.csv', 'ipopayments_4.csv', 'ipopayments_5.csv', 'ipopayments_6.csv', 'ipopayments_7.csv', 'ipopayments_8.csv', 'ipopayments_9.csv', 'ipopayments_10.csv', 'ipopayments_11.csv', 'ipopayments_12.csv'], 'ipopayments_b.csv': ['ipopayments_a.csv', 'ipopayments_b.csv', 'ipopayments_0.csv', 'ipopayments_1.csv', 'ipopayments_2.csv', 'ipopayments_3.csv', 'ipopayments_4.csv', 'ipopayments_5.csv', 'ipopayments_6.csv', 'ipopayments_7.csv', 'ipopayments_8.csv', 'ipopayments_9.csv', 'ipopayments_10.csv', 'ipopayments_11.csv', 'ipopayments_12.csv'], 'oil_and_gas_summary_production_data_1967_1999_a.csv': ['oil_and_gas_summary_production_data_1967_1999_a.csv', 'oil_and_gas_summary_production_data_1967_1999_0.csv', 'oil_and_gas_summary_production_data_1967_1999_1.csv', 'oil_and_gas_summary_production_data_1967_1999_2.csv', 'oil_and_gas_summary_production_data_1967_1999_3.csv', 'oil_and_gas_summary_production_data_1967_1999_4.csv', 'oil_and_gas_summary_production_data_1967_1999_5.csv', 'oil_and_gas_summary_production_data_1967_1999_6.csv', 'oil_and_gas_summary_production_data_1967_1999_7.csv', 'oil_and_gas_summary_production_data_1967_1999_8.csv', 'oil_and_gas_summary_production_data_1967_1999_9.csv'], 'deaths_2012_2018_a.csv': ['deaths_2012_2018_a.csv', 'deaths_2012_2018_0.csv', 'deaths_2012_2018_1.csv', 'deaths_2012_2018_2.csv', 'deaths_2012_2018_3.csv', 'deaths_2012_2018_4.csv', 'deaths_2012_2018_5.csv', 'deaths_2012_2018_6.csv', 'deaths_2012_2018_7.csv', 'deaths_2012_2018_8.csv', 'deaths_2012_2018_9.csv'], 'albums_a.csv': ['albums_a.csv', 'albums_b.csv', 'albums_0.csv', 'albums_1.csv', 'albums_2.csv', 'albums_3.csv', 'albums_4.csv', 'albums_5.csv', 'albums_6.csv', 'albums_7.csv', 'albums_8.csv', 'albums_9.csv', 'albums_10.csv', 'albums_11.csv', 'albums_12.csv', 'albums_13.csv'], 'albums_b.csv': ['albums_a.csv', 'albums_b.csv', 'albums_0.csv', 'albums_1.csv', 'albums_2.csv', 'albums_3.csv', 'albums_4.csv', 'albums_5.csv', 'albums_6.csv', 'albums_7.csv', 'albums_8.csv', 'albums_9.csv', 'albums_10.csv', 'albums_11.csv', 'albums_12.csv', 'albums_13.csv'], 'animal_tag_data_a.csv': ['animal_tag_data_a.csv', 'animal_tag_data_b.csv', 'animal_tag_data_0.csv', 'animal_tag_data_1.csv', 'animal_tag_data_2.csv', 'animal_tag_data_3.csv', 'animal_tag_data_4.csv', 'animal_tag_data_5.csv', 'animal_tag_data_6.csv', 'animal_tag_data_7.csv', 'animal_tag_data_8.csv', 'animal_tag_data_9.csv'], 'animal_tag_data_b.csv': ['animal_tag_data_a.csv', 'animal_tag_data_b.csv', 'animal_tag_data_0.csv', 'animal_tag_data_1.csv', 'animal_tag_data_2.csv', 'animal_tag_data_3.csv', 'animal_tag_data_4.csv', 'animal_tag_data_5.csv', 'animal_tag_data_6.csv', 'animal_tag_data_7.csv', 'animal_tag_data_8.csv', 'animal_tag_data_9.csv'], 'new_york_city_restaurant_inspection_results_a.csv': ['new_york_city_restaurant_inspection_results_a.csv', 'new_york_city_restaurant_inspection_results_0.csv', 'new_york_city_restaurant_inspection_results_1.csv', 'new_york_city_restaurant_inspection_results_2.csv', 'new_york_city_restaurant_inspection_results_3.csv', 'new_york_city_restaurant_inspection_results_4.csv', 'new_york_city_restaurant_inspection_results_5.csv', 'new_york_city_restaurant_inspection_results_6.csv', 'new_york_city_restaurant_inspection_results_7.csv', 'new_york_city_restaurant_inspection_results_8.csv', 'new_york_city_restaurant_inspection_results_9.csv', 'new_york_city_restaurant_inspection_results_10.csv', 'new_york_city_restaurant_inspection_results_11.csv', 'new_york_city_restaurant_inspection_results_12.csv', 'new_york_city_restaurant_inspection_results_13.csv', 'new_york_city_restaurant_inspection_results_14.csv', 'new_york_city_restaurant_inspection_results_15.csv', 'new_york_city_restaurant_inspection_results_16.csv', 'new_york_city_restaurant_inspection_results_17.csv', 'new_york_city_restaurant_inspection_results_18.csv', 'new_york_city_restaurant_inspection_results_19.csv', 'new_york_city_restaurant_inspection_results_20.csv', 'new_york_city_restaurant_inspection_results_21.csv', 'new_york_city_restaurant_inspection_results_22.csv', 'new_york_city_restaurant_inspection_results_23.csv', 'new_york_city_restaurant_inspection_results_24.csv', 'new_york_city_restaurant_inspection_results_25.csv', 'new_york_city_restaurant_inspection_results_26.csv', 'new_york_city_restaurant_inspection_results_27.csv', 'new_york_city_restaurant_inspection_results_28.csv', 'new_york_city_restaurant_inspection_results_29.csv'], 'business_rates_a.csv': ['business_rates_a.csv', 'business_rates_0.csv', 'business_rates_1.csv', 'business_rates_2.csv', 'business_rates_3.csv', 'business_rates_4.csv', 'business_rates_5.csv', 'business_rates_6.csv', 'business_rates_7.csv', 'business_rates_8.csv', 'business_rates_9.csv', 'business_rates_10.csv'], 'biodiversity_a.csv': ['biodiversity_a.csv', 'biodiversity_0.csv', 'biodiversity_1.csv', 'biodiversity_2.csv', 'biodiversity_3.csv', 'biodiversity_4.csv', 'biodiversity_5.csv', 'biodiversity_6.csv', 'biodiversity_7.csv', 'biodiversity_8.csv', 'biodiversity_9.csv'], 'contributors_parties_a.csv': ['contributors_parties_a.csv', 'contributors_parties_b.csv', 'contributors_parties_0.csv', 'contributors_parties_1.csv', 'contributors_parties_2.csv', 'contributors_parties_3.csv', 'contributors_parties_4.csv', 'contributors_parties_5.csv', 'contributors_parties_6.csv', 'contributors_parties_7.csv', 'contributors_parties_8.csv', 'contributors_parties_9.csv', 'contributors_parties_10.csv', 'contributors_parties_11.csv', 'contributors_parties_12.csv', 'contributors_parties_13.csv', 'contributors_parties_14.csv', 'contributors_parties_15.csv', 'contributors_parties_16.csv', 'contributors_parties_17.csv', 'contributors_parties_18.csv'], 'contributors_parties_b.csv': ['contributors_parties_a.csv', 'contributors_parties_b.csv', 'contributors_parties_0.csv', 'contributors_parties_1.csv', 'contributors_parties_2.csv', 'contributors_parties_3.csv', 'contributors_parties_4.csv', 'contributors_parties_5.csv', 'contributors_parties_6.csv', 'contributors_parties_7.csv', 'contributors_parties_8.csv', 'contributors_parties_9.csv', 'contributors_parties_10.csv', 'contributors_parties_11.csv', 'contributors_parties_12.csv', 'contributors_parties_13.csv', 'contributors_parties_14.csv', 'contributors_parties_15.csv', 'contributors_parties_16.csv', 'contributors_parties_17.csv', 'contributors_parties_18.csv'], 'workforce_management_information_a.csv': ['workforce_management_information_a.csv', 'workforce_management_information_b.csv', 'workforce_management_information_0.csv', 'workforce_management_information_1.csv', 'workforce_management_information_2.csv', 'workforce_management_information_3.csv', 'workforce_management_information_4.csv', 'workforce_management_information_5.csv', 'workforce_management_information_6.csv', 'workforce_management_information_7.csv', 'workforce_management_information_8.csv', 'workforce_management_information_9.csv', 'workforce_management_information_10.csv', 'workforce_management_information_11.csv', 'workforce_management_information_12.csv', 'workforce_management_information_13.csv', 'workforce_management_information_14.csv', 'workforce_management_information_15.csv'], 'workforce_management_information_b.csv': ['workforce_management_information_a.csv', 'workforce_management_information_b.csv', 'workforce_management_information_0.csv', 'workforce_management_information_1.csv', 'workforce_management_information_2.csv', 'workforce_management_information_3.csv', 'workforce_management_information_4.csv', 'workforce_management_information_5.csv', 'workforce_management_information_6.csv', 'workforce_management_information_7.csv', 'workforce_management_information_8.csv', 'workforce_management_information_9.csv', 'workforce_management_information_10.csv', 'workforce_management_information_11.csv', 'workforce_management_information_12.csv', 'workforce_management_information_13.csv', 'workforce_management_information_14.csv', 'workforce_management_information_15.csv'], 'wholesale_markets_a.csv': ['wholesale_markets_a.csv', 'wholesale_markets_0.csv', 'wholesale_markets_1.csv', 'wholesale_markets_2.csv', 'wholesale_markets_3.csv', 'wholesale_markets_4.csv', 'wholesale_markets_5.csv', 'wholesale_markets_6.csv', 'wholesale_markets_7.csv', 'wholesale_markets_8.csv', 'wholesale_markets_9.csv'], 'senior_officials_expenses_a.csv': ['senior_officials_expenses_a.csv', 'senior_officials_expenses_0.csv', 'senior_officials_expenses_1.csv', 'senior_officials_expenses_2.csv', 'senior_officials_expenses_3.csv', 'senior_officials_expenses_4.csv', 'senior_officials_expenses_5.csv', 'senior_officials_expenses_6.csv', 'senior_officials_expenses_7.csv', 'senior_officials_expenses_8.csv', 'senior_officials_expenses_9.csv'], 'monthly_data_feed_a.csv': ['monthly_data_feed_a.csv', 'monthly_data_feed_b.csv', 'monthly_data_feed_0.csv', 'monthly_data_feed_1.csv', 'monthly_data_feed_2.csv', 'monthly_data_feed_3.csv', 'monthly_data_feed_4.csv', 'monthly_data_feed_5.csv', 'monthly_data_feed_6.csv', 'monthly_data_feed_7.csv', 'monthly_data_feed_8.csv', 'monthly_data_feed_9.csv', 'monthly_data_feed_10.csv'], 'monthly_data_feed_b.csv': ['monthly_data_feed_a.csv', 'monthly_data_feed_b.csv', 'monthly_data_feed_0.csv', 'monthly_data_feed_1.csv', 'monthly_data_feed_2.csv', 'monthly_data_feed_3.csv', 'monthly_data_feed_4.csv', 'monthly_data_feed_5.csv', 'monthly_data_feed_6.csv', 'monthly_data_feed_7.csv', 'monthly_data_feed_8.csv', 'monthly_data_feed_9.csv', 'monthly_data_feed_10.csv'], 'tuition_assistance_program_tap_recipients_a.csv': ['tuition_assistance_program_tap_recipients_a.csv', 'tuition_assistance_program_tap_recipients_0.csv', 'tuition_assistance_program_tap_recipients_1.csv', 'tuition_assistance_program_tap_recipients_2.csv', 'tuition_assistance_program_tap_recipients_3.csv', 'tuition_assistance_program_tap_recipients_4.csv', 'tuition_assistance_program_tap_recipients_5.csv', 'tuition_assistance_program_tap_recipients_6.csv', 'tuition_assistance_program_tap_recipients_7.csv', 'tuition_assistance_program_tap_recipients_8.csv', 'tuition_assistance_program_tap_recipients_9.csv'], 'time_spent_watching_vcr_movies_a.csv': ['time_spent_watching_vcr_movies_a.csv', 'time_spent_watching_vcr_movies_0.csv', 'time_spent_watching_vcr_movies_1.csv', 'time_spent_watching_vcr_movies_2.csv', 'time_spent_watching_vcr_movies_3.csv', 'time_spent_watching_vcr_movies_4.csv', 'time_spent_watching_vcr_movies_5.csv', 'time_spent_watching_vcr_movies_6.csv', 'time_spent_watching_vcr_movies_7.csv', 'time_spent_watching_vcr_movies_8.csv', 'time_spent_watching_vcr_movies_9.csv'], 'complaint_by_practice_a.csv': ['complaint_by_practice_a.csv', 'complaint_by_practice_b.csv', 'complaint_by_practice_0.csv', 'complaint_by_practice_1.csv', 'complaint_by_practice_2.csv', 'complaint_by_practice_3.csv', 'complaint_by_practice_4.csv', 'complaint_by_practice_5.csv', 'complaint_by_practice_6.csv', 'complaint_by_practice_7.csv', 'complaint_by_practice_8.csv', 'complaint_by_practice_9.csv', 'complaint_by_practice_10.csv'], 'complaint_by_practice_b.csv': ['complaint_by_practice_a.csv', 'complaint_by_practice_b.csv', 'complaint_by_practice_0.csv', 'complaint_by_practice_1.csv', 'complaint_by_practice_2.csv', 'complaint_by_practice_3.csv', 'complaint_by_practice_4.csv', 'complaint_by_practice_5.csv', 'complaint_by_practice_6.csv', 'complaint_by_practice_7.csv', 'complaint_by_practice_8.csv', 'complaint_by_practice_9.csv', 'complaint_by_practice_10.csv'], '311_calls_historic_data_a.csv': ['311_calls_historic_data_a.csv', '311_calls_historic_data_0.csv', '311_calls_historic_data_1.csv', '311_calls_historic_data_2.csv', '311_calls_historic_data_3.csv', '311_calls_historic_data_4.csv', '311_calls_historic_data_5.csv', '311_calls_historic_data_6.csv', '311_calls_historic_data_7.csv', '311_calls_historic_data_8.csv', '311_calls_historic_data_9.csv'], 'abandoned_wells_a.csv': ['abandoned_wells_a.csv', 'abandoned_wells_0.csv', 'abandoned_wells_1.csv', 'abandoned_wells_2.csv', 'abandoned_wells_3.csv', 'abandoned_wells_4.csv', 'abandoned_wells_5.csv', 'abandoned_wells_6.csv', 'abandoned_wells_7.csv', 'abandoned_wells_8.csv', 'abandoned_wells_9.csv'], 'immigration_records_a.csv': ['immigration_records_a.csv', 'immigration_records_0.csv', 'immigration_records_1.csv', 'immigration_records_2.csv', 'immigration_records_3.csv', 'immigration_records_4.csv', 'immigration_records_5.csv', 'immigration_records_6.csv', 'immigration_records_7.csv', 'immigration_records_8.csv', 'immigration_records_9.csv', 'immigration_records_10.csv', 'immigration_records_11.csv', 'immigration_records_12.csv', 'immigration_records_13.csv', 'immigration_records_14.csv'], 'film_locations_in_san_francisco_a.csv': ['film_locations_in_san_francisco_a.csv', 'film_locations_in_san_francisco_0.csv', 'film_locations_in_san_francisco_1.csv', 'film_locations_in_san_francisco_2.csv', 'film_locations_in_san_francisco_3.csv', 'film_locations_in_san_francisco_4.csv', 'film_locations_in_san_francisco_5.csv', 'film_locations_in_san_francisco_6.csv', 'film_locations_in_san_francisco_7.csv', 'film_locations_in_san_francisco_8.csv', 'film_locations_in_san_francisco_9.csv', 'film_locations_in_san_francisco_10.csv', 'film_locations_in_san_francisco_11.csv'], 'psyckes_antipsychotic_polypharmacy_quality_indicators_beginning_2012_a.csv': ['psyckes_antipsychotic_polypharmacy_quality_indicators_beginning_2012_a.csv', 'psyckes_antipsychotic_polypharmacy_quality_indicators_beginning_2012_0.csv', 'psyckes_antipsychotic_polypharmacy_quality_indicators_beginning_2012_1.csv', 'psyckes_antipsychotic_polypharmacy_quality_indicators_beginning_2012_2.csv', 'psyckes_antipsychotic_polypharmacy_quality_indicators_beginning_2012_3.csv', 'psyckes_antipsychotic_polypharmacy_quality_indicators_beginning_2012_4.csv', 'psyckes_antipsychotic_polypharmacy_quality_indicators_beginning_2012_5.csv', 'psyckes_antipsychotic_polypharmacy_quality_indicators_beginning_2012_6.csv', 'psyckes_antipsychotic_polypharmacy_quality_indicators_beginning_2012_7.csv', 'psyckes_antipsychotic_polypharmacy_quality_indicators_beginning_2012_8.csv', 'psyckes_antipsychotic_polypharmacy_quality_indicators_beginning_2012_9.csv'], 'report_card_discipline_for_2015_16_a.csv': ['report_card_discipline_for_2015_16_a.csv', 'report_card_discipline_for_2015_16_0.csv', 'report_card_discipline_for_2015_16_1.csv', 'report_card_discipline_for_2015_16_2.csv', 'report_card_discipline_for_2015_16_3.csv', 'report_card_discipline_for_2015_16_4.csv', 'report_card_discipline_for_2015_16_5.csv', 'report_card_discipline_for_2015_16_6.csv', 'report_card_discipline_for_2015_16_7.csv', 'report_card_discipline_for_2015_16_8.csv', 'report_card_discipline_for_2015_16_9.csv'], 'job_pay_scales_a.csv': ['job_pay_scales_a.csv', 'job_pay_scales_0.csv', 'job_pay_scales_1.csv', 'job_pay_scales_2.csv', 'job_pay_scales_3.csv', 'job_pay_scales_4.csv', 'job_pay_scales_5.csv', 'job_pay_scales_6.csv', 'job_pay_scales_7.csv', 'job_pay_scales_8.csv', 'job_pay_scales_9.csv', 'job_pay_scales_10.csv', 'job_pay_scales_11.csv', 'job_pay_scales_12.csv', 'job_pay_scales_13.csv'], 'purchasing_card_a.csv': ['purchasing_card_a.csv', 'purchasing_card_0.csv', 'purchasing_card_1.csv', 'purchasing_card_2.csv', 'purchasing_card_3.csv', 'purchasing_card_4.csv', 'purchasing_card_5.csv', 'purchasing_card_6.csv', 'purchasing_card_7.csv', 'purchasing_card_8.csv', 'purchasing_card_9.csv', 'purchasing_card_10.csv', 'purchasing_card_11.csv'], 'minister_meetings_a.csv': ['minister_meetings_a.csv', 'minister_meetings_0.csv', 'minister_meetings_1.csv', 'minister_meetings_2.csv', 'minister_meetings_3.csv', 'minister_meetings_4.csv', 'minister_meetings_5.csv', 'minister_meetings_6.csv', 'minister_meetings_7.csv', 'minister_meetings_8.csv', 'minister_meetings_9.csv'], 'lane_description_a.csv': ['lane_description_a.csv', 'lane_description_b.csv', 'lane_description_0.csv', 'lane_description_1.csv', 'lane_description_2.csv', 'lane_description_3.csv', 'lane_description_4.csv', 'lane_description_5.csv', 'lane_description_6.csv', 'lane_description_7.csv', 'lane_description_8.csv', 'lane_description_9.csv', 'lane_description_10.csv', 'lane_description_11.csv', 'lane_description_12.csv', 'lane_description_13.csv'], 'lane_description_b.csv': ['lane_description_a.csv', 'lane_description_b.csv', 'lane_description_0.csv', 'lane_description_1.csv', 'lane_description_2.csv', 'lane_description_3.csv', 'lane_description_4.csv', 'lane_description_5.csv', 'lane_description_6.csv', 'lane_description_7.csv', 'lane_description_8.csv', 'lane_description_9.csv', 'lane_description_10.csv', 'lane_description_11.csv', 'lane_description_12.csv', 'lane_description_13.csv'], 'mines_a.csv': ['mines_a.csv', 'mines_b.csv', 'mines_0.csv', 'mines_1.csv', 'mines_2.csv', 'mines_3.csv', 'mines_4.csv', 'mines_5.csv', 'mines_6.csv', 'mines_7.csv', 'mines_8.csv', 'mines_9.csv', 'mines_10.csv', 'mines_11.csv'], 'mines_b.csv': ['mines_a.csv', 'mines_b.csv', 'mines_0.csv', 'mines_1.csv', 'mines_2.csv', 'mines_3.csv', 'mines_4.csv', 'mines_5.csv', 'mines_6.csv', 'mines_7.csv', 'mines_8.csv', 'mines_9.csv', 'mines_10.csv', 'mines_11.csv'], 'prescribing_a.csv': ['prescribing_a.csv', 'prescribing_b.csv', 'prescribing_0.csv', 'prescribing_1.csv', 'prescribing_2.csv', 'prescribing_3.csv', 'prescribing_4.csv', 'prescribing_5.csv', 'prescribing_6.csv', 'prescribing_7.csv', 'prescribing_8.csv', 'prescribing_9.csv', 'prescribing_10.csv', 'prescribing_11.csv', 'prescribing_12.csv'], 'prescribing_b.csv': ['prescribing_a.csv', 'prescribing_b.csv', 'prescribing_0.csv', 'prescribing_1.csv', 'prescribing_2.csv', 'prescribing_3.csv', 'prescribing_4.csv', 'prescribing_5.csv', 'prescribing_6.csv', 'prescribing_7.csv', 'prescribing_8.csv', 'prescribing_9.csv', 'prescribing_10.csv', 'prescribing_11.csv', 'prescribing_12.csv'], 'practice_reference_a.csv': ['practice_reference_a.csv', 'practice_reference_b.csv', 'practice_reference_0.csv', 'practice_reference_1.csv', 'practice_reference_2.csv', 'practice_reference_3.csv', 'practice_reference_4.csv', 'practice_reference_5.csv', 'practice_reference_6.csv', 'practice_reference_7.csv', 'practice_reference_8.csv', 'practice_reference_9.csv', 'practice_reference_10.csv', 'practice_reference_11.csv', 'practice_reference_12.csv'], 'practice_reference_b.csv': ['practice_reference_a.csv', 'practice_reference_b.csv', 'practice_reference_0.csv', 'practice_reference_1.csv', 'practice_reference_2.csv', 'practice_reference_3.csv', 'practice_reference_4.csv', 'practice_reference_5.csv', 'practice_reference_6.csv', 'practice_reference_7.csv', 'practice_reference_8.csv', 'practice_reference_9.csv', 'practice_reference_10.csv', 'practice_reference_11.csv', 'practice_reference_12.csv'], 'stockport_contracts_a.csv': ['stockport_contracts_a.csv', 'stockport_contracts_b.csv', 'stockport_contracts_0.csv', 'stockport_contracts_1.csv', 'stockport_contracts_2.csv', 'stockport_contracts_3.csv', 'stockport_contracts_4.csv', 'stockport_contracts_5.csv', 'stockport_contracts_6.csv', 'stockport_contracts_7.csv', 'stockport_contracts_8.csv', 'stockport_contracts_9.csv', 'stockport_contracts_10.csv', 'stockport_contracts_11.csv'], 'stockport_contracts_b.csv': ['stockport_contracts_a.csv', 'stockport_contracts_b.csv', 'stockport_contracts_0.csv', 'stockport_contracts_1.csv', 'stockport_contracts_2.csv', 'stockport_contracts_3.csv', 'stockport_contracts_4.csv', 'stockport_contracts_5.csv', 'stockport_contracts_6.csv', 'stockport_contracts_7.csv', 'stockport_contracts_8.csv', 'stockport_contracts_9.csv', 'stockport_contracts_10.csv', 'stockport_contracts_11.csv'], 'cdc_nutrition_physical_activity_and_obesity_legislation_a.csv': ['cdc_nutrition_physical_activity_and_obesity_legislation_a.csv', 'cdc_nutrition_physical_activity_and_obesity_legislation_0.csv', 'cdc_nutrition_physical_activity_and_obesity_legislation_1.csv', 'cdc_nutrition_physical_activity_and_obesity_legislation_2.csv', 'cdc_nutrition_physical_activity_and_obesity_legislation_3.csv', 'cdc_nutrition_physical_activity_and_obesity_legislation_4.csv', 'cdc_nutrition_physical_activity_and_obesity_legislation_5.csv', 'cdc_nutrition_physical_activity_and_obesity_legislation_6.csv', 'cdc_nutrition_physical_activity_and_obesity_legislation_7.csv', 'cdc_nutrition_physical_activity_and_obesity_legislation_8.csv', 'cdc_nutrition_physical_activity_and_obesity_legislation_9.csv']}\n"
          ]
        }
      ],
      "source": [
        "print(groundtruth)"
      ]
    },
    {
      "cell_type": "code",
      "execution_count": null,
      "metadata": {
        "colab": {
          "base_uri": "https://localhost:8080/"
        },
        "id": "r1cJ5CE3AAbI",
        "outputId": "2dc2197a-ac6e-4e6c-903a-3868d8e4fb82"
      },
      "outputs": [
        {
          "output_type": "stream",
          "name": "stdout",
          "text": [
            "{('cdc_nutrition_physical_activity_and_obesity_legislation_a.csv', 'cdc_nutrition_physical_activity_and_obesity_legislation_9.csv'): '1', ('cdc_nutrition_physical_activity_and_obesity_legislation_a.csv', 'cdc_nutrition_physical_activity_and_obesity_legislation_8.csv'): '1', ('cdc_nutrition_physical_activity_and_obesity_legislation_a.csv', 'cdc_nutrition_physical_activity_and_obesity_legislation_7.csv'): '1', ('cdc_nutrition_physical_activity_and_obesity_legislation_a.csv', 'cdc_nutrition_physical_activity_and_obesity_legislation_6.csv'): '1', ('cdc_nutrition_physical_activity_and_obesity_legislation_a.csv', 'cdc_nutrition_physical_activity_and_obesity_legislation_5.csv'): '1', ('cdc_nutrition_physical_activity_and_obesity_legislation_a.csv', 'cdc_nutrition_physical_activity_and_obesity_legislation_4.csv'): '1', ('cdc_nutrition_physical_activity_and_obesity_legislation_a.csv', 'cdc_nutrition_physical_activity_and_obesity_legislation_3.csv'): '1', ('cdc_nutrition_physical_activity_and_obesity_legislation_a.csv', 'cdc_nutrition_physical_activity_and_obesity_legislation_2.csv'): '1', ('cdc_nutrition_physical_activity_and_obesity_legislation_a.csv', 'cdc_nutrition_physical_activity_and_obesity_legislation_1.csv'): '1', ('cdc_nutrition_physical_activity_and_obesity_legislation_a.csv', 'cdc_nutrition_physical_activity_and_obesity_legislation_0.csv'): '1', ('cdc_nutrition_physical_activity_and_obesity_legislation_a.csv', 'cdc_nutrition_physical_activity_and_obesity_legislation_a.csv'): '1', ('stockport_contracts_b.csv', 'stockport_contracts_11.csv'): '1', ('stockport_contracts_b.csv', 'stockport_contracts_10.csv'): '1', ('stockport_contracts_b.csv', 'stockport_contracts_9.csv'): '1', ('stockport_contracts_b.csv', 'stockport_contracts_8.csv'): '1', ('stockport_contracts_b.csv', 'stockport_contracts_7.csv'): '1', ('stockport_contracts_b.csv', 'stockport_contracts_6.csv'): '1', ('stockport_contracts_b.csv', 'stockport_contracts_5.csv'): '1', ('stockport_contracts_b.csv', 'stockport_contracts_4.csv'): '1', ('stockport_contracts_b.csv', 'stockport_contracts_3.csv'): '1', ('stockport_contracts_b.csv', 'stockport_contracts_2.csv'): '1', ('stockport_contracts_b.csv', 'stockport_contracts_1.csv'): '1', ('stockport_contracts_b.csv', 'stockport_contracts_0.csv'): '1', ('stockport_contracts_b.csv', 'stockport_contracts_b.csv'): '1', ('stockport_contracts_b.csv', 'stockport_contracts_a.csv'): '1', ('stockport_contracts_a.csv', 'stockport_contracts_11.csv'): '1', ('stockport_contracts_a.csv', 'stockport_contracts_10.csv'): '1', ('stockport_contracts_a.csv', 'stockport_contracts_9.csv'): '1', ('stockport_contracts_a.csv', 'stockport_contracts_8.csv'): '1', ('stockport_contracts_a.csv', 'stockport_contracts_7.csv'): '1', ('stockport_contracts_a.csv', 'stockport_contracts_6.csv'): '1', ('stockport_contracts_a.csv', 'stockport_contracts_5.csv'): '1', ('stockport_contracts_a.csv', 'stockport_contracts_4.csv'): '1', ('stockport_contracts_a.csv', 'stockport_contracts_3.csv'): '1', ('stockport_contracts_a.csv', 'stockport_contracts_2.csv'): '1', ('stockport_contracts_a.csv', 'stockport_contracts_1.csv'): '1', ('stockport_contracts_a.csv', 'stockport_contracts_0.csv'): '1', ('stockport_contracts_a.csv', 'stockport_contracts_b.csv'): '1', ('stockport_contracts_a.csv', 'stockport_contracts_a.csv'): '1', ('practice_reference_b.csv', 'practice_reference_12.csv'): '1', ('practice_reference_b.csv', 'practice_reference_11.csv'): '1', ('practice_reference_b.csv', 'practice_reference_10.csv'): '1', ('practice_reference_b.csv', 'practice_reference_9.csv'): '1', ('practice_reference_b.csv', 'practice_reference_8.csv'): '1', ('practice_reference_b.csv', 'practice_reference_7.csv'): '1', ('practice_reference_b.csv', 'practice_reference_6.csv'): '1', ('practice_reference_b.csv', 'practice_reference_5.csv'): '1', ('practice_reference_b.csv', 'practice_reference_4.csv'): '1', ('practice_reference_b.csv', 'practice_reference_3.csv'): '1', ('practice_reference_b.csv', 'practice_reference_2.csv'): '1', ('practice_reference_b.csv', 'practice_reference_1.csv'): '1', ('practice_reference_b.csv', 'practice_reference_0.csv'): '1', ('practice_reference_b.csv', 'practice_reference_b.csv'): '1', ('practice_reference_b.csv', 'practice_reference_a.csv'): '1', ('practice_reference_a.csv', 'practice_reference_12.csv'): '1', ('practice_reference_a.csv', 'practice_reference_11.csv'): '1', ('practice_reference_a.csv', 'practice_reference_10.csv'): '1', ('practice_reference_a.csv', 'practice_reference_9.csv'): '1', ('practice_reference_a.csv', 'practice_reference_8.csv'): '1', ('practice_reference_a.csv', 'practice_reference_7.csv'): '1', ('practice_reference_a.csv', 'practice_reference_6.csv'): '1', ('practice_reference_a.csv', 'practice_reference_5.csv'): '1', ('practice_reference_a.csv', 'practice_reference_4.csv'): '1', ('practice_reference_a.csv', 'practice_reference_3.csv'): '1', ('practice_reference_a.csv', 'practice_reference_2.csv'): '1', ('practice_reference_a.csv', 'practice_reference_1.csv'): '1', ('practice_reference_a.csv', 'practice_reference_0.csv'): '1', ('practice_reference_a.csv', 'practice_reference_b.csv'): '1', ('practice_reference_a.csv', 'practice_reference_a.csv'): '1', ('prescribing_b.csv', 'prescribing_12.csv'): '1', ('prescribing_b.csv', 'prescribing_11.csv'): '1', ('prescribing_b.csv', 'prescribing_10.csv'): '1', ('prescribing_b.csv', 'prescribing_9.csv'): '1', ('prescribing_b.csv', 'prescribing_8.csv'): '1', ('prescribing_b.csv', 'prescribing_7.csv'): '1', ('prescribing_b.csv', 'prescribing_6.csv'): '1', ('prescribing_b.csv', 'prescribing_5.csv'): '1', ('prescribing_b.csv', 'prescribing_4.csv'): '1', ('prescribing_b.csv', 'prescribing_3.csv'): '1', ('prescribing_b.csv', 'prescribing_2.csv'): '1', ('prescribing_b.csv', 'prescribing_1.csv'): '1', ('prescribing_b.csv', 'prescribing_0.csv'): '1', ('prescribing_b.csv', 'prescribing_b.csv'): '1', ('prescribing_b.csv', 'prescribing_a.csv'): '1', ('prescribing_a.csv', 'prescribing_12.csv'): '1', ('prescribing_a.csv', 'prescribing_11.csv'): '1', ('prescribing_a.csv', 'prescribing_10.csv'): '1', ('prescribing_a.csv', 'prescribing_9.csv'): '1', ('prescribing_a.csv', 'prescribing_8.csv'): '1', ('prescribing_a.csv', 'prescribing_7.csv'): '1', ('prescribing_a.csv', 'prescribing_6.csv'): '1', ('prescribing_a.csv', 'prescribing_5.csv'): '1', ('prescribing_a.csv', 'prescribing_4.csv'): '1', ('prescribing_a.csv', 'prescribing_3.csv'): '1', ('prescribing_a.csv', 'prescribing_2.csv'): '1', ('prescribing_a.csv', 'prescribing_1.csv'): '1', ('prescribing_a.csv', 'prescribing_0.csv'): '1', ('prescribing_a.csv', 'prescribing_b.csv'): '1', ('prescribing_a.csv', 'prescribing_a.csv'): '1', ('mines_b.csv', 'mines_11.csv'): '1', ('mines_b.csv', 'mines_10.csv'): '1', ('mines_b.csv', 'mines_9.csv'): '1', ('mines_b.csv', 'mines_8.csv'): '1', ('mines_b.csv', 'mines_7.csv'): '1', ('mines_b.csv', 'mines_6.csv'): '1', ('mines_b.csv', 'mines_5.csv'): '1', ('mines_b.csv', 'mines_4.csv'): '1', ('mines_b.csv', 'mines_3.csv'): '1', ('mines_b.csv', 'mines_2.csv'): '1', ('mines_b.csv', 'mines_1.csv'): '1', ('mines_b.csv', 'mines_0.csv'): '1', ('mines_b.csv', 'mines_b.csv'): '1', ('mines_b.csv', 'mines_a.csv'): '1', ('mines_a.csv', 'mines_11.csv'): '1', ('mines_a.csv', 'mines_10.csv'): '1', ('mines_a.csv', 'mines_9.csv'): '1', ('mines_a.csv', 'mines_8.csv'): '1', ('mines_a.csv', 'mines_7.csv'): '1', ('mines_a.csv', 'mines_6.csv'): '1', ('mines_a.csv', 'mines_5.csv'): '1', ('mines_a.csv', 'mines_4.csv'): '1', ('mines_a.csv', 'mines_3.csv'): '1', ('mines_a.csv', 'mines_2.csv'): '1', ('mines_a.csv', 'mines_1.csv'): '1', ('mines_a.csv', 'mines_0.csv'): '1', ('mines_a.csv', 'mines_b.csv'): '1', ('mines_a.csv', 'mines_a.csv'): '1', ('lane_description_b.csv', 'lane_description_13.csv'): '1', ('lane_description_b.csv', 'lane_description_12.csv'): '1', ('lane_description_b.csv', 'lane_description_11.csv'): '1', ('lane_description_b.csv', 'lane_description_10.csv'): '1', ('lane_description_b.csv', 'lane_description_9.csv'): '1', ('lane_description_b.csv', 'lane_description_8.csv'): '1', ('lane_description_b.csv', 'lane_description_7.csv'): '1', ('lane_description_b.csv', 'lane_description_6.csv'): '1', ('lane_description_b.csv', 'lane_description_5.csv'): '1', ('lane_description_b.csv', 'lane_description_4.csv'): '1', ('lane_description_b.csv', 'lane_description_3.csv'): '1', ('lane_description_b.csv', 'lane_description_2.csv'): '1', ('lane_description_b.csv', 'lane_description_1.csv'): '1', ('lane_description_b.csv', 'lane_description_0.csv'): '1', ('lane_description_b.csv', 'lane_description_b.csv'): '1', ('lane_description_b.csv', 'lane_description_a.csv'): '1', ('lane_description_a.csv', 'lane_description_13.csv'): '1', ('lane_description_a.csv', 'lane_description_12.csv'): '1', ('lane_description_a.csv', 'lane_description_11.csv'): '1', ('lane_description_a.csv', 'lane_description_10.csv'): '1', ('lane_description_a.csv', 'lane_description_9.csv'): '1', ('lane_description_a.csv', 'lane_description_8.csv'): '1', ('lane_description_a.csv', 'lane_description_7.csv'): '1', ('lane_description_a.csv', 'lane_description_6.csv'): '1', ('lane_description_a.csv', 'lane_description_5.csv'): '1', ('lane_description_a.csv', 'lane_description_4.csv'): '1', ('lane_description_a.csv', 'lane_description_3.csv'): '1', ('lane_description_a.csv', 'lane_description_2.csv'): '1', ('lane_description_a.csv', 'lane_description_1.csv'): '1', ('lane_description_a.csv', 'lane_description_0.csv'): '1', ('lane_description_a.csv', 'lane_description_b.csv'): '1', ('lane_description_a.csv', 'lane_description_a.csv'): '1', ('minister_meetings_a.csv', 'minister_meetings_9.csv'): '1', ('minister_meetings_a.csv', 'minister_meetings_8.csv'): '1', ('minister_meetings_a.csv', 'minister_meetings_7.csv'): '1', ('minister_meetings_a.csv', 'minister_meetings_6.csv'): '1', ('minister_meetings_a.csv', 'minister_meetings_5.csv'): '1', ('minister_meetings_a.csv', 'minister_meetings_4.csv'): '1', ('minister_meetings_a.csv', 'minister_meetings_3.csv'): '1', ('minister_meetings_a.csv', 'minister_meetings_2.csv'): '1', ('minister_meetings_a.csv', 'minister_meetings_1.csv'): '1', ('minister_meetings_a.csv', 'minister_meetings_0.csv'): '1', ('minister_meetings_a.csv', 'minister_meetings_a.csv'): '1', ('purchasing_card_a.csv', 'purchasing_card_11.csv'): '1', ('purchasing_card_a.csv', 'purchasing_card_10.csv'): '1', ('purchasing_card_a.csv', 'purchasing_card_9.csv'): '1', ('purchasing_card_a.csv', 'purchasing_card_8.csv'): '1', ('purchasing_card_a.csv', 'purchasing_card_7.csv'): '1', ('purchasing_card_a.csv', 'purchasing_card_6.csv'): '1', ('purchasing_card_a.csv', 'purchasing_card_5.csv'): '1', ('purchasing_card_a.csv', 'purchasing_card_4.csv'): '1', ('purchasing_card_a.csv', 'purchasing_card_3.csv'): '1', ('purchasing_card_a.csv', 'purchasing_card_2.csv'): '1', ('purchasing_card_a.csv', 'purchasing_card_1.csv'): '1', ('purchasing_card_a.csv', 'purchasing_card_0.csv'): '1', ('purchasing_card_a.csv', 'purchasing_card_a.csv'): '1', ('job_pay_scales_a.csv', 'job_pay_scales_13.csv'): '1', ('job_pay_scales_a.csv', 'job_pay_scales_12.csv'): '1', ('job_pay_scales_a.csv', 'job_pay_scales_11.csv'): '1', ('job_pay_scales_a.csv', 'job_pay_scales_10.csv'): '1', ('job_pay_scales_a.csv', 'job_pay_scales_9.csv'): '1', ('job_pay_scales_a.csv', 'job_pay_scales_8.csv'): '1', ('job_pay_scales_a.csv', 'job_pay_scales_7.csv'): '1', ('job_pay_scales_a.csv', 'job_pay_scales_6.csv'): '1', ('job_pay_scales_a.csv', 'job_pay_scales_5.csv'): '1', ('job_pay_scales_a.csv', 'job_pay_scales_4.csv'): '1', ('job_pay_scales_a.csv', 'job_pay_scales_3.csv'): '1', ('job_pay_scales_a.csv', 'job_pay_scales_2.csv'): '1', ('job_pay_scales_a.csv', 'job_pay_scales_1.csv'): '1', ('job_pay_scales_a.csv', 'job_pay_scales_0.csv'): '1', ('job_pay_scales_a.csv', 'job_pay_scales_a.csv'): '1', ('report_card_discipline_for_2015_16_a.csv', 'report_card_discipline_for_2015_16_9.csv'): '1', ('report_card_discipline_for_2015_16_a.csv', 'report_card_discipline_for_2015_16_8.csv'): '1', ('report_card_discipline_for_2015_16_a.csv', 'report_card_discipline_for_2015_16_7.csv'): '1', ('report_card_discipline_for_2015_16_a.csv', 'report_card_discipline_for_2015_16_6.csv'): '1', ('report_card_discipline_for_2015_16_a.csv', 'report_card_discipline_for_2015_16_5.csv'): '1', ('report_card_discipline_for_2015_16_a.csv', 'report_card_discipline_for_2015_16_4.csv'): '1', ('report_card_discipline_for_2015_16_a.csv', 'report_card_discipline_for_2015_16_3.csv'): '1', ('report_card_discipline_for_2015_16_a.csv', 'report_card_discipline_for_2015_16_2.csv'): '1', ('report_card_discipline_for_2015_16_a.csv', 'report_card_discipline_for_2015_16_1.csv'): '1', ('report_card_discipline_for_2015_16_a.csv', 'report_card_discipline_for_2015_16_0.csv'): '1', ('report_card_discipline_for_2015_16_a.csv', 'report_card_discipline_for_2015_16_a.csv'): '1', ('psyckes_antipsychotic_polypharmacy_quality_indicators_beginning_2012_a.csv', 'psyckes_antipsychotic_polypharmacy_quality_indicators_beginning_2012_9.csv'): '1', ('psyckes_antipsychotic_polypharmacy_quality_indicators_beginning_2012_a.csv', 'psyckes_antipsychotic_polypharmacy_quality_indicators_beginning_2012_8.csv'): '1', ('psyckes_antipsychotic_polypharmacy_quality_indicators_beginning_2012_a.csv', 'psyckes_antipsychotic_polypharmacy_quality_indicators_beginning_2012_7.csv'): '1', ('psyckes_antipsychotic_polypharmacy_quality_indicators_beginning_2012_a.csv', 'psyckes_antipsychotic_polypharmacy_quality_indicators_beginning_2012_6.csv'): '1', ('psyckes_antipsychotic_polypharmacy_quality_indicators_beginning_2012_a.csv', 'psyckes_antipsychotic_polypharmacy_quality_indicators_beginning_2012_5.csv'): '1', ('psyckes_antipsychotic_polypharmacy_quality_indicators_beginning_2012_a.csv', 'psyckes_antipsychotic_polypharmacy_quality_indicators_beginning_2012_4.csv'): '1', ('psyckes_antipsychotic_polypharmacy_quality_indicators_beginning_2012_a.csv', 'psyckes_antipsychotic_polypharmacy_quality_indicators_beginning_2012_3.csv'): '1', ('psyckes_antipsychotic_polypharmacy_quality_indicators_beginning_2012_a.csv', 'psyckes_antipsychotic_polypharmacy_quality_indicators_beginning_2012_2.csv'): '1', ('psyckes_antipsychotic_polypharmacy_quality_indicators_beginning_2012_a.csv', 'psyckes_antipsychotic_polypharmacy_quality_indicators_beginning_2012_1.csv'): '1', ('psyckes_antipsychotic_polypharmacy_quality_indicators_beginning_2012_a.csv', 'psyckes_antipsychotic_polypharmacy_quality_indicators_beginning_2012_0.csv'): '1', ('psyckes_antipsychotic_polypharmacy_quality_indicators_beginning_2012_a.csv', 'psyckes_antipsychotic_polypharmacy_quality_indicators_beginning_2012_a.csv'): '1', ('film_locations_in_san_francisco_a.csv', 'film_locations_in_san_francisco_11.csv'): '1', ('film_locations_in_san_francisco_a.csv', 'film_locations_in_san_francisco_10.csv'): '1', ('film_locations_in_san_francisco_a.csv', 'film_locations_in_san_francisco_9.csv'): '1', ('film_locations_in_san_francisco_a.csv', 'film_locations_in_san_francisco_8.csv'): '1', ('film_locations_in_san_francisco_a.csv', 'film_locations_in_san_francisco_7.csv'): '1', ('film_locations_in_san_francisco_a.csv', 'film_locations_in_san_francisco_6.csv'): '1', ('film_locations_in_san_francisco_a.csv', 'film_locations_in_san_francisco_5.csv'): '1', ('film_locations_in_san_francisco_a.csv', 'film_locations_in_san_francisco_4.csv'): '1', ('film_locations_in_san_francisco_a.csv', 'film_locations_in_san_francisco_3.csv'): '1', ('film_locations_in_san_francisco_a.csv', 'film_locations_in_san_francisco_2.csv'): '1', ('film_locations_in_san_francisco_a.csv', 'film_locations_in_san_francisco_1.csv'): '1', ('film_locations_in_san_francisco_a.csv', 'film_locations_in_san_francisco_0.csv'): '1', ('film_locations_in_san_francisco_a.csv', 'film_locations_in_san_francisco_a.csv'): '1', ('immigration_records_a.csv', 'immigration_records_14.csv'): '1', ('immigration_records_a.csv', 'immigration_records_13.csv'): '1', ('immigration_records_a.csv', 'immigration_records_12.csv'): '1', ('immigration_records_a.csv', 'immigration_records_11.csv'): '1', ('immigration_records_a.csv', 'immigration_records_10.csv'): '1', ('immigration_records_a.csv', 'immigration_records_9.csv'): '1', ('immigration_records_a.csv', 'immigration_records_8.csv'): '1', ('immigration_records_a.csv', 'immigration_records_7.csv'): '1', ('immigration_records_a.csv', 'immigration_records_6.csv'): '1', ('immigration_records_a.csv', 'immigration_records_5.csv'): '1', ('immigration_records_a.csv', 'immigration_records_4.csv'): '1', ('immigration_records_a.csv', 'immigration_records_3.csv'): '1', ('immigration_records_a.csv', 'immigration_records_2.csv'): '1', ('immigration_records_a.csv', 'immigration_records_1.csv'): '1', ('immigration_records_a.csv', 'immigration_records_0.csv'): '1', ('immigration_records_a.csv', 'immigration_records_a.csv'): '1', ('abandoned_wells_a.csv', 'abandoned_wells_9.csv'): '1', ('abandoned_wells_a.csv', 'abandoned_wells_8.csv'): '1', ('abandoned_wells_a.csv', 'abandoned_wells_7.csv'): '1', ('abandoned_wells_a.csv', 'abandoned_wells_6.csv'): '1', ('abandoned_wells_a.csv', 'abandoned_wells_5.csv'): '1', ('abandoned_wells_a.csv', 'abandoned_wells_4.csv'): '1', ('abandoned_wells_a.csv', 'abandoned_wells_3.csv'): '1', ('abandoned_wells_a.csv', 'abandoned_wells_2.csv'): '1', ('abandoned_wells_a.csv', 'abandoned_wells_1.csv'): '1', ('abandoned_wells_a.csv', 'abandoned_wells_0.csv'): '1', ('abandoned_wells_a.csv', 'abandoned_wells_a.csv'): '1', ('311_calls_historic_data_a.csv', '311_calls_historic_data_9.csv'): '1', ('311_calls_historic_data_a.csv', '311_calls_historic_data_8.csv'): '1', ('311_calls_historic_data_a.csv', '311_calls_historic_data_7.csv'): '1', ('311_calls_historic_data_a.csv', '311_calls_historic_data_6.csv'): '1', ('311_calls_historic_data_a.csv', '311_calls_historic_data_5.csv'): '1', ('311_calls_historic_data_a.csv', '311_calls_historic_data_4.csv'): '1', ('311_calls_historic_data_a.csv', '311_calls_historic_data_3.csv'): '1', ('311_calls_historic_data_a.csv', '311_calls_historic_data_2.csv'): '1', ('311_calls_historic_data_a.csv', '311_calls_historic_data_1.csv'): '1', ('311_calls_historic_data_a.csv', '311_calls_historic_data_0.csv'): '1', ('311_calls_historic_data_a.csv', '311_calls_historic_data_a.csv'): '1', ('complaint_by_practice_b.csv', 'complaint_by_practice_10.csv'): '1', ('complaint_by_practice_b.csv', 'complaint_by_practice_9.csv'): '1', ('complaint_by_practice_b.csv', 'complaint_by_practice_8.csv'): '1', ('complaint_by_practice_b.csv', 'complaint_by_practice_7.csv'): '1', ('complaint_by_practice_b.csv', 'complaint_by_practice_6.csv'): '1', ('complaint_by_practice_b.csv', 'complaint_by_practice_5.csv'): '1', ('complaint_by_practice_b.csv', 'complaint_by_practice_4.csv'): '1', ('complaint_by_practice_b.csv', 'complaint_by_practice_3.csv'): '1', ('complaint_by_practice_b.csv', 'complaint_by_practice_2.csv'): '1', ('complaint_by_practice_b.csv', 'complaint_by_practice_1.csv'): '1', ('complaint_by_practice_b.csv', 'complaint_by_practice_0.csv'): '1', ('complaint_by_practice_b.csv', 'complaint_by_practice_b.csv'): '1', ('complaint_by_practice_b.csv', 'complaint_by_practice_a.csv'): '1', ('complaint_by_practice_a.csv', 'complaint_by_practice_10.csv'): '1', ('complaint_by_practice_a.csv', 'complaint_by_practice_9.csv'): '1', ('complaint_by_practice_a.csv', 'complaint_by_practice_8.csv'): '1', ('complaint_by_practice_a.csv', 'complaint_by_practice_7.csv'): '1', ('complaint_by_practice_a.csv', 'complaint_by_practice_6.csv'): '1', ('complaint_by_practice_a.csv', 'complaint_by_practice_5.csv'): '1', ('complaint_by_practice_a.csv', 'complaint_by_practice_4.csv'): '1', ('complaint_by_practice_a.csv', 'complaint_by_practice_3.csv'): '1', ('complaint_by_practice_a.csv', 'complaint_by_practice_2.csv'): '1', ('complaint_by_practice_a.csv', 'complaint_by_practice_1.csv'): '1', ('complaint_by_practice_a.csv', 'complaint_by_practice_0.csv'): '1', ('complaint_by_practice_a.csv', 'complaint_by_practice_b.csv'): '1', ('complaint_by_practice_a.csv', 'complaint_by_practice_a.csv'): '1', ('time_spent_watching_vcr_movies_a.csv', 'time_spent_watching_vcr_movies_9.csv'): '1', ('time_spent_watching_vcr_movies_a.csv', 'time_spent_watching_vcr_movies_8.csv'): '1', ('time_spent_watching_vcr_movies_a.csv', 'time_spent_watching_vcr_movies_7.csv'): '1', ('time_spent_watching_vcr_movies_a.csv', 'time_spent_watching_vcr_movies_6.csv'): '1', ('time_spent_watching_vcr_movies_a.csv', 'time_spent_watching_vcr_movies_5.csv'): '1', ('time_spent_watching_vcr_movies_a.csv', 'time_spent_watching_vcr_movies_4.csv'): '1', ('time_spent_watching_vcr_movies_a.csv', 'time_spent_watching_vcr_movies_3.csv'): '1', ('time_spent_watching_vcr_movies_a.csv', 'time_spent_watching_vcr_movies_2.csv'): '1', ('time_spent_watching_vcr_movies_a.csv', 'time_spent_watching_vcr_movies_1.csv'): '1', ('time_spent_watching_vcr_movies_a.csv', 'time_spent_watching_vcr_movies_0.csv'): '1', ('time_spent_watching_vcr_movies_a.csv', 'time_spent_watching_vcr_movies_a.csv'): '1', ('tuition_assistance_program_tap_recipients_a.csv', 'tuition_assistance_program_tap_recipients_9.csv'): '1', ('tuition_assistance_program_tap_recipients_a.csv', 'tuition_assistance_program_tap_recipients_8.csv'): '1', ('tuition_assistance_program_tap_recipients_a.csv', 'tuition_assistance_program_tap_recipients_7.csv'): '1', ('tuition_assistance_program_tap_recipients_a.csv', 'tuition_assistance_program_tap_recipients_6.csv'): '1', ('tuition_assistance_program_tap_recipients_a.csv', 'tuition_assistance_program_tap_recipients_5.csv'): '1', ('tuition_assistance_program_tap_recipients_a.csv', 'tuition_assistance_program_tap_recipients_4.csv'): '1', ('tuition_assistance_program_tap_recipients_a.csv', 'tuition_assistance_program_tap_recipients_3.csv'): '1', ('tuition_assistance_program_tap_recipients_a.csv', 'tuition_assistance_program_tap_recipients_2.csv'): '1', ('tuition_assistance_program_tap_recipients_a.csv', 'tuition_assistance_program_tap_recipients_1.csv'): '1', ('tuition_assistance_program_tap_recipients_a.csv', 'tuition_assistance_program_tap_recipients_0.csv'): '1', ('tuition_assistance_program_tap_recipients_a.csv', 'tuition_assistance_program_tap_recipients_a.csv'): '1', ('monthly_data_feed_b.csv', 'monthly_data_feed_10.csv'): '1', ('monthly_data_feed_b.csv', 'monthly_data_feed_9.csv'): '1', ('monthly_data_feed_b.csv', 'monthly_data_feed_8.csv'): '1', ('monthly_data_feed_b.csv', 'monthly_data_feed_7.csv'): '1', ('monthly_data_feed_b.csv', 'monthly_data_feed_6.csv'): '1', ('monthly_data_feed_b.csv', 'monthly_data_feed_5.csv'): '1', ('monthly_data_feed_b.csv', 'monthly_data_feed_4.csv'): '1', ('monthly_data_feed_b.csv', 'monthly_data_feed_3.csv'): '1', ('monthly_data_feed_b.csv', 'monthly_data_feed_2.csv'): '1', ('monthly_data_feed_b.csv', 'monthly_data_feed_1.csv'): '1', ('monthly_data_feed_b.csv', 'monthly_data_feed_0.csv'): '1', ('monthly_data_feed_b.csv', 'monthly_data_feed_b.csv'): '1', ('monthly_data_feed_b.csv', 'monthly_data_feed_a.csv'): '1', ('monthly_data_feed_a.csv', 'monthly_data_feed_10.csv'): '1', ('monthly_data_feed_a.csv', 'monthly_data_feed_9.csv'): '1', ('monthly_data_feed_a.csv', 'monthly_data_feed_8.csv'): '1', ('monthly_data_feed_a.csv', 'monthly_data_feed_7.csv'): '1', ('monthly_data_feed_a.csv', 'monthly_data_feed_6.csv'): '1', ('monthly_data_feed_a.csv', 'monthly_data_feed_5.csv'): '1', ('monthly_data_feed_a.csv', 'monthly_data_feed_4.csv'): '1', ('monthly_data_feed_a.csv', 'monthly_data_feed_3.csv'): '1', ('monthly_data_feed_a.csv', 'monthly_data_feed_2.csv'): '1', ('monthly_data_feed_a.csv', 'monthly_data_feed_1.csv'): '1', ('monthly_data_feed_a.csv', 'monthly_data_feed_0.csv'): '1', ('monthly_data_feed_a.csv', 'monthly_data_feed_b.csv'): '1', ('monthly_data_feed_a.csv', 'monthly_data_feed_a.csv'): '1', ('senior_officials_expenses_a.csv', 'senior_officials_expenses_9.csv'): '1', ('senior_officials_expenses_a.csv', 'senior_officials_expenses_8.csv'): '1', ('senior_officials_expenses_a.csv', 'senior_officials_expenses_7.csv'): '1', ('senior_officials_expenses_a.csv', 'senior_officials_expenses_6.csv'): '1', ('senior_officials_expenses_a.csv', 'senior_officials_expenses_5.csv'): '1', ('senior_officials_expenses_a.csv', 'senior_officials_expenses_4.csv'): '1', ('senior_officials_expenses_a.csv', 'senior_officials_expenses_3.csv'): '1', ('senior_officials_expenses_a.csv', 'senior_officials_expenses_2.csv'): '1', ('senior_officials_expenses_a.csv', 'senior_officials_expenses_1.csv'): '1', ('senior_officials_expenses_a.csv', 'senior_officials_expenses_0.csv'): '1', ('senior_officials_expenses_a.csv', 'senior_officials_expenses_a.csv'): '1', ('wholesale_markets_a.csv', 'wholesale_markets_9.csv'): '1', ('wholesale_markets_a.csv', 'wholesale_markets_8.csv'): '1', ('wholesale_markets_a.csv', 'wholesale_markets_7.csv'): '1', ('wholesale_markets_a.csv', 'wholesale_markets_6.csv'): '1', ('wholesale_markets_a.csv', 'wholesale_markets_5.csv'): '1', ('wholesale_markets_a.csv', 'wholesale_markets_4.csv'): '1', ('wholesale_markets_a.csv', 'wholesale_markets_3.csv'): '1', ('wholesale_markets_a.csv', 'wholesale_markets_2.csv'): '1', ('wholesale_markets_a.csv', 'wholesale_markets_1.csv'): '1', ('wholesale_markets_a.csv', 'wholesale_markets_0.csv'): '1', ('wholesale_markets_a.csv', 'wholesale_markets_a.csv'): '1', ('workforce_management_information_b.csv', 'workforce_management_information_15.csv'): '1', ('workforce_management_information_b.csv', 'workforce_management_information_14.csv'): '1', ('workforce_management_information_b.csv', 'workforce_management_information_13.csv'): '1', ('workforce_management_information_b.csv', 'workforce_management_information_12.csv'): '1', ('workforce_management_information_b.csv', 'workforce_management_information_11.csv'): '1', ('workforce_management_information_b.csv', 'workforce_management_information_10.csv'): '1', ('workforce_management_information_b.csv', 'workforce_management_information_9.csv'): '1', ('workforce_management_information_b.csv', 'workforce_management_information_8.csv'): '1', ('workforce_management_information_b.csv', 'workforce_management_information_7.csv'): '1', ('workforce_management_information_b.csv', 'workforce_management_information_6.csv'): '1', ('workforce_management_information_b.csv', 'workforce_management_information_5.csv'): '1', ('workforce_management_information_b.csv', 'workforce_management_information_4.csv'): '1', ('workforce_management_information_b.csv', 'workforce_management_information_3.csv'): '1', ('workforce_management_information_b.csv', 'workforce_management_information_2.csv'): '1', ('workforce_management_information_b.csv', 'workforce_management_information_1.csv'): '1', ('workforce_management_information_b.csv', 'workforce_management_information_0.csv'): '1', ('workforce_management_information_b.csv', 'workforce_management_information_b.csv'): '1', ('workforce_management_information_b.csv', 'workforce_management_information_a.csv'): '1', ('workforce_management_information_a.csv', 'workforce_management_information_15.csv'): '1', ('workforce_management_information_a.csv', 'workforce_management_information_14.csv'): '1', ('workforce_management_information_a.csv', 'workforce_management_information_13.csv'): '1', ('workforce_management_information_a.csv', 'workforce_management_information_12.csv'): '1', ('workforce_management_information_a.csv', 'workforce_management_information_11.csv'): '1', ('workforce_management_information_a.csv', 'workforce_management_information_10.csv'): '1', ('workforce_management_information_a.csv', 'workforce_management_information_9.csv'): '1', ('workforce_management_information_a.csv', 'workforce_management_information_8.csv'): '1', ('workforce_management_information_a.csv', 'workforce_management_information_7.csv'): '1', ('workforce_management_information_a.csv', 'workforce_management_information_6.csv'): '1', ('workforce_management_information_a.csv', 'workforce_management_information_5.csv'): '1', ('workforce_management_information_a.csv', 'workforce_management_information_4.csv'): '1', ('workforce_management_information_a.csv', 'workforce_management_information_3.csv'): '1', ('workforce_management_information_a.csv', 'workforce_management_information_2.csv'): '1', ('workforce_management_information_a.csv', 'workforce_management_information_1.csv'): '1', ('workforce_management_information_a.csv', 'workforce_management_information_0.csv'): '1', ('workforce_management_information_a.csv', 'workforce_management_information_b.csv'): '1', ('workforce_management_information_a.csv', 'workforce_management_information_a.csv'): '1', ('contributors_parties_b.csv', 'contributors_parties_18.csv'): '1', ('contributors_parties_b.csv', 'contributors_parties_17.csv'): '1', ('contributors_parties_b.csv', 'contributors_parties_16.csv'): '1', ('contributors_parties_b.csv', 'contributors_parties_15.csv'): '1', ('contributors_parties_b.csv', 'contributors_parties_14.csv'): '1', ('contributors_parties_b.csv', 'contributors_parties_13.csv'): '1', ('contributors_parties_b.csv', 'contributors_parties_12.csv'): '1', ('contributors_parties_b.csv', 'contributors_parties_11.csv'): '1', ('contributors_parties_b.csv', 'contributors_parties_10.csv'): '1', ('contributors_parties_b.csv', 'contributors_parties_9.csv'): '1', ('contributors_parties_b.csv', 'contributors_parties_8.csv'): '1', ('contributors_parties_b.csv', 'contributors_parties_7.csv'): '1', ('contributors_parties_b.csv', 'contributors_parties_6.csv'): '1', ('contributors_parties_b.csv', 'contributors_parties_5.csv'): '1', ('contributors_parties_b.csv', 'contributors_parties_4.csv'): '1', ('contributors_parties_b.csv', 'contributors_parties_3.csv'): '1', ('contributors_parties_b.csv', 'contributors_parties_2.csv'): '1', ('contributors_parties_b.csv', 'contributors_parties_1.csv'): '1', ('contributors_parties_b.csv', 'contributors_parties_0.csv'): '1', ('contributors_parties_b.csv', 'contributors_parties_b.csv'): '1', ('contributors_parties_b.csv', 'contributors_parties_a.csv'): '1', ('contributors_parties_a.csv', 'contributors_parties_18.csv'): '1', ('contributors_parties_a.csv', 'contributors_parties_17.csv'): '1', ('contributors_parties_a.csv', 'contributors_parties_16.csv'): '1', ('contributors_parties_a.csv', 'contributors_parties_15.csv'): '1', ('contributors_parties_a.csv', 'contributors_parties_14.csv'): '1', ('contributors_parties_a.csv', 'contributors_parties_13.csv'): '1', ('contributors_parties_a.csv', 'contributors_parties_12.csv'): '1', ('contributors_parties_a.csv', 'contributors_parties_11.csv'): '1', ('contributors_parties_a.csv', 'contributors_parties_10.csv'): '1', ('contributors_parties_a.csv', 'contributors_parties_9.csv'): '1', ('contributors_parties_a.csv', 'contributors_parties_8.csv'): '1', ('contributors_parties_a.csv', 'contributors_parties_7.csv'): '1', ('contributors_parties_a.csv', 'contributors_parties_6.csv'): '1', ('contributors_parties_a.csv', 'contributors_parties_5.csv'): '1', ('contributors_parties_a.csv', 'contributors_parties_4.csv'): '1', ('contributors_parties_a.csv', 'contributors_parties_3.csv'): '1', ('contributors_parties_a.csv', 'contributors_parties_2.csv'): '1', ('contributors_parties_a.csv', 'contributors_parties_1.csv'): '1', ('contributors_parties_a.csv', 'contributors_parties_0.csv'): '1', ('contributors_parties_a.csv', 'contributors_parties_b.csv'): '1', ('contributors_parties_a.csv', 'contributors_parties_a.csv'): '1', ('biodiversity_a.csv', 'biodiversity_9.csv'): '1', ('biodiversity_a.csv', 'biodiversity_8.csv'): '1', ('biodiversity_a.csv', 'biodiversity_7.csv'): '1', ('biodiversity_a.csv', 'biodiversity_6.csv'): '1', ('biodiversity_a.csv', 'biodiversity_5.csv'): '1', ('biodiversity_a.csv', 'biodiversity_4.csv'): '1', ('biodiversity_a.csv', 'biodiversity_3.csv'): '1', ('biodiversity_a.csv', 'biodiversity_2.csv'): '1', ('biodiversity_a.csv', 'biodiversity_1.csv'): '1', ('biodiversity_a.csv', 'biodiversity_0.csv'): '1', ('biodiversity_a.csv', 'biodiversity_a.csv'): '1', ('business_rates_a.csv', 'business_rates_10.csv'): '1', ('business_rates_a.csv', 'business_rates_9.csv'): '1', ('business_rates_a.csv', 'business_rates_8.csv'): '1', ('business_rates_a.csv', 'business_rates_7.csv'): '1', ('business_rates_a.csv', 'business_rates_6.csv'): '1', ('business_rates_a.csv', 'business_rates_5.csv'): '1', ('business_rates_a.csv', 'business_rates_4.csv'): '1', ('business_rates_a.csv', 'business_rates_3.csv'): '1', ('business_rates_a.csv', 'business_rates_2.csv'): '1', ('business_rates_a.csv', 'business_rates_1.csv'): '1', ('business_rates_a.csv', 'business_rates_0.csv'): '1', ('business_rates_a.csv', 'business_rates_a.csv'): '1', ('new_york_city_restaurant_inspection_results_a.csv', 'new_york_city_restaurant_inspection_results_29.csv'): '1', ('new_york_city_restaurant_inspection_results_a.csv', 'new_york_city_restaurant_inspection_results_28.csv'): '1', ('new_york_city_restaurant_inspection_results_a.csv', 'new_york_city_restaurant_inspection_results_27.csv'): '1', ('new_york_city_restaurant_inspection_results_a.csv', 'new_york_city_restaurant_inspection_results_26.csv'): '1', ('new_york_city_restaurant_inspection_results_a.csv', 'new_york_city_restaurant_inspection_results_25.csv'): '1', ('new_york_city_restaurant_inspection_results_a.csv', 'new_york_city_restaurant_inspection_results_24.csv'): '1', ('new_york_city_restaurant_inspection_results_a.csv', 'new_york_city_restaurant_inspection_results_23.csv'): '1', ('new_york_city_restaurant_inspection_results_a.csv', 'new_york_city_restaurant_inspection_results_22.csv'): '1', ('new_york_city_restaurant_inspection_results_a.csv', 'new_york_city_restaurant_inspection_results_21.csv'): '1', ('new_york_city_restaurant_inspection_results_a.csv', 'new_york_city_restaurant_inspection_results_20.csv'): '1', ('new_york_city_restaurant_inspection_results_a.csv', 'new_york_city_restaurant_inspection_results_19.csv'): '1', ('new_york_city_restaurant_inspection_results_a.csv', 'new_york_city_restaurant_inspection_results_18.csv'): '1', ('new_york_city_restaurant_inspection_results_a.csv', 'new_york_city_restaurant_inspection_results_17.csv'): '1', ('new_york_city_restaurant_inspection_results_a.csv', 'new_york_city_restaurant_inspection_results_16.csv'): '1', ('new_york_city_restaurant_inspection_results_a.csv', 'new_york_city_restaurant_inspection_results_15.csv'): '1', ('new_york_city_restaurant_inspection_results_a.csv', 'new_york_city_restaurant_inspection_results_14.csv'): '1', ('new_york_city_restaurant_inspection_results_a.csv', 'new_york_city_restaurant_inspection_results_13.csv'): '1', ('new_york_city_restaurant_inspection_results_a.csv', 'new_york_city_restaurant_inspection_results_12.csv'): '1', ('new_york_city_restaurant_inspection_results_a.csv', 'new_york_city_restaurant_inspection_results_11.csv'): '1', ('new_york_city_restaurant_inspection_results_a.csv', 'new_york_city_restaurant_inspection_results_10.csv'): '1', ('new_york_city_restaurant_inspection_results_a.csv', 'new_york_city_restaurant_inspection_results_9.csv'): '1', ('new_york_city_restaurant_inspection_results_a.csv', 'new_york_city_restaurant_inspection_results_8.csv'): '1', ('new_york_city_restaurant_inspection_results_a.csv', 'new_york_city_restaurant_inspection_results_7.csv'): '1', ('new_york_city_restaurant_inspection_results_a.csv', 'new_york_city_restaurant_inspection_results_6.csv'): '1', ('new_york_city_restaurant_inspection_results_a.csv', 'new_york_city_restaurant_inspection_results_5.csv'): '1', ('new_york_city_restaurant_inspection_results_a.csv', 'new_york_city_restaurant_inspection_results_4.csv'): '1', ('new_york_city_restaurant_inspection_results_a.csv', 'new_york_city_restaurant_inspection_results_3.csv'): '1', ('new_york_city_restaurant_inspection_results_a.csv', 'new_york_city_restaurant_inspection_results_2.csv'): '1', ('new_york_city_restaurant_inspection_results_a.csv', 'new_york_city_restaurant_inspection_results_1.csv'): '1', ('new_york_city_restaurant_inspection_results_a.csv', 'new_york_city_restaurant_inspection_results_0.csv'): '1', ('new_york_city_restaurant_inspection_results_a.csv', 'new_york_city_restaurant_inspection_results_a.csv'): '1', ('animal_tag_data_b.csv', 'animal_tag_data_9.csv'): '1', ('animal_tag_data_b.csv', 'animal_tag_data_8.csv'): '1', ('animal_tag_data_b.csv', 'animal_tag_data_7.csv'): '1', ('animal_tag_data_b.csv', 'animal_tag_data_6.csv'): '1', ('animal_tag_data_b.csv', 'animal_tag_data_5.csv'): '1', ('animal_tag_data_b.csv', 'animal_tag_data_4.csv'): '1', ('animal_tag_data_b.csv', 'animal_tag_data_3.csv'): '1', ('animal_tag_data_b.csv', 'animal_tag_data_2.csv'): '1', ('animal_tag_data_b.csv', 'animal_tag_data_1.csv'): '1', ('animal_tag_data_b.csv', 'animal_tag_data_0.csv'): '1', ('animal_tag_data_b.csv', 'animal_tag_data_b.csv'): '1', ('animal_tag_data_b.csv', 'animal_tag_data_a.csv'): '1', ('animal_tag_data_a.csv', 'animal_tag_data_9.csv'): '1', ('animal_tag_data_a.csv', 'animal_tag_data_8.csv'): '1', ('animal_tag_data_a.csv', 'animal_tag_data_7.csv'): '1', ('animal_tag_data_a.csv', 'animal_tag_data_6.csv'): '1', ('animal_tag_data_a.csv', 'animal_tag_data_5.csv'): '1', ('animal_tag_data_a.csv', 'animal_tag_data_4.csv'): '1', ('animal_tag_data_a.csv', 'animal_tag_data_3.csv'): '1', ('animal_tag_data_a.csv', 'animal_tag_data_2.csv'): '1', ('animal_tag_data_a.csv', 'animal_tag_data_1.csv'): '1', ('animal_tag_data_a.csv', 'animal_tag_data_0.csv'): '1', ('animal_tag_data_a.csv', 'animal_tag_data_b.csv'): '1', ('animal_tag_data_a.csv', 'animal_tag_data_a.csv'): '1', ('albums_b.csv', 'albums_13.csv'): '1', ('albums_b.csv', 'albums_12.csv'): '1', ('albums_b.csv', 'albums_11.csv'): '1', ('albums_b.csv', 'albums_10.csv'): '1', ('albums_b.csv', 'albums_9.csv'): '1', ('albums_b.csv', 'albums_8.csv'): '1', ('albums_b.csv', 'albums_7.csv'): '1', ('albums_b.csv', 'albums_6.csv'): '1', ('albums_b.csv', 'albums_5.csv'): '1', ('albums_b.csv', 'albums_4.csv'): '1', ('albums_b.csv', 'albums_3.csv'): '1', ('albums_b.csv', 'albums_2.csv'): '1', ('albums_b.csv', 'albums_1.csv'): '1', ('albums_b.csv', 'albums_0.csv'): '1', ('albums_b.csv', 'albums_b.csv'): '1', ('albums_b.csv', 'albums_a.csv'): '1', ('albums_a.csv', 'albums_13.csv'): '1', ('albums_a.csv', 'albums_12.csv'): '1', ('albums_a.csv', 'albums_11.csv'): '1', ('albums_a.csv', 'albums_10.csv'): '1', ('albums_a.csv', 'albums_9.csv'): '1', ('albums_a.csv', 'albums_8.csv'): '1', ('albums_a.csv', 'albums_7.csv'): '1', ('albums_a.csv', 'albums_6.csv'): '1', ('albums_a.csv', 'albums_5.csv'): '1', ('albums_a.csv', 'albums_4.csv'): '1', ('albums_a.csv', 'albums_3.csv'): '1', ('albums_a.csv', 'albums_2.csv'): '1', ('albums_a.csv', 'albums_1.csv'): '1', ('albums_a.csv', 'albums_0.csv'): '1', ('albums_a.csv', 'albums_b.csv'): '1', ('albums_a.csv', 'albums_a.csv'): '1', ('deaths_2012_2018_a.csv', 'deaths_2012_2018_9.csv'): '1', ('deaths_2012_2018_a.csv', 'deaths_2012_2018_8.csv'): '1', ('deaths_2012_2018_a.csv', 'deaths_2012_2018_7.csv'): '1', ('deaths_2012_2018_a.csv', 'deaths_2012_2018_6.csv'): '1', ('deaths_2012_2018_a.csv', 'deaths_2012_2018_5.csv'): '1', ('deaths_2012_2018_a.csv', 'deaths_2012_2018_4.csv'): '1', ('deaths_2012_2018_a.csv', 'deaths_2012_2018_3.csv'): '1', ('deaths_2012_2018_a.csv', 'deaths_2012_2018_2.csv'): '1', ('deaths_2012_2018_a.csv', 'deaths_2012_2018_1.csv'): '1', ('deaths_2012_2018_a.csv', 'deaths_2012_2018_0.csv'): '1', ('deaths_2012_2018_a.csv', 'deaths_2012_2018_a.csv'): '1', ('oil_and_gas_summary_production_data_1967_1999_a.csv', 'oil_and_gas_summary_production_data_1967_1999_9.csv'): '1', ('oil_and_gas_summary_production_data_1967_1999_a.csv', 'oil_and_gas_summary_production_data_1967_1999_8.csv'): '1', ('oil_and_gas_summary_production_data_1967_1999_a.csv', 'oil_and_gas_summary_production_data_1967_1999_7.csv'): '1', ('oil_and_gas_summary_production_data_1967_1999_a.csv', 'oil_and_gas_summary_production_data_1967_1999_6.csv'): '1', ('oil_and_gas_summary_production_data_1967_1999_a.csv', 'oil_and_gas_summary_production_data_1967_1999_5.csv'): '1', ('oil_and_gas_summary_production_data_1967_1999_a.csv', 'oil_and_gas_summary_production_data_1967_1999_4.csv'): '1', ('oil_and_gas_summary_production_data_1967_1999_a.csv', 'oil_and_gas_summary_production_data_1967_1999_3.csv'): '1', ('oil_and_gas_summary_production_data_1967_1999_a.csv', 'oil_and_gas_summary_production_data_1967_1999_2.csv'): '1', ('oil_and_gas_summary_production_data_1967_1999_a.csv', 'oil_and_gas_summary_production_data_1967_1999_1.csv'): '1', ('oil_and_gas_summary_production_data_1967_1999_a.csv', 'oil_and_gas_summary_production_data_1967_1999_0.csv'): '1', ('oil_and_gas_summary_production_data_1967_1999_a.csv', 'oil_and_gas_summary_production_data_1967_1999_a.csv'): '1', ('ipopayments_b.csv', 'ipopayments_12.csv'): '1', ('ipopayments_b.csv', 'ipopayments_11.csv'): '1', ('ipopayments_b.csv', 'ipopayments_10.csv'): '1', ('ipopayments_b.csv', 'ipopayments_9.csv'): '1', ('ipopayments_b.csv', 'ipopayments_8.csv'): '1', ('ipopayments_b.csv', 'ipopayments_7.csv'): '1', ('ipopayments_b.csv', 'ipopayments_6.csv'): '1', ('ipopayments_b.csv', 'ipopayments_5.csv'): '1', ('ipopayments_b.csv', 'ipopayments_4.csv'): '1', ('ipopayments_b.csv', 'ipopayments_3.csv'): '1', ('ipopayments_b.csv', 'ipopayments_2.csv'): '1', ('ipopayments_b.csv', 'ipopayments_1.csv'): '1', ('ipopayments_b.csv', 'ipopayments_0.csv'): '1', ('ipopayments_b.csv', 'ipopayments_b.csv'): '1', ('ipopayments_b.csv', 'ipopayments_a.csv'): '1', ('ipopayments_a.csv', 'ipopayments_12.csv'): '1', ('ipopayments_a.csv', 'ipopayments_11.csv'): '1', ('ipopayments_a.csv', 'ipopayments_10.csv'): '1', ('ipopayments_a.csv', 'ipopayments_9.csv'): '1', ('ipopayments_a.csv', 'ipopayments_8.csv'): '1', ('ipopayments_a.csv', 'ipopayments_7.csv'): '1', ('ipopayments_a.csv', 'ipopayments_6.csv'): '1', ('ipopayments_a.csv', 'ipopayments_5.csv'): '1', ('ipopayments_a.csv', 'ipopayments_4.csv'): '1', ('ipopayments_a.csv', 'ipopayments_3.csv'): '1', ('ipopayments_a.csv', 'ipopayments_2.csv'): '1', ('ipopayments_a.csv', 'ipopayments_1.csv'): '1', ('ipopayments_a.csv', 'ipopayments_0.csv'): '1', ('ipopayments_a.csv', 'ipopayments_b.csv'): '1', ('ipopayments_a.csv', 'ipopayments_a.csv'): '1', ('civic_building_locations_a.csv', 'civic_building_locations_10.csv'): '1', ('civic_building_locations_a.csv', 'civic_building_locations_9.csv'): '1', ('civic_building_locations_a.csv', 'civic_building_locations_8.csv'): '1', ('civic_building_locations_a.csv', 'civic_building_locations_7.csv'): '1', ('civic_building_locations_a.csv', 'civic_building_locations_6.csv'): '1', ('civic_building_locations_a.csv', 'civic_building_locations_5.csv'): '1', ('civic_building_locations_a.csv', 'civic_building_locations_4.csv'): '1', ('civic_building_locations_a.csv', 'civic_building_locations_3.csv'): '1', ('civic_building_locations_a.csv', 'civic_building_locations_2.csv'): '1', ('civic_building_locations_a.csv', 'civic_building_locations_1.csv'): '1', ('civic_building_locations_a.csv', 'civic_building_locations_0.csv'): '1', ('civic_building_locations_a.csv', 'civic_building_locations_a.csv'): '1', ('ydn_spending_data_b.csv', 'ydn_spending_data_9.csv'): '1', ('ydn_spending_data_b.csv', 'ydn_spending_data_8.csv'): '1', ('ydn_spending_data_b.csv', 'ydn_spending_data_7.csv'): '1', ('ydn_spending_data_b.csv', 'ydn_spending_data_6.csv'): '1', ('ydn_spending_data_b.csv', 'ydn_spending_data_5.csv'): '1', ('ydn_spending_data_b.csv', 'ydn_spending_data_4.csv'): '1', ('ydn_spending_data_b.csv', 'ydn_spending_data_3.csv'): '1', ('ydn_spending_data_b.csv', 'ydn_spending_data_2.csv'): '1', ('ydn_spending_data_b.csv', 'ydn_spending_data_1.csv'): '1', ('ydn_spending_data_b.csv', 'ydn_spending_data_0.csv'): '1', ('ydn_spending_data_b.csv', 'ydn_spending_data_b.csv'): '1', ('ydn_spending_data_b.csv', 'ydn_spending_data_a.csv'): '1', ('ydn_spending_data_a.csv', 'ydn_spending_data_9.csv'): '1', ('ydn_spending_data_a.csv', 'ydn_spending_data_8.csv'): '1', ('ydn_spending_data_a.csv', 'ydn_spending_data_7.csv'): '1', ('ydn_spending_data_a.csv', 'ydn_spending_data_6.csv'): '1', ('ydn_spending_data_a.csv', 'ydn_spending_data_5.csv'): '1', ('ydn_spending_data_a.csv', 'ydn_spending_data_4.csv'): '1', ('ydn_spending_data_a.csv', 'ydn_spending_data_3.csv'): '1', ('ydn_spending_data_a.csv', 'ydn_spending_data_2.csv'): '1', ('ydn_spending_data_a.csv', 'ydn_spending_data_1.csv'): '1', ('ydn_spending_data_a.csv', 'ydn_spending_data_0.csv'): '1', ('ydn_spending_data_a.csv', 'ydn_spending_data_b.csv'): '1', ('ydn_spending_data_a.csv', 'ydn_spending_data_a.csv'): '1', ('cihr_co-applicant_b.csv', 'cihr_co-applicant_9.csv'): '1', ('cihr_co-applicant_b.csv', 'cihr_co-applicant_8.csv'): '1', ('cihr_co-applicant_b.csv', 'cihr_co-applicant_7.csv'): '1', ('cihr_co-applicant_b.csv', 'cihr_co-applicant_6.csv'): '1', ('cihr_co-applicant_b.csv', 'cihr_co-applicant_5.csv'): '1', ('cihr_co-applicant_b.csv', 'cihr_co-applicant_4.csv'): '1', ('cihr_co-applicant_b.csv', 'cihr_co-applicant_3.csv'): '1', ('cihr_co-applicant_b.csv', 'cihr_co-applicant_2.csv'): '1', ('cihr_co-applicant_b.csv', 'cihr_co-applicant_1.csv'): '1', ('cihr_co-applicant_b.csv', 'cihr_co-applicant_0.csv'): '1', ('cihr_co-applicant_b.csv', 'cihr_co-applicant_b.csv'): '1', ('cihr_co-applicant_b.csv', 'cihr_co-applicant_a.csv'): '1', ('cihr_co-applicant_a.csv', 'cihr_co-applicant_9.csv'): '1', ('cihr_co-applicant_a.csv', 'cihr_co-applicant_8.csv'): '1', ('cihr_co-applicant_a.csv', 'cihr_co-applicant_7.csv'): '1', ('cihr_co-applicant_a.csv', 'cihr_co-applicant_6.csv'): '1', ('cihr_co-applicant_a.csv', 'cihr_co-applicant_5.csv'): '1', ('cihr_co-applicant_a.csv', 'cihr_co-applicant_4.csv'): '1', ('cihr_co-applicant_a.csv', 'cihr_co-applicant_3.csv'): '1', ('cihr_co-applicant_a.csv', 'cihr_co-applicant_2.csv'): '1', ('cihr_co-applicant_a.csv', 'cihr_co-applicant_1.csv'): '1', ('cihr_co-applicant_a.csv', 'cihr_co-applicant_0.csv'): '1', ('cihr_co-applicant_a.csv', 'cihr_co-applicant_b.csv'): '1', ('cihr_co-applicant_a.csv', 'cihr_co-applicant_a.csv'): '1', ('data_mill_b.csv', 'data_mill_11.csv'): '1', ('data_mill_b.csv', 'data_mill_10.csv'): '1', ('data_mill_b.csv', 'data_mill_9.csv'): '1', ('data_mill_b.csv', 'data_mill_8.csv'): '1', ('data_mill_b.csv', 'data_mill_7.csv'): '1', ('data_mill_b.csv', 'data_mill_6.csv'): '1', ('data_mill_b.csv', 'data_mill_5.csv'): '1', ('data_mill_b.csv', 'data_mill_4.csv'): '1', ('data_mill_b.csv', 'data_mill_3.csv'): '1', ('data_mill_b.csv', 'data_mill_2.csv'): '1', ('data_mill_b.csv', 'data_mill_1.csv'): '1', ('data_mill_b.csv', 'data_mill_0.csv'): '1', ('data_mill_b.csv', 'data_mill_b.csv'): '1', ('data_mill_b.csv', 'data_mill_a.csv'): '1', ('data_mill_a.csv', 'data_mill_11.csv'): '1', ('data_mill_a.csv', 'data_mill_10.csv'): '1', ('data_mill_a.csv', 'data_mill_9.csv'): '1', ('data_mill_a.csv', 'data_mill_8.csv'): '1', ('data_mill_a.csv', 'data_mill_7.csv'): '1', ('data_mill_a.csv', 'data_mill_6.csv'): '1', ('data_mill_a.csv', 'data_mill_5.csv'): '1', ('data_mill_a.csv', 'data_mill_4.csv'): '1', ('data_mill_a.csv', 'data_mill_3.csv'): '1', ('data_mill_a.csv', 'data_mill_2.csv'): '1', ('data_mill_a.csv', 'data_mill_1.csv'): '1', ('data_mill_a.csv', 'data_mill_0.csv'): '1', ('data_mill_a.csv', 'data_mill_b.csv'): '1', ('data_mill_a.csv', 'data_mill_a.csv'): '1'}\n"
          ]
        }
      ],
      "source": [
        "pairs = {}\n",
        "datalake = set()\n",
        "query = set()\n",
        "for key, value in groundtruth.items():\n",
        "  query.add(key)\n",
        "  for v in value:\n",
        "    datalake.add(v)\n",
        "    pairs[(key, v)] = '1'\n",
        "res =dict(reversed(list(pairs.items())))\n",
        "\n",
        "print(res)"
      ]
    },
    {
      "cell_type": "code",
      "execution_count": null,
      "metadata": {
        "id": "jAu_xXW3AXP5"
      },
      "outputs": [],
      "source": []
    },
    {
      "cell_type": "code",
      "execution_count": null,
      "metadata": {
        "colab": {
          "base_uri": "https://localhost:8080/"
        },
        "id": "UNxt2I-8ugqI",
        "outputId": "ea2461d6-b6ad-40bf-db99-1f22cea6661e"
      },
      "outputs": [
        {
          "output_type": "stream",
          "name": "stdout",
          "text": [
            "{'workforce_management_information_a.csv': 17, 'minister_meetings_a.csv': 17, 'workforce_management_information_b.csv': 18, 'civic_building_locations_a.csv': 26, 'senior_officials_expenses_a.csv': 59, 'job_pay_scales_a.csv': 129, 'purchasing_card_a.csv': 257, 'practice_reference_a.csv': 321, 'practice_reference_b.csv': 325, 'stockport_contracts_a.csv': 358, 'stockport_contracts_b.csv': 501, 'ydn_spending_data_b.csv': 568, 'ydn_spending_data_a.csv': 722, 'albums_a.csv': 836, 'ipopayments_a.csv': 918, 'ipopayments_b.csv': 967, 'albums_b.csv': 969, 'film_locations_in_san_francisco_a.csv': 970, 'mines_b.csv': 1121, 'deaths_2012_2018_a.csv': 1138, 'time_spent_watching_vcr_movies_a.csv': 1206, 'abandoned_wells_a.csv': 1857, 'animal_tag_data_b.csv': 5000, 'contributors_parties_b.csv': 5000, 'complaint_by_practice_b.csv': 5000, 'lane_description_b.csv': 5088, 'monthly_data_feed_b.csv': 5376, 'lane_description_a.csv': 6000, 'business_rates_a.csv': 6307, 'mines_a.csv': 6442, 'monthly_data_feed_a.csv': 6720, 'biodiversity_a.csv': 7454, 'oil_and_gas_summary_production_data_1967_1999_a.csv': 7521, 'cdc_nutrition_physical_activity_and_obesity_legislation_a.csv': 8203, 'immigration_records_a.csv': 8897, 'data_mill_a.csv': 20846, 'data_mill_b.csv': 21846, 'cihr_co-applicant_a.csv': 24140, 'cihr_co-applicant_b.csv': 29679, 'prescribing_a.csv': 30000, 'prescribing_b.csv': 30000, 'contributors_parties_a.csv': 31879, 'animal_tag_data_a.csv': 35828, 'tuition_assistance_program_tap_recipients_a.csv': 46579, 'wholesale_markets_a.csv': 61473, 'complaint_by_practice_a.csv': 89117, '311_calls_historic_data_a.csv': 112431, 'new_york_city_restaurant_inspection_results_a.csv': 132147, 'psyckes_antipsychotic_polypharmacy_quality_indicators_beginning_2012_a.csv': 150762, 'report_card_discipline_for_2015_16_a.csv': 157050}\n"
          ]
        }
      ],
      "source": [
        "Q_path = \"/content/drive/MyDrive/labeled_benchmark/query/\"\n",
        "file_len = {}\n",
        "for i in query:\n",
        "  df = pd.read_csv(Q_path+i)\n",
        "  file_len[i] = len(df)\n",
        "sort_dict = dict(sorted(file_len.items(), key=lambda item: item[1]))\n",
        "print(sort_dict)\n",
        "\n"
      ]
    },
    {
      "cell_type": "code",
      "execution_count": null,
      "metadata": {
        "id": "eb3E1CE9A66c",
        "colab": {
          "base_uri": "https://localhost:8080/"
        },
        "outputId": "d919fb12-f302-48cb-d2a8-62a260c20d8d"
      },
      "outputs": [
        {
          "output_type": "stream",
          "name": "stdout",
          "text": [
            "[('data_mill_a.csv', 'data_mill_a.csv'), ('data_mill_a.csv', 'data_mill_b.csv'), ('data_mill_a.csv', 'data_mill_0.csv'), ('data_mill_a.csv', 'data_mill_1.csv'), ('data_mill_a.csv', 'data_mill_2.csv'), ('data_mill_a.csv', 'data_mill_3.csv'), ('data_mill_a.csv', 'data_mill_4.csv'), ('data_mill_a.csv', 'data_mill_5.csv'), ('data_mill_a.csv', 'data_mill_6.csv'), ('data_mill_a.csv', 'data_mill_7.csv'), ('data_mill_a.csv', 'data_mill_8.csv'), ('data_mill_a.csv', 'data_mill_9.csv'), ('data_mill_a.csv', 'data_mill_10.csv'), ('data_mill_a.csv', 'data_mill_11.csv'), ('data_mill_b.csv', 'data_mill_a.csv'), ('data_mill_b.csv', 'data_mill_b.csv'), ('data_mill_b.csv', 'data_mill_0.csv'), ('data_mill_b.csv', 'data_mill_1.csv'), ('data_mill_b.csv', 'data_mill_2.csv'), ('data_mill_b.csv', 'data_mill_3.csv'), ('data_mill_b.csv', 'data_mill_4.csv'), ('data_mill_b.csv', 'data_mill_5.csv'), ('data_mill_b.csv', 'data_mill_6.csv'), ('data_mill_b.csv', 'data_mill_7.csv'), ('data_mill_b.csv', 'data_mill_8.csv'), ('data_mill_b.csv', 'data_mill_9.csv'), ('data_mill_b.csv', 'data_mill_10.csv'), ('data_mill_b.csv', 'data_mill_11.csv'), ('cihr_co-applicant_a.csv', 'cihr_co-applicant_a.csv'), ('cihr_co-applicant_a.csv', 'cihr_co-applicant_b.csv'), ('cihr_co-applicant_a.csv', 'cihr_co-applicant_0.csv'), ('cihr_co-applicant_a.csv', 'cihr_co-applicant_1.csv'), ('cihr_co-applicant_a.csv', 'cihr_co-applicant_2.csv'), ('cihr_co-applicant_a.csv', 'cihr_co-applicant_3.csv'), ('cihr_co-applicant_a.csv', 'cihr_co-applicant_4.csv'), ('cihr_co-applicant_a.csv', 'cihr_co-applicant_5.csv'), ('cihr_co-applicant_a.csv', 'cihr_co-applicant_6.csv'), ('cihr_co-applicant_a.csv', 'cihr_co-applicant_7.csv'), ('cihr_co-applicant_a.csv', 'cihr_co-applicant_8.csv'), ('cihr_co-applicant_a.csv', 'cihr_co-applicant_9.csv'), ('cihr_co-applicant_b.csv', 'cihr_co-applicant_a.csv'), ('cihr_co-applicant_b.csv', 'cihr_co-applicant_b.csv'), ('cihr_co-applicant_b.csv', 'cihr_co-applicant_0.csv'), ('cihr_co-applicant_b.csv', 'cihr_co-applicant_1.csv'), ('cihr_co-applicant_b.csv', 'cihr_co-applicant_2.csv'), ('cihr_co-applicant_b.csv', 'cihr_co-applicant_3.csv'), ('cihr_co-applicant_b.csv', 'cihr_co-applicant_4.csv'), ('cihr_co-applicant_b.csv', 'cihr_co-applicant_5.csv'), ('cihr_co-applicant_b.csv', 'cihr_co-applicant_6.csv'), ('cihr_co-applicant_b.csv', 'cihr_co-applicant_7.csv'), ('cihr_co-applicant_b.csv', 'cihr_co-applicant_8.csv'), ('cihr_co-applicant_b.csv', 'cihr_co-applicant_9.csv'), ('ydn_spending_data_a.csv', 'ydn_spending_data_a.csv'), ('ydn_spending_data_a.csv', 'ydn_spending_data_b.csv'), ('ydn_spending_data_a.csv', 'ydn_spending_data_0.csv'), ('ydn_spending_data_a.csv', 'ydn_spending_data_1.csv'), ('ydn_spending_data_a.csv', 'ydn_spending_data_2.csv'), ('ydn_spending_data_a.csv', 'ydn_spending_data_3.csv'), ('ydn_spending_data_a.csv', 'ydn_spending_data_4.csv'), ('ydn_spending_data_a.csv', 'ydn_spending_data_5.csv'), ('ydn_spending_data_a.csv', 'ydn_spending_data_6.csv'), ('ydn_spending_data_a.csv', 'ydn_spending_data_7.csv'), ('ydn_spending_data_a.csv', 'ydn_spending_data_8.csv'), ('ydn_spending_data_a.csv', 'ydn_spending_data_9.csv'), ('ydn_spending_data_b.csv', 'ydn_spending_data_a.csv'), ('ydn_spending_data_b.csv', 'ydn_spending_data_b.csv'), ('ydn_spending_data_b.csv', 'ydn_spending_data_0.csv'), ('ydn_spending_data_b.csv', 'ydn_spending_data_1.csv'), ('ydn_spending_data_b.csv', 'ydn_spending_data_2.csv'), ('ydn_spending_data_b.csv', 'ydn_spending_data_3.csv'), ('ydn_spending_data_b.csv', 'ydn_spending_data_4.csv'), ('ydn_spending_data_b.csv', 'ydn_spending_data_5.csv'), ('ydn_spending_data_b.csv', 'ydn_spending_data_6.csv'), ('ydn_spending_data_b.csv', 'ydn_spending_data_7.csv'), ('ydn_spending_data_b.csv', 'ydn_spending_data_8.csv'), ('ydn_spending_data_b.csv', 'ydn_spending_data_9.csv'), ('civic_building_locations_a.csv', 'civic_building_locations_a.csv'), ('civic_building_locations_a.csv', 'civic_building_locations_0.csv'), ('civic_building_locations_a.csv', 'civic_building_locations_1.csv'), ('civic_building_locations_a.csv', 'civic_building_locations_2.csv'), ('civic_building_locations_a.csv', 'civic_building_locations_3.csv'), ('civic_building_locations_a.csv', 'civic_building_locations_4.csv'), ('civic_building_locations_a.csv', 'civic_building_locations_5.csv'), ('civic_building_locations_a.csv', 'civic_building_locations_6.csv'), ('civic_building_locations_a.csv', 'civic_building_locations_7.csv'), ('civic_building_locations_a.csv', 'civic_building_locations_8.csv'), ('civic_building_locations_a.csv', 'civic_building_locations_9.csv'), ('civic_building_locations_a.csv', 'civic_building_locations_10.csv'), ('ipopayments_a.csv', 'ipopayments_a.csv'), ('ipopayments_a.csv', 'ipopayments_b.csv'), ('ipopayments_a.csv', 'ipopayments_0.csv'), ('ipopayments_a.csv', 'ipopayments_1.csv'), ('ipopayments_a.csv', 'ipopayments_2.csv'), ('ipopayments_a.csv', 'ipopayments_3.csv'), ('ipopayments_a.csv', 'ipopayments_4.csv'), ('ipopayments_a.csv', 'ipopayments_5.csv'), ('ipopayments_a.csv', 'ipopayments_6.csv'), ('ipopayments_a.csv', 'ipopayments_7.csv'), ('ipopayments_a.csv', 'ipopayments_8.csv'), ('ipopayments_a.csv', 'ipopayments_9.csv'), ('ipopayments_a.csv', 'ipopayments_10.csv'), ('ipopayments_a.csv', 'ipopayments_11.csv'), ('ipopayments_a.csv', 'ipopayments_12.csv'), ('ipopayments_b.csv', 'ipopayments_a.csv'), ('ipopayments_b.csv', 'ipopayments_b.csv'), ('ipopayments_b.csv', 'ipopayments_0.csv'), ('ipopayments_b.csv', 'ipopayments_1.csv'), ('ipopayments_b.csv', 'ipopayments_2.csv'), ('ipopayments_b.csv', 'ipopayments_3.csv'), ('ipopayments_b.csv', 'ipopayments_4.csv'), ('ipopayments_b.csv', 'ipopayments_5.csv'), ('ipopayments_b.csv', 'ipopayments_6.csv'), ('ipopayments_b.csv', 'ipopayments_7.csv'), ('ipopayments_b.csv', 'ipopayments_8.csv'), ('ipopayments_b.csv', 'ipopayments_9.csv'), ('ipopayments_b.csv', 'ipopayments_10.csv'), ('ipopayments_b.csv', 'ipopayments_11.csv'), ('ipopayments_b.csv', 'ipopayments_12.csv'), ('oil_and_gas_summary_production_data_1967_1999_a.csv', 'oil_and_gas_summary_production_data_1967_1999_a.csv'), ('oil_and_gas_summary_production_data_1967_1999_a.csv', 'oil_and_gas_summary_production_data_1967_1999_0.csv'), ('oil_and_gas_summary_production_data_1967_1999_a.csv', 'oil_and_gas_summary_production_data_1967_1999_1.csv'), ('oil_and_gas_summary_production_data_1967_1999_a.csv', 'oil_and_gas_summary_production_data_1967_1999_2.csv'), ('oil_and_gas_summary_production_data_1967_1999_a.csv', 'oil_and_gas_summary_production_data_1967_1999_3.csv'), ('oil_and_gas_summary_production_data_1967_1999_a.csv', 'oil_and_gas_summary_production_data_1967_1999_4.csv'), ('oil_and_gas_summary_production_data_1967_1999_a.csv', 'oil_and_gas_summary_production_data_1967_1999_5.csv'), ('oil_and_gas_summary_production_data_1967_1999_a.csv', 'oil_and_gas_summary_production_data_1967_1999_6.csv'), ('oil_and_gas_summary_production_data_1967_1999_a.csv', 'oil_and_gas_summary_production_data_1967_1999_7.csv'), ('oil_and_gas_summary_production_data_1967_1999_a.csv', 'oil_and_gas_summary_production_data_1967_1999_8.csv'), ('oil_and_gas_summary_production_data_1967_1999_a.csv', 'oil_and_gas_summary_production_data_1967_1999_9.csv'), ('deaths_2012_2018_a.csv', 'deaths_2012_2018_a.csv'), ('deaths_2012_2018_a.csv', 'deaths_2012_2018_0.csv'), ('deaths_2012_2018_a.csv', 'deaths_2012_2018_1.csv'), ('deaths_2012_2018_a.csv', 'deaths_2012_2018_2.csv'), ('deaths_2012_2018_a.csv', 'deaths_2012_2018_3.csv'), ('deaths_2012_2018_a.csv', 'deaths_2012_2018_4.csv'), ('deaths_2012_2018_a.csv', 'deaths_2012_2018_5.csv'), ('deaths_2012_2018_a.csv', 'deaths_2012_2018_6.csv'), ('deaths_2012_2018_a.csv', 'deaths_2012_2018_7.csv'), ('deaths_2012_2018_a.csv', 'deaths_2012_2018_8.csv'), ('deaths_2012_2018_a.csv', 'deaths_2012_2018_9.csv'), ('albums_a.csv', 'albums_a.csv'), ('albums_a.csv', 'albums_b.csv'), ('albums_a.csv', 'albums_0.csv'), ('albums_a.csv', 'albums_1.csv'), ('albums_a.csv', 'albums_2.csv'), ('albums_a.csv', 'albums_3.csv'), ('albums_a.csv', 'albums_4.csv'), ('albums_a.csv', 'albums_5.csv'), ('albums_a.csv', 'albums_6.csv'), ('albums_a.csv', 'albums_7.csv'), ('albums_a.csv', 'albums_8.csv'), ('albums_a.csv', 'albums_9.csv'), ('albums_a.csv', 'albums_10.csv'), ('albums_a.csv', 'albums_11.csv'), ('albums_a.csv', 'albums_12.csv'), ('albums_a.csv', 'albums_13.csv'), ('albums_b.csv', 'albums_a.csv'), ('albums_b.csv', 'albums_b.csv'), ('albums_b.csv', 'albums_0.csv'), ('albums_b.csv', 'albums_1.csv'), ('albums_b.csv', 'albums_2.csv'), ('albums_b.csv', 'albums_3.csv'), ('albums_b.csv', 'albums_4.csv'), ('albums_b.csv', 'albums_5.csv'), ('albums_b.csv', 'albums_6.csv'), ('albums_b.csv', 'albums_7.csv'), ('albums_b.csv', 'albums_8.csv'), ('albums_b.csv', 'albums_9.csv'), ('albums_b.csv', 'albums_10.csv'), ('albums_b.csv', 'albums_11.csv'), ('albums_b.csv', 'albums_12.csv'), ('albums_b.csv', 'albums_13.csv'), ('animal_tag_data_a.csv', 'animal_tag_data_a.csv'), ('animal_tag_data_a.csv', 'animal_tag_data_b.csv'), ('animal_tag_data_a.csv', 'animal_tag_data_0.csv'), ('animal_tag_data_a.csv', 'animal_tag_data_1.csv'), ('animal_tag_data_a.csv', 'animal_tag_data_2.csv'), ('animal_tag_data_a.csv', 'animal_tag_data_3.csv'), ('animal_tag_data_a.csv', 'animal_tag_data_4.csv'), ('animal_tag_data_a.csv', 'animal_tag_data_5.csv'), ('animal_tag_data_a.csv', 'animal_tag_data_6.csv'), ('animal_tag_data_a.csv', 'animal_tag_data_7.csv'), ('animal_tag_data_a.csv', 'animal_tag_data_8.csv'), ('animal_tag_data_a.csv', 'animal_tag_data_9.csv'), ('animal_tag_data_b.csv', 'animal_tag_data_a.csv'), ('animal_tag_data_b.csv', 'animal_tag_data_b.csv'), ('animal_tag_data_b.csv', 'animal_tag_data_0.csv'), ('animal_tag_data_b.csv', 'animal_tag_data_1.csv'), ('animal_tag_data_b.csv', 'animal_tag_data_2.csv'), ('animal_tag_data_b.csv', 'animal_tag_data_3.csv'), ('animal_tag_data_b.csv', 'animal_tag_data_4.csv'), ('animal_tag_data_b.csv', 'animal_tag_data_5.csv'), ('animal_tag_data_b.csv', 'animal_tag_data_6.csv'), ('animal_tag_data_b.csv', 'animal_tag_data_7.csv'), ('animal_tag_data_b.csv', 'animal_tag_data_8.csv'), ('animal_tag_data_b.csv', 'animal_tag_data_9.csv'), ('new_york_city_restaurant_inspection_results_a.csv', 'new_york_city_restaurant_inspection_results_a.csv'), ('new_york_city_restaurant_inspection_results_a.csv', 'new_york_city_restaurant_inspection_results_0.csv'), ('new_york_city_restaurant_inspection_results_a.csv', 'new_york_city_restaurant_inspection_results_1.csv'), ('new_york_city_restaurant_inspection_results_a.csv', 'new_york_city_restaurant_inspection_results_2.csv'), ('new_york_city_restaurant_inspection_results_a.csv', 'new_york_city_restaurant_inspection_results_3.csv'), ('new_york_city_restaurant_inspection_results_a.csv', 'new_york_city_restaurant_inspection_results_4.csv'), ('new_york_city_restaurant_inspection_results_a.csv', 'new_york_city_restaurant_inspection_results_5.csv'), ('new_york_city_restaurant_inspection_results_a.csv', 'new_york_city_restaurant_inspection_results_6.csv'), ('new_york_city_restaurant_inspection_results_a.csv', 'new_york_city_restaurant_inspection_results_7.csv'), ('new_york_city_restaurant_inspection_results_a.csv', 'new_york_city_restaurant_inspection_results_8.csv'), ('new_york_city_restaurant_inspection_results_a.csv', 'new_york_city_restaurant_inspection_results_9.csv'), ('new_york_city_restaurant_inspection_results_a.csv', 'new_york_city_restaurant_inspection_results_10.csv'), ('new_york_city_restaurant_inspection_results_a.csv', 'new_york_city_restaurant_inspection_results_11.csv'), ('new_york_city_restaurant_inspection_results_a.csv', 'new_york_city_restaurant_inspection_results_12.csv'), ('new_york_city_restaurant_inspection_results_a.csv', 'new_york_city_restaurant_inspection_results_13.csv'), ('new_york_city_restaurant_inspection_results_a.csv', 'new_york_city_restaurant_inspection_results_14.csv'), ('new_york_city_restaurant_inspection_results_a.csv', 'new_york_city_restaurant_inspection_results_15.csv'), ('new_york_city_restaurant_inspection_results_a.csv', 'new_york_city_restaurant_inspection_results_16.csv'), ('new_york_city_restaurant_inspection_results_a.csv', 'new_york_city_restaurant_inspection_results_17.csv'), ('new_york_city_restaurant_inspection_results_a.csv', 'new_york_city_restaurant_inspection_results_18.csv'), ('new_york_city_restaurant_inspection_results_a.csv', 'new_york_city_restaurant_inspection_results_19.csv'), ('new_york_city_restaurant_inspection_results_a.csv', 'new_york_city_restaurant_inspection_results_20.csv'), ('new_york_city_restaurant_inspection_results_a.csv', 'new_york_city_restaurant_inspection_results_21.csv'), ('new_york_city_restaurant_inspection_results_a.csv', 'new_york_city_restaurant_inspection_results_22.csv'), ('new_york_city_restaurant_inspection_results_a.csv', 'new_york_city_restaurant_inspection_results_23.csv'), ('new_york_city_restaurant_inspection_results_a.csv', 'new_york_city_restaurant_inspection_results_24.csv'), ('new_york_city_restaurant_inspection_results_a.csv', 'new_york_city_restaurant_inspection_results_25.csv'), ('new_york_city_restaurant_inspection_results_a.csv', 'new_york_city_restaurant_inspection_results_26.csv'), ('new_york_city_restaurant_inspection_results_a.csv', 'new_york_city_restaurant_inspection_results_27.csv'), ('new_york_city_restaurant_inspection_results_a.csv', 'new_york_city_restaurant_inspection_results_28.csv'), ('new_york_city_restaurant_inspection_results_a.csv', 'new_york_city_restaurant_inspection_results_29.csv'), ('business_rates_a.csv', 'business_rates_a.csv'), ('business_rates_a.csv', 'business_rates_0.csv'), ('business_rates_a.csv', 'business_rates_1.csv'), ('business_rates_a.csv', 'business_rates_2.csv'), ('business_rates_a.csv', 'business_rates_3.csv'), ('business_rates_a.csv', 'business_rates_4.csv'), ('business_rates_a.csv', 'business_rates_5.csv'), ('business_rates_a.csv', 'business_rates_6.csv'), ('business_rates_a.csv', 'business_rates_7.csv'), ('business_rates_a.csv', 'business_rates_8.csv'), ('business_rates_a.csv', 'business_rates_9.csv'), ('business_rates_a.csv', 'business_rates_10.csv'), ('biodiversity_a.csv', 'biodiversity_a.csv'), ('biodiversity_a.csv', 'biodiversity_0.csv'), ('biodiversity_a.csv', 'biodiversity_1.csv'), ('biodiversity_a.csv', 'biodiversity_2.csv'), ('biodiversity_a.csv', 'biodiversity_3.csv'), ('biodiversity_a.csv', 'biodiversity_4.csv'), ('biodiversity_a.csv', 'biodiversity_5.csv'), ('biodiversity_a.csv', 'biodiversity_6.csv'), ('biodiversity_a.csv', 'biodiversity_7.csv'), ('biodiversity_a.csv', 'biodiversity_8.csv'), ('biodiversity_a.csv', 'biodiversity_9.csv'), ('contributors_parties_a.csv', 'contributors_parties_a.csv'), ('contributors_parties_a.csv', 'contributors_parties_b.csv'), ('contributors_parties_a.csv', 'contributors_parties_0.csv'), ('contributors_parties_a.csv', 'contributors_parties_1.csv'), ('contributors_parties_a.csv', 'contributors_parties_2.csv'), ('contributors_parties_a.csv', 'contributors_parties_3.csv'), ('contributors_parties_a.csv', 'contributors_parties_4.csv'), ('contributors_parties_a.csv', 'contributors_parties_5.csv'), ('contributors_parties_a.csv', 'contributors_parties_6.csv'), ('contributors_parties_a.csv', 'contributors_parties_7.csv'), ('contributors_parties_a.csv', 'contributors_parties_8.csv'), ('contributors_parties_a.csv', 'contributors_parties_9.csv'), ('contributors_parties_a.csv', 'contributors_parties_10.csv'), ('contributors_parties_a.csv', 'contributors_parties_11.csv'), ('contributors_parties_a.csv', 'contributors_parties_12.csv'), ('contributors_parties_a.csv', 'contributors_parties_13.csv'), ('contributors_parties_a.csv', 'contributors_parties_14.csv'), ('contributors_parties_a.csv', 'contributors_parties_15.csv'), ('contributors_parties_a.csv', 'contributors_parties_16.csv'), ('contributors_parties_a.csv', 'contributors_parties_17.csv'), ('contributors_parties_a.csv', 'contributors_parties_18.csv'), ('contributors_parties_b.csv', 'contributors_parties_a.csv'), ('contributors_parties_b.csv', 'contributors_parties_b.csv'), ('contributors_parties_b.csv', 'contributors_parties_0.csv'), ('contributors_parties_b.csv', 'contributors_parties_1.csv'), ('contributors_parties_b.csv', 'contributors_parties_2.csv'), ('contributors_parties_b.csv', 'contributors_parties_3.csv'), ('contributors_parties_b.csv', 'contributors_parties_4.csv'), ('contributors_parties_b.csv', 'contributors_parties_5.csv'), ('contributors_parties_b.csv', 'contributors_parties_6.csv'), ('contributors_parties_b.csv', 'contributors_parties_7.csv'), ('contributors_parties_b.csv', 'contributors_parties_8.csv'), ('contributors_parties_b.csv', 'contributors_parties_9.csv'), ('contributors_parties_b.csv', 'contributors_parties_10.csv'), ('contributors_parties_b.csv', 'contributors_parties_11.csv'), ('contributors_parties_b.csv', 'contributors_parties_12.csv'), ('contributors_parties_b.csv', 'contributors_parties_13.csv'), ('contributors_parties_b.csv', 'contributors_parties_14.csv'), ('contributors_parties_b.csv', 'contributors_parties_15.csv'), ('contributors_parties_b.csv', 'contributors_parties_16.csv'), ('contributors_parties_b.csv', 'contributors_parties_17.csv'), ('contributors_parties_b.csv', 'contributors_parties_18.csv'), ('workforce_management_information_a.csv', 'workforce_management_information_a.csv'), ('workforce_management_information_a.csv', 'workforce_management_information_b.csv'), ('workforce_management_information_a.csv', 'workforce_management_information_0.csv'), ('workforce_management_information_a.csv', 'workforce_management_information_1.csv'), ('workforce_management_information_a.csv', 'workforce_management_information_2.csv'), ('workforce_management_information_a.csv', 'workforce_management_information_3.csv'), ('workforce_management_information_a.csv', 'workforce_management_information_4.csv'), ('workforce_management_information_a.csv', 'workforce_management_information_5.csv'), ('workforce_management_information_a.csv', 'workforce_management_information_6.csv'), ('workforce_management_information_a.csv', 'workforce_management_information_7.csv'), ('workforce_management_information_a.csv', 'workforce_management_information_8.csv'), ('workforce_management_information_a.csv', 'workforce_management_information_9.csv'), ('workforce_management_information_a.csv', 'workforce_management_information_10.csv'), ('workforce_management_information_a.csv', 'workforce_management_information_11.csv'), ('workforce_management_information_a.csv', 'workforce_management_information_12.csv'), ('workforce_management_information_a.csv', 'workforce_management_information_13.csv'), ('workforce_management_information_a.csv', 'workforce_management_information_14.csv'), ('workforce_management_information_a.csv', 'workforce_management_information_15.csv'), ('workforce_management_information_b.csv', 'workforce_management_information_a.csv'), ('workforce_management_information_b.csv', 'workforce_management_information_b.csv'), ('workforce_management_information_b.csv', 'workforce_management_information_0.csv'), ('workforce_management_information_b.csv', 'workforce_management_information_1.csv'), ('workforce_management_information_b.csv', 'workforce_management_information_2.csv'), ('workforce_management_information_b.csv', 'workforce_management_information_3.csv'), ('workforce_management_information_b.csv', 'workforce_management_information_4.csv'), ('workforce_management_information_b.csv', 'workforce_management_information_5.csv'), ('workforce_management_information_b.csv', 'workforce_management_information_6.csv'), ('workforce_management_information_b.csv', 'workforce_management_information_7.csv'), ('workforce_management_information_b.csv', 'workforce_management_information_8.csv'), ('workforce_management_information_b.csv', 'workforce_management_information_9.csv'), ('workforce_management_information_b.csv', 'workforce_management_information_10.csv'), ('workforce_management_information_b.csv', 'workforce_management_information_11.csv'), ('workforce_management_information_b.csv', 'workforce_management_information_12.csv'), ('workforce_management_information_b.csv', 'workforce_management_information_13.csv'), ('workforce_management_information_b.csv', 'workforce_management_information_14.csv'), ('workforce_management_information_b.csv', 'workforce_management_information_15.csv'), ('wholesale_markets_a.csv', 'wholesale_markets_a.csv'), ('wholesale_markets_a.csv', 'wholesale_markets_0.csv'), ('wholesale_markets_a.csv', 'wholesale_markets_1.csv'), ('wholesale_markets_a.csv', 'wholesale_markets_2.csv'), ('wholesale_markets_a.csv', 'wholesale_markets_3.csv'), ('wholesale_markets_a.csv', 'wholesale_markets_4.csv'), ('wholesale_markets_a.csv', 'wholesale_markets_5.csv'), ('wholesale_markets_a.csv', 'wholesale_markets_6.csv'), ('wholesale_markets_a.csv', 'wholesale_markets_7.csv'), ('wholesale_markets_a.csv', 'wholesale_markets_8.csv'), ('wholesale_markets_a.csv', 'wholesale_markets_9.csv'), ('senior_officials_expenses_a.csv', 'senior_officials_expenses_a.csv'), ('senior_officials_expenses_a.csv', 'senior_officials_expenses_0.csv'), ('senior_officials_expenses_a.csv', 'senior_officials_expenses_1.csv'), ('senior_officials_expenses_a.csv', 'senior_officials_expenses_2.csv'), ('senior_officials_expenses_a.csv', 'senior_officials_expenses_3.csv'), ('senior_officials_expenses_a.csv', 'senior_officials_expenses_4.csv'), ('senior_officials_expenses_a.csv', 'senior_officials_expenses_5.csv'), ('senior_officials_expenses_a.csv', 'senior_officials_expenses_6.csv'), ('senior_officials_expenses_a.csv', 'senior_officials_expenses_7.csv'), ('senior_officials_expenses_a.csv', 'senior_officials_expenses_8.csv'), ('senior_officials_expenses_a.csv', 'senior_officials_expenses_9.csv'), ('monthly_data_feed_a.csv', 'monthly_data_feed_a.csv'), ('monthly_data_feed_a.csv', 'monthly_data_feed_b.csv'), ('monthly_data_feed_a.csv', 'monthly_data_feed_0.csv'), ('monthly_data_feed_a.csv', 'monthly_data_feed_1.csv'), ('monthly_data_feed_a.csv', 'monthly_data_feed_2.csv'), ('monthly_data_feed_a.csv', 'monthly_data_feed_3.csv'), ('monthly_data_feed_a.csv', 'monthly_data_feed_4.csv'), ('monthly_data_feed_a.csv', 'monthly_data_feed_5.csv'), ('monthly_data_feed_a.csv', 'monthly_data_feed_6.csv'), ('monthly_data_feed_a.csv', 'monthly_data_feed_7.csv'), ('monthly_data_feed_a.csv', 'monthly_data_feed_8.csv'), ('monthly_data_feed_a.csv', 'monthly_data_feed_9.csv'), ('monthly_data_feed_a.csv', 'monthly_data_feed_10.csv'), ('monthly_data_feed_b.csv', 'monthly_data_feed_a.csv'), ('monthly_data_feed_b.csv', 'monthly_data_feed_b.csv'), ('monthly_data_feed_b.csv', 'monthly_data_feed_0.csv'), ('monthly_data_feed_b.csv', 'monthly_data_feed_1.csv'), ('monthly_data_feed_b.csv', 'monthly_data_feed_2.csv'), ('monthly_data_feed_b.csv', 'monthly_data_feed_3.csv'), ('monthly_data_feed_b.csv', 'monthly_data_feed_4.csv'), ('monthly_data_feed_b.csv', 'monthly_data_feed_5.csv'), ('monthly_data_feed_b.csv', 'monthly_data_feed_6.csv'), ('monthly_data_feed_b.csv', 'monthly_data_feed_7.csv'), ('monthly_data_feed_b.csv', 'monthly_data_feed_8.csv'), ('monthly_data_feed_b.csv', 'monthly_data_feed_9.csv'), ('monthly_data_feed_b.csv', 'monthly_data_feed_10.csv'), ('tuition_assistance_program_tap_recipients_a.csv', 'tuition_assistance_program_tap_recipients_a.csv'), ('tuition_assistance_program_tap_recipients_a.csv', 'tuition_assistance_program_tap_recipients_0.csv'), ('tuition_assistance_program_tap_recipients_a.csv', 'tuition_assistance_program_tap_recipients_1.csv'), ('tuition_assistance_program_tap_recipients_a.csv', 'tuition_assistance_program_tap_recipients_2.csv'), ('tuition_assistance_program_tap_recipients_a.csv', 'tuition_assistance_program_tap_recipients_3.csv'), ('tuition_assistance_program_tap_recipients_a.csv', 'tuition_assistance_program_tap_recipients_4.csv'), ('tuition_assistance_program_tap_recipients_a.csv', 'tuition_assistance_program_tap_recipients_5.csv'), ('tuition_assistance_program_tap_recipients_a.csv', 'tuition_assistance_program_tap_recipients_6.csv'), ('tuition_assistance_program_tap_recipients_a.csv', 'tuition_assistance_program_tap_recipients_7.csv'), ('tuition_assistance_program_tap_recipients_a.csv', 'tuition_assistance_program_tap_recipients_8.csv'), ('tuition_assistance_program_tap_recipients_a.csv', 'tuition_assistance_program_tap_recipients_9.csv'), ('time_spent_watching_vcr_movies_a.csv', 'time_spent_watching_vcr_movies_a.csv'), ('time_spent_watching_vcr_movies_a.csv', 'time_spent_watching_vcr_movies_0.csv'), ('time_spent_watching_vcr_movies_a.csv', 'time_spent_watching_vcr_movies_1.csv'), ('time_spent_watching_vcr_movies_a.csv', 'time_spent_watching_vcr_movies_2.csv'), ('time_spent_watching_vcr_movies_a.csv', 'time_spent_watching_vcr_movies_3.csv'), ('time_spent_watching_vcr_movies_a.csv', 'time_spent_watching_vcr_movies_4.csv'), ('time_spent_watching_vcr_movies_a.csv', 'time_spent_watching_vcr_movies_5.csv'), ('time_spent_watching_vcr_movies_a.csv', 'time_spent_watching_vcr_movies_6.csv'), ('time_spent_watching_vcr_movies_a.csv', 'time_spent_watching_vcr_movies_7.csv'), ('time_spent_watching_vcr_movies_a.csv', 'time_spent_watching_vcr_movies_8.csv'), ('time_spent_watching_vcr_movies_a.csv', 'time_spent_watching_vcr_movies_9.csv'), ('complaint_by_practice_a.csv', 'complaint_by_practice_a.csv'), ('complaint_by_practice_a.csv', 'complaint_by_practice_b.csv'), ('complaint_by_practice_a.csv', 'complaint_by_practice_0.csv'), ('complaint_by_practice_a.csv', 'complaint_by_practice_1.csv'), ('complaint_by_practice_a.csv', 'complaint_by_practice_2.csv'), ('complaint_by_practice_a.csv', 'complaint_by_practice_3.csv'), ('complaint_by_practice_a.csv', 'complaint_by_practice_4.csv'), ('complaint_by_practice_a.csv', 'complaint_by_practice_5.csv'), ('complaint_by_practice_a.csv', 'complaint_by_practice_6.csv'), ('complaint_by_practice_a.csv', 'complaint_by_practice_7.csv'), ('complaint_by_practice_a.csv', 'complaint_by_practice_8.csv'), ('complaint_by_practice_a.csv', 'complaint_by_practice_9.csv'), ('complaint_by_practice_a.csv', 'complaint_by_practice_10.csv'), ('complaint_by_practice_b.csv', 'complaint_by_practice_a.csv'), ('complaint_by_practice_b.csv', 'complaint_by_practice_b.csv'), ('complaint_by_practice_b.csv', 'complaint_by_practice_0.csv'), ('complaint_by_practice_b.csv', 'complaint_by_practice_1.csv'), ('complaint_by_practice_b.csv', 'complaint_by_practice_2.csv'), ('complaint_by_practice_b.csv', 'complaint_by_practice_3.csv'), ('complaint_by_practice_b.csv', 'complaint_by_practice_4.csv'), ('complaint_by_practice_b.csv', 'complaint_by_practice_5.csv'), ('complaint_by_practice_b.csv', 'complaint_by_practice_6.csv'), ('complaint_by_practice_b.csv', 'complaint_by_practice_7.csv'), ('complaint_by_practice_b.csv', 'complaint_by_practice_8.csv'), ('complaint_by_practice_b.csv', 'complaint_by_practice_9.csv'), ('complaint_by_practice_b.csv', 'complaint_by_practice_10.csv'), ('311_calls_historic_data_a.csv', '311_calls_historic_data_a.csv'), ('311_calls_historic_data_a.csv', '311_calls_historic_data_0.csv'), ('311_calls_historic_data_a.csv', '311_calls_historic_data_1.csv'), ('311_calls_historic_data_a.csv', '311_calls_historic_data_2.csv'), ('311_calls_historic_data_a.csv', '311_calls_historic_data_3.csv'), ('311_calls_historic_data_a.csv', '311_calls_historic_data_4.csv'), ('311_calls_historic_data_a.csv', '311_calls_historic_data_5.csv'), ('311_calls_historic_data_a.csv', '311_calls_historic_data_6.csv'), ('311_calls_historic_data_a.csv', '311_calls_historic_data_7.csv'), ('311_calls_historic_data_a.csv', '311_calls_historic_data_8.csv'), ('311_calls_historic_data_a.csv', '311_calls_historic_data_9.csv'), ('abandoned_wells_a.csv', 'abandoned_wells_a.csv'), ('abandoned_wells_a.csv', 'abandoned_wells_0.csv'), ('abandoned_wells_a.csv', 'abandoned_wells_1.csv'), ('abandoned_wells_a.csv', 'abandoned_wells_2.csv'), ('abandoned_wells_a.csv', 'abandoned_wells_3.csv'), ('abandoned_wells_a.csv', 'abandoned_wells_4.csv'), ('abandoned_wells_a.csv', 'abandoned_wells_5.csv'), ('abandoned_wells_a.csv', 'abandoned_wells_6.csv'), ('abandoned_wells_a.csv', 'abandoned_wells_7.csv'), ('abandoned_wells_a.csv', 'abandoned_wells_8.csv'), ('abandoned_wells_a.csv', 'abandoned_wells_9.csv'), ('immigration_records_a.csv', 'immigration_records_a.csv'), ('immigration_records_a.csv', 'immigration_records_0.csv'), ('immigration_records_a.csv', 'immigration_records_1.csv'), ('immigration_records_a.csv', 'immigration_records_2.csv'), ('immigration_records_a.csv', 'immigration_records_3.csv'), ('immigration_records_a.csv', 'immigration_records_4.csv'), ('immigration_records_a.csv', 'immigration_records_5.csv'), ('immigration_records_a.csv', 'immigration_records_6.csv'), ('immigration_records_a.csv', 'immigration_records_7.csv'), ('immigration_records_a.csv', 'immigration_records_8.csv'), ('immigration_records_a.csv', 'immigration_records_9.csv'), ('immigration_records_a.csv', 'immigration_records_10.csv'), ('immigration_records_a.csv', 'immigration_records_11.csv'), ('immigration_records_a.csv', 'immigration_records_12.csv'), ('immigration_records_a.csv', 'immigration_records_13.csv'), ('immigration_records_a.csv', 'immigration_records_14.csv'), ('film_locations_in_san_francisco_a.csv', 'film_locations_in_san_francisco_a.csv'), ('film_locations_in_san_francisco_a.csv', 'film_locations_in_san_francisco_0.csv'), ('film_locations_in_san_francisco_a.csv', 'film_locations_in_san_francisco_1.csv'), ('film_locations_in_san_francisco_a.csv', 'film_locations_in_san_francisco_2.csv'), ('film_locations_in_san_francisco_a.csv', 'film_locations_in_san_francisco_3.csv'), ('film_locations_in_san_francisco_a.csv', 'film_locations_in_san_francisco_4.csv'), ('film_locations_in_san_francisco_a.csv', 'film_locations_in_san_francisco_5.csv'), ('film_locations_in_san_francisco_a.csv', 'film_locations_in_san_francisco_6.csv'), ('film_locations_in_san_francisco_a.csv', 'film_locations_in_san_francisco_7.csv'), ('film_locations_in_san_francisco_a.csv', 'film_locations_in_san_francisco_8.csv'), ('film_locations_in_san_francisco_a.csv', 'film_locations_in_san_francisco_9.csv'), ('film_locations_in_san_francisco_a.csv', 'film_locations_in_san_francisco_10.csv'), ('film_locations_in_san_francisco_a.csv', 'film_locations_in_san_francisco_11.csv'), ('psyckes_antipsychotic_polypharmacy_quality_indicators_beginning_2012_a.csv', 'psyckes_antipsychotic_polypharmacy_quality_indicators_beginning_2012_a.csv'), ('psyckes_antipsychotic_polypharmacy_quality_indicators_beginning_2012_a.csv', 'psyckes_antipsychotic_polypharmacy_quality_indicators_beginning_2012_0.csv'), ('psyckes_antipsychotic_polypharmacy_quality_indicators_beginning_2012_a.csv', 'psyckes_antipsychotic_polypharmacy_quality_indicators_beginning_2012_1.csv'), ('psyckes_antipsychotic_polypharmacy_quality_indicators_beginning_2012_a.csv', 'psyckes_antipsychotic_polypharmacy_quality_indicators_beginning_2012_2.csv'), ('psyckes_antipsychotic_polypharmacy_quality_indicators_beginning_2012_a.csv', 'psyckes_antipsychotic_polypharmacy_quality_indicators_beginning_2012_3.csv'), ('psyckes_antipsychotic_polypharmacy_quality_indicators_beginning_2012_a.csv', 'psyckes_antipsychotic_polypharmacy_quality_indicators_beginning_2012_4.csv'), ('psyckes_antipsychotic_polypharmacy_quality_indicators_beginning_2012_a.csv', 'psyckes_antipsychotic_polypharmacy_quality_indicators_beginning_2012_5.csv'), ('psyckes_antipsychotic_polypharmacy_quality_indicators_beginning_2012_a.csv', 'psyckes_antipsychotic_polypharmacy_quality_indicators_beginning_2012_6.csv'), ('psyckes_antipsychotic_polypharmacy_quality_indicators_beginning_2012_a.csv', 'psyckes_antipsychotic_polypharmacy_quality_indicators_beginning_2012_7.csv'), ('psyckes_antipsychotic_polypharmacy_quality_indicators_beginning_2012_a.csv', 'psyckes_antipsychotic_polypharmacy_quality_indicators_beginning_2012_8.csv'), ('psyckes_antipsychotic_polypharmacy_quality_indicators_beginning_2012_a.csv', 'psyckes_antipsychotic_polypharmacy_quality_indicators_beginning_2012_9.csv'), ('report_card_discipline_for_2015_16_a.csv', 'report_card_discipline_for_2015_16_a.csv'), ('report_card_discipline_for_2015_16_a.csv', 'report_card_discipline_for_2015_16_0.csv'), ('report_card_discipline_for_2015_16_a.csv', 'report_card_discipline_for_2015_16_1.csv'), ('report_card_discipline_for_2015_16_a.csv', 'report_card_discipline_for_2015_16_2.csv'), ('report_card_discipline_for_2015_16_a.csv', 'report_card_discipline_for_2015_16_3.csv'), ('report_card_discipline_for_2015_16_a.csv', 'report_card_discipline_for_2015_16_4.csv'), ('report_card_discipline_for_2015_16_a.csv', 'report_card_discipline_for_2015_16_5.csv'), ('report_card_discipline_for_2015_16_a.csv', 'report_card_discipline_for_2015_16_6.csv'), ('report_card_discipline_for_2015_16_a.csv', 'report_card_discipline_for_2015_16_7.csv'), ('report_card_discipline_for_2015_16_a.csv', 'report_card_discipline_for_2015_16_8.csv'), ('report_card_discipline_for_2015_16_a.csv', 'report_card_discipline_for_2015_16_9.csv'), ('job_pay_scales_a.csv', 'job_pay_scales_a.csv'), ('job_pay_scales_a.csv', 'job_pay_scales_0.csv'), ('job_pay_scales_a.csv', 'job_pay_scales_1.csv'), ('job_pay_scales_a.csv', 'job_pay_scales_2.csv'), ('job_pay_scales_a.csv', 'job_pay_scales_3.csv'), ('job_pay_scales_a.csv', 'job_pay_scales_4.csv'), ('job_pay_scales_a.csv', 'job_pay_scales_5.csv'), ('job_pay_scales_a.csv', 'job_pay_scales_6.csv'), ('job_pay_scales_a.csv', 'job_pay_scales_7.csv'), ('job_pay_scales_a.csv', 'job_pay_scales_8.csv'), ('job_pay_scales_a.csv', 'job_pay_scales_9.csv'), ('job_pay_scales_a.csv', 'job_pay_scales_10.csv'), ('job_pay_scales_a.csv', 'job_pay_scales_11.csv'), ('job_pay_scales_a.csv', 'job_pay_scales_12.csv'), ('job_pay_scales_a.csv', 'job_pay_scales_13.csv'), ('purchasing_card_a.csv', 'purchasing_card_a.csv'), ('purchasing_card_a.csv', 'purchasing_card_0.csv'), ('purchasing_card_a.csv', 'purchasing_card_1.csv'), ('purchasing_card_a.csv', 'purchasing_card_2.csv'), ('purchasing_card_a.csv', 'purchasing_card_3.csv'), ('purchasing_card_a.csv', 'purchasing_card_4.csv'), ('purchasing_card_a.csv', 'purchasing_card_5.csv'), ('purchasing_card_a.csv', 'purchasing_card_6.csv'), ('purchasing_card_a.csv', 'purchasing_card_7.csv'), ('purchasing_card_a.csv', 'purchasing_card_8.csv'), ('purchasing_card_a.csv', 'purchasing_card_9.csv'), ('purchasing_card_a.csv', 'purchasing_card_10.csv'), ('purchasing_card_a.csv', 'purchasing_card_11.csv'), ('minister_meetings_a.csv', 'minister_meetings_a.csv'), ('minister_meetings_a.csv', 'minister_meetings_0.csv'), ('minister_meetings_a.csv', 'minister_meetings_1.csv'), ('minister_meetings_a.csv', 'minister_meetings_2.csv'), ('minister_meetings_a.csv', 'minister_meetings_3.csv'), ('minister_meetings_a.csv', 'minister_meetings_4.csv'), ('minister_meetings_a.csv', 'minister_meetings_5.csv'), ('minister_meetings_a.csv', 'minister_meetings_6.csv'), ('minister_meetings_a.csv', 'minister_meetings_7.csv'), ('minister_meetings_a.csv', 'minister_meetings_8.csv'), ('minister_meetings_a.csv', 'minister_meetings_9.csv'), ('lane_description_a.csv', 'lane_description_a.csv'), ('lane_description_a.csv', 'lane_description_b.csv'), ('lane_description_a.csv', 'lane_description_0.csv'), ('lane_description_a.csv', 'lane_description_1.csv'), ('lane_description_a.csv', 'lane_description_2.csv'), ('lane_description_a.csv', 'lane_description_3.csv'), ('lane_description_a.csv', 'lane_description_4.csv'), ('lane_description_a.csv', 'lane_description_5.csv'), ('lane_description_a.csv', 'lane_description_6.csv'), ('lane_description_a.csv', 'lane_description_7.csv'), ('lane_description_a.csv', 'lane_description_8.csv'), ('lane_description_a.csv', 'lane_description_9.csv'), ('lane_description_a.csv', 'lane_description_10.csv'), ('lane_description_a.csv', 'lane_description_11.csv'), ('lane_description_a.csv', 'lane_description_12.csv'), ('lane_description_a.csv', 'lane_description_13.csv'), ('lane_description_b.csv', 'lane_description_a.csv'), ('lane_description_b.csv', 'lane_description_b.csv'), ('lane_description_b.csv', 'lane_description_0.csv'), ('lane_description_b.csv', 'lane_description_1.csv'), ('lane_description_b.csv', 'lane_description_2.csv'), ('lane_description_b.csv', 'lane_description_3.csv'), ('lane_description_b.csv', 'lane_description_4.csv'), ('lane_description_b.csv', 'lane_description_5.csv'), ('lane_description_b.csv', 'lane_description_6.csv'), ('lane_description_b.csv', 'lane_description_7.csv'), ('lane_description_b.csv', 'lane_description_8.csv'), ('lane_description_b.csv', 'lane_description_9.csv'), ('lane_description_b.csv', 'lane_description_10.csv'), ('lane_description_b.csv', 'lane_description_11.csv'), ('lane_description_b.csv', 'lane_description_12.csv'), ('lane_description_b.csv', 'lane_description_13.csv'), ('mines_a.csv', 'mines_a.csv'), ('mines_a.csv', 'mines_b.csv'), ('mines_a.csv', 'mines_0.csv'), ('mines_a.csv', 'mines_1.csv'), ('mines_a.csv', 'mines_2.csv'), ('mines_a.csv', 'mines_3.csv'), ('mines_a.csv', 'mines_4.csv'), ('mines_a.csv', 'mines_5.csv'), ('mines_a.csv', 'mines_6.csv'), ('mines_a.csv', 'mines_7.csv'), ('mines_a.csv', 'mines_8.csv'), ('mines_a.csv', 'mines_9.csv'), ('mines_a.csv', 'mines_10.csv'), ('mines_a.csv', 'mines_11.csv'), ('mines_b.csv', 'mines_a.csv'), ('mines_b.csv', 'mines_b.csv'), ('mines_b.csv', 'mines_0.csv'), ('mines_b.csv', 'mines_1.csv'), ('mines_b.csv', 'mines_2.csv'), ('mines_b.csv', 'mines_3.csv'), ('mines_b.csv', 'mines_4.csv'), ('mines_b.csv', 'mines_5.csv'), ('mines_b.csv', 'mines_6.csv'), ('mines_b.csv', 'mines_7.csv'), ('mines_b.csv', 'mines_8.csv'), ('mines_b.csv', 'mines_9.csv'), ('mines_b.csv', 'mines_10.csv'), ('mines_b.csv', 'mines_11.csv'), ('prescribing_a.csv', 'prescribing_a.csv'), ('prescribing_a.csv', 'prescribing_b.csv'), ('prescribing_a.csv', 'prescribing_0.csv'), ('prescribing_a.csv', 'prescribing_1.csv'), ('prescribing_a.csv', 'prescribing_2.csv'), ('prescribing_a.csv', 'prescribing_3.csv'), ('prescribing_a.csv', 'prescribing_4.csv'), ('prescribing_a.csv', 'prescribing_5.csv'), ('prescribing_a.csv', 'prescribing_6.csv'), ('prescribing_a.csv', 'prescribing_7.csv'), ('prescribing_a.csv', 'prescribing_8.csv'), ('prescribing_a.csv', 'prescribing_9.csv'), ('prescribing_a.csv', 'prescribing_10.csv'), ('prescribing_a.csv', 'prescribing_11.csv'), ('prescribing_a.csv', 'prescribing_12.csv'), ('prescribing_b.csv', 'prescribing_a.csv'), ('prescribing_b.csv', 'prescribing_b.csv'), ('prescribing_b.csv', 'prescribing_0.csv'), ('prescribing_b.csv', 'prescribing_1.csv'), ('prescribing_b.csv', 'prescribing_2.csv'), ('prescribing_b.csv', 'prescribing_3.csv'), ('prescribing_b.csv', 'prescribing_4.csv'), ('prescribing_b.csv', 'prescribing_5.csv'), ('prescribing_b.csv', 'prescribing_6.csv'), ('prescribing_b.csv', 'prescribing_7.csv'), ('prescribing_b.csv', 'prescribing_8.csv'), ('prescribing_b.csv', 'prescribing_9.csv'), ('prescribing_b.csv', 'prescribing_10.csv'), ('prescribing_b.csv', 'prescribing_11.csv'), ('prescribing_b.csv', 'prescribing_12.csv'), ('practice_reference_a.csv', 'practice_reference_a.csv'), ('practice_reference_a.csv', 'practice_reference_b.csv'), ('practice_reference_a.csv', 'practice_reference_0.csv'), ('practice_reference_a.csv', 'practice_reference_1.csv'), ('practice_reference_a.csv', 'practice_reference_2.csv'), ('practice_reference_a.csv', 'practice_reference_3.csv'), ('practice_reference_a.csv', 'practice_reference_4.csv'), ('practice_reference_a.csv', 'practice_reference_5.csv'), ('practice_reference_a.csv', 'practice_reference_6.csv'), ('practice_reference_a.csv', 'practice_reference_7.csv'), ('practice_reference_a.csv', 'practice_reference_8.csv'), ('practice_reference_a.csv', 'practice_reference_9.csv'), ('practice_reference_a.csv', 'practice_reference_10.csv'), ('practice_reference_a.csv', 'practice_reference_11.csv'), ('practice_reference_a.csv', 'practice_reference_12.csv'), ('practice_reference_b.csv', 'practice_reference_a.csv'), ('practice_reference_b.csv', 'practice_reference_b.csv'), ('practice_reference_b.csv', 'practice_reference_0.csv'), ('practice_reference_b.csv', 'practice_reference_1.csv'), ('practice_reference_b.csv', 'practice_reference_2.csv'), ('practice_reference_b.csv', 'practice_reference_3.csv'), ('practice_reference_b.csv', 'practice_reference_4.csv'), ('practice_reference_b.csv', 'practice_reference_5.csv'), ('practice_reference_b.csv', 'practice_reference_6.csv'), ('practice_reference_b.csv', 'practice_reference_7.csv'), ('practice_reference_b.csv', 'practice_reference_8.csv'), ('practice_reference_b.csv', 'practice_reference_9.csv'), ('practice_reference_b.csv', 'practice_reference_10.csv'), ('practice_reference_b.csv', 'practice_reference_11.csv'), ('practice_reference_b.csv', 'practice_reference_12.csv'), ('stockport_contracts_a.csv', 'stockport_contracts_a.csv'), ('stockport_contracts_a.csv', 'stockport_contracts_b.csv'), ('stockport_contracts_a.csv', 'stockport_contracts_0.csv'), ('stockport_contracts_a.csv', 'stockport_contracts_1.csv'), ('stockport_contracts_a.csv', 'stockport_contracts_2.csv'), ('stockport_contracts_a.csv', 'stockport_contracts_3.csv'), ('stockport_contracts_a.csv', 'stockport_contracts_4.csv'), ('stockport_contracts_a.csv', 'stockport_contracts_5.csv'), ('stockport_contracts_a.csv', 'stockport_contracts_6.csv'), ('stockport_contracts_a.csv', 'stockport_contracts_7.csv'), ('stockport_contracts_a.csv', 'stockport_contracts_8.csv'), ('stockport_contracts_a.csv', 'stockport_contracts_9.csv'), ('stockport_contracts_a.csv', 'stockport_contracts_10.csv'), ('stockport_contracts_a.csv', 'stockport_contracts_11.csv'), ('stockport_contracts_b.csv', 'stockport_contracts_a.csv'), ('stockport_contracts_b.csv', 'stockport_contracts_b.csv'), ('stockport_contracts_b.csv', 'stockport_contracts_0.csv'), ('stockport_contracts_b.csv', 'stockport_contracts_1.csv'), ('stockport_contracts_b.csv', 'stockport_contracts_2.csv'), ('stockport_contracts_b.csv', 'stockport_contracts_3.csv'), ('stockport_contracts_b.csv', 'stockport_contracts_4.csv'), ('stockport_contracts_b.csv', 'stockport_contracts_5.csv'), ('stockport_contracts_b.csv', 'stockport_contracts_6.csv'), ('stockport_contracts_b.csv', 'stockport_contracts_7.csv'), ('stockport_contracts_b.csv', 'stockport_contracts_8.csv'), ('stockport_contracts_b.csv', 'stockport_contracts_9.csv'), ('stockport_contracts_b.csv', 'stockport_contracts_10.csv'), ('stockport_contracts_b.csv', 'stockport_contracts_11.csv'), ('cdc_nutrition_physical_activity_and_obesity_legislation_a.csv', 'cdc_nutrition_physical_activity_and_obesity_legislation_a.csv'), ('cdc_nutrition_physical_activity_and_obesity_legislation_a.csv', 'cdc_nutrition_physical_activity_and_obesity_legislation_0.csv'), ('cdc_nutrition_physical_activity_and_obesity_legislation_a.csv', 'cdc_nutrition_physical_activity_and_obesity_legislation_1.csv'), ('cdc_nutrition_physical_activity_and_obesity_legislation_a.csv', 'cdc_nutrition_physical_activity_and_obesity_legislation_2.csv'), ('cdc_nutrition_physical_activity_and_obesity_legislation_a.csv', 'cdc_nutrition_physical_activity_and_obesity_legislation_3.csv'), ('cdc_nutrition_physical_activity_and_obesity_legislation_a.csv', 'cdc_nutrition_physical_activity_and_obesity_legislation_4.csv'), ('cdc_nutrition_physical_activity_and_obesity_legislation_a.csv', 'cdc_nutrition_physical_activity_and_obesity_legislation_5.csv'), ('cdc_nutrition_physical_activity_and_obesity_legislation_a.csv', 'cdc_nutrition_physical_activity_and_obesity_legislation_6.csv'), ('cdc_nutrition_physical_activity_and_obesity_legislation_a.csv', 'cdc_nutrition_physical_activity_and_obesity_legislation_7.csv'), ('cdc_nutrition_physical_activity_and_obesity_legislation_a.csv', 'cdc_nutrition_physical_activity_and_obesity_legislation_8.csv'), ('cdc_nutrition_physical_activity_and_obesity_legislation_a.csv', 'cdc_nutrition_physical_activity_and_obesity_legislation_9.csv')]\n"
          ]
        }
      ],
      "source": [
        "# fil = ['minister_meetings_a.csv', 'workforce_management_information_a.csv', 'workforce_management_information_b.csv', 'civic_building_locations_a.csv', 'senior_officials_expenses_a.csv']\n",
        "gt = list(pairs.keys())\n",
        "# op = []\n",
        "# for i in range(len(fil)):\n",
        "#   for j in range(len(gt)):\n",
        "#     if fil[i] in gt[j]:\n",
        "#       op.append(gt[j])\n",
        "# lst_of_tab = list(set(op))\n",
        "\n",
        "print(gt)"
      ]
    },
    {
      "cell_type": "code",
      "execution_count": null,
      "metadata": {
        "colab": {
          "base_uri": "https://localhost:8080/"
        },
        "id": "5VeI61xZANJZ",
        "outputId": "4766b936-f70b-4547-f0f5-29e64d50c631"
      },
      "outputs": [
        {
          "output_type": "stream",
          "name": "stdout",
          "text": [
            "query 50\n",
            "datalake 475\n",
            "False\n"
          ]
        }
      ],
      "source": [
        "print(f\"query\", len(query))\n",
        "print(f\"datalake\", len(datalake))\n",
        "print('abandoned_wells_0.csv' in query)"
      ]
    },
    {
      "cell_type": "code",
      "execution_count": null,
      "metadata": {
        "id": "6kQ3Cq5MXge3"
      },
      "outputs": [],
      "source": [
        "import os\n",
        "  \n",
        "# # Folder Path for datalake\n",
        "path = \"/content/drive/MyDrive/labeled_benchmark/datalake\"\n",
        "  \n",
        "# Change the directory\n",
        "os.chdir(path)\n",
        "\n",
        "def read_file(file_path):\n",
        "    with open(file_path, 'r') as f:\n",
        "      file_datalake = f.read()\n"
      ]
    },
    {
      "cell_type": "code",
      "execution_count": null,
      "metadata": {
        "colab": {
          "base_uri": "https://localhost:8080/",
          "height": 1000,
          "referenced_widgets": [
            "68fde8f08c5348cc82852db5f53b9a61",
            "cb95be6451f74f208f886d737894b430",
            "27c05b15b2c7492e822ced14a2cd3af1",
            "8ca7a7c3ccf54372ae18c9c3d5bec9d6",
            "2260ea6b1c0e48758c2945172e2d925b",
            "f598f9bac45f49a3901c1890a249dafd",
            "1e3f78ba2725475dbcf6554f49e09329",
            "8c01cc03444d4f6eb4c6eaa59c700a54",
            "5946e14f1dc94a4e9d77ddff7ffcdaa7",
            "85c4025a70674abc96d5ca402db31542",
            "504cf5f5b53a475b916838c2beafaecc",
            "912703ddadfd49169438047561e17537",
            "b52c54e2d84342febe967cf967f08d8e",
            "09905be12b6e4769ae7c302485ab8080",
            "56fa3de0f18c4802aed0c3a22aa9f25c",
            "2cf39deedd2146d7a7cdd92302554fcc",
            "35a3dc02466e4055872ecb97374a1d27",
            "d55587e2d7114a5da7e59ded18a8b254",
            "e06a2c21a6384810be4b92e1e0f0182a",
            "aee09f686baa40d1b5118ed2666a613f",
            "6f654f5f4b294de6aafac2bd8757b5d1",
            "e9c1c46c9ee646edbdf2f4ac8ec72706"
          ]
        },
        "id": "tif47nQaidvn",
        "outputId": "7ca1a257-6146-4fee-810e-67368852bb19"
      },
      "outputs": [
        {
          "output_type": "stream",
          "name": "stdout",
          "text": [
            "20\n"
          ]
        },
        {
          "output_type": "display_data",
          "data": {
            "text/plain": [
              "Downloading:   0%|          | 0.00/570 [00:00<?, ?B/s]"
            ],
            "application/vnd.jupyter.widget-view+json": {
              "version_major": 2,
              "version_minor": 0,
              "model_id": "68fde8f08c5348cc82852db5f53b9a61"
            }
          },
          "metadata": {}
        },
        {
          "output_type": "display_data",
          "data": {
            "text/plain": [
              "Downloading:   0%|          | 0.00/440M [00:00<?, ?B/s]"
            ],
            "application/vnd.jupyter.widget-view+json": {
              "version_major": 2,
              "version_minor": 0,
              "model_id": "912703ddadfd49169438047561e17537"
            }
          },
          "metadata": {}
        },
        {
          "output_type": "stream",
          "name": "stderr",
          "text": [
            "Some weights of the model checkpoint at bert-base-uncased were not used when initializing BertModel: ['cls.predictions.transform.LayerNorm.bias', 'cls.predictions.transform.dense.bias', 'cls.seq_relationship.weight', 'cls.predictions.transform.dense.weight', 'cls.predictions.bias', 'cls.predictions.decoder.weight', 'cls.predictions.transform.LayerNorm.weight', 'cls.seq_relationship.bias']\n",
            "- This IS expected if you are initializing BertModel from the checkpoint of a model trained on another task or with another architecture (e.g. initializing a BertForSequenceClassification model from a BertForPreTraining model).\n",
            "- This IS NOT expected if you are initializing BertModel from the checkpoint of a model that you expect to be exactly identical (initializing a BertForSequenceClassification model from a BertForSequenceClassification model).\n",
            "/usr/local/lib/python3.8/dist-packages/transformers/tokenization_utils_base.py:1703: FutureWarning: Calling BertTokenizer.from_pretrained() with the path to a single file or url is deprecated and won't be possible anymore in v5. Use a model identifier or the path to a directory instead.\n",
            "  warnings.warn(\n",
            "100%|██████████| 20/20 [00:00<00:00, 7432.76it/s]\n",
            "<ipython-input-101-97c62983cf6f>:57: UserWarning: To copy construct from a tensor, it is recommended to use sourceTensor.clone().detach() or sourceTensor.clone().detach().requires_grad_(True), rather than torch.tensor(sourceTensor).\n",
            "  token_ids = torch.tensor(row_ids).unsqueeze(0)\n"
          ]
        },
        {
          "output_type": "stream",
          "name": "stdout",
          "text": [
            "20\n"
          ]
        },
        {
          "output_type": "stream",
          "name": "stderr",
          "text": [
            "Some weights of the model checkpoint at bert-base-uncased were not used when initializing BertModel: ['cls.predictions.transform.LayerNorm.bias', 'cls.predictions.transform.dense.bias', 'cls.seq_relationship.weight', 'cls.predictions.transform.dense.weight', 'cls.predictions.bias', 'cls.predictions.decoder.weight', 'cls.predictions.transform.LayerNorm.weight', 'cls.seq_relationship.bias']\n",
            "- This IS expected if you are initializing BertModel from the checkpoint of a model trained on another task or with another architecture (e.g. initializing a BertForSequenceClassification model from a BertForPreTraining model).\n",
            "- This IS NOT expected if you are initializing BertModel from the checkpoint of a model that you expect to be exactly identical (initializing a BertForSequenceClassification model from a BertForSequenceClassification model).\n",
            "100%|██████████| 20/20 [00:00<00:00, 8003.63it/s]\n"
          ]
        },
        {
          "output_type": "stream",
          "name": "stdout",
          "text": [
            "20\n"
          ]
        },
        {
          "output_type": "stream",
          "name": "stderr",
          "text": [
            "Some weights of the model checkpoint at bert-base-uncased were not used when initializing BertModel: ['cls.predictions.transform.LayerNorm.bias', 'cls.predictions.transform.dense.bias', 'cls.seq_relationship.weight', 'cls.predictions.transform.dense.weight', 'cls.predictions.bias', 'cls.predictions.decoder.weight', 'cls.predictions.transform.LayerNorm.weight', 'cls.seq_relationship.bias']\n",
            "- This IS expected if you are initializing BertModel from the checkpoint of a model trained on another task or with another architecture (e.g. initializing a BertForSequenceClassification model from a BertForPreTraining model).\n",
            "- This IS NOT expected if you are initializing BertModel from the checkpoint of a model that you expect to be exactly identical (initializing a BertForSequenceClassification model from a BertForSequenceClassification model).\n",
            "100%|██████████| 20/20 [00:00<00:00, 23817.74it/s]\n"
          ]
        },
        {
          "output_type": "stream",
          "name": "stdout",
          "text": [
            "20\n"
          ]
        },
        {
          "output_type": "stream",
          "name": "stderr",
          "text": [
            "Some weights of the model checkpoint at bert-base-uncased were not used when initializing BertModel: ['cls.predictions.transform.LayerNorm.bias', 'cls.predictions.transform.dense.bias', 'cls.seq_relationship.weight', 'cls.predictions.transform.dense.weight', 'cls.predictions.bias', 'cls.predictions.decoder.weight', 'cls.predictions.transform.LayerNorm.weight', 'cls.seq_relationship.bias']\n",
            "- This IS expected if you are initializing BertModel from the checkpoint of a model trained on another task or with another architecture (e.g. initializing a BertForSequenceClassification model from a BertForPreTraining model).\n",
            "- This IS NOT expected if you are initializing BertModel from the checkpoint of a model that you expect to be exactly identical (initializing a BertForSequenceClassification model from a BertForSequenceClassification model).\n",
            "100%|██████████| 20/20 [00:00<00:00, 3470.81it/s]\n"
          ]
        },
        {
          "output_type": "stream",
          "name": "stdout",
          "text": [
            "20\n"
          ]
        },
        {
          "output_type": "stream",
          "name": "stderr",
          "text": [
            "Some weights of the model checkpoint at bert-base-uncased were not used when initializing BertModel: ['cls.predictions.transform.LayerNorm.bias', 'cls.predictions.transform.dense.bias', 'cls.seq_relationship.weight', 'cls.predictions.transform.dense.weight', 'cls.predictions.bias', 'cls.predictions.decoder.weight', 'cls.predictions.transform.LayerNorm.weight', 'cls.seq_relationship.bias']\n",
            "- This IS expected if you are initializing BertModel from the checkpoint of a model trained on another task or with another architecture (e.g. initializing a BertForSequenceClassification model from a BertForPreTraining model).\n",
            "- This IS NOT expected if you are initializing BertModel from the checkpoint of a model that you expect to be exactly identical (initializing a BertForSequenceClassification model from a BertForSequenceClassification model).\n",
            "100%|██████████| 20/20 [00:00<00:00, 11467.68it/s]\n"
          ]
        },
        {
          "output_type": "stream",
          "name": "stdout",
          "text": [
            "20\n"
          ]
        },
        {
          "output_type": "stream",
          "name": "stderr",
          "text": [
            "Some weights of the model checkpoint at bert-base-uncased were not used when initializing BertModel: ['cls.predictions.transform.LayerNorm.bias', 'cls.predictions.transform.dense.bias', 'cls.seq_relationship.weight', 'cls.predictions.transform.dense.weight', 'cls.predictions.bias', 'cls.predictions.decoder.weight', 'cls.predictions.transform.LayerNorm.weight', 'cls.seq_relationship.bias']\n",
            "- This IS expected if you are initializing BertModel from the checkpoint of a model trained on another task or with another architecture (e.g. initializing a BertForSequenceClassification model from a BertForPreTraining model).\n",
            "- This IS NOT expected if you are initializing BertModel from the checkpoint of a model that you expect to be exactly identical (initializing a BertForSequenceClassification model from a BertForSequenceClassification model).\n",
            "100%|██████████| 20/20 [00:00<00:00, 10292.77it/s]\n"
          ]
        },
        {
          "output_type": "stream",
          "name": "stdout",
          "text": [
            "0\n"
          ]
        },
        {
          "output_type": "stream",
          "name": "stderr",
          "text": [
            "Some weights of the model checkpoint at bert-base-uncased were not used when initializing BertModel: ['cls.predictions.transform.LayerNorm.bias', 'cls.predictions.transform.dense.bias', 'cls.seq_relationship.weight', 'cls.predictions.transform.dense.weight', 'cls.predictions.bias', 'cls.predictions.decoder.weight', 'cls.predictions.transform.LayerNorm.weight', 'cls.seq_relationship.bias']\n",
            "- This IS expected if you are initializing BertModel from the checkpoint of a model trained on another task or with another architecture (e.g. initializing a BertForSequenceClassification model from a BertForPreTraining model).\n",
            "- This IS NOT expected if you are initializing BertModel from the checkpoint of a model that you expect to be exactly identical (initializing a BertForSequenceClassification model from a BertForSequenceClassification model).\n",
            "0it [00:00, ?it/s]\n"
          ]
        },
        {
          "output_type": "stream",
          "name": "stdout",
          "text": [
            "20\n"
          ]
        },
        {
          "output_type": "stream",
          "name": "stderr",
          "text": [
            "Some weights of the model checkpoint at bert-base-uncased were not used when initializing BertModel: ['cls.predictions.transform.LayerNorm.bias', 'cls.predictions.transform.dense.bias', 'cls.seq_relationship.weight', 'cls.predictions.transform.dense.weight', 'cls.predictions.bias', 'cls.predictions.decoder.weight', 'cls.predictions.transform.LayerNorm.weight', 'cls.seq_relationship.bias']\n",
            "- This IS expected if you are initializing BertModel from the checkpoint of a model trained on another task or with another architecture (e.g. initializing a BertForSequenceClassification model from a BertForPreTraining model).\n",
            "- This IS NOT expected if you are initializing BertModel from the checkpoint of a model that you expect to be exactly identical (initializing a BertForSequenceClassification model from a BertForSequenceClassification model).\n",
            "100%|██████████| 20/20 [00:00<00:00, 23623.23it/s]\n"
          ]
        },
        {
          "output_type": "stream",
          "name": "stdout",
          "text": [
            "4\n"
          ]
        },
        {
          "output_type": "stream",
          "name": "stderr",
          "text": [
            "Some weights of the model checkpoint at bert-base-uncased were not used when initializing BertModel: ['cls.predictions.transform.LayerNorm.bias', 'cls.predictions.transform.dense.bias', 'cls.seq_relationship.weight', 'cls.predictions.transform.dense.weight', 'cls.predictions.bias', 'cls.predictions.decoder.weight', 'cls.predictions.transform.LayerNorm.weight', 'cls.seq_relationship.bias']\n",
            "- This IS expected if you are initializing BertModel from the checkpoint of a model trained on another task or with another architecture (e.g. initializing a BertForSequenceClassification model from a BertForPreTraining model).\n",
            "- This IS NOT expected if you are initializing BertModel from the checkpoint of a model that you expect to be exactly identical (initializing a BertForSequenceClassification model from a BertForSequenceClassification model).\n",
            "100%|██████████| 4/4 [00:00<00:00, 1543.44it/s]\n"
          ]
        },
        {
          "output_type": "stream",
          "name": "stdout",
          "text": [
            "20\n"
          ]
        },
        {
          "output_type": "stream",
          "name": "stderr",
          "text": [
            "Some weights of the model checkpoint at bert-base-uncased were not used when initializing BertModel: ['cls.predictions.transform.LayerNorm.bias', 'cls.predictions.transform.dense.bias', 'cls.seq_relationship.weight', 'cls.predictions.transform.dense.weight', 'cls.predictions.bias', 'cls.predictions.decoder.weight', 'cls.predictions.transform.LayerNorm.weight', 'cls.seq_relationship.bias']\n",
            "- This IS expected if you are initializing BertModel from the checkpoint of a model trained on another task or with another architecture (e.g. initializing a BertForSequenceClassification model from a BertForPreTraining model).\n",
            "- This IS NOT expected if you are initializing BertModel from the checkpoint of a model that you expect to be exactly identical (initializing a BertForSequenceClassification model from a BertForSequenceClassification model).\n",
            "100%|██████████| 20/20 [00:00<00:00, 14383.76it/s]\n"
          ]
        },
        {
          "output_type": "stream",
          "name": "stdout",
          "text": [
            "5\n"
          ]
        },
        {
          "output_type": "stream",
          "name": "stderr",
          "text": [
            "Some weights of the model checkpoint at bert-base-uncased were not used when initializing BertModel: ['cls.predictions.transform.LayerNorm.bias', 'cls.predictions.transform.dense.bias', 'cls.seq_relationship.weight', 'cls.predictions.transform.dense.weight', 'cls.predictions.bias', 'cls.predictions.decoder.weight', 'cls.predictions.transform.LayerNorm.weight', 'cls.seq_relationship.bias']\n",
            "- This IS expected if you are initializing BertModel from the checkpoint of a model trained on another task or with another architecture (e.g. initializing a BertForSequenceClassification model from a BertForPreTraining model).\n",
            "- This IS NOT expected if you are initializing BertModel from the checkpoint of a model that you expect to be exactly identical (initializing a BertForSequenceClassification model from a BertForSequenceClassification model).\n",
            "100%|██████████| 5/5 [00:00<00:00, 13778.92it/s]\n"
          ]
        },
        {
          "output_type": "stream",
          "name": "stdout",
          "text": [
            "20\n"
          ]
        },
        {
          "output_type": "stream",
          "name": "stderr",
          "text": [
            "Some weights of the model checkpoint at bert-base-uncased were not used when initializing BertModel: ['cls.predictions.transform.LayerNorm.bias', 'cls.predictions.transform.dense.bias', 'cls.seq_relationship.weight', 'cls.predictions.transform.dense.weight', 'cls.predictions.bias', 'cls.predictions.decoder.weight', 'cls.predictions.transform.LayerNorm.weight', 'cls.seq_relationship.bias']\n",
            "- This IS expected if you are initializing BertModel from the checkpoint of a model trained on another task or with another architecture (e.g. initializing a BertForSequenceClassification model from a BertForPreTraining model).\n",
            "- This IS NOT expected if you are initializing BertModel from the checkpoint of a model that you expect to be exactly identical (initializing a BertForSequenceClassification model from a BertForSequenceClassification model).\n",
            "100%|██████████| 20/20 [00:00<00:00, 23064.64it/s]\n"
          ]
        },
        {
          "output_type": "stream",
          "name": "stdout",
          "text": [
            "20\n"
          ]
        },
        {
          "output_type": "stream",
          "name": "stderr",
          "text": [
            "Some weights of the model checkpoint at bert-base-uncased were not used when initializing BertModel: ['cls.predictions.transform.LayerNorm.bias', 'cls.predictions.transform.dense.bias', 'cls.seq_relationship.weight', 'cls.predictions.transform.dense.weight', 'cls.predictions.bias', 'cls.predictions.decoder.weight', 'cls.predictions.transform.LayerNorm.weight', 'cls.seq_relationship.bias']\n",
            "- This IS expected if you are initializing BertModel from the checkpoint of a model trained on another task or with another architecture (e.g. initializing a BertForSequenceClassification model from a BertForPreTraining model).\n",
            "- This IS NOT expected if you are initializing BertModel from the checkpoint of a model that you expect to be exactly identical (initializing a BertForSequenceClassification model from a BertForSequenceClassification model).\n",
            "100%|██████████| 20/20 [00:00<00:00, 7541.00it/s]\n"
          ]
        },
        {
          "output_type": "stream",
          "name": "stdout",
          "text": [
            "20\n"
          ]
        },
        {
          "output_type": "stream",
          "name": "stderr",
          "text": [
            "Some weights of the model checkpoint at bert-base-uncased were not used when initializing BertModel: ['cls.predictions.transform.LayerNorm.bias', 'cls.predictions.transform.dense.bias', 'cls.seq_relationship.weight', 'cls.predictions.transform.dense.weight', 'cls.predictions.bias', 'cls.predictions.decoder.weight', 'cls.predictions.transform.LayerNorm.weight', 'cls.seq_relationship.bias']\n",
            "- This IS expected if you are initializing BertModel from the checkpoint of a model trained on another task or with another architecture (e.g. initializing a BertForSequenceClassification model from a BertForPreTraining model).\n",
            "- This IS NOT expected if you are initializing BertModel from the checkpoint of a model that you expect to be exactly identical (initializing a BertForSequenceClassification model from a BertForSequenceClassification model).\n",
            "100%|██████████| 20/20 [00:00<00:00, 9011.29it/s]\n"
          ]
        },
        {
          "output_type": "stream",
          "name": "stdout",
          "text": [
            "20\n"
          ]
        },
        {
          "output_type": "stream",
          "name": "stderr",
          "text": [
            "Some weights of the model checkpoint at bert-base-uncased were not used when initializing BertModel: ['cls.predictions.transform.LayerNorm.bias', 'cls.predictions.transform.dense.bias', 'cls.seq_relationship.weight', 'cls.predictions.transform.dense.weight', 'cls.predictions.bias', 'cls.predictions.decoder.weight', 'cls.predictions.transform.LayerNorm.weight', 'cls.seq_relationship.bias']\n",
            "- This IS expected if you are initializing BertModel from the checkpoint of a model trained on another task or with another architecture (e.g. initializing a BertForSequenceClassification model from a BertForPreTraining model).\n",
            "- This IS NOT expected if you are initializing BertModel from the checkpoint of a model that you expect to be exactly identical (initializing a BertForSequenceClassification model from a BertForSequenceClassification model).\n",
            "100%|██████████| 20/20 [00:00<00:00, 9129.96it/s]\n"
          ]
        },
        {
          "output_type": "stream",
          "name": "stdout",
          "text": [
            "20\n"
          ]
        },
        {
          "output_type": "stream",
          "name": "stderr",
          "text": [
            "Some weights of the model checkpoint at bert-base-uncased were not used when initializing BertModel: ['cls.predictions.transform.LayerNorm.bias', 'cls.predictions.transform.dense.bias', 'cls.seq_relationship.weight', 'cls.predictions.transform.dense.weight', 'cls.predictions.bias', 'cls.predictions.decoder.weight', 'cls.predictions.transform.LayerNorm.weight', 'cls.seq_relationship.bias']\n",
            "- This IS expected if you are initializing BertModel from the checkpoint of a model trained on another task or with another architecture (e.g. initializing a BertForSequenceClassification model from a BertForPreTraining model).\n",
            "- This IS NOT expected if you are initializing BertModel from the checkpoint of a model that you expect to be exactly identical (initializing a BertForSequenceClassification model from a BertForSequenceClassification model).\n",
            "100%|██████████| 20/20 [00:00<00:00, 14263.91it/s]\n"
          ]
        },
        {
          "output_type": "stream",
          "name": "stdout",
          "text": [
            "20\n"
          ]
        },
        {
          "output_type": "stream",
          "name": "stderr",
          "text": [
            "Some weights of the model checkpoint at bert-base-uncased were not used when initializing BertModel: ['cls.predictions.transform.LayerNorm.bias', 'cls.predictions.transform.dense.bias', 'cls.seq_relationship.weight', 'cls.predictions.transform.dense.weight', 'cls.predictions.bias', 'cls.predictions.decoder.weight', 'cls.predictions.transform.LayerNorm.weight', 'cls.seq_relationship.bias']\n",
            "- This IS expected if you are initializing BertModel from the checkpoint of a model trained on another task or with another architecture (e.g. initializing a BertForSequenceClassification model from a BertForPreTraining model).\n",
            "- This IS NOT expected if you are initializing BertModel from the checkpoint of a model that you expect to be exactly identical (initializing a BertForSequenceClassification model from a BertForSequenceClassification model).\n",
            "100%|██████████| 20/20 [00:00<00:00, 17958.91it/s]\n"
          ]
        },
        {
          "output_type": "stream",
          "name": "stdout",
          "text": [
            "20\n"
          ]
        },
        {
          "output_type": "stream",
          "name": "stderr",
          "text": [
            "Some weights of the model checkpoint at bert-base-uncased were not used when initializing BertModel: ['cls.predictions.transform.LayerNorm.bias', 'cls.predictions.transform.dense.bias', 'cls.seq_relationship.weight', 'cls.predictions.transform.dense.weight', 'cls.predictions.bias', 'cls.predictions.decoder.weight', 'cls.predictions.transform.LayerNorm.weight', 'cls.seq_relationship.bias']\n",
            "- This IS expected if you are initializing BertModel from the checkpoint of a model trained on another task or with another architecture (e.g. initializing a BertForSequenceClassification model from a BertForPreTraining model).\n",
            "- This IS NOT expected if you are initializing BertModel from the checkpoint of a model that you expect to be exactly identical (initializing a BertForSequenceClassification model from a BertForSequenceClassification model).\n",
            "100%|██████████| 20/20 [00:00<00:00, 7302.06it/s]\n"
          ]
        },
        {
          "output_type": "stream",
          "name": "stdout",
          "text": [
            "0\n"
          ]
        },
        {
          "output_type": "stream",
          "name": "stderr",
          "text": [
            "Some weights of the model checkpoint at bert-base-uncased were not used when initializing BertModel: ['cls.predictions.transform.LayerNorm.bias', 'cls.predictions.transform.dense.bias', 'cls.seq_relationship.weight', 'cls.predictions.transform.dense.weight', 'cls.predictions.bias', 'cls.predictions.decoder.weight', 'cls.predictions.transform.LayerNorm.weight', 'cls.seq_relationship.bias']\n",
            "- This IS expected if you are initializing BertModel from the checkpoint of a model trained on another task or with another architecture (e.g. initializing a BertForSequenceClassification model from a BertForPreTraining model).\n",
            "- This IS NOT expected if you are initializing BertModel from the checkpoint of a model that you expect to be exactly identical (initializing a BertForSequenceClassification model from a BertForSequenceClassification model).\n",
            "0it [00:00, ?it/s]\n"
          ]
        },
        {
          "output_type": "stream",
          "name": "stdout",
          "text": [
            "20\n"
          ]
        },
        {
          "output_type": "stream",
          "name": "stderr",
          "text": [
            "Some weights of the model checkpoint at bert-base-uncased were not used when initializing BertModel: ['cls.predictions.transform.LayerNorm.bias', 'cls.predictions.transform.dense.bias', 'cls.seq_relationship.weight', 'cls.predictions.transform.dense.weight', 'cls.predictions.bias', 'cls.predictions.decoder.weight', 'cls.predictions.transform.LayerNorm.weight', 'cls.seq_relationship.bias']\n",
            "- This IS expected if you are initializing BertModel from the checkpoint of a model trained on another task or with another architecture (e.g. initializing a BertForSequenceClassification model from a BertForPreTraining model).\n",
            "- This IS NOT expected if you are initializing BertModel from the checkpoint of a model that you expect to be exactly identical (initializing a BertForSequenceClassification model from a BertForSequenceClassification model).\n",
            "100%|██████████| 20/20 [00:00<00:00, 5442.55it/s]\n"
          ]
        },
        {
          "output_type": "stream",
          "name": "stdout",
          "text": [
            "20\n"
          ]
        },
        {
          "output_type": "stream",
          "name": "stderr",
          "text": [
            "Some weights of the model checkpoint at bert-base-uncased were not used when initializing BertModel: ['cls.predictions.transform.LayerNorm.bias', 'cls.predictions.transform.dense.bias', 'cls.seq_relationship.weight', 'cls.predictions.transform.dense.weight', 'cls.predictions.bias', 'cls.predictions.decoder.weight', 'cls.predictions.transform.LayerNorm.weight', 'cls.seq_relationship.bias']\n",
            "- This IS expected if you are initializing BertModel from the checkpoint of a model trained on another task or with another architecture (e.g. initializing a BertForSequenceClassification model from a BertForPreTraining model).\n",
            "- This IS NOT expected if you are initializing BertModel from the checkpoint of a model that you expect to be exactly identical (initializing a BertForSequenceClassification model from a BertForSequenceClassification model).\n",
            "100%|██████████| 20/20 [00:00<00:00, 14266.34it/s]\n"
          ]
        },
        {
          "output_type": "stream",
          "name": "stdout",
          "text": [
            "20\n"
          ]
        },
        {
          "output_type": "stream",
          "name": "stderr",
          "text": [
            "Some weights of the model checkpoint at bert-base-uncased were not used when initializing BertModel: ['cls.predictions.transform.LayerNorm.bias', 'cls.predictions.transform.dense.bias', 'cls.seq_relationship.weight', 'cls.predictions.transform.dense.weight', 'cls.predictions.bias', 'cls.predictions.decoder.weight', 'cls.predictions.transform.LayerNorm.weight', 'cls.seq_relationship.bias']\n",
            "- This IS expected if you are initializing BertModel from the checkpoint of a model trained on another task or with another architecture (e.g. initializing a BertForSequenceClassification model from a BertForPreTraining model).\n",
            "- This IS NOT expected if you are initializing BertModel from the checkpoint of a model that you expect to be exactly identical (initializing a BertForSequenceClassification model from a BertForSequenceClassification model).\n",
            "100%|██████████| 20/20 [00:00<00:00, 17498.14it/s]\n"
          ]
        },
        {
          "output_type": "stream",
          "name": "stdout",
          "text": [
            "20\n"
          ]
        },
        {
          "output_type": "stream",
          "name": "stderr",
          "text": [
            "Some weights of the model checkpoint at bert-base-uncased were not used when initializing BertModel: ['cls.predictions.transform.LayerNorm.bias', 'cls.predictions.transform.dense.bias', 'cls.seq_relationship.weight', 'cls.predictions.transform.dense.weight', 'cls.predictions.bias', 'cls.predictions.decoder.weight', 'cls.predictions.transform.LayerNorm.weight', 'cls.seq_relationship.bias']\n",
            "- This IS expected if you are initializing BertModel from the checkpoint of a model trained on another task or with another architecture (e.g. initializing a BertForSequenceClassification model from a BertForPreTraining model).\n",
            "- This IS NOT expected if you are initializing BertModel from the checkpoint of a model that you expect to be exactly identical (initializing a BertForSequenceClassification model from a BertForSequenceClassification model).\n",
            "100%|██████████| 20/20 [00:00<00:00, 5066.81it/s]\n"
          ]
        },
        {
          "output_type": "stream",
          "name": "stdout",
          "text": [
            "20\n"
          ]
        },
        {
          "output_type": "stream",
          "name": "stderr",
          "text": [
            "Some weights of the model checkpoint at bert-base-uncased were not used when initializing BertModel: ['cls.predictions.transform.LayerNorm.bias', 'cls.predictions.transform.dense.bias', 'cls.seq_relationship.weight', 'cls.predictions.transform.dense.weight', 'cls.predictions.bias', 'cls.predictions.decoder.weight', 'cls.predictions.transform.LayerNorm.weight', 'cls.seq_relationship.bias']\n",
            "- This IS expected if you are initializing BertModel from the checkpoint of a model trained on another task or with another architecture (e.g. initializing a BertForSequenceClassification model from a BertForPreTraining model).\n",
            "- This IS NOT expected if you are initializing BertModel from the checkpoint of a model that you expect to be exactly identical (initializing a BertForSequenceClassification model from a BertForSequenceClassification model).\n",
            "100%|██████████| 20/20 [00:00<00:00, 14138.90it/s]\n"
          ]
        },
        {
          "output_type": "stream",
          "name": "stdout",
          "text": [
            "20\n"
          ]
        },
        {
          "output_type": "stream",
          "name": "stderr",
          "text": [
            "Some weights of the model checkpoint at bert-base-uncased were not used when initializing BertModel: ['cls.predictions.transform.LayerNorm.bias', 'cls.predictions.transform.dense.bias', 'cls.seq_relationship.weight', 'cls.predictions.transform.dense.weight', 'cls.predictions.bias', 'cls.predictions.decoder.weight', 'cls.predictions.transform.LayerNorm.weight', 'cls.seq_relationship.bias']\n",
            "- This IS expected if you are initializing BertModel from the checkpoint of a model trained on another task or with another architecture (e.g. initializing a BertForSequenceClassification model from a BertForPreTraining model).\n",
            "- This IS NOT expected if you are initializing BertModel from the checkpoint of a model that you expect to be exactly identical (initializing a BertForSequenceClassification model from a BertForSequenceClassification model).\n",
            "100%|██████████| 20/20 [00:00<00:00, 8926.90it/s]\n"
          ]
        },
        {
          "output_type": "stream",
          "name": "stdout",
          "text": [
            "20\n"
          ]
        },
        {
          "output_type": "stream",
          "name": "stderr",
          "text": [
            "Some weights of the model checkpoint at bert-base-uncased were not used when initializing BertModel: ['cls.predictions.transform.LayerNorm.bias', 'cls.predictions.transform.dense.bias', 'cls.seq_relationship.weight', 'cls.predictions.transform.dense.weight', 'cls.predictions.bias', 'cls.predictions.decoder.weight', 'cls.predictions.transform.LayerNorm.weight', 'cls.seq_relationship.bias']\n",
            "- This IS expected if you are initializing BertModel from the checkpoint of a model trained on another task or with another architecture (e.g. initializing a BertForSequenceClassification model from a BertForPreTraining model).\n",
            "- This IS NOT expected if you are initializing BertModel from the checkpoint of a model that you expect to be exactly identical (initializing a BertForSequenceClassification model from a BertForSequenceClassification model).\n",
            "100%|██████████| 20/20 [00:00<00:00, 23736.86it/s]\n"
          ]
        },
        {
          "output_type": "stream",
          "name": "stdout",
          "text": [
            "20\n"
          ]
        },
        {
          "output_type": "stream",
          "name": "stderr",
          "text": [
            "Some weights of the model checkpoint at bert-base-uncased were not used when initializing BertModel: ['cls.predictions.transform.LayerNorm.bias', 'cls.predictions.transform.dense.bias', 'cls.seq_relationship.weight', 'cls.predictions.transform.dense.weight', 'cls.predictions.bias', 'cls.predictions.decoder.weight', 'cls.predictions.transform.LayerNorm.weight', 'cls.seq_relationship.bias']\n",
            "- This IS expected if you are initializing BertModel from the checkpoint of a model trained on another task or with another architecture (e.g. initializing a BertForSequenceClassification model from a BertForPreTraining model).\n",
            "- This IS NOT expected if you are initializing BertModel from the checkpoint of a model that you expect to be exactly identical (initializing a BertForSequenceClassification model from a BertForSequenceClassification model).\n",
            "100%|██████████| 20/20 [00:00<00:00, 14647.47it/s]\n"
          ]
        },
        {
          "output_type": "stream",
          "name": "stdout",
          "text": [
            "20\n"
          ]
        },
        {
          "output_type": "stream",
          "name": "stderr",
          "text": [
            "Some weights of the model checkpoint at bert-base-uncased were not used when initializing BertModel: ['cls.predictions.transform.LayerNorm.bias', 'cls.predictions.transform.dense.bias', 'cls.seq_relationship.weight', 'cls.predictions.transform.dense.weight', 'cls.predictions.bias', 'cls.predictions.decoder.weight', 'cls.predictions.transform.LayerNorm.weight', 'cls.seq_relationship.bias']\n",
            "- This IS expected if you are initializing BertModel from the checkpoint of a model trained on another task or with another architecture (e.g. initializing a BertForSequenceClassification model from a BertForPreTraining model).\n",
            "- This IS NOT expected if you are initializing BertModel from the checkpoint of a model that you expect to be exactly identical (initializing a BertForSequenceClassification model from a BertForSequenceClassification model).\n",
            "100%|██████████| 20/20 [00:00<00:00, 22489.57it/s]\n"
          ]
        },
        {
          "output_type": "stream",
          "name": "stdout",
          "text": [
            "20\n"
          ]
        },
        {
          "output_type": "stream",
          "name": "stderr",
          "text": [
            "Some weights of the model checkpoint at bert-base-uncased were not used when initializing BertModel: ['cls.predictions.transform.LayerNorm.bias', 'cls.predictions.transform.dense.bias', 'cls.seq_relationship.weight', 'cls.predictions.transform.dense.weight', 'cls.predictions.bias', 'cls.predictions.decoder.weight', 'cls.predictions.transform.LayerNorm.weight', 'cls.seq_relationship.bias']\n",
            "- This IS expected if you are initializing BertModel from the checkpoint of a model trained on another task or with another architecture (e.g. initializing a BertForSequenceClassification model from a BertForPreTraining model).\n",
            "- This IS NOT expected if you are initializing BertModel from the checkpoint of a model that you expect to be exactly identical (initializing a BertForSequenceClassification model from a BertForSequenceClassification model).\n",
            "100%|██████████| 20/20 [00:00<00:00, 22531.85it/s]\n"
          ]
        },
        {
          "output_type": "stream",
          "name": "stdout",
          "text": [
            "20\n"
          ]
        },
        {
          "output_type": "stream",
          "name": "stderr",
          "text": [
            "Some weights of the model checkpoint at bert-base-uncased were not used when initializing BertModel: ['cls.predictions.transform.LayerNorm.bias', 'cls.predictions.transform.dense.bias', 'cls.seq_relationship.weight', 'cls.predictions.transform.dense.weight', 'cls.predictions.bias', 'cls.predictions.decoder.weight', 'cls.predictions.transform.LayerNorm.weight', 'cls.seq_relationship.bias']\n",
            "- This IS expected if you are initializing BertModel from the checkpoint of a model trained on another task or with another architecture (e.g. initializing a BertForSequenceClassification model from a BertForPreTraining model).\n",
            "- This IS NOT expected if you are initializing BertModel from the checkpoint of a model that you expect to be exactly identical (initializing a BertForSequenceClassification model from a BertForSequenceClassification model).\n",
            "100%|██████████| 20/20 [00:00<00:00, 7497.86it/s]\n"
          ]
        }
      ],
      "source": [
        "import csv\n",
        "import pandas as pnd\n",
        "datalake = list(datalake)\n",
        "query = list(query)\n",
        "emb = []\n",
        "file_path_datalake = \"/content/drive/MyDrive/labeled_benchmark/datalake/\"\n",
        "file_path_query = \"/content/drive/MyDrive/labeled_benchmark/query/\"\n",
        "\n",
        "\n",
        "for x in gt[0:15]:\n",
        "  if (x[1] in datalake) and (x[0] in query):\n",
        "    df_dl = pnd.read_csv(file_path_datalake+x[1])\n",
        "    df_q = pnd.read_csv(file_path_query+x[0])\n",
        "    dl_emb = table_embedding(df_dl)\n",
        "    q_emb = table_embedding(df_q)\n",
        "    emb.append([dl_emb, q_emb])\n",
        "\n",
        "\n",
        "\n"
      ]
    },
    {
      "cell_type": "code",
      "source": [
        "for x in gt[15:35]:\n",
        "  if (x[1] in datalake) and (x[0] in query):\n",
        "    df_dl = pnd.read_csv(file_path_datalake+x[1])\n",
        "    df_q = pnd.read_csv(file_path_query+x[0])\n",
        "    dl_emb = table_embedding(df_dl)\n",
        "    q_emb = table_embedding(df_q)\n",
        "    emb.append([dl_emb, q_emb])\n"
      ],
      "metadata": {
        "id": "l8oWalbQCGh4",
        "colab": {
          "base_uri": "https://localhost:8080/"
        },
        "outputId": "da35c924-8254-4103-caf4-1bc691fbcd0c"
      },
      "execution_count": null,
      "outputs": [
        {
          "output_type": "stream",
          "name": "stdout",
          "text": [
            "20\n"
          ]
        },
        {
          "output_type": "stream",
          "name": "stderr",
          "text": [
            "Some weights of the model checkpoint at bert-base-uncased were not used when initializing BertModel: ['cls.predictions.transform.LayerNorm.bias', 'cls.predictions.transform.dense.bias', 'cls.seq_relationship.weight', 'cls.predictions.transform.dense.weight', 'cls.predictions.bias', 'cls.predictions.decoder.weight', 'cls.predictions.transform.LayerNorm.weight', 'cls.seq_relationship.bias']\n",
            "- This IS expected if you are initializing BertModel from the checkpoint of a model trained on another task or with another architecture (e.g. initializing a BertForSequenceClassification model from a BertForPreTraining model).\n",
            "- This IS NOT expected if you are initializing BertModel from the checkpoint of a model that you expect to be exactly identical (initializing a BertForSequenceClassification model from a BertForSequenceClassification model).\n",
            "100%|██████████| 20/20 [00:00<00:00, 3985.65it/s]\n",
            "<ipython-input-101-97c62983cf6f>:57: UserWarning: To copy construct from a tensor, it is recommended to use sourceTensor.clone().detach() or sourceTensor.clone().detach().requires_grad_(True), rather than torch.tensor(sourceTensor).\n",
            "  token_ids = torch.tensor(row_ids).unsqueeze(0)\n"
          ]
        },
        {
          "output_type": "stream",
          "name": "stdout",
          "text": [
            "20\n"
          ]
        },
        {
          "output_type": "stream",
          "name": "stderr",
          "text": [
            "Some weights of the model checkpoint at bert-base-uncased were not used when initializing BertModel: ['cls.predictions.transform.LayerNorm.bias', 'cls.predictions.transform.dense.bias', 'cls.seq_relationship.weight', 'cls.predictions.transform.dense.weight', 'cls.predictions.bias', 'cls.predictions.decoder.weight', 'cls.predictions.transform.LayerNorm.weight', 'cls.seq_relationship.bias']\n",
            "- This IS expected if you are initializing BertModel from the checkpoint of a model trained on another task or with another architecture (e.g. initializing a BertForSequenceClassification model from a BertForPreTraining model).\n",
            "- This IS NOT expected if you are initializing BertModel from the checkpoint of a model that you expect to be exactly identical (initializing a BertForSequenceClassification model from a BertForSequenceClassification model).\n",
            "100%|██████████| 20/20 [00:00<00:00, 17575.13it/s]\n"
          ]
        },
        {
          "output_type": "stream",
          "name": "stdout",
          "text": [
            "20\n"
          ]
        },
        {
          "output_type": "stream",
          "name": "stderr",
          "text": [
            "Some weights of the model checkpoint at bert-base-uncased were not used when initializing BertModel: ['cls.predictions.transform.LayerNorm.bias', 'cls.predictions.transform.dense.bias', 'cls.seq_relationship.weight', 'cls.predictions.transform.dense.weight', 'cls.predictions.bias', 'cls.predictions.decoder.weight', 'cls.predictions.transform.LayerNorm.weight', 'cls.seq_relationship.bias']\n",
            "- This IS expected if you are initializing BertModel from the checkpoint of a model trained on another task or with another architecture (e.g. initializing a BertForSequenceClassification model from a BertForPreTraining model).\n",
            "- This IS NOT expected if you are initializing BertModel from the checkpoint of a model that you expect to be exactly identical (initializing a BertForSequenceClassification model from a BertForSequenceClassification model).\n",
            "100%|██████████| 20/20 [00:00<00:00, 9508.74it/s]\n"
          ]
        },
        {
          "output_type": "stream",
          "name": "stdout",
          "text": [
            "20\n"
          ]
        },
        {
          "output_type": "stream",
          "name": "stderr",
          "text": [
            "Some weights of the model checkpoint at bert-base-uncased were not used when initializing BertModel: ['cls.predictions.transform.LayerNorm.bias', 'cls.predictions.transform.dense.bias', 'cls.seq_relationship.weight', 'cls.predictions.transform.dense.weight', 'cls.predictions.bias', 'cls.predictions.decoder.weight', 'cls.predictions.transform.LayerNorm.weight', 'cls.seq_relationship.bias']\n",
            "- This IS expected if you are initializing BertModel from the checkpoint of a model trained on another task or with another architecture (e.g. initializing a BertForSequenceClassification model from a BertForPreTraining model).\n",
            "- This IS NOT expected if you are initializing BertModel from the checkpoint of a model that you expect to be exactly identical (initializing a BertForSequenceClassification model from a BertForSequenceClassification model).\n",
            "100%|██████████| 20/20 [00:00<00:00, 23211.42it/s]\n"
          ]
        },
        {
          "output_type": "stream",
          "name": "stdout",
          "text": [
            "0\n"
          ]
        },
        {
          "output_type": "stream",
          "name": "stderr",
          "text": [
            "Some weights of the model checkpoint at bert-base-uncased were not used when initializing BertModel: ['cls.predictions.transform.LayerNorm.bias', 'cls.predictions.transform.dense.bias', 'cls.seq_relationship.weight', 'cls.predictions.transform.dense.weight', 'cls.predictions.bias', 'cls.predictions.decoder.weight', 'cls.predictions.transform.LayerNorm.weight', 'cls.seq_relationship.bias']\n",
            "- This IS expected if you are initializing BertModel from the checkpoint of a model trained on another task or with another architecture (e.g. initializing a BertForSequenceClassification model from a BertForPreTraining model).\n",
            "- This IS NOT expected if you are initializing BertModel from the checkpoint of a model that you expect to be exactly identical (initializing a BertForSequenceClassification model from a BertForSequenceClassification model).\n",
            "0it [00:00, ?it/s]\n"
          ]
        },
        {
          "output_type": "stream",
          "name": "stdout",
          "text": [
            "20\n"
          ]
        },
        {
          "output_type": "stream",
          "name": "stderr",
          "text": [
            "Some weights of the model checkpoint at bert-base-uncased were not used when initializing BertModel: ['cls.predictions.transform.LayerNorm.bias', 'cls.predictions.transform.dense.bias', 'cls.seq_relationship.weight', 'cls.predictions.transform.dense.weight', 'cls.predictions.bias', 'cls.predictions.decoder.weight', 'cls.predictions.transform.LayerNorm.weight', 'cls.seq_relationship.bias']\n",
            "- This IS expected if you are initializing BertModel from the checkpoint of a model trained on another task or with another architecture (e.g. initializing a BertForSequenceClassification model from a BertForPreTraining model).\n",
            "- This IS NOT expected if you are initializing BertModel from the checkpoint of a model that you expect to be exactly identical (initializing a BertForSequenceClassification model from a BertForSequenceClassification model).\n",
            "100%|██████████| 20/20 [00:00<00:00, 17970.45it/s]\n"
          ]
        },
        {
          "output_type": "stream",
          "name": "stdout",
          "text": [
            "4\n"
          ]
        },
        {
          "output_type": "stream",
          "name": "stderr",
          "text": [
            "Some weights of the model checkpoint at bert-base-uncased were not used when initializing BertModel: ['cls.predictions.transform.LayerNorm.bias', 'cls.predictions.transform.dense.bias', 'cls.seq_relationship.weight', 'cls.predictions.transform.dense.weight', 'cls.predictions.bias', 'cls.predictions.decoder.weight', 'cls.predictions.transform.LayerNorm.weight', 'cls.seq_relationship.bias']\n",
            "- This IS expected if you are initializing BertModel from the checkpoint of a model trained on another task or with another architecture (e.g. initializing a BertForSequenceClassification model from a BertForPreTraining model).\n",
            "- This IS NOT expected if you are initializing BertModel from the checkpoint of a model that you expect to be exactly identical (initializing a BertForSequenceClassification model from a BertForSequenceClassification model).\n",
            "100%|██████████| 4/4 [00:00<00:00, 14039.51it/s]\n"
          ]
        },
        {
          "output_type": "stream",
          "name": "stdout",
          "text": [
            "20\n"
          ]
        },
        {
          "output_type": "stream",
          "name": "stderr",
          "text": [
            "Some weights of the model checkpoint at bert-base-uncased were not used when initializing BertModel: ['cls.predictions.transform.LayerNorm.bias', 'cls.predictions.transform.dense.bias', 'cls.seq_relationship.weight', 'cls.predictions.transform.dense.weight', 'cls.predictions.bias', 'cls.predictions.decoder.weight', 'cls.predictions.transform.LayerNorm.weight', 'cls.seq_relationship.bias']\n",
            "- This IS expected if you are initializing BertModel from the checkpoint of a model trained on another task or with another architecture (e.g. initializing a BertForSequenceClassification model from a BertForPreTraining model).\n",
            "- This IS NOT expected if you are initializing BertModel from the checkpoint of a model that you expect to be exactly identical (initializing a BertForSequenceClassification model from a BertForSequenceClassification model).\n",
            "100%|██████████| 20/20 [00:00<00:00, 20277.03it/s]\n"
          ]
        },
        {
          "output_type": "stream",
          "name": "stdout",
          "text": [
            "5\n"
          ]
        },
        {
          "output_type": "stream",
          "name": "stderr",
          "text": [
            "Some weights of the model checkpoint at bert-base-uncased were not used when initializing BertModel: ['cls.predictions.transform.LayerNorm.bias', 'cls.predictions.transform.dense.bias', 'cls.seq_relationship.weight', 'cls.predictions.transform.dense.weight', 'cls.predictions.bias', 'cls.predictions.decoder.weight', 'cls.predictions.transform.LayerNorm.weight', 'cls.seq_relationship.bias']\n",
            "- This IS expected if you are initializing BertModel from the checkpoint of a model trained on another task or with another architecture (e.g. initializing a BertForSequenceClassification model from a BertForPreTraining model).\n",
            "- This IS NOT expected if you are initializing BertModel from the checkpoint of a model that you expect to be exactly identical (initializing a BertForSequenceClassification model from a BertForSequenceClassification model).\n",
            "100%|██████████| 5/5 [00:00<00:00, 8452.85it/s]\n"
          ]
        },
        {
          "output_type": "stream",
          "name": "stdout",
          "text": [
            "20\n"
          ]
        },
        {
          "output_type": "stream",
          "name": "stderr",
          "text": [
            "Some weights of the model checkpoint at bert-base-uncased were not used when initializing BertModel: ['cls.predictions.transform.LayerNorm.bias', 'cls.predictions.transform.dense.bias', 'cls.seq_relationship.weight', 'cls.predictions.transform.dense.weight', 'cls.predictions.bias', 'cls.predictions.decoder.weight', 'cls.predictions.transform.LayerNorm.weight', 'cls.seq_relationship.bias']\n",
            "- This IS expected if you are initializing BertModel from the checkpoint of a model trained on another task or with another architecture (e.g. initializing a BertForSequenceClassification model from a BertForPreTraining model).\n",
            "- This IS NOT expected if you are initializing BertModel from the checkpoint of a model that you expect to be exactly identical (initializing a BertForSequenceClassification model from a BertForSequenceClassification model).\n",
            "100%|██████████| 20/20 [00:00<00:00, 22727.20it/s]\n"
          ]
        },
        {
          "output_type": "stream",
          "name": "stdout",
          "text": [
            "20\n"
          ]
        },
        {
          "output_type": "stream",
          "name": "stderr",
          "text": [
            "Some weights of the model checkpoint at bert-base-uncased were not used when initializing BertModel: ['cls.predictions.transform.LayerNorm.bias', 'cls.predictions.transform.dense.bias', 'cls.seq_relationship.weight', 'cls.predictions.transform.dense.weight', 'cls.predictions.bias', 'cls.predictions.decoder.weight', 'cls.predictions.transform.LayerNorm.weight', 'cls.seq_relationship.bias']\n",
            "- This IS expected if you are initializing BertModel from the checkpoint of a model trained on another task or with another architecture (e.g. initializing a BertForSequenceClassification model from a BertForPreTraining model).\n",
            "- This IS NOT expected if you are initializing BertModel from the checkpoint of a model that you expect to be exactly identical (initializing a BertForSequenceClassification model from a BertForSequenceClassification model).\n",
            "100%|██████████| 20/20 [00:00<00:00, 14609.21it/s]\n"
          ]
        },
        {
          "output_type": "stream",
          "name": "stdout",
          "text": [
            "20\n"
          ]
        },
        {
          "output_type": "stream",
          "name": "stderr",
          "text": [
            "Some weights of the model checkpoint at bert-base-uncased were not used when initializing BertModel: ['cls.predictions.transform.LayerNorm.bias', 'cls.predictions.transform.dense.bias', 'cls.seq_relationship.weight', 'cls.predictions.transform.dense.weight', 'cls.predictions.bias', 'cls.predictions.decoder.weight', 'cls.predictions.transform.LayerNorm.weight', 'cls.seq_relationship.bias']\n",
            "- This IS expected if you are initializing BertModel from the checkpoint of a model trained on another task or with another architecture (e.g. initializing a BertForSequenceClassification model from a BertForPreTraining model).\n",
            "- This IS NOT expected if you are initializing BertModel from the checkpoint of a model that you expect to be exactly identical (initializing a BertForSequenceClassification model from a BertForSequenceClassification model).\n",
            "100%|██████████| 20/20 [00:00<00:00, 23757.03it/s]\n"
          ]
        },
        {
          "output_type": "stream",
          "name": "stdout",
          "text": [
            "20\n"
          ]
        },
        {
          "output_type": "stream",
          "name": "stderr",
          "text": [
            "Some weights of the model checkpoint at bert-base-uncased were not used when initializing BertModel: ['cls.predictions.transform.LayerNorm.bias', 'cls.predictions.transform.dense.bias', 'cls.seq_relationship.weight', 'cls.predictions.transform.dense.weight', 'cls.predictions.bias', 'cls.predictions.decoder.weight', 'cls.predictions.transform.LayerNorm.weight', 'cls.seq_relationship.bias']\n",
            "- This IS expected if you are initializing BertModel from the checkpoint of a model trained on another task or with another architecture (e.g. initializing a BertForSequenceClassification model from a BertForPreTraining model).\n",
            "- This IS NOT expected if you are initializing BertModel from the checkpoint of a model that you expect to be exactly identical (initializing a BertForSequenceClassification model from a BertForSequenceClassification model).\n",
            "100%|██████████| 20/20 [00:00<00:00, 7667.13it/s]\n"
          ]
        },
        {
          "output_type": "stream",
          "name": "stdout",
          "text": [
            "20\n"
          ]
        },
        {
          "output_type": "stream",
          "name": "stderr",
          "text": [
            "Some weights of the model checkpoint at bert-base-uncased were not used when initializing BertModel: ['cls.predictions.transform.LayerNorm.bias', 'cls.predictions.transform.dense.bias', 'cls.seq_relationship.weight', 'cls.predictions.transform.dense.weight', 'cls.predictions.bias', 'cls.predictions.decoder.weight', 'cls.predictions.transform.LayerNorm.weight', 'cls.seq_relationship.bias']\n",
            "- This IS expected if you are initializing BertModel from the checkpoint of a model trained on another task or with another architecture (e.g. initializing a BertForSequenceClassification model from a BertForPreTraining model).\n",
            "- This IS NOT expected if you are initializing BertModel from the checkpoint of a model that you expect to be exactly identical (initializing a BertForSequenceClassification model from a BertForSequenceClassification model).\n",
            "100%|██████████| 20/20 [00:00<00:00, 11650.84it/s]\n"
          ]
        },
        {
          "output_type": "stream",
          "name": "stdout",
          "text": [
            "20\n"
          ]
        },
        {
          "output_type": "stream",
          "name": "stderr",
          "text": [
            "Some weights of the model checkpoint at bert-base-uncased were not used when initializing BertModel: ['cls.predictions.transform.LayerNorm.bias', 'cls.predictions.transform.dense.bias', 'cls.seq_relationship.weight', 'cls.predictions.transform.dense.weight', 'cls.predictions.bias', 'cls.predictions.decoder.weight', 'cls.predictions.transform.LayerNorm.weight', 'cls.seq_relationship.bias']\n",
            "- This IS expected if you are initializing BertModel from the checkpoint of a model trained on another task or with another architecture (e.g. initializing a BertForSequenceClassification model from a BertForPreTraining model).\n",
            "- This IS NOT expected if you are initializing BertModel from the checkpoint of a model that you expect to be exactly identical (initializing a BertForSequenceClassification model from a BertForSequenceClassification model).\n",
            "100%|██████████| 20/20 [00:00<00:00, 23960.61it/s]\n"
          ]
        },
        {
          "output_type": "stream",
          "name": "stdout",
          "text": [
            "20\n"
          ]
        },
        {
          "output_type": "stream",
          "name": "stderr",
          "text": [
            "Some weights of the model checkpoint at bert-base-uncased were not used when initializing BertModel: ['cls.predictions.transform.LayerNorm.bias', 'cls.predictions.transform.dense.bias', 'cls.seq_relationship.weight', 'cls.predictions.transform.dense.weight', 'cls.predictions.bias', 'cls.predictions.decoder.weight', 'cls.predictions.transform.LayerNorm.weight', 'cls.seq_relationship.bias']\n",
            "- This IS expected if you are initializing BertModel from the checkpoint of a model trained on another task or with another architecture (e.g. initializing a BertForSequenceClassification model from a BertForPreTraining model).\n",
            "- This IS NOT expected if you are initializing BertModel from the checkpoint of a model that you expect to be exactly identical (initializing a BertForSequenceClassification model from a BertForSequenceClassification model).\n",
            "100%|██████████| 20/20 [00:00<00:00, 5114.38it/s]\n"
          ]
        },
        {
          "output_type": "stream",
          "name": "stdout",
          "text": [
            "0\n"
          ]
        },
        {
          "output_type": "stream",
          "name": "stderr",
          "text": [
            "Some weights of the model checkpoint at bert-base-uncased were not used when initializing BertModel: ['cls.predictions.transform.LayerNorm.bias', 'cls.predictions.transform.dense.bias', 'cls.seq_relationship.weight', 'cls.predictions.transform.dense.weight', 'cls.predictions.bias', 'cls.predictions.decoder.weight', 'cls.predictions.transform.LayerNorm.weight', 'cls.seq_relationship.bias']\n",
            "- This IS expected if you are initializing BertModel from the checkpoint of a model trained on another task or with another architecture (e.g. initializing a BertForSequenceClassification model from a BertForPreTraining model).\n",
            "- This IS NOT expected if you are initializing BertModel from the checkpoint of a model that you expect to be exactly identical (initializing a BertForSequenceClassification model from a BertForSequenceClassification model).\n",
            "0it [00:00, ?it/s]\n"
          ]
        },
        {
          "output_type": "stream",
          "name": "stdout",
          "text": [
            "20\n"
          ]
        },
        {
          "output_type": "stream",
          "name": "stderr",
          "text": [
            "Some weights of the model checkpoint at bert-base-uncased were not used when initializing BertModel: ['cls.predictions.transform.LayerNorm.bias', 'cls.predictions.transform.dense.bias', 'cls.seq_relationship.weight', 'cls.predictions.transform.dense.weight', 'cls.predictions.bias', 'cls.predictions.decoder.weight', 'cls.predictions.transform.LayerNorm.weight', 'cls.seq_relationship.bias']\n",
            "- This IS expected if you are initializing BertModel from the checkpoint of a model trained on another task or with another architecture (e.g. initializing a BertForSequenceClassification model from a BertForPreTraining model).\n",
            "- This IS NOT expected if you are initializing BertModel from the checkpoint of a model that you expect to be exactly identical (initializing a BertForSequenceClassification model from a BertForSequenceClassification model).\n",
            "100%|██████████| 20/20 [00:00<00:00, 9284.57it/s]\n"
          ]
        },
        {
          "output_type": "stream",
          "name": "stdout",
          "text": [
            "20\n"
          ]
        },
        {
          "output_type": "stream",
          "name": "stderr",
          "text": [
            "Some weights of the model checkpoint at bert-base-uncased were not used when initializing BertModel: ['cls.predictions.transform.LayerNorm.bias', 'cls.predictions.transform.dense.bias', 'cls.seq_relationship.weight', 'cls.predictions.transform.dense.weight', 'cls.predictions.bias', 'cls.predictions.decoder.weight', 'cls.predictions.transform.LayerNorm.weight', 'cls.seq_relationship.bias']\n",
            "- This IS expected if you are initializing BertModel from the checkpoint of a model trained on another task or with another architecture (e.g. initializing a BertForSequenceClassification model from a BertForPreTraining model).\n",
            "- This IS NOT expected if you are initializing BertModel from the checkpoint of a model that you expect to be exactly identical (initializing a BertForSequenceClassification model from a BertForSequenceClassification model).\n",
            "100%|██████████| 20/20 [00:00<00:00, 6732.97it/s]\n"
          ]
        },
        {
          "output_type": "stream",
          "name": "stdout",
          "text": [
            "20\n"
          ]
        },
        {
          "output_type": "stream",
          "name": "stderr",
          "text": [
            "Some weights of the model checkpoint at bert-base-uncased were not used when initializing BertModel: ['cls.predictions.transform.LayerNorm.bias', 'cls.predictions.transform.dense.bias', 'cls.seq_relationship.weight', 'cls.predictions.transform.dense.weight', 'cls.predictions.bias', 'cls.predictions.decoder.weight', 'cls.predictions.transform.LayerNorm.weight', 'cls.seq_relationship.bias']\n",
            "- This IS expected if you are initializing BertModel from the checkpoint of a model trained on another task or with another architecture (e.g. initializing a BertForSequenceClassification model from a BertForPreTraining model).\n",
            "- This IS NOT expected if you are initializing BertModel from the checkpoint of a model that you expect to be exactly identical (initializing a BertForSequenceClassification model from a BertForSequenceClassification model).\n",
            "100%|██████████| 20/20 [00:00<00:00, 14356.68it/s]\n"
          ]
        },
        {
          "output_type": "stream",
          "name": "stdout",
          "text": [
            "20\n"
          ]
        },
        {
          "output_type": "stream",
          "name": "stderr",
          "text": [
            "Some weights of the model checkpoint at bert-base-uncased were not used when initializing BertModel: ['cls.predictions.transform.LayerNorm.bias', 'cls.predictions.transform.dense.bias', 'cls.seq_relationship.weight', 'cls.predictions.transform.dense.weight', 'cls.predictions.bias', 'cls.predictions.decoder.weight', 'cls.predictions.transform.LayerNorm.weight', 'cls.seq_relationship.bias']\n",
            "- This IS expected if you are initializing BertModel from the checkpoint of a model trained on another task or with another architecture (e.g. initializing a BertForSequenceClassification model from a BertForPreTraining model).\n",
            "- This IS NOT expected if you are initializing BertModel from the checkpoint of a model that you expect to be exactly identical (initializing a BertForSequenceClassification model from a BertForSequenceClassification model).\n",
            "100%|██████████| 20/20 [00:00<00:00, 9229.41it/s]\n"
          ]
        },
        {
          "output_type": "stream",
          "name": "stdout",
          "text": [
            "20\n"
          ]
        },
        {
          "output_type": "stream",
          "name": "stderr",
          "text": [
            "Some weights of the model checkpoint at bert-base-uncased were not used when initializing BertModel: ['cls.predictions.transform.LayerNorm.bias', 'cls.predictions.transform.dense.bias', 'cls.seq_relationship.weight', 'cls.predictions.transform.dense.weight', 'cls.predictions.bias', 'cls.predictions.decoder.weight', 'cls.predictions.transform.LayerNorm.weight', 'cls.seq_relationship.bias']\n",
            "- This IS expected if you are initializing BertModel from the checkpoint of a model trained on another task or with another architecture (e.g. initializing a BertForSequenceClassification model from a BertForPreTraining model).\n",
            "- This IS NOT expected if you are initializing BertModel from the checkpoint of a model that you expect to be exactly identical (initializing a BertForSequenceClassification model from a BertForSequenceClassification model).\n",
            "100%|██████████| 20/20 [00:00<00:00, 12011.18it/s]\n"
          ]
        },
        {
          "output_type": "stream",
          "name": "stdout",
          "text": [
            "20\n"
          ]
        },
        {
          "output_type": "stream",
          "name": "stderr",
          "text": [
            "Some weights of the model checkpoint at bert-base-uncased were not used when initializing BertModel: ['cls.predictions.transform.LayerNorm.bias', 'cls.predictions.transform.dense.bias', 'cls.seq_relationship.weight', 'cls.predictions.transform.dense.weight', 'cls.predictions.bias', 'cls.predictions.decoder.weight', 'cls.predictions.transform.LayerNorm.weight', 'cls.seq_relationship.bias']\n",
            "- This IS expected if you are initializing BertModel from the checkpoint of a model trained on another task or with another architecture (e.g. initializing a BertForSequenceClassification model from a BertForPreTraining model).\n",
            "- This IS NOT expected if you are initializing BertModel from the checkpoint of a model that you expect to be exactly identical (initializing a BertForSequenceClassification model from a BertForSequenceClassification model).\n",
            "100%|██████████| 20/20 [00:00<00:00, 14388.69it/s]\n"
          ]
        },
        {
          "output_type": "stream",
          "name": "stdout",
          "text": [
            "20\n"
          ]
        },
        {
          "output_type": "stream",
          "name": "stderr",
          "text": [
            "Some weights of the model checkpoint at bert-base-uncased were not used when initializing BertModel: ['cls.predictions.transform.LayerNorm.bias', 'cls.predictions.transform.dense.bias', 'cls.seq_relationship.weight', 'cls.predictions.transform.dense.weight', 'cls.predictions.bias', 'cls.predictions.decoder.weight', 'cls.predictions.transform.LayerNorm.weight', 'cls.seq_relationship.bias']\n",
            "- This IS expected if you are initializing BertModel from the checkpoint of a model trained on another task or with another architecture (e.g. initializing a BertForSequenceClassification model from a BertForPreTraining model).\n",
            "- This IS NOT expected if you are initializing BertModel from the checkpoint of a model that you expect to be exactly identical (initializing a BertForSequenceClassification model from a BertForSequenceClassification model).\n",
            "100%|██████████| 20/20 [00:00<00:00, 8009.75it/s]\n"
          ]
        },
        {
          "output_type": "stream",
          "name": "stdout",
          "text": [
            "20\n"
          ]
        },
        {
          "output_type": "stream",
          "name": "stderr",
          "text": [
            "Some weights of the model checkpoint at bert-base-uncased were not used when initializing BertModel: ['cls.predictions.transform.LayerNorm.bias', 'cls.predictions.transform.dense.bias', 'cls.seq_relationship.weight', 'cls.predictions.transform.dense.weight', 'cls.predictions.bias', 'cls.predictions.decoder.weight', 'cls.predictions.transform.LayerNorm.weight', 'cls.seq_relationship.bias']\n",
            "- This IS expected if you are initializing BertModel from the checkpoint of a model trained on another task or with another architecture (e.g. initializing a BertForSequenceClassification model from a BertForPreTraining model).\n",
            "- This IS NOT expected if you are initializing BertModel from the checkpoint of a model that you expect to be exactly identical (initializing a BertForSequenceClassification model from a BertForSequenceClassification model).\n",
            "100%|██████████| 20/20 [00:00<00:00, 9450.89it/s]\n"
          ]
        },
        {
          "output_type": "stream",
          "name": "stdout",
          "text": [
            "20\n"
          ]
        },
        {
          "output_type": "stream",
          "name": "stderr",
          "text": [
            "Some weights of the model checkpoint at bert-base-uncased were not used when initializing BertModel: ['cls.predictions.transform.LayerNorm.bias', 'cls.predictions.transform.dense.bias', 'cls.seq_relationship.weight', 'cls.predictions.transform.dense.weight', 'cls.predictions.bias', 'cls.predictions.decoder.weight', 'cls.predictions.transform.LayerNorm.weight', 'cls.seq_relationship.bias']\n",
            "- This IS expected if you are initializing BertModel from the checkpoint of a model trained on another task or with another architecture (e.g. initializing a BertForSequenceClassification model from a BertForPreTraining model).\n",
            "- This IS NOT expected if you are initializing BertModel from the checkpoint of a model that you expect to be exactly identical (initializing a BertForSequenceClassification model from a BertForSequenceClassification model).\n",
            "100%|██████████| 20/20 [00:00<00:00, 11168.43it/s]\n"
          ]
        },
        {
          "output_type": "stream",
          "name": "stdout",
          "text": [
            "20\n"
          ]
        },
        {
          "output_type": "stream",
          "name": "stderr",
          "text": [
            "Some weights of the model checkpoint at bert-base-uncased were not used when initializing BertModel: ['cls.predictions.transform.LayerNorm.bias', 'cls.predictions.transform.dense.bias', 'cls.seq_relationship.weight', 'cls.predictions.transform.dense.weight', 'cls.predictions.bias', 'cls.predictions.decoder.weight', 'cls.predictions.transform.LayerNorm.weight', 'cls.seq_relationship.bias']\n",
            "- This IS expected if you are initializing BertModel from the checkpoint of a model trained on another task or with another architecture (e.g. initializing a BertForSequenceClassification model from a BertForPreTraining model).\n",
            "- This IS NOT expected if you are initializing BertModel from the checkpoint of a model that you expect to be exactly identical (initializing a BertForSequenceClassification model from a BertForSequenceClassification model).\n",
            "100%|██████████| 20/20 [00:00<00:00, 4829.92it/s]\n"
          ]
        },
        {
          "output_type": "stream",
          "name": "stdout",
          "text": [
            "20\n"
          ]
        },
        {
          "output_type": "stream",
          "name": "stderr",
          "text": [
            "Some weights of the model checkpoint at bert-base-uncased were not used when initializing BertModel: ['cls.predictions.transform.LayerNorm.bias', 'cls.predictions.transform.dense.bias', 'cls.seq_relationship.weight', 'cls.predictions.transform.dense.weight', 'cls.predictions.bias', 'cls.predictions.decoder.weight', 'cls.predictions.transform.LayerNorm.weight', 'cls.seq_relationship.bias']\n",
            "- This IS expected if you are initializing BertModel from the checkpoint of a model trained on another task or with another architecture (e.g. initializing a BertForSequenceClassification model from a BertForPreTraining model).\n",
            "- This IS NOT expected if you are initializing BertModel from the checkpoint of a model that you expect to be exactly identical (initializing a BertForSequenceClassification model from a BertForSequenceClassification model).\n",
            "100%|██████████| 20/20 [00:00<00:00, 11202.74it/s]\n"
          ]
        },
        {
          "output_type": "stream",
          "name": "stdout",
          "text": [
            "20\n"
          ]
        },
        {
          "output_type": "stream",
          "name": "stderr",
          "text": [
            "Some weights of the model checkpoint at bert-base-uncased were not used when initializing BertModel: ['cls.predictions.transform.LayerNorm.bias', 'cls.predictions.transform.dense.bias', 'cls.seq_relationship.weight', 'cls.predictions.transform.dense.weight', 'cls.predictions.bias', 'cls.predictions.decoder.weight', 'cls.predictions.transform.LayerNorm.weight', 'cls.seq_relationship.bias']\n",
            "- This IS expected if you are initializing BertModel from the checkpoint of a model trained on another task or with another architecture (e.g. initializing a BertForSequenceClassification model from a BertForPreTraining model).\n",
            "- This IS NOT expected if you are initializing BertModel from the checkpoint of a model that you expect to be exactly identical (initializing a BertForSequenceClassification model from a BertForSequenceClassification model).\n",
            "100%|██████████| 20/20 [00:00<00:00, 14990.36it/s]\n"
          ]
        },
        {
          "output_type": "stream",
          "name": "stdout",
          "text": [
            "20\n"
          ]
        },
        {
          "output_type": "stream",
          "name": "stderr",
          "text": [
            "Some weights of the model checkpoint at bert-base-uncased were not used when initializing BertModel: ['cls.predictions.transform.LayerNorm.bias', 'cls.predictions.transform.dense.bias', 'cls.seq_relationship.weight', 'cls.predictions.transform.dense.weight', 'cls.predictions.bias', 'cls.predictions.decoder.weight', 'cls.predictions.transform.LayerNorm.weight', 'cls.seq_relationship.bias']\n",
            "- This IS expected if you are initializing BertModel from the checkpoint of a model trained on another task or with another architecture (e.g. initializing a BertForSequenceClassification model from a BertForPreTraining model).\n",
            "- This IS NOT expected if you are initializing BertModel from the checkpoint of a model that you expect to be exactly identical (initializing a BertForSequenceClassification model from a BertForSequenceClassification model).\n",
            "100%|██████████| 20/20 [00:00<00:00, 14093.76it/s]\n"
          ]
        },
        {
          "output_type": "stream",
          "name": "stdout",
          "text": [
            "20\n"
          ]
        },
        {
          "output_type": "stream",
          "name": "stderr",
          "text": [
            "Some weights of the model checkpoint at bert-base-uncased were not used when initializing BertModel: ['cls.predictions.transform.LayerNorm.bias', 'cls.predictions.transform.dense.bias', 'cls.seq_relationship.weight', 'cls.predictions.transform.dense.weight', 'cls.predictions.bias', 'cls.predictions.decoder.weight', 'cls.predictions.transform.LayerNorm.weight', 'cls.seq_relationship.bias']\n",
            "- This IS expected if you are initializing BertModel from the checkpoint of a model trained on another task or with another architecture (e.g. initializing a BertForSequenceClassification model from a BertForPreTraining model).\n",
            "- This IS NOT expected if you are initializing BertModel from the checkpoint of a model that you expect to be exactly identical (initializing a BertForSequenceClassification model from a BertForSequenceClassification model).\n",
            "100%|██████████| 20/20 [00:00<00:00, 14968.97it/s]\n"
          ]
        },
        {
          "output_type": "stream",
          "name": "stdout",
          "text": [
            "20\n"
          ]
        },
        {
          "output_type": "stream",
          "name": "stderr",
          "text": [
            "Some weights of the model checkpoint at bert-base-uncased were not used when initializing BertModel: ['cls.predictions.transform.LayerNorm.bias', 'cls.predictions.transform.dense.bias', 'cls.seq_relationship.weight', 'cls.predictions.transform.dense.weight', 'cls.predictions.bias', 'cls.predictions.decoder.weight', 'cls.predictions.transform.LayerNorm.weight', 'cls.seq_relationship.bias']\n",
            "- This IS expected if you are initializing BertModel from the checkpoint of a model trained on another task or with another architecture (e.g. initializing a BertForSequenceClassification model from a BertForPreTraining model).\n",
            "- This IS NOT expected if you are initializing BertModel from the checkpoint of a model that you expect to be exactly identical (initializing a BertForSequenceClassification model from a BertForSequenceClassification model).\n",
            "100%|██████████| 20/20 [00:00<00:00, 12350.72it/s]\n"
          ]
        },
        {
          "output_type": "stream",
          "name": "stdout",
          "text": [
            "20\n"
          ]
        },
        {
          "output_type": "stream",
          "name": "stderr",
          "text": [
            "Some weights of the model checkpoint at bert-base-uncased were not used when initializing BertModel: ['cls.predictions.transform.LayerNorm.bias', 'cls.predictions.transform.dense.bias', 'cls.seq_relationship.weight', 'cls.predictions.transform.dense.weight', 'cls.predictions.bias', 'cls.predictions.decoder.weight', 'cls.predictions.transform.LayerNorm.weight', 'cls.seq_relationship.bias']\n",
            "- This IS expected if you are initializing BertModel from the checkpoint of a model trained on another task or with another architecture (e.g. initializing a BertForSequenceClassification model from a BertForPreTraining model).\n",
            "- This IS NOT expected if you are initializing BertModel from the checkpoint of a model that you expect to be exactly identical (initializing a BertForSequenceClassification model from a BertForSequenceClassification model).\n",
            "100%|██████████| 20/20 [00:00<00:00, 11268.95it/s]\n"
          ]
        },
        {
          "output_type": "stream",
          "name": "stdout",
          "text": [
            "20\n"
          ]
        },
        {
          "output_type": "stream",
          "name": "stderr",
          "text": [
            "Some weights of the model checkpoint at bert-base-uncased were not used when initializing BertModel: ['cls.predictions.transform.LayerNorm.bias', 'cls.predictions.transform.dense.bias', 'cls.seq_relationship.weight', 'cls.predictions.transform.dense.weight', 'cls.predictions.bias', 'cls.predictions.decoder.weight', 'cls.predictions.transform.LayerNorm.weight', 'cls.seq_relationship.bias']\n",
            "- This IS expected if you are initializing BertModel from the checkpoint of a model trained on another task or with another architecture (e.g. initializing a BertForSequenceClassification model from a BertForPreTraining model).\n",
            "- This IS NOT expected if you are initializing BertModel from the checkpoint of a model that you expect to be exactly identical (initializing a BertForSequenceClassification model from a BertForSequenceClassification model).\n",
            "100%|██████████| 20/20 [00:00<00:00, 5106.91it/s]\n"
          ]
        },
        {
          "output_type": "stream",
          "name": "stdout",
          "text": [
            "20\n"
          ]
        },
        {
          "output_type": "stream",
          "name": "stderr",
          "text": [
            "Some weights of the model checkpoint at bert-base-uncased were not used when initializing BertModel: ['cls.predictions.transform.LayerNorm.bias', 'cls.predictions.transform.dense.bias', 'cls.seq_relationship.weight', 'cls.predictions.transform.dense.weight', 'cls.predictions.bias', 'cls.predictions.decoder.weight', 'cls.predictions.transform.LayerNorm.weight', 'cls.seq_relationship.bias']\n",
            "- This IS expected if you are initializing BertModel from the checkpoint of a model trained on another task or with another architecture (e.g. initializing a BertForSequenceClassification model from a BertForPreTraining model).\n",
            "- This IS NOT expected if you are initializing BertModel from the checkpoint of a model that you expect to be exactly identical (initializing a BertForSequenceClassification model from a BertForSequenceClassification model).\n",
            "100%|██████████| 20/20 [00:00<00:00, 6821.67it/s]\n"
          ]
        },
        {
          "output_type": "stream",
          "name": "stdout",
          "text": [
            "20\n"
          ]
        },
        {
          "output_type": "stream",
          "name": "stderr",
          "text": [
            "Some weights of the model checkpoint at bert-base-uncased were not used when initializing BertModel: ['cls.predictions.transform.LayerNorm.bias', 'cls.predictions.transform.dense.bias', 'cls.seq_relationship.weight', 'cls.predictions.transform.dense.weight', 'cls.predictions.bias', 'cls.predictions.decoder.weight', 'cls.predictions.transform.LayerNorm.weight', 'cls.seq_relationship.bias']\n",
            "- This IS expected if you are initializing BertModel from the checkpoint of a model trained on another task or with another architecture (e.g. initializing a BertForSequenceClassification model from a BertForPreTraining model).\n",
            "- This IS NOT expected if you are initializing BertModel from the checkpoint of a model that you expect to be exactly identical (initializing a BertForSequenceClassification model from a BertForSequenceClassification model).\n",
            "100%|██████████| 20/20 [00:00<00:00, 15243.70it/s]\n"
          ]
        },
        {
          "output_type": "stream",
          "name": "stdout",
          "text": [
            "20\n"
          ]
        },
        {
          "output_type": "stream",
          "name": "stderr",
          "text": [
            "Some weights of the model checkpoint at bert-base-uncased were not used when initializing BertModel: ['cls.predictions.transform.LayerNorm.bias', 'cls.predictions.transform.dense.bias', 'cls.seq_relationship.weight', 'cls.predictions.transform.dense.weight', 'cls.predictions.bias', 'cls.predictions.decoder.weight', 'cls.predictions.transform.LayerNorm.weight', 'cls.seq_relationship.bias']\n",
            "- This IS expected if you are initializing BertModel from the checkpoint of a model trained on another task or with another architecture (e.g. initializing a BertForSequenceClassification model from a BertForPreTraining model).\n",
            "- This IS NOT expected if you are initializing BertModel from the checkpoint of a model that you expect to be exactly identical (initializing a BertForSequenceClassification model from a BertForSequenceClassification model).\n",
            "100%|██████████| 20/20 [00:00<00:00, 17512.75it/s]\n"
          ]
        },
        {
          "output_type": "stream",
          "name": "stdout",
          "text": [
            "20\n"
          ]
        },
        {
          "output_type": "stream",
          "name": "stderr",
          "text": [
            "Some weights of the model checkpoint at bert-base-uncased were not used when initializing BertModel: ['cls.predictions.transform.LayerNorm.bias', 'cls.predictions.transform.dense.bias', 'cls.seq_relationship.weight', 'cls.predictions.transform.dense.weight', 'cls.predictions.bias', 'cls.predictions.decoder.weight', 'cls.predictions.transform.LayerNorm.weight', 'cls.seq_relationship.bias']\n",
            "- This IS expected if you are initializing BertModel from the checkpoint of a model trained on another task or with another architecture (e.g. initializing a BertForSequenceClassification model from a BertForPreTraining model).\n",
            "- This IS NOT expected if you are initializing BertModel from the checkpoint of a model that you expect to be exactly identical (initializing a BertForSequenceClassification model from a BertForSequenceClassification model).\n",
            "100%|██████████| 20/20 [00:00<00:00, 24153.78it/s]\n"
          ]
        },
        {
          "output_type": "stream",
          "name": "stdout",
          "text": [
            "20\n"
          ]
        },
        {
          "output_type": "stream",
          "name": "stderr",
          "text": [
            "Some weights of the model checkpoint at bert-base-uncased were not used when initializing BertModel: ['cls.predictions.transform.LayerNorm.bias', 'cls.predictions.transform.dense.bias', 'cls.seq_relationship.weight', 'cls.predictions.transform.dense.weight', 'cls.predictions.bias', 'cls.predictions.decoder.weight', 'cls.predictions.transform.LayerNorm.weight', 'cls.seq_relationship.bias']\n",
            "- This IS expected if you are initializing BertModel from the checkpoint of a model trained on another task or with another architecture (e.g. initializing a BertForSequenceClassification model from a BertForPreTraining model).\n",
            "- This IS NOT expected if you are initializing BertModel from the checkpoint of a model that you expect to be exactly identical (initializing a BertForSequenceClassification model from a BertForSequenceClassification model).\n",
            "100%|██████████| 20/20 [00:00<00:00, 15316.06it/s]\n"
          ]
        },
        {
          "output_type": "stream",
          "name": "stdout",
          "text": [
            "20\n"
          ]
        },
        {
          "output_type": "stream",
          "name": "stderr",
          "text": [
            "Some weights of the model checkpoint at bert-base-uncased were not used when initializing BertModel: ['cls.predictions.transform.LayerNorm.bias', 'cls.predictions.transform.dense.bias', 'cls.seq_relationship.weight', 'cls.predictions.transform.dense.weight', 'cls.predictions.bias', 'cls.predictions.decoder.weight', 'cls.predictions.transform.LayerNorm.weight', 'cls.seq_relationship.bias']\n",
            "- This IS expected if you are initializing BertModel from the checkpoint of a model trained on another task or with another architecture (e.g. initializing a BertForSequenceClassification model from a BertForPreTraining model).\n",
            "- This IS NOT expected if you are initializing BertModel from the checkpoint of a model that you expect to be exactly identical (initializing a BertForSequenceClassification model from a BertForSequenceClassification model).\n",
            "100%|██████████| 20/20 [00:00<00:00, 23974.30it/s]\n"
          ]
        }
      ]
    },
    {
      "cell_type": "code",
      "source": [
        "for x in gt[35:50]:\n",
        "  if (x[1] in datalake) and (x[0] in query):\n",
        "    df_dl = pnd.read_csv(file_path_datalake+x[1])\n",
        "    df_q = pnd.read_csv(file_path_query+x[0])\n",
        "    dl_emb = table_embedding(df_dl)\n",
        "    q_emb = table_embedding(df_q)\n",
        "    emb.append([dl_emb, q_emb])\n"
      ],
      "metadata": {
        "colab": {
          "base_uri": "https://localhost:8080/"
        },
        "id": "-ByVkKlMxgl1",
        "outputId": "2034d34e-823f-4992-e254-85b797821eae"
      },
      "execution_count": null,
      "outputs": [
        {
          "output_type": "stream",
          "name": "stdout",
          "text": [
            "20\n"
          ]
        },
        {
          "output_type": "stream",
          "name": "stderr",
          "text": [
            "Some weights of the model checkpoint at bert-base-uncased were not used when initializing BertModel: ['cls.predictions.transform.LayerNorm.bias', 'cls.predictions.transform.dense.bias', 'cls.seq_relationship.weight', 'cls.predictions.transform.dense.weight', 'cls.predictions.bias', 'cls.predictions.decoder.weight', 'cls.predictions.transform.LayerNorm.weight', 'cls.seq_relationship.bias']\n",
            "- This IS expected if you are initializing BertModel from the checkpoint of a model trained on another task or with another architecture (e.g. initializing a BertForSequenceClassification model from a BertForPreTraining model).\n",
            "- This IS NOT expected if you are initializing BertModel from the checkpoint of a model that you expect to be exactly identical (initializing a BertForSequenceClassification model from a BertForSequenceClassification model).\n",
            "100%|██████████| 20/20 [00:00<00:00, 6851.20it/s]\n",
            "<ipython-input-101-97c62983cf6f>:57: UserWarning: To copy construct from a tensor, it is recommended to use sourceTensor.clone().detach() or sourceTensor.clone().detach().requires_grad_(True), rather than torch.tensor(sourceTensor).\n",
            "  token_ids = torch.tensor(row_ids).unsqueeze(0)\n"
          ]
        },
        {
          "output_type": "stream",
          "name": "stdout",
          "text": [
            "20\n"
          ]
        },
        {
          "output_type": "stream",
          "name": "stderr",
          "text": [
            "Some weights of the model checkpoint at bert-base-uncased were not used when initializing BertModel: ['cls.predictions.transform.LayerNorm.bias', 'cls.predictions.transform.dense.bias', 'cls.seq_relationship.weight', 'cls.predictions.transform.dense.weight', 'cls.predictions.bias', 'cls.predictions.decoder.weight', 'cls.predictions.transform.LayerNorm.weight', 'cls.seq_relationship.bias']\n",
            "- This IS expected if you are initializing BertModel from the checkpoint of a model trained on another task or with another architecture (e.g. initializing a BertForSequenceClassification model from a BertForPreTraining model).\n",
            "- This IS NOT expected if you are initializing BertModel from the checkpoint of a model that you expect to be exactly identical (initializing a BertForSequenceClassification model from a BertForSequenceClassification model).\n",
            "100%|██████████| 20/20 [00:00<00:00, 14797.33it/s]\n"
          ]
        },
        {
          "output_type": "stream",
          "name": "stdout",
          "text": [
            "20\n"
          ]
        },
        {
          "output_type": "stream",
          "name": "stderr",
          "text": [
            "Some weights of the model checkpoint at bert-base-uncased were not used when initializing BertModel: ['cls.predictions.transform.LayerNorm.bias', 'cls.predictions.transform.dense.bias', 'cls.seq_relationship.weight', 'cls.predictions.transform.dense.weight', 'cls.predictions.bias', 'cls.predictions.decoder.weight', 'cls.predictions.transform.LayerNorm.weight', 'cls.seq_relationship.bias']\n",
            "- This IS expected if you are initializing BertModel from the checkpoint of a model trained on another task or with another architecture (e.g. initializing a BertForSequenceClassification model from a BertForPreTraining model).\n",
            "- This IS NOT expected if you are initializing BertModel from the checkpoint of a model that you expect to be exactly identical (initializing a BertForSequenceClassification model from a BertForSequenceClassification model).\n",
            "100%|██████████| 20/20 [00:00<00:00, 23636.54it/s]\n"
          ]
        },
        {
          "output_type": "stream",
          "name": "stdout",
          "text": [
            "20\n"
          ]
        },
        {
          "output_type": "stream",
          "name": "stderr",
          "text": [
            "Some weights of the model checkpoint at bert-base-uncased were not used when initializing BertModel: ['cls.predictions.transform.LayerNorm.bias', 'cls.predictions.transform.dense.bias', 'cls.seq_relationship.weight', 'cls.predictions.transform.dense.weight', 'cls.predictions.bias', 'cls.predictions.decoder.weight', 'cls.predictions.transform.LayerNorm.weight', 'cls.seq_relationship.bias']\n",
            "- This IS expected if you are initializing BertModel from the checkpoint of a model trained on another task or with another architecture (e.g. initializing a BertForSequenceClassification model from a BertForPreTraining model).\n",
            "- This IS NOT expected if you are initializing BertModel from the checkpoint of a model that you expect to be exactly identical (initializing a BertForSequenceClassification model from a BertForSequenceClassification model).\n",
            "100%|██████████| 20/20 [00:00<00:00, 11568.90it/s]\n"
          ]
        },
        {
          "output_type": "stream",
          "name": "stdout",
          "text": [
            "20\n"
          ]
        },
        {
          "output_type": "stream",
          "name": "stderr",
          "text": [
            "Some weights of the model checkpoint at bert-base-uncased were not used when initializing BertModel: ['cls.predictions.transform.LayerNorm.bias', 'cls.predictions.transform.dense.bias', 'cls.seq_relationship.weight', 'cls.predictions.transform.dense.weight', 'cls.predictions.bias', 'cls.predictions.decoder.weight', 'cls.predictions.transform.LayerNorm.weight', 'cls.seq_relationship.bias']\n",
            "- This IS expected if you are initializing BertModel from the checkpoint of a model trained on another task or with another architecture (e.g. initializing a BertForSequenceClassification model from a BertForPreTraining model).\n",
            "- This IS NOT expected if you are initializing BertModel from the checkpoint of a model that you expect to be exactly identical (initializing a BertForSequenceClassification model from a BertForSequenceClassification model).\n",
            "100%|██████████| 20/20 [00:00<00:00, 12115.26it/s]\n"
          ]
        },
        {
          "output_type": "stream",
          "name": "stdout",
          "text": [
            "20\n"
          ]
        },
        {
          "output_type": "stream",
          "name": "stderr",
          "text": [
            "Some weights of the model checkpoint at bert-base-uncased were not used when initializing BertModel: ['cls.predictions.transform.LayerNorm.bias', 'cls.predictions.transform.dense.bias', 'cls.seq_relationship.weight', 'cls.predictions.transform.dense.weight', 'cls.predictions.bias', 'cls.predictions.decoder.weight', 'cls.predictions.transform.LayerNorm.weight', 'cls.seq_relationship.bias']\n",
            "- This IS expected if you are initializing BertModel from the checkpoint of a model trained on another task or with another architecture (e.g. initializing a BertForSequenceClassification model from a BertForPreTraining model).\n",
            "- This IS NOT expected if you are initializing BertModel from the checkpoint of a model that you expect to be exactly identical (initializing a BertForSequenceClassification model from a BertForSequenceClassification model).\n",
            "100%|██████████| 20/20 [00:00<00:00, 14985.01it/s]\n"
          ]
        },
        {
          "output_type": "stream",
          "name": "stdout",
          "text": [
            "20\n"
          ]
        },
        {
          "output_type": "stream",
          "name": "stderr",
          "text": [
            "Some weights of the model checkpoint at bert-base-uncased were not used when initializing BertModel: ['cls.predictions.transform.LayerNorm.bias', 'cls.predictions.transform.dense.bias', 'cls.seq_relationship.weight', 'cls.predictions.transform.dense.weight', 'cls.predictions.bias', 'cls.predictions.decoder.weight', 'cls.predictions.transform.LayerNorm.weight', 'cls.seq_relationship.bias']\n",
            "- This IS expected if you are initializing BertModel from the checkpoint of a model trained on another task or with another architecture (e.g. initializing a BertForSequenceClassification model from a BertForPreTraining model).\n",
            "- This IS NOT expected if you are initializing BertModel from the checkpoint of a model that you expect to be exactly identical (initializing a BertForSequenceClassification model from a BertForSequenceClassification model).\n",
            "100%|██████████| 20/20 [00:00<00:00, 23340.59it/s]\n"
          ]
        },
        {
          "output_type": "stream",
          "name": "stdout",
          "text": [
            "20\n"
          ]
        },
        {
          "output_type": "stream",
          "name": "stderr",
          "text": [
            "Some weights of the model checkpoint at bert-base-uncased were not used when initializing BertModel: ['cls.predictions.transform.LayerNorm.bias', 'cls.predictions.transform.dense.bias', 'cls.seq_relationship.weight', 'cls.predictions.transform.dense.weight', 'cls.predictions.bias', 'cls.predictions.decoder.weight', 'cls.predictions.transform.LayerNorm.weight', 'cls.seq_relationship.bias']\n",
            "- This IS expected if you are initializing BertModel from the checkpoint of a model trained on another task or with another architecture (e.g. initializing a BertForSequenceClassification model from a BertForPreTraining model).\n",
            "- This IS NOT expected if you are initializing BertModel from the checkpoint of a model that you expect to be exactly identical (initializing a BertForSequenceClassification model from a BertForSequenceClassification model).\n",
            "100%|██████████| 20/20 [00:00<00:00, 8659.66it/s]\n"
          ]
        },
        {
          "output_type": "stream",
          "name": "stdout",
          "text": [
            "20\n"
          ]
        },
        {
          "output_type": "stream",
          "name": "stderr",
          "text": [
            "Some weights of the model checkpoint at bert-base-uncased were not used when initializing BertModel: ['cls.predictions.transform.LayerNorm.bias', 'cls.predictions.transform.dense.bias', 'cls.seq_relationship.weight', 'cls.predictions.transform.dense.weight', 'cls.predictions.bias', 'cls.predictions.decoder.weight', 'cls.predictions.transform.LayerNorm.weight', 'cls.seq_relationship.bias']\n",
            "- This IS expected if you are initializing BertModel from the checkpoint of a model trained on another task or with another architecture (e.g. initializing a BertForSequenceClassification model from a BertForPreTraining model).\n",
            "- This IS NOT expected if you are initializing BertModel from the checkpoint of a model that you expect to be exactly identical (initializing a BertForSequenceClassification model from a BertForSequenceClassification model).\n",
            "100%|██████████| 20/20 [00:00<00:00, 16994.75it/s]\n"
          ]
        },
        {
          "output_type": "stream",
          "name": "stdout",
          "text": [
            "20\n"
          ]
        },
        {
          "output_type": "stream",
          "name": "stderr",
          "text": [
            "Some weights of the model checkpoint at bert-base-uncased were not used when initializing BertModel: ['cls.predictions.transform.LayerNorm.bias', 'cls.predictions.transform.dense.bias', 'cls.seq_relationship.weight', 'cls.predictions.transform.dense.weight', 'cls.predictions.bias', 'cls.predictions.decoder.weight', 'cls.predictions.transform.LayerNorm.weight', 'cls.seq_relationship.bias']\n",
            "- This IS expected if you are initializing BertModel from the checkpoint of a model trained on another task or with another architecture (e.g. initializing a BertForSequenceClassification model from a BertForPreTraining model).\n",
            "- This IS NOT expected if you are initializing BertModel from the checkpoint of a model that you expect to be exactly identical (initializing a BertForSequenceClassification model from a BertForSequenceClassification model).\n",
            "100%|██████████| 20/20 [00:00<00:00, 7068.26it/s]\n"
          ]
        },
        {
          "output_type": "stream",
          "name": "stdout",
          "text": [
            "20\n"
          ]
        },
        {
          "output_type": "stream",
          "name": "stderr",
          "text": [
            "Some weights of the model checkpoint at bert-base-uncased were not used when initializing BertModel: ['cls.predictions.transform.LayerNorm.bias', 'cls.predictions.transform.dense.bias', 'cls.seq_relationship.weight', 'cls.predictions.transform.dense.weight', 'cls.predictions.bias', 'cls.predictions.decoder.weight', 'cls.predictions.transform.LayerNorm.weight', 'cls.seq_relationship.bias']\n",
            "- This IS expected if you are initializing BertModel from the checkpoint of a model trained on another task or with another architecture (e.g. initializing a BertForSequenceClassification model from a BertForPreTraining model).\n",
            "- This IS NOT expected if you are initializing BertModel from the checkpoint of a model that you expect to be exactly identical (initializing a BertForSequenceClassification model from a BertForSequenceClassification model).\n",
            "100%|██████████| 20/20 [00:00<00:00, 14644.92it/s]\n"
          ]
        },
        {
          "output_type": "stream",
          "name": "stdout",
          "text": [
            "20\n"
          ]
        },
        {
          "output_type": "stream",
          "name": "stderr",
          "text": [
            "Some weights of the model checkpoint at bert-base-uncased were not used when initializing BertModel: ['cls.predictions.transform.LayerNorm.bias', 'cls.predictions.transform.dense.bias', 'cls.seq_relationship.weight', 'cls.predictions.transform.dense.weight', 'cls.predictions.bias', 'cls.predictions.decoder.weight', 'cls.predictions.transform.LayerNorm.weight', 'cls.seq_relationship.bias']\n",
            "- This IS expected if you are initializing BertModel from the checkpoint of a model trained on another task or with another architecture (e.g. initializing a BertForSequenceClassification model from a BertForPreTraining model).\n",
            "- This IS NOT expected if you are initializing BertModel from the checkpoint of a model that you expect to be exactly identical (initializing a BertForSequenceClassification model from a BertForSequenceClassification model).\n",
            "100%|██████████| 20/20 [00:00<00:00, 5337.96it/s]\n"
          ]
        },
        {
          "output_type": "stream",
          "name": "stdout",
          "text": [
            "20\n"
          ]
        },
        {
          "output_type": "stream",
          "name": "stderr",
          "text": [
            "Some weights of the model checkpoint at bert-base-uncased were not used when initializing BertModel: ['cls.predictions.transform.LayerNorm.bias', 'cls.predictions.transform.dense.bias', 'cls.seq_relationship.weight', 'cls.predictions.transform.dense.weight', 'cls.predictions.bias', 'cls.predictions.decoder.weight', 'cls.predictions.transform.LayerNorm.weight', 'cls.seq_relationship.bias']\n",
            "- This IS expected if you are initializing BertModel from the checkpoint of a model trained on another task or with another architecture (e.g. initializing a BertForSequenceClassification model from a BertForPreTraining model).\n",
            "- This IS NOT expected if you are initializing BertModel from the checkpoint of a model that you expect to be exactly identical (initializing a BertForSequenceClassification model from a BertForSequenceClassification model).\n",
            "100%|██████████| 20/20 [00:00<00:00, 20856.81it/s]\n"
          ]
        },
        {
          "output_type": "stream",
          "name": "stdout",
          "text": [
            "20\n"
          ]
        },
        {
          "output_type": "stream",
          "name": "stderr",
          "text": [
            "Some weights of the model checkpoint at bert-base-uncased were not used when initializing BertModel: ['cls.predictions.transform.LayerNorm.bias', 'cls.predictions.transform.dense.bias', 'cls.seq_relationship.weight', 'cls.predictions.transform.dense.weight', 'cls.predictions.bias', 'cls.predictions.decoder.weight', 'cls.predictions.transform.LayerNorm.weight', 'cls.seq_relationship.bias']\n",
            "- This IS expected if you are initializing BertModel from the checkpoint of a model trained on another task or with another architecture (e.g. initializing a BertForSequenceClassification model from a BertForPreTraining model).\n",
            "- This IS NOT expected if you are initializing BertModel from the checkpoint of a model that you expect to be exactly identical (initializing a BertForSequenceClassification model from a BertForSequenceClassification model).\n",
            "100%|██████████| 20/20 [00:00<00:00, 6003.87it/s]\n"
          ]
        },
        {
          "output_type": "stream",
          "name": "stdout",
          "text": [
            "20\n"
          ]
        },
        {
          "output_type": "stream",
          "name": "stderr",
          "text": [
            "Some weights of the model checkpoint at bert-base-uncased were not used when initializing BertModel: ['cls.predictions.transform.LayerNorm.bias', 'cls.predictions.transform.dense.bias', 'cls.seq_relationship.weight', 'cls.predictions.transform.dense.weight', 'cls.predictions.bias', 'cls.predictions.decoder.weight', 'cls.predictions.transform.LayerNorm.weight', 'cls.seq_relationship.bias']\n",
            "- This IS expected if you are initializing BertModel from the checkpoint of a model trained on another task or with another architecture (e.g. initializing a BertForSequenceClassification model from a BertForPreTraining model).\n",
            "- This IS NOT expected if you are initializing BertModel from the checkpoint of a model that you expect to be exactly identical (initializing a BertForSequenceClassification model from a BertForSequenceClassification model).\n",
            "100%|██████████| 20/20 [00:00<00:00, 12269.43it/s]\n"
          ]
        },
        {
          "output_type": "stream",
          "name": "stdout",
          "text": [
            "20\n"
          ]
        },
        {
          "output_type": "stream",
          "name": "stderr",
          "text": [
            "Some weights of the model checkpoint at bert-base-uncased were not used when initializing BertModel: ['cls.predictions.transform.LayerNorm.bias', 'cls.predictions.transform.dense.bias', 'cls.seq_relationship.weight', 'cls.predictions.transform.dense.weight', 'cls.predictions.bias', 'cls.predictions.decoder.weight', 'cls.predictions.transform.LayerNorm.weight', 'cls.seq_relationship.bias']\n",
            "- This IS expected if you are initializing BertModel from the checkpoint of a model trained on another task or with another architecture (e.g. initializing a BertForSequenceClassification model from a BertForPreTraining model).\n",
            "- This IS NOT expected if you are initializing BertModel from the checkpoint of a model that you expect to be exactly identical (initializing a BertForSequenceClassification model from a BertForSequenceClassification model).\n",
            "100%|██████████| 20/20 [00:00<00:00, 18102.30it/s]\n"
          ]
        },
        {
          "output_type": "stream",
          "name": "stdout",
          "text": [
            "20\n"
          ]
        },
        {
          "output_type": "stream",
          "name": "stderr",
          "text": [
            "Some weights of the model checkpoint at bert-base-uncased were not used when initializing BertModel: ['cls.predictions.transform.LayerNorm.bias', 'cls.predictions.transform.dense.bias', 'cls.seq_relationship.weight', 'cls.predictions.transform.dense.weight', 'cls.predictions.bias', 'cls.predictions.decoder.weight', 'cls.predictions.transform.LayerNorm.weight', 'cls.seq_relationship.bias']\n",
            "- This IS expected if you are initializing BertModel from the checkpoint of a model trained on another task or with another architecture (e.g. initializing a BertForSequenceClassification model from a BertForPreTraining model).\n",
            "- This IS NOT expected if you are initializing BertModel from the checkpoint of a model that you expect to be exactly identical (initializing a BertForSequenceClassification model from a BertForSequenceClassification model).\n",
            "100%|██████████| 20/20 [00:00<00:00, 24174.66it/s]\n"
          ]
        },
        {
          "output_type": "stream",
          "name": "stdout",
          "text": [
            "20\n"
          ]
        },
        {
          "output_type": "stream",
          "name": "stderr",
          "text": [
            "Some weights of the model checkpoint at bert-base-uncased were not used when initializing BertModel: ['cls.predictions.transform.LayerNorm.bias', 'cls.predictions.transform.dense.bias', 'cls.seq_relationship.weight', 'cls.predictions.transform.dense.weight', 'cls.predictions.bias', 'cls.predictions.decoder.weight', 'cls.predictions.transform.LayerNorm.weight', 'cls.seq_relationship.bias']\n",
            "- This IS expected if you are initializing BertModel from the checkpoint of a model trained on another task or with another architecture (e.g. initializing a BertForSequenceClassification model from a BertForPreTraining model).\n",
            "- This IS NOT expected if you are initializing BertModel from the checkpoint of a model that you expect to be exactly identical (initializing a BertForSequenceClassification model from a BertForSequenceClassification model).\n",
            "100%|██████████| 20/20 [00:00<00:00, 23763.76it/s]\n"
          ]
        },
        {
          "output_type": "stream",
          "name": "stdout",
          "text": [
            "20\n"
          ]
        },
        {
          "output_type": "stream",
          "name": "stderr",
          "text": [
            "Some weights of the model checkpoint at bert-base-uncased were not used when initializing BertModel: ['cls.predictions.transform.LayerNorm.bias', 'cls.predictions.transform.dense.bias', 'cls.seq_relationship.weight', 'cls.predictions.transform.dense.weight', 'cls.predictions.bias', 'cls.predictions.decoder.weight', 'cls.predictions.transform.LayerNorm.weight', 'cls.seq_relationship.bias']\n",
            "- This IS expected if you are initializing BertModel from the checkpoint of a model trained on another task or with another architecture (e.g. initializing a BertForSequenceClassification model from a BertForPreTraining model).\n",
            "- This IS NOT expected if you are initializing BertModel from the checkpoint of a model that you expect to be exactly identical (initializing a BertForSequenceClassification model from a BertForSequenceClassification model).\n",
            "100%|██████████| 20/20 [00:00<00:00, 23250.02it/s]\n"
          ]
        },
        {
          "output_type": "stream",
          "name": "stdout",
          "text": [
            "20\n"
          ]
        },
        {
          "output_type": "stream",
          "name": "stderr",
          "text": [
            "Some weights of the model checkpoint at bert-base-uncased were not used when initializing BertModel: ['cls.predictions.transform.LayerNorm.bias', 'cls.predictions.transform.dense.bias', 'cls.seq_relationship.weight', 'cls.predictions.transform.dense.weight', 'cls.predictions.bias', 'cls.predictions.decoder.weight', 'cls.predictions.transform.LayerNorm.weight', 'cls.seq_relationship.bias']\n",
            "- This IS expected if you are initializing BertModel from the checkpoint of a model trained on another task or with another architecture (e.g. initializing a BertForSequenceClassification model from a BertForPreTraining model).\n",
            "- This IS NOT expected if you are initializing BertModel from the checkpoint of a model that you expect to be exactly identical (initializing a BertForSequenceClassification model from a BertForSequenceClassification model).\n",
            "100%|██████████| 20/20 [00:00<00:00, 9729.31it/s]\n"
          ]
        },
        {
          "output_type": "stream",
          "name": "stdout",
          "text": [
            "20\n"
          ]
        },
        {
          "output_type": "stream",
          "name": "stderr",
          "text": [
            "Some weights of the model checkpoint at bert-base-uncased were not used when initializing BertModel: ['cls.predictions.transform.LayerNorm.bias', 'cls.predictions.transform.dense.bias', 'cls.seq_relationship.weight', 'cls.predictions.transform.dense.weight', 'cls.predictions.bias', 'cls.predictions.decoder.weight', 'cls.predictions.transform.LayerNorm.weight', 'cls.seq_relationship.bias']\n",
            "- This IS expected if you are initializing BertModel from the checkpoint of a model trained on another task or with another architecture (e.g. initializing a BertForSequenceClassification model from a BertForPreTraining model).\n",
            "- This IS NOT expected if you are initializing BertModel from the checkpoint of a model that you expect to be exactly identical (initializing a BertForSequenceClassification model from a BertForSequenceClassification model).\n",
            "100%|██████████| 20/20 [00:00<00:00, 15268.67it/s]\n"
          ]
        },
        {
          "output_type": "stream",
          "name": "stdout",
          "text": [
            "20\n"
          ]
        },
        {
          "output_type": "stream",
          "name": "stderr",
          "text": [
            "Some weights of the model checkpoint at bert-base-uncased were not used when initializing BertModel: ['cls.predictions.transform.LayerNorm.bias', 'cls.predictions.transform.dense.bias', 'cls.seq_relationship.weight', 'cls.predictions.transform.dense.weight', 'cls.predictions.bias', 'cls.predictions.decoder.weight', 'cls.predictions.transform.LayerNorm.weight', 'cls.seq_relationship.bias']\n",
            "- This IS expected if you are initializing BertModel from the checkpoint of a model trained on another task or with another architecture (e.g. initializing a BertForSequenceClassification model from a BertForPreTraining model).\n",
            "- This IS NOT expected if you are initializing BertModel from the checkpoint of a model that you expect to be exactly identical (initializing a BertForSequenceClassification model from a BertForSequenceClassification model).\n",
            "100%|██████████| 20/20 [00:00<00:00, 10649.50it/s]\n"
          ]
        },
        {
          "output_type": "stream",
          "name": "stdout",
          "text": [
            "20\n"
          ]
        },
        {
          "output_type": "stream",
          "name": "stderr",
          "text": [
            "Some weights of the model checkpoint at bert-base-uncased were not used when initializing BertModel: ['cls.predictions.transform.LayerNorm.bias', 'cls.predictions.transform.dense.bias', 'cls.seq_relationship.weight', 'cls.predictions.transform.dense.weight', 'cls.predictions.bias', 'cls.predictions.decoder.weight', 'cls.predictions.transform.LayerNorm.weight', 'cls.seq_relationship.bias']\n",
            "- This IS expected if you are initializing BertModel from the checkpoint of a model trained on another task or with another architecture (e.g. initializing a BertForSequenceClassification model from a BertForPreTraining model).\n",
            "- This IS NOT expected if you are initializing BertModel from the checkpoint of a model that you expect to be exactly identical (initializing a BertForSequenceClassification model from a BertForSequenceClassification model).\n",
            "100%|██████████| 20/20 [00:00<00:00, 22957.33it/s]\n"
          ]
        },
        {
          "output_type": "stream",
          "name": "stdout",
          "text": [
            "20\n"
          ]
        },
        {
          "output_type": "stream",
          "name": "stderr",
          "text": [
            "Some weights of the model checkpoint at bert-base-uncased were not used when initializing BertModel: ['cls.predictions.transform.LayerNorm.bias', 'cls.predictions.transform.dense.bias', 'cls.seq_relationship.weight', 'cls.predictions.transform.dense.weight', 'cls.predictions.bias', 'cls.predictions.decoder.weight', 'cls.predictions.transform.LayerNorm.weight', 'cls.seq_relationship.bias']\n",
            "- This IS expected if you are initializing BertModel from the checkpoint of a model trained on another task or with another architecture (e.g. initializing a BertForSequenceClassification model from a BertForPreTraining model).\n",
            "- This IS NOT expected if you are initializing BertModel from the checkpoint of a model that you expect to be exactly identical (initializing a BertForSequenceClassification model from a BertForSequenceClassification model).\n",
            "100%|██████████| 20/20 [00:00<00:00, 14990.36it/s]\n"
          ]
        },
        {
          "output_type": "stream",
          "name": "stdout",
          "text": [
            "20\n"
          ]
        },
        {
          "output_type": "stream",
          "name": "stderr",
          "text": [
            "Some weights of the model checkpoint at bert-base-uncased were not used when initializing BertModel: ['cls.predictions.transform.LayerNorm.bias', 'cls.predictions.transform.dense.bias', 'cls.seq_relationship.weight', 'cls.predictions.transform.dense.weight', 'cls.predictions.bias', 'cls.predictions.decoder.weight', 'cls.predictions.transform.LayerNorm.weight', 'cls.seq_relationship.bias']\n",
            "- This IS expected if you are initializing BertModel from the checkpoint of a model trained on another task or with another architecture (e.g. initializing a BertForSequenceClassification model from a BertForPreTraining model).\n",
            "- This IS NOT expected if you are initializing BertModel from the checkpoint of a model that you expect to be exactly identical (initializing a BertForSequenceClassification model from a BertForSequenceClassification model).\n",
            "100%|██████████| 20/20 [00:00<00:00, 17267.62it/s]\n"
          ]
        },
        {
          "output_type": "stream",
          "name": "stdout",
          "text": [
            "20\n"
          ]
        },
        {
          "output_type": "stream",
          "name": "stderr",
          "text": [
            "Some weights of the model checkpoint at bert-base-uncased were not used when initializing BertModel: ['cls.predictions.transform.LayerNorm.bias', 'cls.predictions.transform.dense.bias', 'cls.seq_relationship.weight', 'cls.predictions.transform.dense.weight', 'cls.predictions.bias', 'cls.predictions.decoder.weight', 'cls.predictions.transform.LayerNorm.weight', 'cls.seq_relationship.bias']\n",
            "- This IS expected if you are initializing BertModel from the checkpoint of a model trained on another task or with another architecture (e.g. initializing a BertForSequenceClassification model from a BertForPreTraining model).\n",
            "- This IS NOT expected if you are initializing BertModel from the checkpoint of a model that you expect to be exactly identical (initializing a BertForSequenceClassification model from a BertForSequenceClassification model).\n",
            "100%|██████████| 20/20 [00:00<00:00, 10779.50it/s]\n"
          ]
        },
        {
          "output_type": "stream",
          "name": "stdout",
          "text": [
            "20\n"
          ]
        },
        {
          "output_type": "stream",
          "name": "stderr",
          "text": [
            "Some weights of the model checkpoint at bert-base-uncased were not used when initializing BertModel: ['cls.predictions.transform.LayerNorm.bias', 'cls.predictions.transform.dense.bias', 'cls.seq_relationship.weight', 'cls.predictions.transform.dense.weight', 'cls.predictions.bias', 'cls.predictions.decoder.weight', 'cls.predictions.transform.LayerNorm.weight', 'cls.seq_relationship.bias']\n",
            "- This IS expected if you are initializing BertModel from the checkpoint of a model trained on another task or with another architecture (e.g. initializing a BertForSequenceClassification model from a BertForPreTraining model).\n",
            "- This IS NOT expected if you are initializing BertModel from the checkpoint of a model that you expect to be exactly identical (initializing a BertForSequenceClassification model from a BertForSequenceClassification model).\n",
            "100%|██████████| 20/20 [00:00<00:00, 9716.91it/s]\n"
          ]
        },
        {
          "output_type": "stream",
          "name": "stdout",
          "text": [
            "20\n"
          ]
        },
        {
          "output_type": "stream",
          "name": "stderr",
          "text": [
            "Some weights of the model checkpoint at bert-base-uncased were not used when initializing BertModel: ['cls.predictions.transform.LayerNorm.bias', 'cls.predictions.transform.dense.bias', 'cls.seq_relationship.weight', 'cls.predictions.transform.dense.weight', 'cls.predictions.bias', 'cls.predictions.decoder.weight', 'cls.predictions.transform.LayerNorm.weight', 'cls.seq_relationship.bias']\n",
            "- This IS expected if you are initializing BertModel from the checkpoint of a model trained on another task or with another architecture (e.g. initializing a BertForSequenceClassification model from a BertForPreTraining model).\n",
            "- This IS NOT expected if you are initializing BertModel from the checkpoint of a model that you expect to be exactly identical (initializing a BertForSequenceClassification model from a BertForSequenceClassification model).\n",
            "100%|██████████| 20/20 [00:00<00:00, 11890.30it/s]\n"
          ]
        },
        {
          "output_type": "stream",
          "name": "stdout",
          "text": [
            "20\n"
          ]
        },
        {
          "output_type": "stream",
          "name": "stderr",
          "text": [
            "Some weights of the model checkpoint at bert-base-uncased were not used when initializing BertModel: ['cls.predictions.transform.LayerNorm.bias', 'cls.predictions.transform.dense.bias', 'cls.seq_relationship.weight', 'cls.predictions.transform.dense.weight', 'cls.predictions.bias', 'cls.predictions.decoder.weight', 'cls.predictions.transform.LayerNorm.weight', 'cls.seq_relationship.bias']\n",
            "- This IS expected if you are initializing BertModel from the checkpoint of a model trained on another task or with another architecture (e.g. initializing a BertForSequenceClassification model from a BertForPreTraining model).\n",
            "- This IS NOT expected if you are initializing BertModel from the checkpoint of a model that you expect to be exactly identical (initializing a BertForSequenceClassification model from a BertForSequenceClassification model).\n",
            "100%|██████████| 20/20 [00:00<00:00, 6984.69it/s]\n"
          ]
        },
        {
          "output_type": "stream",
          "name": "stdout",
          "text": [
            "20\n"
          ]
        },
        {
          "output_type": "stream",
          "name": "stderr",
          "text": [
            "Some weights of the model checkpoint at bert-base-uncased were not used when initializing BertModel: ['cls.predictions.transform.LayerNorm.bias', 'cls.predictions.transform.dense.bias', 'cls.seq_relationship.weight', 'cls.predictions.transform.dense.weight', 'cls.predictions.bias', 'cls.predictions.decoder.weight', 'cls.predictions.transform.LayerNorm.weight', 'cls.seq_relationship.bias']\n",
            "- This IS expected if you are initializing BertModel from the checkpoint of a model trained on another task or with another architecture (e.g. initializing a BertForSequenceClassification model from a BertForPreTraining model).\n",
            "- This IS NOT expected if you are initializing BertModel from the checkpoint of a model that you expect to be exactly identical (initializing a BertForSequenceClassification model from a BertForSequenceClassification model).\n",
            "100%|██████████| 20/20 [00:00<00:00, 24973.53it/s]\n"
          ]
        }
      ]
    },
    {
      "cell_type": "code",
      "source": [
        "torch.save(emb, '/content/drive/MyDrive/labeled_benchmark/embeddings.pt')"
      ],
      "metadata": {
        "id": "cLMr1gHxxkeY"
      },
      "execution_count": null,
      "outputs": []
    },
    {
      "cell_type": "code",
      "execution_count": null,
      "metadata": {
        "id": "WztgB2YLSLrn"
      },
      "outputs": [],
      "source": [
        "arr_dl = os.listdir('/content/drive/MyDrive/labeled_benchmark/datalake')\n",
        "arr_q = os.listdir('/content/drive/MyDrive/labeled_benchmark/query')"
      ]
    },
    {
      "cell_type": "code",
      "execution_count": null,
      "metadata": {
        "id": "eafq5gD8SjFs"
      },
      "outputs": [],
      "source": [
        "zero_labels_datalake = []\n",
        "zero_labels_query = []\n",
        "res_pairs = []\n",
        "\n",
        "    \n",
        "for i, j in zip(arr_dl, arr_q):\n",
        "  res_pairs.append((i, j))\n"
      ]
    },
    {
      "cell_type": "code",
      "execution_count": null,
      "metadata": {
        "id": "QrKSXGkQSjtg",
        "colab": {
          "base_uri": "https://localhost:8080/"
        },
        "outputId": "553f4463-f44f-403c-a978-9502dbec8df3"
      },
      "outputs": [
        {
          "output_type": "execute_result",
          "data": {
            "text/plain": [
              "[('311_calls_historic_data_5.csv', '311_calls_historic_data_a.csv'),\n",
              " ('311_calls_historic_data_a.csv', 'albums_a.csv'),\n",
              " ('311_calls_historic_data_9.csv', 'abandoned_wells_a.csv'),\n",
              " ('311_calls_historic_data_4.csv', 'albums_b.csv'),\n",
              " ('311_calls_historic_data_3.csv', 'animal_tag_data_a.csv'),\n",
              " ('311_calls_historic_data_8.csv', 'animal_tag_data_b.csv'),\n",
              " ('311_calls_historic_data_7.csv',\n",
              "  'cdc_nutrition_physical_activity_and_obesity_legislation_a.csv'),\n",
              " ('311_calls_historic_data_0.csv', 'complaint_by_practice_a.csv'),\n",
              " ('311_calls_historic_data_1.csv', 'complaint_by_practice_b.csv'),\n",
              " ('311_calls_historic_data_6.csv', 'contributors_parties_a.csv'),\n",
              " ('311_calls_historic_data_2.csv', 'contributors_parties_b.csv'),\n",
              " ('abandoned_wells_7.csv', 'deaths_2012_2018_a.csv'),\n",
              " ('albums_7.csv', 'film_locations_in_san_francisco_a.csv'),\n",
              " ('albums_8.csv', 'new_york_city_restaurant_inspection_results_a.csv'),\n",
              " ('abandoned_wells_6.csv',\n",
              "  'oil_and_gas_summary_production_data_1967_1999_a.csv'),\n",
              " ('abandoned_wells_0.csv',\n",
              "  'psyckes_antipsychotic_polypharmacy_quality_indicators_beginning_2012_a.csv'),\n",
              " ('albums_11.csv', 'report_card_discipline_for_2015_16_a.csv'),\n",
              " ('albums_5.csv', 'time_spent_watching_vcr_movies_a.csv'),\n",
              " ('albums_a.csv', 'tuition_assistance_program_tap_recipients_a.csv'),\n",
              " ('abandoned_wells_2.csv', 'wholesale_markets_a.csv'),\n",
              " ('abandoned_wells_a.csv', 'lane_description_a.csv'),\n",
              " ('albums_13.csv', 'lane_description_b.csv'),\n",
              " ('albums_2.csv', 'ipopayments_b.csv'),\n",
              " ('albums_3.csv', 'business_rates_a.csv'),\n",
              " ('albums_6.csv', 'monthly_data_feed_b.csv'),\n",
              " ('albums_1.csv', 'data_mill_b.csv'),\n",
              " ('abandoned_wells_9.csv', 'data_mill_a.csv'),\n",
              " ('albums_10.csv', 'minister_meetings_a.csv'),\n",
              " ('abandoned_wells_4.csv', 'mines_b.csv'),\n",
              " ('albums_b.csv', 'ydn_spending_data_b.csv'),\n",
              " ('abandoned_wells_8.csv', 'workforce_management_information_a.csv'),\n",
              " ('albums_9.csv', 'workforce_management_information_b.csv'),\n",
              " ('abandoned_wells_5.csv', 'ipopayments_a.csv'),\n",
              " ('abandoned_wells_1.csv', 'cihr_co-applicant_a.csv'),\n",
              " ('abandoned_wells_3.csv', 'civic_building_locations_a.csv'),\n",
              " ('albums_4.csv', 'monthly_data_feed_a.csv'),\n",
              " ('albums_12.csv', 'mines_a.csv'),\n",
              " ('albums_0.csv', 'ydn_spending_data_a.csv'),\n",
              " ('animal_tag_data_a.csv', 'job_pay_scales_a.csv'),\n",
              " ('animal_tag_data_4.csv', 'purchasing_card_a.csv'),\n",
              " ('animal_tag_data_6.csv', 'biodiversity_a.csv'),\n",
              " ('animal_tag_data_7.csv', 'senior_officials_expenses_a.csv'),\n",
              " ('animal_tag_data_1.csv', 'cihr_co-applicant_b.csv'),\n",
              " ('animal_tag_data_5.csv', 'immigration_records_a.csv'),\n",
              " ('animal_tag_data_b.csv', 'prescribing_b.csv'),\n",
              " ('animal_tag_data_0.csv', 'practice_reference_a.csv'),\n",
              " ('animal_tag_data_2.csv', 'prescribing_a.csv'),\n",
              " ('animal_tag_data_9.csv', 'practice_reference_b.csv'),\n",
              " ('animal_tag_data_8.csv', 'stockport_contracts_a.csv'),\n",
              " ('animal_tag_data_3.csv', 'stockport_contracts_b.csv')]"
            ]
          },
          "metadata": {},
          "execution_count": 47
        }
      ],
      "source": [
        "res_pairs"
      ]
    },
    {
      "cell_type": "code",
      "execution_count": null,
      "metadata": {
        "id": "_EBjoI20TSpl"
      },
      "outputs": [],
      "source": [
        "# path_dl = '/content/drive/MyDrive/labeled_benchmark/datalake/'\n",
        "# dl_file_len = {}\n",
        "# for i in zero_labels_datalake[:-7]:\n",
        "#   df = pd.read_csv(path_dl+i)\n",
        "#   dl_file_len[i] = len(df)\n",
        "# dl_sort_dict = dict(sorted(dl_file_len.items(), key=lambda item: item[1]))\n",
        "# print(dl_sort_dict)"
      ]
    },
    {
      "cell_type": "code",
      "execution_count": null,
      "metadata": {
        "id": "BZlJYrwtkQ5q",
        "colab": {
          "base_uri": "https://localhost:8080/"
        },
        "outputId": "b1114fa9-912b-4d48-85cb-442e2802589b"
      },
      "outputs": [
        {
          "output_type": "stream",
          "name": "stdout",
          "text": [
            "20\n"
          ]
        },
        {
          "output_type": "stream",
          "name": "stderr",
          "text": [
            "Some weights of the model checkpoint at bert-base-uncased were not used when initializing BertModel: ['cls.predictions.transform.LayerNorm.bias', 'cls.seq_relationship.bias', 'cls.predictions.transform.dense.bias', 'cls.predictions.decoder.weight', 'cls.predictions.transform.LayerNorm.weight', 'cls.predictions.bias', 'cls.predictions.transform.dense.weight', 'cls.seq_relationship.weight']\n",
            "- This IS expected if you are initializing BertModel from the checkpoint of a model trained on another task or with another architecture (e.g. initializing a BertForSequenceClassification model from a BertForPreTraining model).\n",
            "- This IS NOT expected if you are initializing BertModel from the checkpoint of a model that you expect to be exactly identical (initializing a BertForSequenceClassification model from a BertForSequenceClassification model).\n",
            "100%|██████████| 20/20 [00:00<00:00, 20530.12it/s]\n",
            "<ipython-input-34-97c62983cf6f>:57: UserWarning: To copy construct from a tensor, it is recommended to use sourceTensor.clone().detach() or sourceTensor.clone().detach().requires_grad_(True), rather than torch.tensor(sourceTensor).\n",
            "  token_ids = torch.tensor(row_ids).unsqueeze(0)\n"
          ]
        },
        {
          "output_type": "stream",
          "name": "stdout",
          "text": [
            "20\n"
          ]
        },
        {
          "output_type": "stream",
          "name": "stderr",
          "text": [
            "Some weights of the model checkpoint at bert-base-uncased were not used when initializing BertModel: ['cls.predictions.transform.LayerNorm.bias', 'cls.seq_relationship.bias', 'cls.predictions.transform.dense.bias', 'cls.predictions.decoder.weight', 'cls.predictions.transform.LayerNorm.weight', 'cls.predictions.bias', 'cls.predictions.transform.dense.weight', 'cls.seq_relationship.weight']\n",
            "- This IS expected if you are initializing BertModel from the checkpoint of a model trained on another task or with another architecture (e.g. initializing a BertForSequenceClassification model from a BertForPreTraining model).\n",
            "- This IS NOT expected if you are initializing BertModel from the checkpoint of a model that you expect to be exactly identical (initializing a BertForSequenceClassification model from a BertForSequenceClassification model).\n",
            "100%|██████████| 20/20 [00:00<00:00, 7367.48it/s]\n"
          ]
        },
        {
          "output_type": "stream",
          "name": "stdout",
          "text": [
            "20\n"
          ]
        },
        {
          "output_type": "stream",
          "name": "stderr",
          "text": [
            "Some weights of the model checkpoint at bert-base-uncased were not used when initializing BertModel: ['cls.predictions.transform.LayerNorm.bias', 'cls.seq_relationship.bias', 'cls.predictions.transform.dense.bias', 'cls.predictions.decoder.weight', 'cls.predictions.transform.LayerNorm.weight', 'cls.predictions.bias', 'cls.predictions.transform.dense.weight', 'cls.seq_relationship.weight']\n",
            "- This IS expected if you are initializing BertModel from the checkpoint of a model trained on another task or with another architecture (e.g. initializing a BertForSequenceClassification model from a BertForPreTraining model).\n",
            "- This IS NOT expected if you are initializing BertModel from the checkpoint of a model that you expect to be exactly identical (initializing a BertForSequenceClassification model from a BertForSequenceClassification model).\n",
            "100%|██████████| 20/20 [00:00<00:00, 20198.91it/s]\n"
          ]
        },
        {
          "output_type": "stream",
          "name": "stdout",
          "text": [
            "20\n"
          ]
        },
        {
          "output_type": "stream",
          "name": "stderr",
          "text": [
            "Some weights of the model checkpoint at bert-base-uncased were not used when initializing BertModel: ['cls.predictions.transform.LayerNorm.bias', 'cls.seq_relationship.bias', 'cls.predictions.transform.dense.bias', 'cls.predictions.decoder.weight', 'cls.predictions.transform.LayerNorm.weight', 'cls.predictions.bias', 'cls.predictions.transform.dense.weight', 'cls.seq_relationship.weight']\n",
            "- This IS expected if you are initializing BertModel from the checkpoint of a model trained on another task or with another architecture (e.g. initializing a BertForSequenceClassification model from a BertForPreTraining model).\n",
            "- This IS NOT expected if you are initializing BertModel from the checkpoint of a model that you expect to be exactly identical (initializing a BertForSequenceClassification model from a BertForSequenceClassification model).\n",
            "100%|██████████| 20/20 [00:00<00:00, 20126.22it/s]\n"
          ]
        },
        {
          "output_type": "stream",
          "name": "stdout",
          "text": [
            "20\n"
          ]
        },
        {
          "output_type": "stream",
          "name": "stderr",
          "text": [
            "Some weights of the model checkpoint at bert-base-uncased were not used when initializing BertModel: ['cls.predictions.transform.LayerNorm.bias', 'cls.seq_relationship.bias', 'cls.predictions.transform.dense.bias', 'cls.predictions.decoder.weight', 'cls.predictions.transform.LayerNorm.weight', 'cls.predictions.bias', 'cls.predictions.transform.dense.weight', 'cls.seq_relationship.weight']\n",
            "- This IS expected if you are initializing BertModel from the checkpoint of a model trained on another task or with another architecture (e.g. initializing a BertForSequenceClassification model from a BertForPreTraining model).\n",
            "- This IS NOT expected if you are initializing BertModel from the checkpoint of a model that you expect to be exactly identical (initializing a BertForSequenceClassification model from a BertForSequenceClassification model).\n",
            "100%|██████████| 20/20 [00:00<00:00, 9274.30it/s]\n"
          ]
        },
        {
          "output_type": "stream",
          "name": "stdout",
          "text": [
            "20\n"
          ]
        },
        {
          "output_type": "stream",
          "name": "stderr",
          "text": [
            "Some weights of the model checkpoint at bert-base-uncased were not used when initializing BertModel: ['cls.predictions.transform.LayerNorm.bias', 'cls.seq_relationship.bias', 'cls.predictions.transform.dense.bias', 'cls.predictions.decoder.weight', 'cls.predictions.transform.LayerNorm.weight', 'cls.predictions.bias', 'cls.predictions.transform.dense.weight', 'cls.seq_relationship.weight']\n",
            "- This IS expected if you are initializing BertModel from the checkpoint of a model trained on another task or with another architecture (e.g. initializing a BertForSequenceClassification model from a BertForPreTraining model).\n",
            "- This IS NOT expected if you are initializing BertModel from the checkpoint of a model that you expect to be exactly identical (initializing a BertForSequenceClassification model from a BertForSequenceClassification model).\n",
            "100%|██████████| 20/20 [00:00<00:00, 23710.03it/s]\n"
          ]
        },
        {
          "output_type": "stream",
          "name": "stdout",
          "text": [
            "20\n"
          ]
        },
        {
          "output_type": "stream",
          "name": "stderr",
          "text": [
            "Some weights of the model checkpoint at bert-base-uncased were not used when initializing BertModel: ['cls.predictions.transform.LayerNorm.bias', 'cls.seq_relationship.bias', 'cls.predictions.transform.dense.bias', 'cls.predictions.decoder.weight', 'cls.predictions.transform.LayerNorm.weight', 'cls.predictions.bias', 'cls.predictions.transform.dense.weight', 'cls.seq_relationship.weight']\n",
            "- This IS expected if you are initializing BertModel from the checkpoint of a model trained on another task or with another architecture (e.g. initializing a BertForSequenceClassification model from a BertForPreTraining model).\n",
            "- This IS NOT expected if you are initializing BertModel from the checkpoint of a model that you expect to be exactly identical (initializing a BertForSequenceClassification model from a BertForSequenceClassification model).\n",
            "100%|██████████| 20/20 [00:00<00:00, 17564.09it/s]\n"
          ]
        },
        {
          "output_type": "stream",
          "name": "stdout",
          "text": [
            "20\n"
          ]
        },
        {
          "output_type": "stream",
          "name": "stderr",
          "text": [
            "Some weights of the model checkpoint at bert-base-uncased were not used when initializing BertModel: ['cls.predictions.transform.LayerNorm.bias', 'cls.seq_relationship.bias', 'cls.predictions.transform.dense.bias', 'cls.predictions.decoder.weight', 'cls.predictions.transform.LayerNorm.weight', 'cls.predictions.bias', 'cls.predictions.transform.dense.weight', 'cls.seq_relationship.weight']\n",
            "- This IS expected if you are initializing BertModel from the checkpoint of a model trained on another task or with another architecture (e.g. initializing a BertForSequenceClassification model from a BertForPreTraining model).\n",
            "- This IS NOT expected if you are initializing BertModel from the checkpoint of a model that you expect to be exactly identical (initializing a BertForSequenceClassification model from a BertForSequenceClassification model).\n",
            "100%|██████████| 20/20 [00:00<00:00, 21018.81it/s]\n"
          ]
        },
        {
          "output_type": "stream",
          "name": "stdout",
          "text": [
            "20\n"
          ]
        },
        {
          "output_type": "stream",
          "name": "stderr",
          "text": [
            "Some weights of the model checkpoint at bert-base-uncased were not used when initializing BertModel: ['cls.predictions.transform.LayerNorm.bias', 'cls.seq_relationship.bias', 'cls.predictions.transform.dense.bias', 'cls.predictions.decoder.weight', 'cls.predictions.transform.LayerNorm.weight', 'cls.predictions.bias', 'cls.predictions.transform.dense.weight', 'cls.seq_relationship.weight']\n",
            "- This IS expected if you are initializing BertModel from the checkpoint of a model trained on another task or with another architecture (e.g. initializing a BertForSequenceClassification model from a BertForPreTraining model).\n",
            "- This IS NOT expected if you are initializing BertModel from the checkpoint of a model that you expect to be exactly identical (initializing a BertForSequenceClassification model from a BertForSequenceClassification model).\n",
            "100%|██████████| 20/20 [00:00<00:00, 5435.85it/s]\n"
          ]
        },
        {
          "output_type": "stream",
          "name": "stdout",
          "text": [
            "20\n"
          ]
        },
        {
          "output_type": "stream",
          "name": "stderr",
          "text": [
            "Some weights of the model checkpoint at bert-base-uncased were not used when initializing BertModel: ['cls.predictions.transform.LayerNorm.bias', 'cls.seq_relationship.bias', 'cls.predictions.transform.dense.bias', 'cls.predictions.decoder.weight', 'cls.predictions.transform.LayerNorm.weight', 'cls.predictions.bias', 'cls.predictions.transform.dense.weight', 'cls.seq_relationship.weight']\n",
            "- This IS expected if you are initializing BertModel from the checkpoint of a model trained on another task or with another architecture (e.g. initializing a BertForSequenceClassification model from a BertForPreTraining model).\n",
            "- This IS NOT expected if you are initializing BertModel from the checkpoint of a model that you expect to be exactly identical (initializing a BertForSequenceClassification model from a BertForSequenceClassification model).\n",
            "100%|██████████| 20/20 [00:00<00:00, 20641.26it/s]\n"
          ]
        },
        {
          "output_type": "stream",
          "name": "stdout",
          "text": [
            "20\n"
          ]
        },
        {
          "output_type": "stream",
          "name": "stderr",
          "text": [
            "Some weights of the model checkpoint at bert-base-uncased were not used when initializing BertModel: ['cls.predictions.transform.LayerNorm.bias', 'cls.seq_relationship.bias', 'cls.predictions.transform.dense.bias', 'cls.predictions.decoder.weight', 'cls.predictions.transform.LayerNorm.weight', 'cls.predictions.bias', 'cls.predictions.transform.dense.weight', 'cls.seq_relationship.weight']\n",
            "- This IS expected if you are initializing BertModel from the checkpoint of a model trained on another task or with another architecture (e.g. initializing a BertForSequenceClassification model from a BertForPreTraining model).\n",
            "- This IS NOT expected if you are initializing BertModel from the checkpoint of a model that you expect to be exactly identical (initializing a BertForSequenceClassification model from a BertForSequenceClassification model).\n",
            "100%|██████████| 20/20 [00:00<00:00, 3591.17it/s]\n"
          ]
        },
        {
          "output_type": "stream",
          "name": "stdout",
          "text": [
            "20\n"
          ]
        },
        {
          "output_type": "stream",
          "name": "stderr",
          "text": [
            "Some weights of the model checkpoint at bert-base-uncased were not used when initializing BertModel: ['cls.predictions.transform.LayerNorm.bias', 'cls.seq_relationship.bias', 'cls.predictions.transform.dense.bias', 'cls.predictions.decoder.weight', 'cls.predictions.transform.LayerNorm.weight', 'cls.predictions.bias', 'cls.predictions.transform.dense.weight', 'cls.seq_relationship.weight']\n",
            "- This IS expected if you are initializing BertModel from the checkpoint of a model trained on another task or with another architecture (e.g. initializing a BertForSequenceClassification model from a BertForPreTraining model).\n",
            "- This IS NOT expected if you are initializing BertModel from the checkpoint of a model that you expect to be exactly identical (initializing a BertForSequenceClassification model from a BertForSequenceClassification model).\n",
            "100%|██████████| 20/20 [00:00<00:00, 7801.90it/s]\n"
          ]
        },
        {
          "output_type": "stream",
          "name": "stdout",
          "text": [
            "20\n"
          ]
        },
        {
          "output_type": "stream",
          "name": "stderr",
          "text": [
            "Some weights of the model checkpoint at bert-base-uncased were not used when initializing BertModel: ['cls.predictions.transform.LayerNorm.bias', 'cls.seq_relationship.bias', 'cls.predictions.transform.dense.bias', 'cls.predictions.decoder.weight', 'cls.predictions.transform.LayerNorm.weight', 'cls.predictions.bias', 'cls.predictions.transform.dense.weight', 'cls.seq_relationship.weight']\n",
            "- This IS expected if you are initializing BertModel from the checkpoint of a model trained on another task or with another architecture (e.g. initializing a BertForSequenceClassification model from a BertForPreTraining model).\n",
            "- This IS NOT expected if you are initializing BertModel from the checkpoint of a model that you expect to be exactly identical (initializing a BertForSequenceClassification model from a BertForSequenceClassification model).\n",
            "100%|██████████| 20/20 [00:00<00:00, 21625.70it/s]\n"
          ]
        },
        {
          "output_type": "stream",
          "name": "stdout",
          "text": [
            "20\n"
          ]
        },
        {
          "output_type": "stream",
          "name": "stderr",
          "text": [
            "Some weights of the model checkpoint at bert-base-uncased were not used when initializing BertModel: ['cls.predictions.transform.LayerNorm.bias', 'cls.seq_relationship.bias', 'cls.predictions.transform.dense.bias', 'cls.predictions.decoder.weight', 'cls.predictions.transform.LayerNorm.weight', 'cls.predictions.bias', 'cls.predictions.transform.dense.weight', 'cls.seq_relationship.weight']\n",
            "- This IS expected if you are initializing BertModel from the checkpoint of a model trained on another task or with another architecture (e.g. initializing a BertForSequenceClassification model from a BertForPreTraining model).\n",
            "- This IS NOT expected if you are initializing BertModel from the checkpoint of a model that you expect to be exactly identical (initializing a BertForSequenceClassification model from a BertForSequenceClassification model).\n",
            "100%|██████████| 20/20 [00:00<00:00, 9103.21it/s]\n"
          ]
        },
        {
          "output_type": "stream",
          "name": "stdout",
          "text": [
            "20\n"
          ]
        },
        {
          "output_type": "stream",
          "name": "stderr",
          "text": [
            "Some weights of the model checkpoint at bert-base-uncased were not used when initializing BertModel: ['cls.predictions.transform.LayerNorm.bias', 'cls.seq_relationship.bias', 'cls.predictions.transform.dense.bias', 'cls.predictions.decoder.weight', 'cls.predictions.transform.LayerNorm.weight', 'cls.predictions.bias', 'cls.predictions.transform.dense.weight', 'cls.seq_relationship.weight']\n",
            "- This IS expected if you are initializing BertModel from the checkpoint of a model trained on another task or with another architecture (e.g. initializing a BertForSequenceClassification model from a BertForPreTraining model).\n",
            "- This IS NOT expected if you are initializing BertModel from the checkpoint of a model that you expect to be exactly identical (initializing a BertForSequenceClassification model from a BertForSequenceClassification model).\n",
            "100%|██████████| 20/20 [00:00<00:00, 23484.34it/s]\n"
          ]
        },
        {
          "output_type": "stream",
          "name": "stdout",
          "text": [
            "20\n"
          ]
        },
        {
          "output_type": "stream",
          "name": "stderr",
          "text": [
            "Some weights of the model checkpoint at bert-base-uncased were not used when initializing BertModel: ['cls.predictions.transform.LayerNorm.bias', 'cls.seq_relationship.bias', 'cls.predictions.transform.dense.bias', 'cls.predictions.decoder.weight', 'cls.predictions.transform.LayerNorm.weight', 'cls.predictions.bias', 'cls.predictions.transform.dense.weight', 'cls.seq_relationship.weight']\n",
            "- This IS expected if you are initializing BertModel from the checkpoint of a model trained on another task or with another architecture (e.g. initializing a BertForSequenceClassification model from a BertForPreTraining model).\n",
            "- This IS NOT expected if you are initializing BertModel from the checkpoint of a model that you expect to be exactly identical (initializing a BertForSequenceClassification model from a BertForSequenceClassification model).\n",
            "100%|██████████| 20/20 [00:00<00:00, 14616.85it/s]\n"
          ]
        },
        {
          "output_type": "stream",
          "name": "stdout",
          "text": [
            "20\n"
          ]
        },
        {
          "output_type": "stream",
          "name": "stderr",
          "text": [
            "Some weights of the model checkpoint at bert-base-uncased were not used when initializing BertModel: ['cls.predictions.transform.LayerNorm.bias', 'cls.seq_relationship.bias', 'cls.predictions.transform.dense.bias', 'cls.predictions.decoder.weight', 'cls.predictions.transform.LayerNorm.weight', 'cls.predictions.bias', 'cls.predictions.transform.dense.weight', 'cls.seq_relationship.weight']\n",
            "- This IS expected if you are initializing BertModel from the checkpoint of a model trained on another task or with another architecture (e.g. initializing a BertForSequenceClassification model from a BertForPreTraining model).\n",
            "- This IS NOT expected if you are initializing BertModel from the checkpoint of a model that you expect to be exactly identical (initializing a BertForSequenceClassification model from a BertForSequenceClassification model).\n",
            "100%|██████████| 20/20 [00:00<00:00, 7584.64it/s]\n"
          ]
        },
        {
          "output_type": "stream",
          "name": "stdout",
          "text": [
            "20\n"
          ]
        },
        {
          "output_type": "stream",
          "name": "stderr",
          "text": [
            "Some weights of the model checkpoint at bert-base-uncased were not used when initializing BertModel: ['cls.predictions.transform.LayerNorm.bias', 'cls.seq_relationship.bias', 'cls.predictions.transform.dense.bias', 'cls.predictions.decoder.weight', 'cls.predictions.transform.LayerNorm.weight', 'cls.predictions.bias', 'cls.predictions.transform.dense.weight', 'cls.seq_relationship.weight']\n",
            "- This IS expected if you are initializing BertModel from the checkpoint of a model trained on another task or with another architecture (e.g. initializing a BertForSequenceClassification model from a BertForPreTraining model).\n",
            "- This IS NOT expected if you are initializing BertModel from the checkpoint of a model that you expect to be exactly identical (initializing a BertForSequenceClassification model from a BertForSequenceClassification model).\n",
            "100%|██████████| 20/20 [00:00<00:00, 14201.13it/s]\n"
          ]
        },
        {
          "output_type": "stream",
          "name": "stdout",
          "text": [
            "20\n"
          ]
        },
        {
          "output_type": "stream",
          "name": "stderr",
          "text": [
            "Some weights of the model checkpoint at bert-base-uncased were not used when initializing BertModel: ['cls.predictions.transform.LayerNorm.bias', 'cls.seq_relationship.bias', 'cls.predictions.transform.dense.bias', 'cls.predictions.decoder.weight', 'cls.predictions.transform.LayerNorm.weight', 'cls.predictions.bias', 'cls.predictions.transform.dense.weight', 'cls.seq_relationship.weight']\n",
            "- This IS expected if you are initializing BertModel from the checkpoint of a model trained on another task or with another architecture (e.g. initializing a BertForSequenceClassification model from a BertForPreTraining model).\n",
            "- This IS NOT expected if you are initializing BertModel from the checkpoint of a model that you expect to be exactly identical (initializing a BertForSequenceClassification model from a BertForSequenceClassification model).\n",
            "100%|██████████| 20/20 [00:00<00:00, 3506.21it/s]\n"
          ]
        },
        {
          "output_type": "stream",
          "name": "stdout",
          "text": [
            "20\n"
          ]
        },
        {
          "output_type": "stream",
          "name": "stderr",
          "text": [
            "Some weights of the model checkpoint at bert-base-uncased were not used when initializing BertModel: ['cls.predictions.transform.LayerNorm.bias', 'cls.seq_relationship.bias', 'cls.predictions.transform.dense.bias', 'cls.predictions.decoder.weight', 'cls.predictions.transform.LayerNorm.weight', 'cls.predictions.bias', 'cls.predictions.transform.dense.weight', 'cls.seq_relationship.weight']\n",
            "- This IS expected if you are initializing BertModel from the checkpoint of a model trained on another task or with another architecture (e.g. initializing a BertForSequenceClassification model from a BertForPreTraining model).\n",
            "- This IS NOT expected if you are initializing BertModel from the checkpoint of a model that you expect to be exactly identical (initializing a BertForSequenceClassification model from a BertForSequenceClassification model).\n",
            "100%|██████████| 20/20 [00:00<00:00, 19696.19it/s]\n"
          ]
        },
        {
          "output_type": "stream",
          "name": "stdout",
          "text": [
            "20\n"
          ]
        },
        {
          "output_type": "stream",
          "name": "stderr",
          "text": [
            "Some weights of the model checkpoint at bert-base-uncased were not used when initializing BertModel: ['cls.predictions.transform.LayerNorm.bias', 'cls.seq_relationship.bias', 'cls.predictions.transform.dense.bias', 'cls.predictions.decoder.weight', 'cls.predictions.transform.LayerNorm.weight', 'cls.predictions.bias', 'cls.predictions.transform.dense.weight', 'cls.seq_relationship.weight']\n",
            "- This IS expected if you are initializing BertModel from the checkpoint of a model trained on another task or with another architecture (e.g. initializing a BertForSequenceClassification model from a BertForPreTraining model).\n",
            "- This IS NOT expected if you are initializing BertModel from the checkpoint of a model that you expect to be exactly identical (initializing a BertForSequenceClassification model from a BertForSequenceClassification model).\n",
            "100%|██████████| 20/20 [00:00<00:00, 10888.64it/s]\n"
          ]
        },
        {
          "output_type": "stream",
          "name": "stdout",
          "text": [
            "20\n"
          ]
        },
        {
          "output_type": "stream",
          "name": "stderr",
          "text": [
            "Some weights of the model checkpoint at bert-base-uncased were not used when initializing BertModel: ['cls.predictions.transform.LayerNorm.bias', 'cls.seq_relationship.bias', 'cls.predictions.transform.dense.bias', 'cls.predictions.decoder.weight', 'cls.predictions.transform.LayerNorm.weight', 'cls.predictions.bias', 'cls.predictions.transform.dense.weight', 'cls.seq_relationship.weight']\n",
            "- This IS expected if you are initializing BertModel from the checkpoint of a model trained on another task or with another architecture (e.g. initializing a BertForSequenceClassification model from a BertForPreTraining model).\n",
            "- This IS NOT expected if you are initializing BertModel from the checkpoint of a model that you expect to be exactly identical (initializing a BertForSequenceClassification model from a BertForSequenceClassification model).\n",
            "100%|██████████| 20/20 [00:00<00:00, 12533.41it/s]\n"
          ]
        },
        {
          "output_type": "stream",
          "name": "stdout",
          "text": [
            "20\n"
          ]
        },
        {
          "output_type": "stream",
          "name": "stderr",
          "text": [
            "Some weights of the model checkpoint at bert-base-uncased were not used when initializing BertModel: ['cls.predictions.transform.LayerNorm.bias', 'cls.seq_relationship.bias', 'cls.predictions.transform.dense.bias', 'cls.predictions.decoder.weight', 'cls.predictions.transform.LayerNorm.weight', 'cls.predictions.bias', 'cls.predictions.transform.dense.weight', 'cls.seq_relationship.weight']\n",
            "- This IS expected if you are initializing BertModel from the checkpoint of a model trained on another task or with another architecture (e.g. initializing a BertForSequenceClassification model from a BertForPreTraining model).\n",
            "- This IS NOT expected if you are initializing BertModel from the checkpoint of a model that you expect to be exactly identical (initializing a BertForSequenceClassification model from a BertForSequenceClassification model).\n",
            "100%|██████████| 20/20 [00:00<00:00, 22963.61it/s]\n"
          ]
        },
        {
          "output_type": "stream",
          "name": "stdout",
          "text": [
            "20\n"
          ]
        },
        {
          "output_type": "stream",
          "name": "stderr",
          "text": [
            "Some weights of the model checkpoint at bert-base-uncased were not used when initializing BertModel: ['cls.predictions.transform.LayerNorm.bias', 'cls.seq_relationship.bias', 'cls.predictions.transform.dense.bias', 'cls.predictions.decoder.weight', 'cls.predictions.transform.LayerNorm.weight', 'cls.predictions.bias', 'cls.predictions.transform.dense.weight', 'cls.seq_relationship.weight']\n",
            "- This IS expected if you are initializing BertModel from the checkpoint of a model trained on another task or with another architecture (e.g. initializing a BertForSequenceClassification model from a BertForPreTraining model).\n",
            "- This IS NOT expected if you are initializing BertModel from the checkpoint of a model that you expect to be exactly identical (initializing a BertForSequenceClassification model from a BertForSequenceClassification model).\n",
            "100%|██████████| 20/20 [00:00<00:00, 18220.26it/s]\n"
          ]
        },
        {
          "output_type": "stream",
          "name": "stdout",
          "text": [
            "20\n"
          ]
        },
        {
          "output_type": "stream",
          "name": "stderr",
          "text": [
            "Some weights of the model checkpoint at bert-base-uncased were not used when initializing BertModel: ['cls.predictions.transform.LayerNorm.bias', 'cls.seq_relationship.bias', 'cls.predictions.transform.dense.bias', 'cls.predictions.decoder.weight', 'cls.predictions.transform.LayerNorm.weight', 'cls.predictions.bias', 'cls.predictions.transform.dense.weight', 'cls.seq_relationship.weight']\n",
            "- This IS expected if you are initializing BertModel from the checkpoint of a model trained on another task or with another architecture (e.g. initializing a BertForSequenceClassification model from a BertForPreTraining model).\n",
            "- This IS NOT expected if you are initializing BertModel from the checkpoint of a model that you expect to be exactly identical (initializing a BertForSequenceClassification model from a BertForSequenceClassification model).\n",
            "100%|██████████| 20/20 [00:00<00:00, 15033.35it/s]\n"
          ]
        },
        {
          "output_type": "stream",
          "name": "stdout",
          "text": [
            "20\n"
          ]
        },
        {
          "output_type": "stream",
          "name": "stderr",
          "text": [
            "Some weights of the model checkpoint at bert-base-uncased were not used when initializing BertModel: ['cls.predictions.transform.LayerNorm.bias', 'cls.seq_relationship.bias', 'cls.predictions.transform.dense.bias', 'cls.predictions.decoder.weight', 'cls.predictions.transform.LayerNorm.weight', 'cls.predictions.bias', 'cls.predictions.transform.dense.weight', 'cls.seq_relationship.weight']\n",
            "- This IS expected if you are initializing BertModel from the checkpoint of a model trained on another task or with another architecture (e.g. initializing a BertForSequenceClassification model from a BertForPreTraining model).\n",
            "- This IS NOT expected if you are initializing BertModel from the checkpoint of a model that you expect to be exactly identical (initializing a BertForSequenceClassification model from a BertForSequenceClassification model).\n",
            "100%|██████████| 20/20 [00:00<00:00, 11294.75it/s]\n"
          ]
        },
        {
          "output_type": "stream",
          "name": "stdout",
          "text": [
            "20\n"
          ]
        },
        {
          "output_type": "stream",
          "name": "stderr",
          "text": [
            "Some weights of the model checkpoint at bert-base-uncased were not used when initializing BertModel: ['cls.predictions.transform.LayerNorm.bias', 'cls.seq_relationship.bias', 'cls.predictions.transform.dense.bias', 'cls.predictions.decoder.weight', 'cls.predictions.transform.LayerNorm.weight', 'cls.predictions.bias', 'cls.predictions.transform.dense.weight', 'cls.seq_relationship.weight']\n",
            "- This IS expected if you are initializing BertModel from the checkpoint of a model trained on another task or with another architecture (e.g. initializing a BertForSequenceClassification model from a BertForPreTraining model).\n",
            "- This IS NOT expected if you are initializing BertModel from the checkpoint of a model that you expect to be exactly identical (initializing a BertForSequenceClassification model from a BertForSequenceClassification model).\n",
            "100%|██████████| 20/20 [00:00<00:00, 8031.99it/s]\n"
          ]
        },
        {
          "output_type": "stream",
          "name": "stdout",
          "text": [
            "20\n"
          ]
        },
        {
          "output_type": "stream",
          "name": "stderr",
          "text": [
            "Some weights of the model checkpoint at bert-base-uncased were not used when initializing BertModel: ['cls.predictions.transform.LayerNorm.bias', 'cls.seq_relationship.bias', 'cls.predictions.transform.dense.bias', 'cls.predictions.decoder.weight', 'cls.predictions.transform.LayerNorm.weight', 'cls.predictions.bias', 'cls.predictions.transform.dense.weight', 'cls.seq_relationship.weight']\n",
            "- This IS expected if you are initializing BertModel from the checkpoint of a model trained on another task or with another architecture (e.g. initializing a BertForSequenceClassification model from a BertForPreTraining model).\n",
            "- This IS NOT expected if you are initializing BertModel from the checkpoint of a model that you expect to be exactly identical (initializing a BertForSequenceClassification model from a BertForSequenceClassification model).\n",
            "100%|██████████| 20/20 [00:00<00:00, 4137.01it/s]\n"
          ]
        },
        {
          "output_type": "stream",
          "name": "stdout",
          "text": [
            "20\n"
          ]
        },
        {
          "output_type": "stream",
          "name": "stderr",
          "text": [
            "Some weights of the model checkpoint at bert-base-uncased were not used when initializing BertModel: ['cls.predictions.transform.LayerNorm.bias', 'cls.seq_relationship.bias', 'cls.predictions.transform.dense.bias', 'cls.predictions.decoder.weight', 'cls.predictions.transform.LayerNorm.weight', 'cls.predictions.bias', 'cls.predictions.transform.dense.weight', 'cls.seq_relationship.weight']\n",
            "- This IS expected if you are initializing BertModel from the checkpoint of a model trained on another task or with another architecture (e.g. initializing a BertForSequenceClassification model from a BertForPreTraining model).\n",
            "- This IS NOT expected if you are initializing BertModel from the checkpoint of a model that you expect to be exactly identical (initializing a BertForSequenceClassification model from a BertForSequenceClassification model).\n",
            "100%|██████████| 20/20 [00:00<00:00, 17196.82it/s]\n"
          ]
        },
        {
          "output_type": "stream",
          "name": "stdout",
          "text": [
            "20\n"
          ]
        },
        {
          "output_type": "stream",
          "name": "stderr",
          "text": [
            "Some weights of the model checkpoint at bert-base-uncased were not used when initializing BertModel: ['cls.predictions.transform.LayerNorm.bias', 'cls.seq_relationship.bias', 'cls.predictions.transform.dense.bias', 'cls.predictions.decoder.weight', 'cls.predictions.transform.LayerNorm.weight', 'cls.predictions.bias', 'cls.predictions.transform.dense.weight', 'cls.seq_relationship.weight']\n",
            "- This IS expected if you are initializing BertModel from the checkpoint of a model trained on another task or with another architecture (e.g. initializing a BertForSequenceClassification model from a BertForPreTraining model).\n",
            "- This IS NOT expected if you are initializing BertModel from the checkpoint of a model that you expect to be exactly identical (initializing a BertForSequenceClassification model from a BertForSequenceClassification model).\n",
            "100%|██████████| 20/20 [00:00<00:00, 24328.91it/s]\n"
          ]
        }
      ],
      "source": [
        "emb_0 = []\n",
        "file_path_datalake = \"/content/drive/MyDrive/labeled_benchmark/datalake/\"\n",
        "file_path_query = \"/content/drive/MyDrive/labeled_benchmark/query/\"\n",
        "\n",
        "\n",
        "for x in res_pairs[0:15]:\n",
        "  if ((x[0] in arr_dl) and (x[1] in arr_q)):\n",
        "    df_dl = pd.read_csv(file_path_datalake+x[0])\n",
        "    df_q = pd.read_csv(file_path_query+x[1])\n",
        "    dl_emb = table_embedding(df_dl)\n",
        "    q_emb = table_embedding(df_q)\n",
        "    emb_0.append([dl_emb, q_emb])"
      ]
    },
    {
      "cell_type": "code",
      "execution_count": null,
      "metadata": {
        "id": "y0yh9G09npPw",
        "colab": {
          "base_uri": "https://localhost:8080/"
        },
        "outputId": "7231ebb4-f5d8-4b90-db1e-474cd54dd0e1"
      },
      "outputs": [
        {
          "output_type": "stream",
          "name": "stdout",
          "text": [
            "20\n"
          ]
        },
        {
          "output_type": "stream",
          "name": "stderr",
          "text": [
            "Some weights of the model checkpoint at bert-base-uncased were not used when initializing BertModel: ['cls.predictions.transform.LayerNorm.bias', 'cls.seq_relationship.bias', 'cls.predictions.transform.dense.bias', 'cls.predictions.decoder.weight', 'cls.predictions.transform.LayerNorm.weight', 'cls.predictions.bias', 'cls.predictions.transform.dense.weight', 'cls.seq_relationship.weight']\n",
            "- This IS expected if you are initializing BertModel from the checkpoint of a model trained on another task or with another architecture (e.g. initializing a BertForSequenceClassification model from a BertForPreTraining model).\n",
            "- This IS NOT expected if you are initializing BertModel from the checkpoint of a model that you expect to be exactly identical (initializing a BertForSequenceClassification model from a BertForSequenceClassification model).\n",
            "100%|██████████| 20/20 [00:00<00:00, 22604.71it/s]\n",
            "<ipython-input-34-97c62983cf6f>:57: UserWarning: To copy construct from a tensor, it is recommended to use sourceTensor.clone().detach() or sourceTensor.clone().detach().requires_grad_(True), rather than torch.tensor(sourceTensor).\n",
            "  token_ids = torch.tensor(row_ids).unsqueeze(0)\n"
          ]
        },
        {
          "output_type": "stream",
          "name": "stdout",
          "text": [
            "20\n"
          ]
        },
        {
          "output_type": "stream",
          "name": "stderr",
          "text": [
            "Some weights of the model checkpoint at bert-base-uncased were not used when initializing BertModel: ['cls.predictions.transform.LayerNorm.bias', 'cls.seq_relationship.bias', 'cls.predictions.transform.dense.bias', 'cls.predictions.decoder.weight', 'cls.predictions.transform.LayerNorm.weight', 'cls.predictions.bias', 'cls.predictions.transform.dense.weight', 'cls.seq_relationship.weight']\n",
            "- This IS expected if you are initializing BertModel from the checkpoint of a model trained on another task or with another architecture (e.g. initializing a BertForSequenceClassification model from a BertForPreTraining model).\n",
            "- This IS NOT expected if you are initializing BertModel from the checkpoint of a model that you expect to be exactly identical (initializing a BertForSequenceClassification model from a BertForSequenceClassification model).\n",
            "100%|██████████| 20/20 [00:00<00:00, 21140.65it/s]\n"
          ]
        },
        {
          "output_type": "stream",
          "name": "stdout",
          "text": [
            "20\n"
          ]
        },
        {
          "output_type": "stream",
          "name": "stderr",
          "text": [
            "Some weights of the model checkpoint at bert-base-uncased were not used when initializing BertModel: ['cls.predictions.transform.LayerNorm.bias', 'cls.seq_relationship.bias', 'cls.predictions.transform.dense.bias', 'cls.predictions.decoder.weight', 'cls.predictions.transform.LayerNorm.weight', 'cls.predictions.bias', 'cls.predictions.transform.dense.weight', 'cls.seq_relationship.weight']\n",
            "- This IS expected if you are initializing BertModel from the checkpoint of a model trained on another task or with another architecture (e.g. initializing a BertForSequenceClassification model from a BertForPreTraining model).\n",
            "- This IS NOT expected if you are initializing BertModel from the checkpoint of a model that you expect to be exactly identical (initializing a BertForSequenceClassification model from a BertForSequenceClassification model).\n",
            "100%|██████████| 20/20 [00:00<00:00, 22471.49it/s]\n"
          ]
        },
        {
          "output_type": "stream",
          "name": "stdout",
          "text": [
            "20\n"
          ]
        },
        {
          "output_type": "stream",
          "name": "stderr",
          "text": [
            "Some weights of the model checkpoint at bert-base-uncased were not used when initializing BertModel: ['cls.predictions.transform.LayerNorm.bias', 'cls.seq_relationship.bias', 'cls.predictions.transform.dense.bias', 'cls.predictions.decoder.weight', 'cls.predictions.transform.LayerNorm.weight', 'cls.predictions.bias', 'cls.predictions.transform.dense.weight', 'cls.seq_relationship.weight']\n",
            "- This IS expected if you are initializing BertModel from the checkpoint of a model trained on another task or with another architecture (e.g. initializing a BertForSequenceClassification model from a BertForPreTraining model).\n",
            "- This IS NOT expected if you are initializing BertModel from the checkpoint of a model that you expect to be exactly identical (initializing a BertForSequenceClassification model from a BertForSequenceClassification model).\n",
            "100%|██████████| 20/20 [00:00<00:00, 23817.74it/s]\n"
          ]
        },
        {
          "output_type": "stream",
          "name": "stdout",
          "text": [
            "20\n"
          ]
        },
        {
          "output_type": "stream",
          "name": "stderr",
          "text": [
            "Some weights of the model checkpoint at bert-base-uncased were not used when initializing BertModel: ['cls.predictions.transform.LayerNorm.bias', 'cls.seq_relationship.bias', 'cls.predictions.transform.dense.bias', 'cls.predictions.decoder.weight', 'cls.predictions.transform.LayerNorm.weight', 'cls.predictions.bias', 'cls.predictions.transform.dense.weight', 'cls.seq_relationship.weight']\n",
            "- This IS expected if you are initializing BertModel from the checkpoint of a model trained on another task or with another architecture (e.g. initializing a BertForSequenceClassification model from a BertForPreTraining model).\n",
            "- This IS NOT expected if you are initializing BertModel from the checkpoint of a model that you expect to be exactly identical (initializing a BertForSequenceClassification model from a BertForSequenceClassification model).\n",
            "100%|██████████| 20/20 [00:00<00:00, 15477.14it/s]\n"
          ]
        },
        {
          "output_type": "stream",
          "name": "stdout",
          "text": [
            "20\n"
          ]
        },
        {
          "output_type": "stream",
          "name": "stderr",
          "text": [
            "Some weights of the model checkpoint at bert-base-uncased were not used when initializing BertModel: ['cls.predictions.transform.LayerNorm.bias', 'cls.seq_relationship.bias', 'cls.predictions.transform.dense.bias', 'cls.predictions.decoder.weight', 'cls.predictions.transform.LayerNorm.weight', 'cls.predictions.bias', 'cls.predictions.transform.dense.weight', 'cls.seq_relationship.weight']\n",
            "- This IS expected if you are initializing BertModel from the checkpoint of a model trained on another task or with another architecture (e.g. initializing a BertForSequenceClassification model from a BertForPreTraining model).\n",
            "- This IS NOT expected if you are initializing BertModel from the checkpoint of a model that you expect to be exactly identical (initializing a BertForSequenceClassification model from a BertForSequenceClassification model).\n",
            "100%|██████████| 20/20 [00:00<00:00, 22092.73it/s]\n"
          ]
        },
        {
          "output_type": "stream",
          "name": "stdout",
          "text": [
            "20\n"
          ]
        },
        {
          "output_type": "stream",
          "name": "stderr",
          "text": [
            "Some weights of the model checkpoint at bert-base-uncased were not used when initializing BertModel: ['cls.predictions.transform.LayerNorm.bias', 'cls.seq_relationship.bias', 'cls.predictions.transform.dense.bias', 'cls.predictions.decoder.weight', 'cls.predictions.transform.LayerNorm.weight', 'cls.predictions.bias', 'cls.predictions.transform.dense.weight', 'cls.seq_relationship.weight']\n",
            "- This IS expected if you are initializing BertModel from the checkpoint of a model trained on another task or with another architecture (e.g. initializing a BertForSequenceClassification model from a BertForPreTraining model).\n",
            "- This IS NOT expected if you are initializing BertModel from the checkpoint of a model that you expect to be exactly identical (initializing a BertForSequenceClassification model from a BertForSequenceClassification model).\n",
            "100%|██████████| 20/20 [00:00<00:00, 17303.23it/s]\n"
          ]
        },
        {
          "output_type": "stream",
          "name": "stdout",
          "text": [
            "20\n"
          ]
        },
        {
          "output_type": "stream",
          "name": "stderr",
          "text": [
            "Some weights of the model checkpoint at bert-base-uncased were not used when initializing BertModel: ['cls.predictions.transform.LayerNorm.bias', 'cls.seq_relationship.bias', 'cls.predictions.transform.dense.bias', 'cls.predictions.decoder.weight', 'cls.predictions.transform.LayerNorm.weight', 'cls.predictions.bias', 'cls.predictions.transform.dense.weight', 'cls.seq_relationship.weight']\n",
            "- This IS expected if you are initializing BertModel from the checkpoint of a model trained on another task or with another architecture (e.g. initializing a BertForSequenceClassification model from a BertForPreTraining model).\n",
            "- This IS NOT expected if you are initializing BertModel from the checkpoint of a model that you expect to be exactly identical (initializing a BertForSequenceClassification model from a BertForSequenceClassification model).\n",
            "100%|██████████| 20/20 [00:00<00:00, 21404.97it/s]\n"
          ]
        },
        {
          "output_type": "stream",
          "name": "stdout",
          "text": [
            "20\n"
          ]
        },
        {
          "output_type": "stream",
          "name": "stderr",
          "text": [
            "Some weights of the model checkpoint at bert-base-uncased were not used when initializing BertModel: ['cls.predictions.transform.LayerNorm.bias', 'cls.seq_relationship.bias', 'cls.predictions.transform.dense.bias', 'cls.predictions.decoder.weight', 'cls.predictions.transform.LayerNorm.weight', 'cls.predictions.bias', 'cls.predictions.transform.dense.weight', 'cls.seq_relationship.weight']\n",
            "- This IS expected if you are initializing BertModel from the checkpoint of a model trained on another task or with another architecture (e.g. initializing a BertForSequenceClassification model from a BertForPreTraining model).\n",
            "- This IS NOT expected if you are initializing BertModel from the checkpoint of a model that you expect to be exactly identical (initializing a BertForSequenceClassification model from a BertForSequenceClassification model).\n",
            "100%|██████████| 20/20 [00:00<00:00, 8255.69it/s]\n"
          ]
        },
        {
          "output_type": "stream",
          "name": "stdout",
          "text": [
            "20\n"
          ]
        },
        {
          "output_type": "stream",
          "name": "stderr",
          "text": [
            "Some weights of the model checkpoint at bert-base-uncased were not used when initializing BertModel: ['cls.predictions.transform.LayerNorm.bias', 'cls.seq_relationship.bias', 'cls.predictions.transform.dense.bias', 'cls.predictions.decoder.weight', 'cls.predictions.transform.LayerNorm.weight', 'cls.predictions.bias', 'cls.predictions.transform.dense.weight', 'cls.seq_relationship.weight']\n",
            "- This IS expected if you are initializing BertModel from the checkpoint of a model trained on another task or with another architecture (e.g. initializing a BertForSequenceClassification model from a BertForPreTraining model).\n",
            "- This IS NOT expected if you are initializing BertModel from the checkpoint of a model that you expect to be exactly identical (initializing a BertForSequenceClassification model from a BertForSequenceClassification model).\n",
            "100%|██████████| 20/20 [00:00<00:00, 24049.91it/s]\n"
          ]
        },
        {
          "output_type": "stream",
          "name": "stdout",
          "text": [
            "20\n"
          ]
        },
        {
          "output_type": "stream",
          "name": "stderr",
          "text": [
            "Some weights of the model checkpoint at bert-base-uncased were not used when initializing BertModel: ['cls.predictions.transform.LayerNorm.bias', 'cls.seq_relationship.bias', 'cls.predictions.transform.dense.bias', 'cls.predictions.decoder.weight', 'cls.predictions.transform.LayerNorm.weight', 'cls.predictions.bias', 'cls.predictions.transform.dense.weight', 'cls.seq_relationship.weight']\n",
            "- This IS expected if you are initializing BertModel from the checkpoint of a model trained on another task or with another architecture (e.g. initializing a BertForSequenceClassification model from a BertForPreTraining model).\n",
            "- This IS NOT expected if you are initializing BertModel from the checkpoint of a model that you expect to be exactly identical (initializing a BertForSequenceClassification model from a BertForSequenceClassification model).\n",
            "100%|██████████| 20/20 [00:00<00:00, 13426.07it/s]\n"
          ]
        },
        {
          "output_type": "stream",
          "name": "stdout",
          "text": [
            "0\n"
          ]
        },
        {
          "output_type": "stream",
          "name": "stderr",
          "text": [
            "Some weights of the model checkpoint at bert-base-uncased were not used when initializing BertModel: ['cls.predictions.transform.LayerNorm.bias', 'cls.seq_relationship.bias', 'cls.predictions.transform.dense.bias', 'cls.predictions.decoder.weight', 'cls.predictions.transform.LayerNorm.weight', 'cls.predictions.bias', 'cls.predictions.transform.dense.weight', 'cls.seq_relationship.weight']\n",
            "- This IS expected if you are initializing BertModel from the checkpoint of a model trained on another task or with another architecture (e.g. initializing a BertForSequenceClassification model from a BertForPreTraining model).\n",
            "- This IS NOT expected if you are initializing BertModel from the checkpoint of a model that you expect to be exactly identical (initializing a BertForSequenceClassification model from a BertForSequenceClassification model).\n",
            "0it [00:00, ?it/s]\n"
          ]
        },
        {
          "output_type": "stream",
          "name": "stdout",
          "text": [
            "20\n"
          ]
        },
        {
          "output_type": "stream",
          "name": "stderr",
          "text": [
            "Some weights of the model checkpoint at bert-base-uncased were not used when initializing BertModel: ['cls.predictions.transform.LayerNorm.bias', 'cls.seq_relationship.bias', 'cls.predictions.transform.dense.bias', 'cls.predictions.decoder.weight', 'cls.predictions.transform.LayerNorm.weight', 'cls.predictions.bias', 'cls.predictions.transform.dense.weight', 'cls.seq_relationship.weight']\n",
            "- This IS expected if you are initializing BertModel from the checkpoint of a model trained on another task or with another architecture (e.g. initializing a BertForSequenceClassification model from a BertForPreTraining model).\n",
            "- This IS NOT expected if you are initializing BertModel from the checkpoint of a model that you expect to be exactly identical (initializing a BertForSequenceClassification model from a BertForSequenceClassification model).\n",
            "100%|██████████| 20/20 [00:00<00:00, 14440.71it/s]\n"
          ]
        },
        {
          "output_type": "stream",
          "name": "stdout",
          "text": [
            "0\n"
          ]
        },
        {
          "output_type": "stream",
          "name": "stderr",
          "text": [
            "Some weights of the model checkpoint at bert-base-uncased were not used when initializing BertModel: ['cls.predictions.transform.LayerNorm.bias', 'cls.seq_relationship.bias', 'cls.predictions.transform.dense.bias', 'cls.predictions.decoder.weight', 'cls.predictions.transform.LayerNorm.weight', 'cls.predictions.bias', 'cls.predictions.transform.dense.weight', 'cls.seq_relationship.weight']\n",
            "- This IS expected if you are initializing BertModel from the checkpoint of a model trained on another task or with another architecture (e.g. initializing a BertForSequenceClassification model from a BertForPreTraining model).\n",
            "- This IS NOT expected if you are initializing BertModel from the checkpoint of a model that you expect to be exactly identical (initializing a BertForSequenceClassification model from a BertForSequenceClassification model).\n",
            "0it [00:00, ?it/s]\n"
          ]
        },
        {
          "output_type": "stream",
          "name": "stdout",
          "text": [
            "20\n"
          ]
        },
        {
          "output_type": "stream",
          "name": "stderr",
          "text": [
            "Some weights of the model checkpoint at bert-base-uncased were not used when initializing BertModel: ['cls.predictions.transform.LayerNorm.bias', 'cls.seq_relationship.bias', 'cls.predictions.transform.dense.bias', 'cls.predictions.decoder.weight', 'cls.predictions.transform.LayerNorm.weight', 'cls.predictions.bias', 'cls.predictions.transform.dense.weight', 'cls.seq_relationship.weight']\n",
            "- This IS expected if you are initializing BertModel from the checkpoint of a model trained on another task or with another architecture (e.g. initializing a BertForSequenceClassification model from a BertForPreTraining model).\n",
            "- This IS NOT expected if you are initializing BertModel from the checkpoint of a model that you expect to be exactly identical (initializing a BertForSequenceClassification model from a BertForSequenceClassification model).\n",
            "100%|██████████| 20/20 [00:00<00:00, 16783.93it/s]\n"
          ]
        },
        {
          "output_type": "stream",
          "name": "stdout",
          "text": [
            "20\n"
          ]
        },
        {
          "output_type": "stream",
          "name": "stderr",
          "text": [
            "Some weights of the model checkpoint at bert-base-uncased were not used when initializing BertModel: ['cls.predictions.transform.LayerNorm.bias', 'cls.seq_relationship.bias', 'cls.predictions.transform.dense.bias', 'cls.predictions.decoder.weight', 'cls.predictions.transform.LayerNorm.weight', 'cls.predictions.bias', 'cls.predictions.transform.dense.weight', 'cls.seq_relationship.weight']\n",
            "- This IS expected if you are initializing BertModel from the checkpoint of a model trained on another task or with another architecture (e.g. initializing a BertForSequenceClassification model from a BertForPreTraining model).\n",
            "- This IS NOT expected if you are initializing BertModel from the checkpoint of a model that you expect to be exactly identical (initializing a BertForSequenceClassification model from a BertForSequenceClassification model).\n",
            "100%|██████████| 20/20 [00:00<00:00, 23295.22it/s]\n"
          ]
        },
        {
          "output_type": "stream",
          "name": "stdout",
          "text": [
            "20\n"
          ]
        },
        {
          "output_type": "stream",
          "name": "stderr",
          "text": [
            "Some weights of the model checkpoint at bert-base-uncased were not used when initializing BertModel: ['cls.predictions.transform.LayerNorm.bias', 'cls.seq_relationship.bias', 'cls.predictions.transform.dense.bias', 'cls.predictions.decoder.weight', 'cls.predictions.transform.LayerNorm.weight', 'cls.predictions.bias', 'cls.predictions.transform.dense.weight', 'cls.seq_relationship.weight']\n",
            "- This IS expected if you are initializing BertModel from the checkpoint of a model trained on another task or with another architecture (e.g. initializing a BertForSequenceClassification model from a BertForPreTraining model).\n",
            "- This IS NOT expected if you are initializing BertModel from the checkpoint of a model that you expect to be exactly identical (initializing a BertForSequenceClassification model from a BertForSequenceClassification model).\n",
            "100%|██████████| 20/20 [00:00<00:00, 21140.65it/s]\n"
          ]
        },
        {
          "output_type": "stream",
          "name": "stdout",
          "text": [
            "0\n"
          ]
        },
        {
          "output_type": "stream",
          "name": "stderr",
          "text": [
            "Some weights of the model checkpoint at bert-base-uncased were not used when initializing BertModel: ['cls.predictions.transform.LayerNorm.bias', 'cls.seq_relationship.bias', 'cls.predictions.transform.dense.bias', 'cls.predictions.decoder.weight', 'cls.predictions.transform.LayerNorm.weight', 'cls.predictions.bias', 'cls.predictions.transform.dense.weight', 'cls.seq_relationship.weight']\n",
            "- This IS expected if you are initializing BertModel from the checkpoint of a model trained on another task or with another architecture (e.g. initializing a BertForSequenceClassification model from a BertForPreTraining model).\n",
            "- This IS NOT expected if you are initializing BertModel from the checkpoint of a model that you expect to be exactly identical (initializing a BertForSequenceClassification model from a BertForSequenceClassification model).\n",
            "0it [00:00, ?it/s]\n"
          ]
        },
        {
          "output_type": "stream",
          "name": "stdout",
          "text": [
            "20\n"
          ]
        },
        {
          "output_type": "stream",
          "name": "stderr",
          "text": [
            "Some weights of the model checkpoint at bert-base-uncased were not used when initializing BertModel: ['cls.predictions.transform.LayerNorm.bias', 'cls.seq_relationship.bias', 'cls.predictions.transform.dense.bias', 'cls.predictions.decoder.weight', 'cls.predictions.transform.LayerNorm.weight', 'cls.predictions.bias', 'cls.predictions.transform.dense.weight', 'cls.seq_relationship.weight']\n",
            "- This IS expected if you are initializing BertModel from the checkpoint of a model trained on another task or with another architecture (e.g. initializing a BertForSequenceClassification model from a BertForPreTraining model).\n",
            "- This IS NOT expected if you are initializing BertModel from the checkpoint of a model that you expect to be exactly identical (initializing a BertForSequenceClassification model from a BertForSequenceClassification model).\n",
            "100%|██████████| 20/20 [00:00<00:00, 13738.30it/s]\n"
          ]
        },
        {
          "output_type": "stream",
          "name": "stdout",
          "text": [
            "20\n"
          ]
        },
        {
          "output_type": "stream",
          "name": "stderr",
          "text": [
            "Some weights of the model checkpoint at bert-base-uncased were not used when initializing BertModel: ['cls.predictions.transform.LayerNorm.bias', 'cls.seq_relationship.bias', 'cls.predictions.transform.dense.bias', 'cls.predictions.decoder.weight', 'cls.predictions.transform.LayerNorm.weight', 'cls.predictions.bias', 'cls.predictions.transform.dense.weight', 'cls.seq_relationship.weight']\n",
            "- This IS expected if you are initializing BertModel from the checkpoint of a model trained on another task or with another architecture (e.g. initializing a BertForSequenceClassification model from a BertForPreTraining model).\n",
            "- This IS NOT expected if you are initializing BertModel from the checkpoint of a model that you expect to be exactly identical (initializing a BertForSequenceClassification model from a BertForSequenceClassification model).\n",
            "100%|██████████| 20/20 [00:00<00:00, 17088.22it/s]\n"
          ]
        },
        {
          "output_type": "stream",
          "name": "stdout",
          "text": [
            "20\n"
          ]
        },
        {
          "output_type": "stream",
          "name": "stderr",
          "text": [
            "Some weights of the model checkpoint at bert-base-uncased were not used when initializing BertModel: ['cls.predictions.transform.LayerNorm.bias', 'cls.seq_relationship.bias', 'cls.predictions.transform.dense.bias', 'cls.predictions.decoder.weight', 'cls.predictions.transform.LayerNorm.weight', 'cls.predictions.bias', 'cls.predictions.transform.dense.weight', 'cls.seq_relationship.weight']\n",
            "- This IS expected if you are initializing BertModel from the checkpoint of a model trained on another task or with another architecture (e.g. initializing a BertForSequenceClassification model from a BertForPreTraining model).\n",
            "- This IS NOT expected if you are initializing BertModel from the checkpoint of a model that you expect to be exactly identical (initializing a BertForSequenceClassification model from a BertForSequenceClassification model).\n",
            "100%|██████████| 20/20 [00:00<00:00, 17299.67it/s]\n"
          ]
        },
        {
          "output_type": "stream",
          "name": "stdout",
          "text": [
            "20\n"
          ]
        },
        {
          "output_type": "stream",
          "name": "stderr",
          "text": [
            "Some weights of the model checkpoint at bert-base-uncased were not used when initializing BertModel: ['cls.predictions.transform.LayerNorm.bias', 'cls.seq_relationship.bias', 'cls.predictions.transform.dense.bias', 'cls.predictions.decoder.weight', 'cls.predictions.transform.LayerNorm.weight', 'cls.predictions.bias', 'cls.predictions.transform.dense.weight', 'cls.seq_relationship.weight']\n",
            "- This IS expected if you are initializing BertModel from the checkpoint of a model trained on another task or with another architecture (e.g. initializing a BertForSequenceClassification model from a BertForPreTraining model).\n",
            "- This IS NOT expected if you are initializing BertModel from the checkpoint of a model that you expect to be exactly identical (initializing a BertForSequenceClassification model from a BertForSequenceClassification model).\n",
            "100%|██████████| 20/20 [00:00<00:00, 18974.46it/s]\n"
          ]
        },
        {
          "output_type": "stream",
          "name": "stdout",
          "text": [
            "20\n"
          ]
        },
        {
          "output_type": "stream",
          "name": "stderr",
          "text": [
            "Some weights of the model checkpoint at bert-base-uncased were not used when initializing BertModel: ['cls.predictions.transform.LayerNorm.bias', 'cls.seq_relationship.bias', 'cls.predictions.transform.dense.bias', 'cls.predictions.decoder.weight', 'cls.predictions.transform.LayerNorm.weight', 'cls.predictions.bias', 'cls.predictions.transform.dense.weight', 'cls.seq_relationship.weight']\n",
            "- This IS expected if you are initializing BertModel from the checkpoint of a model trained on another task or with another architecture (e.g. initializing a BertForSequenceClassification model from a BertForPreTraining model).\n",
            "- This IS NOT expected if you are initializing BertModel from the checkpoint of a model that you expect to be exactly identical (initializing a BertForSequenceClassification model from a BertForSequenceClassification model).\n",
            "100%|██████████| 20/20 [00:00<00:00, 8087.74it/s]\n"
          ]
        },
        {
          "output_type": "stream",
          "name": "stdout",
          "text": [
            "20\n"
          ]
        },
        {
          "output_type": "stream",
          "name": "stderr",
          "text": [
            "Some weights of the model checkpoint at bert-base-uncased were not used when initializing BertModel: ['cls.predictions.transform.LayerNorm.bias', 'cls.seq_relationship.bias', 'cls.predictions.transform.dense.bias', 'cls.predictions.decoder.weight', 'cls.predictions.transform.LayerNorm.weight', 'cls.predictions.bias', 'cls.predictions.transform.dense.weight', 'cls.seq_relationship.weight']\n",
            "- This IS expected if you are initializing BertModel from the checkpoint of a model trained on another task or with another architecture (e.g. initializing a BertForSequenceClassification model from a BertForPreTraining model).\n",
            "- This IS NOT expected if you are initializing BertModel from the checkpoint of a model that you expect to be exactly identical (initializing a BertForSequenceClassification model from a BertForSequenceClassification model).\n",
            "100%|██████████| 20/20 [00:00<00:00, 12791.41it/s]\n"
          ]
        },
        {
          "output_type": "stream",
          "name": "stdout",
          "text": [
            "20\n"
          ]
        },
        {
          "output_type": "stream",
          "name": "stderr",
          "text": [
            "Some weights of the model checkpoint at bert-base-uncased were not used when initializing BertModel: ['cls.predictions.transform.LayerNorm.bias', 'cls.seq_relationship.bias', 'cls.predictions.transform.dense.bias', 'cls.predictions.decoder.weight', 'cls.predictions.transform.LayerNorm.weight', 'cls.predictions.bias', 'cls.predictions.transform.dense.weight', 'cls.seq_relationship.weight']\n",
            "- This IS expected if you are initializing BertModel from the checkpoint of a model trained on another task or with another architecture (e.g. initializing a BertForSequenceClassification model from a BertForPreTraining model).\n",
            "- This IS NOT expected if you are initializing BertModel from the checkpoint of a model that you expect to be exactly identical (initializing a BertForSequenceClassification model from a BertForSequenceClassification model).\n",
            "100%|██████████| 20/20 [00:00<00:00, 7355.85it/s]\n"
          ]
        },
        {
          "output_type": "stream",
          "name": "stdout",
          "text": [
            "17\n"
          ]
        },
        {
          "output_type": "stream",
          "name": "stderr",
          "text": [
            "Some weights of the model checkpoint at bert-base-uncased were not used when initializing BertModel: ['cls.predictions.transform.LayerNorm.bias', 'cls.seq_relationship.bias', 'cls.predictions.transform.dense.bias', 'cls.predictions.decoder.weight', 'cls.predictions.transform.LayerNorm.weight', 'cls.predictions.bias', 'cls.predictions.transform.dense.weight', 'cls.seq_relationship.weight']\n",
            "- This IS expected if you are initializing BertModel from the checkpoint of a model trained on another task or with another architecture (e.g. initializing a BertForSequenceClassification model from a BertForPreTraining model).\n",
            "- This IS NOT expected if you are initializing BertModel from the checkpoint of a model that you expect to be exactly identical (initializing a BertForSequenceClassification model from a BertForSequenceClassification model).\n",
            "100%|██████████| 17/17 [00:00<00:00, 9076.27it/s]\n"
          ]
        },
        {
          "output_type": "stream",
          "name": "stdout",
          "text": [
            "20\n"
          ]
        },
        {
          "output_type": "stream",
          "name": "stderr",
          "text": [
            "Some weights of the model checkpoint at bert-base-uncased were not used when initializing BertModel: ['cls.predictions.transform.LayerNorm.bias', 'cls.seq_relationship.bias', 'cls.predictions.transform.dense.bias', 'cls.predictions.decoder.weight', 'cls.predictions.transform.LayerNorm.weight', 'cls.predictions.bias', 'cls.predictions.transform.dense.weight', 'cls.seq_relationship.weight']\n",
            "- This IS expected if you are initializing BertModel from the checkpoint of a model trained on another task or with another architecture (e.g. initializing a BertForSequenceClassification model from a BertForPreTraining model).\n",
            "- This IS NOT expected if you are initializing BertModel from the checkpoint of a model that you expect to be exactly identical (initializing a BertForSequenceClassification model from a BertForSequenceClassification model).\n",
            "100%|██████████| 20/20 [00:00<00:00, 6307.70it/s]\n"
          ]
        },
        {
          "output_type": "stream",
          "name": "stdout",
          "text": [
            "20\n"
          ]
        },
        {
          "output_type": "stream",
          "name": "stderr",
          "text": [
            "Some weights of the model checkpoint at bert-base-uncased were not used when initializing BertModel: ['cls.predictions.transform.LayerNorm.bias', 'cls.seq_relationship.bias', 'cls.predictions.transform.dense.bias', 'cls.predictions.decoder.weight', 'cls.predictions.transform.LayerNorm.weight', 'cls.predictions.bias', 'cls.predictions.transform.dense.weight', 'cls.seq_relationship.weight']\n",
            "- This IS expected if you are initializing BertModel from the checkpoint of a model trained on another task or with another architecture (e.g. initializing a BertForSequenceClassification model from a BertForPreTraining model).\n",
            "- This IS NOT expected if you are initializing BertModel from the checkpoint of a model that you expect to be exactly identical (initializing a BertForSequenceClassification model from a BertForSequenceClassification model).\n",
            "100%|██████████| 20/20 [00:00<00:00, 3871.78it/s]\n"
          ]
        },
        {
          "output_type": "stream",
          "name": "stdout",
          "text": [
            "20\n"
          ]
        },
        {
          "output_type": "stream",
          "name": "stderr",
          "text": [
            "Some weights of the model checkpoint at bert-base-uncased were not used when initializing BertModel: ['cls.predictions.transform.LayerNorm.bias', 'cls.seq_relationship.bias', 'cls.predictions.transform.dense.bias', 'cls.predictions.decoder.weight', 'cls.predictions.transform.LayerNorm.weight', 'cls.predictions.bias', 'cls.predictions.transform.dense.weight', 'cls.seq_relationship.weight']\n",
            "- This IS expected if you are initializing BertModel from the checkpoint of a model trained on another task or with another architecture (e.g. initializing a BertForSequenceClassification model from a BertForPreTraining model).\n",
            "- This IS NOT expected if you are initializing BertModel from the checkpoint of a model that you expect to be exactly identical (initializing a BertForSequenceClassification model from a BertForSequenceClassification model).\n",
            "100%|██████████| 20/20 [00:00<00:00, 10263.81it/s]\n"
          ]
        },
        {
          "output_type": "stream",
          "name": "stdout",
          "text": [
            "0\n"
          ]
        },
        {
          "output_type": "stream",
          "name": "stderr",
          "text": [
            "Some weights of the model checkpoint at bert-base-uncased were not used when initializing BertModel: ['cls.predictions.transform.LayerNorm.bias', 'cls.seq_relationship.bias', 'cls.predictions.transform.dense.bias', 'cls.predictions.decoder.weight', 'cls.predictions.transform.LayerNorm.weight', 'cls.predictions.bias', 'cls.predictions.transform.dense.weight', 'cls.seq_relationship.weight']\n",
            "- This IS expected if you are initializing BertModel from the checkpoint of a model trained on another task or with another architecture (e.g. initializing a BertForSequenceClassification model from a BertForPreTraining model).\n",
            "- This IS NOT expected if you are initializing BertModel from the checkpoint of a model that you expect to be exactly identical (initializing a BertForSequenceClassification model from a BertForSequenceClassification model).\n",
            "0it [00:00, ?it/s]\n"
          ]
        },
        {
          "output_type": "stream",
          "name": "stdout",
          "text": [
            "20\n"
          ]
        },
        {
          "output_type": "stream",
          "name": "stderr",
          "text": [
            "Some weights of the model checkpoint at bert-base-uncased were not used when initializing BertModel: ['cls.predictions.transform.LayerNorm.bias', 'cls.seq_relationship.bias', 'cls.predictions.transform.dense.bias', 'cls.predictions.decoder.weight', 'cls.predictions.transform.LayerNorm.weight', 'cls.predictions.bias', 'cls.predictions.transform.dense.weight', 'cls.seq_relationship.weight']\n",
            "- This IS expected if you are initializing BertModel from the checkpoint of a model trained on another task or with another architecture (e.g. initializing a BertForSequenceClassification model from a BertForPreTraining model).\n",
            "- This IS NOT expected if you are initializing BertModel from the checkpoint of a model that you expect to be exactly identical (initializing a BertForSequenceClassification model from a BertForSequenceClassification model).\n",
            "100%|██████████| 20/20 [00:00<00:00, 5755.08it/s]\n"
          ]
        },
        {
          "output_type": "stream",
          "name": "stdout",
          "text": [
            "5\n"
          ]
        },
        {
          "output_type": "stream",
          "name": "stderr",
          "text": [
            "Some weights of the model checkpoint at bert-base-uncased were not used when initializing BertModel: ['cls.predictions.transform.LayerNorm.bias', 'cls.seq_relationship.bias', 'cls.predictions.transform.dense.bias', 'cls.predictions.decoder.weight', 'cls.predictions.transform.LayerNorm.weight', 'cls.predictions.bias', 'cls.predictions.transform.dense.weight', 'cls.seq_relationship.weight']\n",
            "- This IS expected if you are initializing BertModel from the checkpoint of a model trained on another task or with another architecture (e.g. initializing a BertForSequenceClassification model from a BertForPreTraining model).\n",
            "- This IS NOT expected if you are initializing BertModel from the checkpoint of a model that you expect to be exactly identical (initializing a BertForSequenceClassification model from a BertForSequenceClassification model).\n",
            "100%|██████████| 5/5 [00:00<00:00, 1828.70it/s]\n"
          ]
        },
        {
          "output_type": "stream",
          "name": "stdout",
          "text": [
            "20\n"
          ]
        },
        {
          "output_type": "stream",
          "name": "stderr",
          "text": [
            "Some weights of the model checkpoint at bert-base-uncased were not used when initializing BertModel: ['cls.predictions.transform.LayerNorm.bias', 'cls.seq_relationship.bias', 'cls.predictions.transform.dense.bias', 'cls.predictions.decoder.weight', 'cls.predictions.transform.LayerNorm.weight', 'cls.predictions.bias', 'cls.predictions.transform.dense.weight', 'cls.seq_relationship.weight']\n",
            "- This IS expected if you are initializing BertModel from the checkpoint of a model trained on another task or with another architecture (e.g. initializing a BertForSequenceClassification model from a BertForPreTraining model).\n",
            "- This IS NOT expected if you are initializing BertModel from the checkpoint of a model that you expect to be exactly identical (initializing a BertForSequenceClassification model from a BertForSequenceClassification model).\n",
            "100%|██████████| 20/20 [00:00<00:00, 6860.72it/s]\n"
          ]
        },
        {
          "output_type": "stream",
          "name": "stdout",
          "text": [
            "4\n"
          ]
        },
        {
          "output_type": "stream",
          "name": "stderr",
          "text": [
            "Some weights of the model checkpoint at bert-base-uncased were not used when initializing BertModel: ['cls.predictions.transform.LayerNorm.bias', 'cls.seq_relationship.bias', 'cls.predictions.transform.dense.bias', 'cls.predictions.decoder.weight', 'cls.predictions.transform.LayerNorm.weight', 'cls.predictions.bias', 'cls.predictions.transform.dense.weight', 'cls.seq_relationship.weight']\n",
            "- This IS expected if you are initializing BertModel from the checkpoint of a model trained on another task or with another architecture (e.g. initializing a BertForSequenceClassification model from a BertForPreTraining model).\n",
            "- This IS NOT expected if you are initializing BertModel from the checkpoint of a model that you expect to be exactly identical (initializing a BertForSequenceClassification model from a BertForSequenceClassification model).\n",
            "100%|██████████| 4/4 [00:00<00:00, 11110.74it/s]\n"
          ]
        },
        {
          "output_type": "stream",
          "name": "stdout",
          "text": [
            "20\n"
          ]
        },
        {
          "output_type": "stream",
          "name": "stderr",
          "text": [
            "Some weights of the model checkpoint at bert-base-uncased were not used when initializing BertModel: ['cls.predictions.transform.LayerNorm.bias', 'cls.seq_relationship.bias', 'cls.predictions.transform.dense.bias', 'cls.predictions.decoder.weight', 'cls.predictions.transform.LayerNorm.weight', 'cls.predictions.bias', 'cls.predictions.transform.dense.weight', 'cls.seq_relationship.weight']\n",
            "- This IS expected if you are initializing BertModel from the checkpoint of a model trained on another task or with another architecture (e.g. initializing a BertForSequenceClassification model from a BertForPreTraining model).\n",
            "- This IS NOT expected if you are initializing BertModel from the checkpoint of a model that you expect to be exactly identical (initializing a BertForSequenceClassification model from a BertForSequenceClassification model).\n",
            "100%|██████████| 20/20 [00:00<00:00, 6983.52it/s]\n"
          ]
        },
        {
          "output_type": "stream",
          "name": "stdout",
          "text": [
            "20\n"
          ]
        },
        {
          "output_type": "stream",
          "name": "stderr",
          "text": [
            "Some weights of the model checkpoint at bert-base-uncased were not used when initializing BertModel: ['cls.predictions.transform.LayerNorm.bias', 'cls.seq_relationship.bias', 'cls.predictions.transform.dense.bias', 'cls.predictions.decoder.weight', 'cls.predictions.transform.LayerNorm.weight', 'cls.predictions.bias', 'cls.predictions.transform.dense.weight', 'cls.seq_relationship.weight']\n",
            "- This IS expected if you are initializing BertModel from the checkpoint of a model trained on another task or with another architecture (e.g. initializing a BertForSequenceClassification model from a BertForPreTraining model).\n",
            "- This IS NOT expected if you are initializing BertModel from the checkpoint of a model that you expect to be exactly identical (initializing a BertForSequenceClassification model from a BertForSequenceClassification model).\n",
            "100%|██████████| 20/20 [00:00<00:00, 4742.27it/s]\n"
          ]
        },
        {
          "output_type": "stream",
          "name": "stdout",
          "text": [
            "20\n"
          ]
        },
        {
          "output_type": "stream",
          "name": "stderr",
          "text": [
            "Some weights of the model checkpoint at bert-base-uncased were not used when initializing BertModel: ['cls.predictions.transform.LayerNorm.bias', 'cls.seq_relationship.bias', 'cls.predictions.transform.dense.bias', 'cls.predictions.decoder.weight', 'cls.predictions.transform.LayerNorm.weight', 'cls.predictions.bias', 'cls.predictions.transform.dense.weight', 'cls.seq_relationship.weight']\n",
            "- This IS expected if you are initializing BertModel from the checkpoint of a model trained on another task or with another architecture (e.g. initializing a BertForSequenceClassification model from a BertForPreTraining model).\n",
            "- This IS NOT expected if you are initializing BertModel from the checkpoint of a model that you expect to be exactly identical (initializing a BertForSequenceClassification model from a BertForSequenceClassification model).\n",
            "100%|██████████| 20/20 [00:00<00:00, 14276.05it/s]\n"
          ]
        },
        {
          "output_type": "stream",
          "name": "stdout",
          "text": [
            "20\n"
          ]
        },
        {
          "output_type": "stream",
          "name": "stderr",
          "text": [
            "Some weights of the model checkpoint at bert-base-uncased were not used when initializing BertModel: ['cls.predictions.transform.LayerNorm.bias', 'cls.seq_relationship.bias', 'cls.predictions.transform.dense.bias', 'cls.predictions.decoder.weight', 'cls.predictions.transform.LayerNorm.weight', 'cls.predictions.bias', 'cls.predictions.transform.dense.weight', 'cls.seq_relationship.weight']\n",
            "- This IS expected if you are initializing BertModel from the checkpoint of a model trained on another task or with another architecture (e.g. initializing a BertForSequenceClassification model from a BertForPreTraining model).\n",
            "- This IS NOT expected if you are initializing BertModel from the checkpoint of a model that you expect to be exactly identical (initializing a BertForSequenceClassification model from a BertForSequenceClassification model).\n",
            "100%|██████████| 20/20 [00:00<00:00, 10419.34it/s]\n"
          ]
        },
        {
          "output_type": "stream",
          "name": "stdout",
          "text": [
            "20\n"
          ]
        },
        {
          "output_type": "stream",
          "name": "stderr",
          "text": [
            "Some weights of the model checkpoint at bert-base-uncased were not used when initializing BertModel: ['cls.predictions.transform.LayerNorm.bias', 'cls.seq_relationship.bias', 'cls.predictions.transform.dense.bias', 'cls.predictions.decoder.weight', 'cls.predictions.transform.LayerNorm.weight', 'cls.predictions.bias', 'cls.predictions.transform.dense.weight', 'cls.seq_relationship.weight']\n",
            "- This IS expected if you are initializing BertModel from the checkpoint of a model trained on another task or with another architecture (e.g. initializing a BertForSequenceClassification model from a BertForPreTraining model).\n",
            "- This IS NOT expected if you are initializing BertModel from the checkpoint of a model that you expect to be exactly identical (initializing a BertForSequenceClassification model from a BertForSequenceClassification model).\n",
            "100%|██████████| 20/20 [00:00<00:00, 19636.25it/s]\n"
          ]
        },
        {
          "output_type": "stream",
          "name": "stdout",
          "text": [
            "2\n"
          ]
        },
        {
          "output_type": "stream",
          "name": "stderr",
          "text": [
            "Some weights of the model checkpoint at bert-base-uncased were not used when initializing BertModel: ['cls.predictions.transform.LayerNorm.bias', 'cls.seq_relationship.bias', 'cls.predictions.transform.dense.bias', 'cls.predictions.decoder.weight', 'cls.predictions.transform.LayerNorm.weight', 'cls.predictions.bias', 'cls.predictions.transform.dense.weight', 'cls.seq_relationship.weight']\n",
            "- This IS expected if you are initializing BertModel from the checkpoint of a model trained on another task or with another architecture (e.g. initializing a BertForSequenceClassification model from a BertForPreTraining model).\n",
            "- This IS NOT expected if you are initializing BertModel from the checkpoint of a model that you expect to be exactly identical (initializing a BertForSequenceClassification model from a BertForSequenceClassification model).\n",
            "100%|██████████| 2/2 [00:00<00:00, 7275.46it/s]\n"
          ]
        }
      ],
      "source": [
        "for x in res_pairs[15:35]:\n",
        "  if ((x[0] in arr_dl) and (x[1] in arr_q)):\n",
        "    df_dl = pd.read_csv(file_path_datalake+x[0])\n",
        "    df_q = pd.read_csv(file_path_query+x[1])\n",
        "    dl_emb = table_embedding(df_dl)\n",
        "    q_emb = table_embedding(df_q)\n",
        "    emb_0.append([dl_emb, q_emb])"
      ]
    },
    {
      "cell_type": "code",
      "source": [
        "for x in res_pairs[35:50]:\n",
        "  if ((x[0] in arr_dl) and (x[1] in arr_q)):\n",
        "    df_dl = pd.read_csv(file_path_datalake+x[0])\n",
        "    df_q = pd.read_csv(file_path_query+x[1])\n",
        "    dl_emb = table_embedding(df_dl)\n",
        "    q_emb = table_embedding(df_q)\n",
        "    emb_0.append([dl_emb, q_emb])"
      ],
      "metadata": {
        "colab": {
          "base_uri": "https://localhost:8080/"
        },
        "id": "AwGjqRpeyLHW",
        "outputId": "3614c0d8-6910-4c1e-ff5a-e3ead2393ef1"
      },
      "execution_count": null,
      "outputs": [
        {
          "output_type": "stream",
          "name": "stdout",
          "text": [
            "20\n"
          ]
        },
        {
          "output_type": "stream",
          "name": "stderr",
          "text": [
            "Some weights of the model checkpoint at bert-base-uncased were not used when initializing BertModel: ['cls.predictions.transform.LayerNorm.bias', 'cls.seq_relationship.bias', 'cls.predictions.transform.dense.bias', 'cls.predictions.decoder.weight', 'cls.predictions.transform.LayerNorm.weight', 'cls.predictions.bias', 'cls.predictions.transform.dense.weight', 'cls.seq_relationship.weight']\n",
            "- This IS expected if you are initializing BertModel from the checkpoint of a model trained on another task or with another architecture (e.g. initializing a BertForSequenceClassification model from a BertForPreTraining model).\n",
            "- This IS NOT expected if you are initializing BertModel from the checkpoint of a model that you expect to be exactly identical (initializing a BertForSequenceClassification model from a BertForSequenceClassification model).\n",
            "100%|██████████| 20/20 [00:00<00:00, 7656.63it/s]\n",
            "<ipython-input-34-97c62983cf6f>:57: UserWarning: To copy construct from a tensor, it is recommended to use sourceTensor.clone().detach() or sourceTensor.clone().detach().requires_grad_(True), rather than torch.tensor(sourceTensor).\n",
            "  token_ids = torch.tensor(row_ids).unsqueeze(0)\n"
          ]
        },
        {
          "output_type": "stream",
          "name": "stdout",
          "text": [
            "0\n"
          ]
        },
        {
          "output_type": "stream",
          "name": "stderr",
          "text": [
            "Some weights of the model checkpoint at bert-base-uncased were not used when initializing BertModel: ['cls.predictions.transform.LayerNorm.bias', 'cls.seq_relationship.bias', 'cls.predictions.transform.dense.bias', 'cls.predictions.decoder.weight', 'cls.predictions.transform.LayerNorm.weight', 'cls.predictions.bias', 'cls.predictions.transform.dense.weight', 'cls.seq_relationship.weight']\n",
            "- This IS expected if you are initializing BertModel from the checkpoint of a model trained on another task or with another architecture (e.g. initializing a BertForSequenceClassification model from a BertForPreTraining model).\n",
            "- This IS NOT expected if you are initializing BertModel from the checkpoint of a model that you expect to be exactly identical (initializing a BertForSequenceClassification model from a BertForSequenceClassification model).\n",
            "0it [00:00, ?it/s]\n"
          ]
        },
        {
          "output_type": "stream",
          "name": "stdout",
          "text": [
            "20\n"
          ]
        },
        {
          "output_type": "stream",
          "name": "stderr",
          "text": [
            "Some weights of the model checkpoint at bert-base-uncased were not used when initializing BertModel: ['cls.predictions.transform.LayerNorm.bias', 'cls.seq_relationship.bias', 'cls.predictions.transform.dense.bias', 'cls.predictions.decoder.weight', 'cls.predictions.transform.LayerNorm.weight', 'cls.predictions.bias', 'cls.predictions.transform.dense.weight', 'cls.seq_relationship.weight']\n",
            "- This IS expected if you are initializing BertModel from the checkpoint of a model trained on another task or with another architecture (e.g. initializing a BertForSequenceClassification model from a BertForPreTraining model).\n",
            "- This IS NOT expected if you are initializing BertModel from the checkpoint of a model that you expect to be exactly identical (initializing a BertForSequenceClassification model from a BertForSequenceClassification model).\n",
            "100%|██████████| 20/20 [00:00<00:00, 10419.34it/s]\n"
          ]
        },
        {
          "output_type": "stream",
          "name": "stdout",
          "text": [
            "20\n"
          ]
        },
        {
          "output_type": "stream",
          "name": "stderr",
          "text": [
            "Some weights of the model checkpoint at bert-base-uncased were not used when initializing BertModel: ['cls.predictions.transform.LayerNorm.bias', 'cls.seq_relationship.bias', 'cls.predictions.transform.dense.bias', 'cls.predictions.decoder.weight', 'cls.predictions.transform.LayerNorm.weight', 'cls.predictions.bias', 'cls.predictions.transform.dense.weight', 'cls.seq_relationship.weight']\n",
            "- This IS expected if you are initializing BertModel from the checkpoint of a model trained on another task or with another architecture (e.g. initializing a BertForSequenceClassification model from a BertForPreTraining model).\n",
            "- This IS NOT expected if you are initializing BertModel from the checkpoint of a model that you expect to be exactly identical (initializing a BertForSequenceClassification model from a BertForSequenceClassification model).\n",
            "100%|██████████| 20/20 [00:00<00:00, 7314.16it/s]\n"
          ]
        },
        {
          "output_type": "stream",
          "name": "stdout",
          "text": [
            "20\n"
          ]
        },
        {
          "output_type": "stream",
          "name": "stderr",
          "text": [
            "Some weights of the model checkpoint at bert-base-uncased were not used when initializing BertModel: ['cls.predictions.transform.LayerNorm.bias', 'cls.seq_relationship.bias', 'cls.predictions.transform.dense.bias', 'cls.predictions.decoder.weight', 'cls.predictions.transform.LayerNorm.weight', 'cls.predictions.bias', 'cls.predictions.transform.dense.weight', 'cls.seq_relationship.weight']\n",
            "- This IS expected if you are initializing BertModel from the checkpoint of a model trained on another task or with another architecture (e.g. initializing a BertForSequenceClassification model from a BertForPreTraining model).\n",
            "- This IS NOT expected if you are initializing BertModel from the checkpoint of a model that you expect to be exactly identical (initializing a BertForSequenceClassification model from a BertForSequenceClassification model).\n",
            "100%|██████████| 20/20 [00:00<00:00, 18371.90it/s]\n"
          ]
        },
        {
          "output_type": "stream",
          "name": "stdout",
          "text": [
            "0\n"
          ]
        },
        {
          "output_type": "stream",
          "name": "stderr",
          "text": [
            "Some weights of the model checkpoint at bert-base-uncased were not used when initializing BertModel: ['cls.predictions.transform.LayerNorm.bias', 'cls.seq_relationship.bias', 'cls.predictions.transform.dense.bias', 'cls.predictions.decoder.weight', 'cls.predictions.transform.LayerNorm.weight', 'cls.predictions.bias', 'cls.predictions.transform.dense.weight', 'cls.seq_relationship.weight']\n",
            "- This IS expected if you are initializing BertModel from the checkpoint of a model trained on another task or with another architecture (e.g. initializing a BertForSequenceClassification model from a BertForPreTraining model).\n",
            "- This IS NOT expected if you are initializing BertModel from the checkpoint of a model that you expect to be exactly identical (initializing a BertForSequenceClassification model from a BertForSequenceClassification model).\n",
            "0it [00:00, ?it/s]\n"
          ]
        },
        {
          "output_type": "stream",
          "name": "stdout",
          "text": [
            "20\n"
          ]
        },
        {
          "output_type": "stream",
          "name": "stderr",
          "text": [
            "Some weights of the model checkpoint at bert-base-uncased were not used when initializing BertModel: ['cls.predictions.transform.LayerNorm.bias', 'cls.seq_relationship.bias', 'cls.predictions.transform.dense.bias', 'cls.predictions.decoder.weight', 'cls.predictions.transform.LayerNorm.weight', 'cls.predictions.bias', 'cls.predictions.transform.dense.weight', 'cls.seq_relationship.weight']\n",
            "- This IS expected if you are initializing BertModel from the checkpoint of a model trained on another task or with another architecture (e.g. initializing a BertForSequenceClassification model from a BertForPreTraining model).\n",
            "- This IS NOT expected if you are initializing BertModel from the checkpoint of a model that you expect to be exactly identical (initializing a BertForSequenceClassification model from a BertForSequenceClassification model).\n",
            "100%|██████████| 20/20 [00:00<00:00, 23243.58it/s]\n"
          ]
        },
        {
          "output_type": "stream",
          "name": "stdout",
          "text": [
            "20\n"
          ]
        },
        {
          "output_type": "stream",
          "name": "stderr",
          "text": [
            "Some weights of the model checkpoint at bert-base-uncased were not used when initializing BertModel: ['cls.predictions.transform.LayerNorm.bias', 'cls.seq_relationship.bias', 'cls.predictions.transform.dense.bias', 'cls.predictions.decoder.weight', 'cls.predictions.transform.LayerNorm.weight', 'cls.predictions.bias', 'cls.predictions.transform.dense.weight', 'cls.seq_relationship.weight']\n",
            "- This IS expected if you are initializing BertModel from the checkpoint of a model trained on another task or with another architecture (e.g. initializing a BertForSequenceClassification model from a BertForPreTraining model).\n",
            "- This IS NOT expected if you are initializing BertModel from the checkpoint of a model that you expect to be exactly identical (initializing a BertForSequenceClassification model from a BertForSequenceClassification model).\n",
            "100%|██████████| 20/20 [00:00<00:00, 20440.08it/s]\n"
          ]
        },
        {
          "output_type": "stream",
          "name": "stdout",
          "text": [
            "20\n"
          ]
        },
        {
          "output_type": "stream",
          "name": "stderr",
          "text": [
            "Some weights of the model checkpoint at bert-base-uncased were not used when initializing BertModel: ['cls.predictions.transform.LayerNorm.bias', 'cls.seq_relationship.bias', 'cls.predictions.transform.dense.bias', 'cls.predictions.decoder.weight', 'cls.predictions.transform.LayerNorm.weight', 'cls.predictions.bias', 'cls.predictions.transform.dense.weight', 'cls.seq_relationship.weight']\n",
            "- This IS expected if you are initializing BertModel from the checkpoint of a model trained on another task or with another architecture (e.g. initializing a BertForSequenceClassification model from a BertForPreTraining model).\n",
            "- This IS NOT expected if you are initializing BertModel from the checkpoint of a model that you expect to be exactly identical (initializing a BertForSequenceClassification model from a BertForSequenceClassification model).\n",
            "100%|██████████| 20/20 [00:00<00:00, 22501.63it/s]\n"
          ]
        },
        {
          "output_type": "stream",
          "name": "stdout",
          "text": [
            "20\n"
          ]
        },
        {
          "output_type": "stream",
          "name": "stderr",
          "text": [
            "Some weights of the model checkpoint at bert-base-uncased were not used when initializing BertModel: ['cls.predictions.transform.LayerNorm.bias', 'cls.seq_relationship.bias', 'cls.predictions.transform.dense.bias', 'cls.predictions.decoder.weight', 'cls.predictions.transform.LayerNorm.weight', 'cls.predictions.bias', 'cls.predictions.transform.dense.weight', 'cls.seq_relationship.weight']\n",
            "- This IS expected if you are initializing BertModel from the checkpoint of a model trained on another task or with another architecture (e.g. initializing a BertForSequenceClassification model from a BertForPreTraining model).\n",
            "- This IS NOT expected if you are initializing BertModel from the checkpoint of a model that you expect to be exactly identical (initializing a BertForSequenceClassification model from a BertForSequenceClassification model).\n",
            "100%|██████████| 20/20 [00:00<00:00, 7351.98it/s]\n"
          ]
        },
        {
          "output_type": "stream",
          "name": "stdout",
          "text": [
            "20\n"
          ]
        },
        {
          "output_type": "stream",
          "name": "stderr",
          "text": [
            "Some weights of the model checkpoint at bert-base-uncased were not used when initializing BertModel: ['cls.predictions.transform.LayerNorm.bias', 'cls.seq_relationship.bias', 'cls.predictions.transform.dense.bias', 'cls.predictions.decoder.weight', 'cls.predictions.transform.LayerNorm.weight', 'cls.predictions.bias', 'cls.predictions.transform.dense.weight', 'cls.seq_relationship.weight']\n",
            "- This IS expected if you are initializing BertModel from the checkpoint of a model trained on another task or with another architecture (e.g. initializing a BertForSequenceClassification model from a BertForPreTraining model).\n",
            "- This IS NOT expected if you are initializing BertModel from the checkpoint of a model that you expect to be exactly identical (initializing a BertForSequenceClassification model from a BertForSequenceClassification model).\n",
            "100%|██████████| 20/20 [00:00<00:00, 19156.45it/s]\n"
          ]
        },
        {
          "output_type": "stream",
          "name": "stdout",
          "text": [
            "20\n"
          ]
        },
        {
          "output_type": "stream",
          "name": "stderr",
          "text": [
            "Some weights of the model checkpoint at bert-base-uncased were not used when initializing BertModel: ['cls.predictions.transform.LayerNorm.bias', 'cls.seq_relationship.bias', 'cls.predictions.transform.dense.bias', 'cls.predictions.decoder.weight', 'cls.predictions.transform.LayerNorm.weight', 'cls.predictions.bias', 'cls.predictions.transform.dense.weight', 'cls.seq_relationship.weight']\n",
            "- This IS expected if you are initializing BertModel from the checkpoint of a model trained on another task or with another architecture (e.g. initializing a BertForSequenceClassification model from a BertForPreTraining model).\n",
            "- This IS NOT expected if you are initializing BertModel from the checkpoint of a model that you expect to be exactly identical (initializing a BertForSequenceClassification model from a BertForSequenceClassification model).\n",
            "100%|██████████| 20/20 [00:00<00:00, 23230.71it/s]\n"
          ]
        },
        {
          "output_type": "stream",
          "name": "stdout",
          "text": [
            "20\n"
          ]
        },
        {
          "output_type": "stream",
          "name": "stderr",
          "text": [
            "Some weights of the model checkpoint at bert-base-uncased were not used when initializing BertModel: ['cls.predictions.transform.LayerNorm.bias', 'cls.seq_relationship.bias', 'cls.predictions.transform.dense.bias', 'cls.predictions.decoder.weight', 'cls.predictions.transform.LayerNorm.weight', 'cls.predictions.bias', 'cls.predictions.transform.dense.weight', 'cls.seq_relationship.weight']\n",
            "- This IS expected if you are initializing BertModel from the checkpoint of a model trained on another task or with another architecture (e.g. initializing a BertForSequenceClassification model from a BertForPreTraining model).\n",
            "- This IS NOT expected if you are initializing BertModel from the checkpoint of a model that you expect to be exactly identical (initializing a BertForSequenceClassification model from a BertForSequenceClassification model).\n",
            "100%|██████████| 20/20 [00:00<00:00, 23340.59it/s]\n"
          ]
        },
        {
          "output_type": "stream",
          "name": "stdout",
          "text": [
            "20\n"
          ]
        },
        {
          "output_type": "stream",
          "name": "stderr",
          "text": [
            "Some weights of the model checkpoint at bert-base-uncased were not used when initializing BertModel: ['cls.predictions.transform.LayerNorm.bias', 'cls.seq_relationship.bias', 'cls.predictions.transform.dense.bias', 'cls.predictions.decoder.weight', 'cls.predictions.transform.LayerNorm.weight', 'cls.predictions.bias', 'cls.predictions.transform.dense.weight', 'cls.seq_relationship.weight']\n",
            "- This IS expected if you are initializing BertModel from the checkpoint of a model trained on another task or with another architecture (e.g. initializing a BertForSequenceClassification model from a BertForPreTraining model).\n",
            "- This IS NOT expected if you are initializing BertModel from the checkpoint of a model that you expect to be exactly identical (initializing a BertForSequenceClassification model from a BertForSequenceClassification model).\n",
            "100%|██████████| 20/20 [00:00<00:00, 6667.15it/s]\n"
          ]
        },
        {
          "output_type": "stream",
          "name": "stdout",
          "text": [
            "20\n"
          ]
        },
        {
          "output_type": "stream",
          "name": "stderr",
          "text": [
            "Some weights of the model checkpoint at bert-base-uncased were not used when initializing BertModel: ['cls.predictions.transform.LayerNorm.bias', 'cls.seq_relationship.bias', 'cls.predictions.transform.dense.bias', 'cls.predictions.decoder.weight', 'cls.predictions.transform.LayerNorm.weight', 'cls.predictions.bias', 'cls.predictions.transform.dense.weight', 'cls.seq_relationship.weight']\n",
            "- This IS expected if you are initializing BertModel from the checkpoint of a model trained on another task or with another architecture (e.g. initializing a BertForSequenceClassification model from a BertForPreTraining model).\n",
            "- This IS NOT expected if you are initializing BertModel from the checkpoint of a model that you expect to be exactly identical (initializing a BertForSequenceClassification model from a BertForSequenceClassification model).\n",
            "100%|██████████| 20/20 [00:00<00:00, 10764.29it/s]\n"
          ]
        },
        {
          "output_type": "stream",
          "name": "stdout",
          "text": [
            "20\n"
          ]
        },
        {
          "output_type": "stream",
          "name": "stderr",
          "text": [
            "Some weights of the model checkpoint at bert-base-uncased were not used when initializing BertModel: ['cls.predictions.transform.LayerNorm.bias', 'cls.seq_relationship.bias', 'cls.predictions.transform.dense.bias', 'cls.predictions.decoder.weight', 'cls.predictions.transform.LayerNorm.weight', 'cls.predictions.bias', 'cls.predictions.transform.dense.weight', 'cls.seq_relationship.weight']\n",
            "- This IS expected if you are initializing BertModel from the checkpoint of a model trained on another task or with another architecture (e.g. initializing a BertForSequenceClassification model from a BertForPreTraining model).\n",
            "- This IS NOT expected if you are initializing BertModel from the checkpoint of a model that you expect to be exactly identical (initializing a BertForSequenceClassification model from a BertForSequenceClassification model).\n",
            "100%|██████████| 20/20 [00:00<00:00, 7800.45it/s]\n"
          ]
        },
        {
          "output_type": "stream",
          "name": "stdout",
          "text": [
            "20\n"
          ]
        },
        {
          "output_type": "stream",
          "name": "stderr",
          "text": [
            "Some weights of the model checkpoint at bert-base-uncased were not used when initializing BertModel: ['cls.predictions.transform.LayerNorm.bias', 'cls.seq_relationship.bias', 'cls.predictions.transform.dense.bias', 'cls.predictions.decoder.weight', 'cls.predictions.transform.LayerNorm.weight', 'cls.predictions.bias', 'cls.predictions.transform.dense.weight', 'cls.seq_relationship.weight']\n",
            "- This IS expected if you are initializing BertModel from the checkpoint of a model trained on another task or with another architecture (e.g. initializing a BertForSequenceClassification model from a BertForPreTraining model).\n",
            "- This IS NOT expected if you are initializing BertModel from the checkpoint of a model that you expect to be exactly identical (initializing a BertForSequenceClassification model from a BertForSequenceClassification model).\n",
            "100%|██████████| 20/20 [00:00<00:00, 11740.53it/s]\n"
          ]
        },
        {
          "output_type": "stream",
          "name": "stdout",
          "text": [
            "20\n"
          ]
        },
        {
          "output_type": "stream",
          "name": "stderr",
          "text": [
            "Some weights of the model checkpoint at bert-base-uncased were not used when initializing BertModel: ['cls.predictions.transform.LayerNorm.bias', 'cls.seq_relationship.bias', 'cls.predictions.transform.dense.bias', 'cls.predictions.decoder.weight', 'cls.predictions.transform.LayerNorm.weight', 'cls.predictions.bias', 'cls.predictions.transform.dense.weight', 'cls.seq_relationship.weight']\n",
            "- This IS expected if you are initializing BertModel from the checkpoint of a model trained on another task or with another architecture (e.g. initializing a BertForSequenceClassification model from a BertForPreTraining model).\n",
            "- This IS NOT expected if you are initializing BertModel from the checkpoint of a model that you expect to be exactly identical (initializing a BertForSequenceClassification model from a BertForSequenceClassification model).\n",
            "100%|██████████| 20/20 [00:00<00:00, 21709.65it/s]\n"
          ]
        },
        {
          "output_type": "stream",
          "name": "stdout",
          "text": [
            "20\n"
          ]
        },
        {
          "output_type": "stream",
          "name": "stderr",
          "text": [
            "Some weights of the model checkpoint at bert-base-uncased were not used when initializing BertModel: ['cls.predictions.transform.LayerNorm.bias', 'cls.seq_relationship.bias', 'cls.predictions.transform.dense.bias', 'cls.predictions.decoder.weight', 'cls.predictions.transform.LayerNorm.weight', 'cls.predictions.bias', 'cls.predictions.transform.dense.weight', 'cls.seq_relationship.weight']\n",
            "- This IS expected if you are initializing BertModel from the checkpoint of a model trained on another task or with another architecture (e.g. initializing a BertForSequenceClassification model from a BertForPreTraining model).\n",
            "- This IS NOT expected if you are initializing BertModel from the checkpoint of a model that you expect to be exactly identical (initializing a BertForSequenceClassification model from a BertForSequenceClassification model).\n",
            "100%|██████████| 20/20 [00:00<00:00, 23425.32it/s]\n"
          ]
        },
        {
          "output_type": "stream",
          "name": "stdout",
          "text": [
            "0\n"
          ]
        },
        {
          "output_type": "stream",
          "name": "stderr",
          "text": [
            "Some weights of the model checkpoint at bert-base-uncased were not used when initializing BertModel: ['cls.predictions.transform.LayerNorm.bias', 'cls.seq_relationship.bias', 'cls.predictions.transform.dense.bias', 'cls.predictions.decoder.weight', 'cls.predictions.transform.LayerNorm.weight', 'cls.predictions.bias', 'cls.predictions.transform.dense.weight', 'cls.seq_relationship.weight']\n",
            "- This IS expected if you are initializing BertModel from the checkpoint of a model trained on another task or with another architecture (e.g. initializing a BertForSequenceClassification model from a BertForPreTraining model).\n",
            "- This IS NOT expected if you are initializing BertModel from the checkpoint of a model that you expect to be exactly identical (initializing a BertForSequenceClassification model from a BertForSequenceClassification model).\n",
            "0it [00:00, ?it/s]\n"
          ]
        },
        {
          "output_type": "stream",
          "name": "stdout",
          "text": [
            "20\n"
          ]
        },
        {
          "output_type": "stream",
          "name": "stderr",
          "text": [
            "Some weights of the model checkpoint at bert-base-uncased were not used when initializing BertModel: ['cls.predictions.transform.LayerNorm.bias', 'cls.seq_relationship.bias', 'cls.predictions.transform.dense.bias', 'cls.predictions.decoder.weight', 'cls.predictions.transform.LayerNorm.weight', 'cls.predictions.bias', 'cls.predictions.transform.dense.weight', 'cls.seq_relationship.weight']\n",
            "- This IS expected if you are initializing BertModel from the checkpoint of a model trained on another task or with another architecture (e.g. initializing a BertForSequenceClassification model from a BertForPreTraining model).\n",
            "- This IS NOT expected if you are initializing BertModel from the checkpoint of a model that you expect to be exactly identical (initializing a BertForSequenceClassification model from a BertForSequenceClassification model).\n",
            "100%|██████████| 20/20 [00:00<00:00, 21274.68it/s]\n"
          ]
        },
        {
          "output_type": "stream",
          "name": "stdout",
          "text": [
            "20\n"
          ]
        },
        {
          "output_type": "stream",
          "name": "stderr",
          "text": [
            "Some weights of the model checkpoint at bert-base-uncased were not used when initializing BertModel: ['cls.predictions.transform.LayerNorm.bias', 'cls.seq_relationship.bias', 'cls.predictions.transform.dense.bias', 'cls.predictions.decoder.weight', 'cls.predictions.transform.LayerNorm.weight', 'cls.predictions.bias', 'cls.predictions.transform.dense.weight', 'cls.seq_relationship.weight']\n",
            "- This IS expected if you are initializing BertModel from the checkpoint of a model trained on another task or with another architecture (e.g. initializing a BertForSequenceClassification model from a BertForPreTraining model).\n",
            "- This IS NOT expected if you are initializing BertModel from the checkpoint of a model that you expect to be exactly identical (initializing a BertForSequenceClassification model from a BertForSequenceClassification model).\n",
            "100%|██████████| 20/20 [00:00<00:00, 13062.30it/s]\n"
          ]
        },
        {
          "output_type": "stream",
          "name": "stdout",
          "text": [
            "20\n"
          ]
        },
        {
          "output_type": "stream",
          "name": "stderr",
          "text": [
            "Some weights of the model checkpoint at bert-base-uncased were not used when initializing BertModel: ['cls.predictions.transform.LayerNorm.bias', 'cls.seq_relationship.bias', 'cls.predictions.transform.dense.bias', 'cls.predictions.decoder.weight', 'cls.predictions.transform.LayerNorm.weight', 'cls.predictions.bias', 'cls.predictions.transform.dense.weight', 'cls.seq_relationship.weight']\n",
            "- This IS expected if you are initializing BertModel from the checkpoint of a model trained on another task or with another architecture (e.g. initializing a BertForSequenceClassification model from a BertForPreTraining model).\n",
            "- This IS NOT expected if you are initializing BertModel from the checkpoint of a model that you expect to be exactly identical (initializing a BertForSequenceClassification model from a BertForSequenceClassification model).\n",
            "100%|██████████| 20/20 [00:00<00:00, 8588.73it/s]\n"
          ]
        },
        {
          "output_type": "stream",
          "name": "stdout",
          "text": [
            "0\n"
          ]
        },
        {
          "output_type": "stream",
          "name": "stderr",
          "text": [
            "Some weights of the model checkpoint at bert-base-uncased were not used when initializing BertModel: ['cls.predictions.transform.LayerNorm.bias', 'cls.seq_relationship.bias', 'cls.predictions.transform.dense.bias', 'cls.predictions.decoder.weight', 'cls.predictions.transform.LayerNorm.weight', 'cls.predictions.bias', 'cls.predictions.transform.dense.weight', 'cls.seq_relationship.weight']\n",
            "- This IS expected if you are initializing BertModel from the checkpoint of a model trained on another task or with another architecture (e.g. initializing a BertForSequenceClassification model from a BertForPreTraining model).\n",
            "- This IS NOT expected if you are initializing BertModel from the checkpoint of a model that you expect to be exactly identical (initializing a BertForSequenceClassification model from a BertForSequenceClassification model).\n",
            "0it [00:00, ?it/s]\n"
          ]
        },
        {
          "output_type": "stream",
          "name": "stdout",
          "text": [
            "20\n"
          ]
        },
        {
          "output_type": "stream",
          "name": "stderr",
          "text": [
            "Some weights of the model checkpoint at bert-base-uncased were not used when initializing BertModel: ['cls.predictions.transform.LayerNorm.bias', 'cls.seq_relationship.bias', 'cls.predictions.transform.dense.bias', 'cls.predictions.decoder.weight', 'cls.predictions.transform.LayerNorm.weight', 'cls.predictions.bias', 'cls.predictions.transform.dense.weight', 'cls.seq_relationship.weight']\n",
            "- This IS expected if you are initializing BertModel from the checkpoint of a model trained on another task or with another architecture (e.g. initializing a BertForSequenceClassification model from a BertForPreTraining model).\n",
            "- This IS NOT expected if you are initializing BertModel from the checkpoint of a model that you expect to be exactly identical (initializing a BertForSequenceClassification model from a BertForSequenceClassification model).\n",
            "100%|██████████| 20/20 [00:00<00:00, 11150.62it/s]\n"
          ]
        },
        {
          "output_type": "stream",
          "name": "stdout",
          "text": [
            "20\n"
          ]
        },
        {
          "output_type": "stream",
          "name": "stderr",
          "text": [
            "Some weights of the model checkpoint at bert-base-uncased were not used when initializing BertModel: ['cls.predictions.transform.LayerNorm.bias', 'cls.seq_relationship.bias', 'cls.predictions.transform.dense.bias', 'cls.predictions.decoder.weight', 'cls.predictions.transform.LayerNorm.weight', 'cls.predictions.bias', 'cls.predictions.transform.dense.weight', 'cls.seq_relationship.weight']\n",
            "- This IS expected if you are initializing BertModel from the checkpoint of a model trained on another task or with another architecture (e.g. initializing a BertForSequenceClassification model from a BertForPreTraining model).\n",
            "- This IS NOT expected if you are initializing BertModel from the checkpoint of a model that you expect to be exactly identical (initializing a BertForSequenceClassification model from a BertForSequenceClassification model).\n",
            "100%|██████████| 20/20 [00:00<00:00, 23743.58it/s]\n"
          ]
        },
        {
          "output_type": "stream",
          "name": "stdout",
          "text": [
            "20\n"
          ]
        },
        {
          "output_type": "stream",
          "name": "stderr",
          "text": [
            "Some weights of the model checkpoint at bert-base-uncased were not used when initializing BertModel: ['cls.predictions.transform.LayerNorm.bias', 'cls.seq_relationship.bias', 'cls.predictions.transform.dense.bias', 'cls.predictions.decoder.weight', 'cls.predictions.transform.LayerNorm.weight', 'cls.predictions.bias', 'cls.predictions.transform.dense.weight', 'cls.seq_relationship.weight']\n",
            "- This IS expected if you are initializing BertModel from the checkpoint of a model trained on another task or with another architecture (e.g. initializing a BertForSequenceClassification model from a BertForPreTraining model).\n",
            "- This IS NOT expected if you are initializing BertModel from the checkpoint of a model that you expect to be exactly identical (initializing a BertForSequenceClassification model from a BertForSequenceClassification model).\n",
            "100%|██████████| 20/20 [00:00<00:00, 23205.00it/s]\n"
          ]
        },
        {
          "output_type": "stream",
          "name": "stdout",
          "text": [
            "20\n"
          ]
        },
        {
          "output_type": "stream",
          "name": "stderr",
          "text": [
            "Some weights of the model checkpoint at bert-base-uncased were not used when initializing BertModel: ['cls.predictions.transform.LayerNorm.bias', 'cls.seq_relationship.bias', 'cls.predictions.transform.dense.bias', 'cls.predictions.decoder.weight', 'cls.predictions.transform.LayerNorm.weight', 'cls.predictions.bias', 'cls.predictions.transform.dense.weight', 'cls.seq_relationship.weight']\n",
            "- This IS expected if you are initializing BertModel from the checkpoint of a model trained on another task or with another architecture (e.g. initializing a BertForSequenceClassification model from a BertForPreTraining model).\n",
            "- This IS NOT expected if you are initializing BertModel from the checkpoint of a model that you expect to be exactly identical (initializing a BertForSequenceClassification model from a BertForSequenceClassification model).\n",
            "100%|██████████| 20/20 [00:00<00:00, 22459.46it/s]\n"
          ]
        },
        {
          "output_type": "stream",
          "name": "stdout",
          "text": [
            "20\n"
          ]
        },
        {
          "output_type": "stream",
          "name": "stderr",
          "text": [
            "Some weights of the model checkpoint at bert-base-uncased were not used when initializing BertModel: ['cls.predictions.transform.LayerNorm.bias', 'cls.seq_relationship.bias', 'cls.predictions.transform.dense.bias', 'cls.predictions.decoder.weight', 'cls.predictions.transform.LayerNorm.weight', 'cls.predictions.bias', 'cls.predictions.transform.dense.weight', 'cls.seq_relationship.weight']\n",
            "- This IS expected if you are initializing BertModel from the checkpoint of a model trained on another task or with another architecture (e.g. initializing a BertForSequenceClassification model from a BertForPreTraining model).\n",
            "- This IS NOT expected if you are initializing BertModel from the checkpoint of a model that you expect to be exactly identical (initializing a BertForSequenceClassification model from a BertForSequenceClassification model).\n",
            "100%|██████████| 20/20 [00:00<00:00, 21076.90it/s]\n"
          ]
        },
        {
          "output_type": "stream",
          "name": "stdout",
          "text": [
            "20\n"
          ]
        },
        {
          "output_type": "stream",
          "name": "stderr",
          "text": [
            "Some weights of the model checkpoint at bert-base-uncased were not used when initializing BertModel: ['cls.predictions.transform.LayerNorm.bias', 'cls.seq_relationship.bias', 'cls.predictions.transform.dense.bias', 'cls.predictions.decoder.weight', 'cls.predictions.transform.LayerNorm.weight', 'cls.predictions.bias', 'cls.predictions.transform.dense.weight', 'cls.seq_relationship.weight']\n",
            "- This IS expected if you are initializing BertModel from the checkpoint of a model trained on another task or with another architecture (e.g. initializing a BertForSequenceClassification model from a BertForPreTraining model).\n",
            "- This IS NOT expected if you are initializing BertModel from the checkpoint of a model that you expect to be exactly identical (initializing a BertForSequenceClassification model from a BertForSequenceClassification model).\n",
            "100%|██████████| 20/20 [00:00<00:00, 13327.94it/s]\n"
          ]
        }
      ]
    },
    {
      "cell_type": "code",
      "execution_count": null,
      "metadata": {
        "id": "o9wCCud-nxoH"
      },
      "outputs": [],
      "source": [
        "torch.save(emb_0, '/content/drive/MyDrive/labeled_benchmark/zero_embedding.pt')"
      ]
    },
    {
      "cell_type": "code",
      "source": [
        "import torch\n",
        "fi = torch.load(\"/content/drive/MyDrive/labeled_benchmark/embeddings.pt\")\n",
        "fi[0]"
      ],
      "metadata": {
        "id": "UXR2V-t6aQVI",
        "colab": {
          "base_uri": "https://localhost:8080/"
        },
        "outputId": "20f94c2f-d6cc-47f8-8936-8b5734141cc2"
      },
      "execution_count": 2,
      "outputs": [
        {
          "output_type": "execute_result",
          "data": {
            "text/plain": [
              "[tensor([[[ 1.0432, -0.0083, -0.5479,  ...,  0.3866, -0.7958, -0.1065],\n",
              "          [-0.0088,  0.1391,  0.5338,  ..., -0.1907,  0.6939,  0.2201],\n",
              "          [ 0.1225,  0.0220,  0.6945,  ..., -0.0364,  0.4534,  0.2356],\n",
              "          ...,\n",
              "          [-0.0057,  0.0786,  0.5148,  ..., -0.0253,  0.3716,  0.1362],\n",
              "          [-0.1135,  0.0271,  0.4351,  ...,  0.0197,  0.3706,  0.1608],\n",
              "          [-0.1548, -0.0117,  0.4265,  ...,  0.0615,  0.3823,  0.1144]]]),\n",
              " tensor([[[ 1.0432, -0.0083, -0.5479,  ...,  0.3866, -0.7958, -0.1065],\n",
              "          [-0.0088,  0.1391,  0.5338,  ..., -0.1907,  0.6939,  0.2201],\n",
              "          [ 0.1225,  0.0220,  0.6945,  ..., -0.0364,  0.4534,  0.2356],\n",
              "          ...,\n",
              "          [-0.0057,  0.0786,  0.5148,  ..., -0.0253,  0.3716,  0.1362],\n",
              "          [-0.1135,  0.0271,  0.4351,  ...,  0.0197,  0.3706,  0.1608],\n",
              "          [-0.1548, -0.0117,  0.4265,  ...,  0.0615,  0.3823,  0.1144]]])]"
            ]
          },
          "metadata": {},
          "execution_count": 2
        }
      ]
    }
  ],
  "metadata": {
    "colab": {
      "provenance": []
    },
    "kernelspec": {
      "display_name": "Python 3",
      "name": "python3"
    },
    "language_info": {
      "name": "python"
    },
    "gpuClass": "standard",
    "widgets": {
      "application/vnd.jupyter.widget-state+json": {
        "68fde8f08c5348cc82852db5f53b9a61": {
          "model_module": "@jupyter-widgets/controls",
          "model_name": "HBoxModel",
          "model_module_version": "1.5.0",
          "state": {
            "_dom_classes": [],
            "_model_module": "@jupyter-widgets/controls",
            "_model_module_version": "1.5.0",
            "_model_name": "HBoxModel",
            "_view_count": null,
            "_view_module": "@jupyter-widgets/controls",
            "_view_module_version": "1.5.0",
            "_view_name": "HBoxView",
            "box_style": "",
            "children": [
              "IPY_MODEL_cb95be6451f74f208f886d737894b430",
              "IPY_MODEL_27c05b15b2c7492e822ced14a2cd3af1",
              "IPY_MODEL_8ca7a7c3ccf54372ae18c9c3d5bec9d6"
            ],
            "layout": "IPY_MODEL_2260ea6b1c0e48758c2945172e2d925b"
          }
        },
        "cb95be6451f74f208f886d737894b430": {
          "model_module": "@jupyter-widgets/controls",
          "model_name": "HTMLModel",
          "model_module_version": "1.5.0",
          "state": {
            "_dom_classes": [],
            "_model_module": "@jupyter-widgets/controls",
            "_model_module_version": "1.5.0",
            "_model_name": "HTMLModel",
            "_view_count": null,
            "_view_module": "@jupyter-widgets/controls",
            "_view_module_version": "1.5.0",
            "_view_name": "HTMLView",
            "description": "",
            "description_tooltip": null,
            "layout": "IPY_MODEL_f598f9bac45f49a3901c1890a249dafd",
            "placeholder": "​",
            "style": "IPY_MODEL_1e3f78ba2725475dbcf6554f49e09329",
            "value": "Downloading: 100%"
          }
        },
        "27c05b15b2c7492e822ced14a2cd3af1": {
          "model_module": "@jupyter-widgets/controls",
          "model_name": "FloatProgressModel",
          "model_module_version": "1.5.0",
          "state": {
            "_dom_classes": [],
            "_model_module": "@jupyter-widgets/controls",
            "_model_module_version": "1.5.0",
            "_model_name": "FloatProgressModel",
            "_view_count": null,
            "_view_module": "@jupyter-widgets/controls",
            "_view_module_version": "1.5.0",
            "_view_name": "ProgressView",
            "bar_style": "success",
            "description": "",
            "description_tooltip": null,
            "layout": "IPY_MODEL_8c01cc03444d4f6eb4c6eaa59c700a54",
            "max": 570,
            "min": 0,
            "orientation": "horizontal",
            "style": "IPY_MODEL_5946e14f1dc94a4e9d77ddff7ffcdaa7",
            "value": 570
          }
        },
        "8ca7a7c3ccf54372ae18c9c3d5bec9d6": {
          "model_module": "@jupyter-widgets/controls",
          "model_name": "HTMLModel",
          "model_module_version": "1.5.0",
          "state": {
            "_dom_classes": [],
            "_model_module": "@jupyter-widgets/controls",
            "_model_module_version": "1.5.0",
            "_model_name": "HTMLModel",
            "_view_count": null,
            "_view_module": "@jupyter-widgets/controls",
            "_view_module_version": "1.5.0",
            "_view_name": "HTMLView",
            "description": "",
            "description_tooltip": null,
            "layout": "IPY_MODEL_85c4025a70674abc96d5ca402db31542",
            "placeholder": "​",
            "style": "IPY_MODEL_504cf5f5b53a475b916838c2beafaecc",
            "value": " 570/570 [00:00&lt;00:00, 16.3kB/s]"
          }
        },
        "2260ea6b1c0e48758c2945172e2d925b": {
          "model_module": "@jupyter-widgets/base",
          "model_name": "LayoutModel",
          "model_module_version": "1.2.0",
          "state": {
            "_model_module": "@jupyter-widgets/base",
            "_model_module_version": "1.2.0",
            "_model_name": "LayoutModel",
            "_view_count": null,
            "_view_module": "@jupyter-widgets/base",
            "_view_module_version": "1.2.0",
            "_view_name": "LayoutView",
            "align_content": null,
            "align_items": null,
            "align_self": null,
            "border": null,
            "bottom": null,
            "display": null,
            "flex": null,
            "flex_flow": null,
            "grid_area": null,
            "grid_auto_columns": null,
            "grid_auto_flow": null,
            "grid_auto_rows": null,
            "grid_column": null,
            "grid_gap": null,
            "grid_row": null,
            "grid_template_areas": null,
            "grid_template_columns": null,
            "grid_template_rows": null,
            "height": null,
            "justify_content": null,
            "justify_items": null,
            "left": null,
            "margin": null,
            "max_height": null,
            "max_width": null,
            "min_height": null,
            "min_width": null,
            "object_fit": null,
            "object_position": null,
            "order": null,
            "overflow": null,
            "overflow_x": null,
            "overflow_y": null,
            "padding": null,
            "right": null,
            "top": null,
            "visibility": null,
            "width": null
          }
        },
        "f598f9bac45f49a3901c1890a249dafd": {
          "model_module": "@jupyter-widgets/base",
          "model_name": "LayoutModel",
          "model_module_version": "1.2.0",
          "state": {
            "_model_module": "@jupyter-widgets/base",
            "_model_module_version": "1.2.0",
            "_model_name": "LayoutModel",
            "_view_count": null,
            "_view_module": "@jupyter-widgets/base",
            "_view_module_version": "1.2.0",
            "_view_name": "LayoutView",
            "align_content": null,
            "align_items": null,
            "align_self": null,
            "border": null,
            "bottom": null,
            "display": null,
            "flex": null,
            "flex_flow": null,
            "grid_area": null,
            "grid_auto_columns": null,
            "grid_auto_flow": null,
            "grid_auto_rows": null,
            "grid_column": null,
            "grid_gap": null,
            "grid_row": null,
            "grid_template_areas": null,
            "grid_template_columns": null,
            "grid_template_rows": null,
            "height": null,
            "justify_content": null,
            "justify_items": null,
            "left": null,
            "margin": null,
            "max_height": null,
            "max_width": null,
            "min_height": null,
            "min_width": null,
            "object_fit": null,
            "object_position": null,
            "order": null,
            "overflow": null,
            "overflow_x": null,
            "overflow_y": null,
            "padding": null,
            "right": null,
            "top": null,
            "visibility": null,
            "width": null
          }
        },
        "1e3f78ba2725475dbcf6554f49e09329": {
          "model_module": "@jupyter-widgets/controls",
          "model_name": "DescriptionStyleModel",
          "model_module_version": "1.5.0",
          "state": {
            "_model_module": "@jupyter-widgets/controls",
            "_model_module_version": "1.5.0",
            "_model_name": "DescriptionStyleModel",
            "_view_count": null,
            "_view_module": "@jupyter-widgets/base",
            "_view_module_version": "1.2.0",
            "_view_name": "StyleView",
            "description_width": ""
          }
        },
        "8c01cc03444d4f6eb4c6eaa59c700a54": {
          "model_module": "@jupyter-widgets/base",
          "model_name": "LayoutModel",
          "model_module_version": "1.2.0",
          "state": {
            "_model_module": "@jupyter-widgets/base",
            "_model_module_version": "1.2.0",
            "_model_name": "LayoutModel",
            "_view_count": null,
            "_view_module": "@jupyter-widgets/base",
            "_view_module_version": "1.2.0",
            "_view_name": "LayoutView",
            "align_content": null,
            "align_items": null,
            "align_self": null,
            "border": null,
            "bottom": null,
            "display": null,
            "flex": null,
            "flex_flow": null,
            "grid_area": null,
            "grid_auto_columns": null,
            "grid_auto_flow": null,
            "grid_auto_rows": null,
            "grid_column": null,
            "grid_gap": null,
            "grid_row": null,
            "grid_template_areas": null,
            "grid_template_columns": null,
            "grid_template_rows": null,
            "height": null,
            "justify_content": null,
            "justify_items": null,
            "left": null,
            "margin": null,
            "max_height": null,
            "max_width": null,
            "min_height": null,
            "min_width": null,
            "object_fit": null,
            "object_position": null,
            "order": null,
            "overflow": null,
            "overflow_x": null,
            "overflow_y": null,
            "padding": null,
            "right": null,
            "top": null,
            "visibility": null,
            "width": null
          }
        },
        "5946e14f1dc94a4e9d77ddff7ffcdaa7": {
          "model_module": "@jupyter-widgets/controls",
          "model_name": "ProgressStyleModel",
          "model_module_version": "1.5.0",
          "state": {
            "_model_module": "@jupyter-widgets/controls",
            "_model_module_version": "1.5.0",
            "_model_name": "ProgressStyleModel",
            "_view_count": null,
            "_view_module": "@jupyter-widgets/base",
            "_view_module_version": "1.2.0",
            "_view_name": "StyleView",
            "bar_color": null,
            "description_width": ""
          }
        },
        "85c4025a70674abc96d5ca402db31542": {
          "model_module": "@jupyter-widgets/base",
          "model_name": "LayoutModel",
          "model_module_version": "1.2.0",
          "state": {
            "_model_module": "@jupyter-widgets/base",
            "_model_module_version": "1.2.0",
            "_model_name": "LayoutModel",
            "_view_count": null,
            "_view_module": "@jupyter-widgets/base",
            "_view_module_version": "1.2.0",
            "_view_name": "LayoutView",
            "align_content": null,
            "align_items": null,
            "align_self": null,
            "border": null,
            "bottom": null,
            "display": null,
            "flex": null,
            "flex_flow": null,
            "grid_area": null,
            "grid_auto_columns": null,
            "grid_auto_flow": null,
            "grid_auto_rows": null,
            "grid_column": null,
            "grid_gap": null,
            "grid_row": null,
            "grid_template_areas": null,
            "grid_template_columns": null,
            "grid_template_rows": null,
            "height": null,
            "justify_content": null,
            "justify_items": null,
            "left": null,
            "margin": null,
            "max_height": null,
            "max_width": null,
            "min_height": null,
            "min_width": null,
            "object_fit": null,
            "object_position": null,
            "order": null,
            "overflow": null,
            "overflow_x": null,
            "overflow_y": null,
            "padding": null,
            "right": null,
            "top": null,
            "visibility": null,
            "width": null
          }
        },
        "504cf5f5b53a475b916838c2beafaecc": {
          "model_module": "@jupyter-widgets/controls",
          "model_name": "DescriptionStyleModel",
          "model_module_version": "1.5.0",
          "state": {
            "_model_module": "@jupyter-widgets/controls",
            "_model_module_version": "1.5.0",
            "_model_name": "DescriptionStyleModel",
            "_view_count": null,
            "_view_module": "@jupyter-widgets/base",
            "_view_module_version": "1.2.0",
            "_view_name": "StyleView",
            "description_width": ""
          }
        },
        "912703ddadfd49169438047561e17537": {
          "model_module": "@jupyter-widgets/controls",
          "model_name": "HBoxModel",
          "model_module_version": "1.5.0",
          "state": {
            "_dom_classes": [],
            "_model_module": "@jupyter-widgets/controls",
            "_model_module_version": "1.5.0",
            "_model_name": "HBoxModel",
            "_view_count": null,
            "_view_module": "@jupyter-widgets/controls",
            "_view_module_version": "1.5.0",
            "_view_name": "HBoxView",
            "box_style": "",
            "children": [
              "IPY_MODEL_b52c54e2d84342febe967cf967f08d8e",
              "IPY_MODEL_09905be12b6e4769ae7c302485ab8080",
              "IPY_MODEL_56fa3de0f18c4802aed0c3a22aa9f25c"
            ],
            "layout": "IPY_MODEL_2cf39deedd2146d7a7cdd92302554fcc"
          }
        },
        "b52c54e2d84342febe967cf967f08d8e": {
          "model_module": "@jupyter-widgets/controls",
          "model_name": "HTMLModel",
          "model_module_version": "1.5.0",
          "state": {
            "_dom_classes": [],
            "_model_module": "@jupyter-widgets/controls",
            "_model_module_version": "1.5.0",
            "_model_name": "HTMLModel",
            "_view_count": null,
            "_view_module": "@jupyter-widgets/controls",
            "_view_module_version": "1.5.0",
            "_view_name": "HTMLView",
            "description": "",
            "description_tooltip": null,
            "layout": "IPY_MODEL_35a3dc02466e4055872ecb97374a1d27",
            "placeholder": "​",
            "style": "IPY_MODEL_d55587e2d7114a5da7e59ded18a8b254",
            "value": "Downloading: 100%"
          }
        },
        "09905be12b6e4769ae7c302485ab8080": {
          "model_module": "@jupyter-widgets/controls",
          "model_name": "FloatProgressModel",
          "model_module_version": "1.5.0",
          "state": {
            "_dom_classes": [],
            "_model_module": "@jupyter-widgets/controls",
            "_model_module_version": "1.5.0",
            "_model_name": "FloatProgressModel",
            "_view_count": null,
            "_view_module": "@jupyter-widgets/controls",
            "_view_module_version": "1.5.0",
            "_view_name": "ProgressView",
            "bar_style": "success",
            "description": "",
            "description_tooltip": null,
            "layout": "IPY_MODEL_e06a2c21a6384810be4b92e1e0f0182a",
            "max": 440473133,
            "min": 0,
            "orientation": "horizontal",
            "style": "IPY_MODEL_aee09f686baa40d1b5118ed2666a613f",
            "value": 440473133
          }
        },
        "56fa3de0f18c4802aed0c3a22aa9f25c": {
          "model_module": "@jupyter-widgets/controls",
          "model_name": "HTMLModel",
          "model_module_version": "1.5.0",
          "state": {
            "_dom_classes": [],
            "_model_module": "@jupyter-widgets/controls",
            "_model_module_version": "1.5.0",
            "_model_name": "HTMLModel",
            "_view_count": null,
            "_view_module": "@jupyter-widgets/controls",
            "_view_module_version": "1.5.0",
            "_view_name": "HTMLView",
            "description": "",
            "description_tooltip": null,
            "layout": "IPY_MODEL_6f654f5f4b294de6aafac2bd8757b5d1",
            "placeholder": "​",
            "style": "IPY_MODEL_e9c1c46c9ee646edbdf2f4ac8ec72706",
            "value": " 440M/440M [00:12&lt;00:00, 24.8MB/s]"
          }
        },
        "2cf39deedd2146d7a7cdd92302554fcc": {
          "model_module": "@jupyter-widgets/base",
          "model_name": "LayoutModel",
          "model_module_version": "1.2.0",
          "state": {
            "_model_module": "@jupyter-widgets/base",
            "_model_module_version": "1.2.0",
            "_model_name": "LayoutModel",
            "_view_count": null,
            "_view_module": "@jupyter-widgets/base",
            "_view_module_version": "1.2.0",
            "_view_name": "LayoutView",
            "align_content": null,
            "align_items": null,
            "align_self": null,
            "border": null,
            "bottom": null,
            "display": null,
            "flex": null,
            "flex_flow": null,
            "grid_area": null,
            "grid_auto_columns": null,
            "grid_auto_flow": null,
            "grid_auto_rows": null,
            "grid_column": null,
            "grid_gap": null,
            "grid_row": null,
            "grid_template_areas": null,
            "grid_template_columns": null,
            "grid_template_rows": null,
            "height": null,
            "justify_content": null,
            "justify_items": null,
            "left": null,
            "margin": null,
            "max_height": null,
            "max_width": null,
            "min_height": null,
            "min_width": null,
            "object_fit": null,
            "object_position": null,
            "order": null,
            "overflow": null,
            "overflow_x": null,
            "overflow_y": null,
            "padding": null,
            "right": null,
            "top": null,
            "visibility": null,
            "width": null
          }
        },
        "35a3dc02466e4055872ecb97374a1d27": {
          "model_module": "@jupyter-widgets/base",
          "model_name": "LayoutModel",
          "model_module_version": "1.2.0",
          "state": {
            "_model_module": "@jupyter-widgets/base",
            "_model_module_version": "1.2.0",
            "_model_name": "LayoutModel",
            "_view_count": null,
            "_view_module": "@jupyter-widgets/base",
            "_view_module_version": "1.2.0",
            "_view_name": "LayoutView",
            "align_content": null,
            "align_items": null,
            "align_self": null,
            "border": null,
            "bottom": null,
            "display": null,
            "flex": null,
            "flex_flow": null,
            "grid_area": null,
            "grid_auto_columns": null,
            "grid_auto_flow": null,
            "grid_auto_rows": null,
            "grid_column": null,
            "grid_gap": null,
            "grid_row": null,
            "grid_template_areas": null,
            "grid_template_columns": null,
            "grid_template_rows": null,
            "height": null,
            "justify_content": null,
            "justify_items": null,
            "left": null,
            "margin": null,
            "max_height": null,
            "max_width": null,
            "min_height": null,
            "min_width": null,
            "object_fit": null,
            "object_position": null,
            "order": null,
            "overflow": null,
            "overflow_x": null,
            "overflow_y": null,
            "padding": null,
            "right": null,
            "top": null,
            "visibility": null,
            "width": null
          }
        },
        "d55587e2d7114a5da7e59ded18a8b254": {
          "model_module": "@jupyter-widgets/controls",
          "model_name": "DescriptionStyleModel",
          "model_module_version": "1.5.0",
          "state": {
            "_model_module": "@jupyter-widgets/controls",
            "_model_module_version": "1.5.0",
            "_model_name": "DescriptionStyleModel",
            "_view_count": null,
            "_view_module": "@jupyter-widgets/base",
            "_view_module_version": "1.2.0",
            "_view_name": "StyleView",
            "description_width": ""
          }
        },
        "e06a2c21a6384810be4b92e1e0f0182a": {
          "model_module": "@jupyter-widgets/base",
          "model_name": "LayoutModel",
          "model_module_version": "1.2.0",
          "state": {
            "_model_module": "@jupyter-widgets/base",
            "_model_module_version": "1.2.0",
            "_model_name": "LayoutModel",
            "_view_count": null,
            "_view_module": "@jupyter-widgets/base",
            "_view_module_version": "1.2.0",
            "_view_name": "LayoutView",
            "align_content": null,
            "align_items": null,
            "align_self": null,
            "border": null,
            "bottom": null,
            "display": null,
            "flex": null,
            "flex_flow": null,
            "grid_area": null,
            "grid_auto_columns": null,
            "grid_auto_flow": null,
            "grid_auto_rows": null,
            "grid_column": null,
            "grid_gap": null,
            "grid_row": null,
            "grid_template_areas": null,
            "grid_template_columns": null,
            "grid_template_rows": null,
            "height": null,
            "justify_content": null,
            "justify_items": null,
            "left": null,
            "margin": null,
            "max_height": null,
            "max_width": null,
            "min_height": null,
            "min_width": null,
            "object_fit": null,
            "object_position": null,
            "order": null,
            "overflow": null,
            "overflow_x": null,
            "overflow_y": null,
            "padding": null,
            "right": null,
            "top": null,
            "visibility": null,
            "width": null
          }
        },
        "aee09f686baa40d1b5118ed2666a613f": {
          "model_module": "@jupyter-widgets/controls",
          "model_name": "ProgressStyleModel",
          "model_module_version": "1.5.0",
          "state": {
            "_model_module": "@jupyter-widgets/controls",
            "_model_module_version": "1.5.0",
            "_model_name": "ProgressStyleModel",
            "_view_count": null,
            "_view_module": "@jupyter-widgets/base",
            "_view_module_version": "1.2.0",
            "_view_name": "StyleView",
            "bar_color": null,
            "description_width": ""
          }
        },
        "6f654f5f4b294de6aafac2bd8757b5d1": {
          "model_module": "@jupyter-widgets/base",
          "model_name": "LayoutModel",
          "model_module_version": "1.2.0",
          "state": {
            "_model_module": "@jupyter-widgets/base",
            "_model_module_version": "1.2.0",
            "_model_name": "LayoutModel",
            "_view_count": null,
            "_view_module": "@jupyter-widgets/base",
            "_view_module_version": "1.2.0",
            "_view_name": "LayoutView",
            "align_content": null,
            "align_items": null,
            "align_self": null,
            "border": null,
            "bottom": null,
            "display": null,
            "flex": null,
            "flex_flow": null,
            "grid_area": null,
            "grid_auto_columns": null,
            "grid_auto_flow": null,
            "grid_auto_rows": null,
            "grid_column": null,
            "grid_gap": null,
            "grid_row": null,
            "grid_template_areas": null,
            "grid_template_columns": null,
            "grid_template_rows": null,
            "height": null,
            "justify_content": null,
            "justify_items": null,
            "left": null,
            "margin": null,
            "max_height": null,
            "max_width": null,
            "min_height": null,
            "min_width": null,
            "object_fit": null,
            "object_position": null,
            "order": null,
            "overflow": null,
            "overflow_x": null,
            "overflow_y": null,
            "padding": null,
            "right": null,
            "top": null,
            "visibility": null,
            "width": null
          }
        },
        "e9c1c46c9ee646edbdf2f4ac8ec72706": {
          "model_module": "@jupyter-widgets/controls",
          "model_name": "DescriptionStyleModel",
          "model_module_version": "1.5.0",
          "state": {
            "_model_module": "@jupyter-widgets/controls",
            "_model_module_version": "1.5.0",
            "_model_name": "DescriptionStyleModel",
            "_view_count": null,
            "_view_module": "@jupyter-widgets/base",
            "_view_module_version": "1.2.0",
            "_view_name": "StyleView",
            "description_width": ""
          }
        }
      }
    }
  },
  "nbformat": 4,
  "nbformat_minor": 0
}